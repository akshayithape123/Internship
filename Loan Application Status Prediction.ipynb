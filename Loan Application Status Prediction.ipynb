{
 "cells": [
  {
   "cell_type": "markdown",
   "id": "0330ab47",
   "metadata": {},
   "source": [
    "#  Loan Application Status Prediction\n",
    "\n",
    "# Project Description\n",
    "This dataset includes details of applicants who have applied for loan. The dataset includes details like credit history, loan amount, their income, dependents etc. \n",
    "Independent Variables:\n",
    "1.\tLoan_ID - This refer to the unique identifier of the applicant's affirmed purchases\n",
    "2.\tGender - This refers to either of the two main categories (male and female) into which applicants are divided on the basis of their reproductive functions\n",
    "3.\tMarried - This refers to applicant being in a state of matrimony\n",
    "4.\tDependents - This refres to persons who depends on the applicants for survival\n",
    "5.\tEducation - This refers to number of years in which applicant received systematic instruction, especially at a school or university\n",
    "6.\tSelf_Employed - This refers to applicant working for oneself as a freelancer or the owner of a business rather than for an employer\n",
    "7.\tApplicant Income - This refers to disposable income available for the applicant's use under State law.\n",
    "8.\tCoapplicantIncome - This refers to disposable income available for the people that participate in the loan application process alongside the main applicant use under State law.\n",
    "9.\tLoan_Amount - This refers to the amount of money an applicant owe at any given time.\n",
    "10.\tLoan_Amount_Term - This refers to the duaration in which the loan is availed to the applicant\n",
    "11.\tCredit History - This refers to a record of applicant's ability to repay debts and demonstrated responsibility in repaying them.\n",
    "12.\tProperty_Area - This refers to the total area within the boundaries of the property as set out in Schedule.\n",
    "13.\tLoan_Status - This refres to whether applicant is eligible to be availed the Loan requested.\n",
    "You have to build a model that can predict whether the loan of the applicant will be approved(Loan_status) or not on the basis of the details provided in the dataset\n"
   ]
  },
  {
   "cell_type": "code",
   "execution_count": 1,
   "id": "56dd2a7c",
   "metadata": {},
   "outputs": [],
   "source": [
    "# import library\n",
    "\n",
    "import numpy as np\n",
    "import pandas as pd\n",
    "import seaborn as sns\n",
    "import matplotlib.pyplot as plt\n",
    "import warnings\n",
    "warnings.filterwarnings('ignore')"
   ]
  },
  {
   "cell_type": "code",
   "execution_count": 2,
   "id": "05450fda",
   "metadata": {},
   "outputs": [
    {
     "data": {
      "text/html": [
       "<div>\n",
       "<style scoped>\n",
       "    .dataframe tbody tr th:only-of-type {\n",
       "        vertical-align: middle;\n",
       "    }\n",
       "\n",
       "    .dataframe tbody tr th {\n",
       "        vertical-align: top;\n",
       "    }\n",
       "\n",
       "    .dataframe thead th {\n",
       "        text-align: right;\n",
       "    }\n",
       "</style>\n",
       "<table border=\"1\" class=\"dataframe\">\n",
       "  <thead>\n",
       "    <tr style=\"text-align: right;\">\n",
       "      <th></th>\n",
       "      <th>Loan_ID</th>\n",
       "      <th>Gender</th>\n",
       "      <th>Married</th>\n",
       "      <th>Dependents</th>\n",
       "      <th>Education</th>\n",
       "      <th>Self_Employed</th>\n",
       "      <th>ApplicantIncome</th>\n",
       "      <th>CoapplicantIncome</th>\n",
       "      <th>LoanAmount</th>\n",
       "      <th>Loan_Amount_Term</th>\n",
       "      <th>Credit_History</th>\n",
       "      <th>Property_Area</th>\n",
       "      <th>Loan_Status</th>\n",
       "    </tr>\n",
       "  </thead>\n",
       "  <tbody>\n",
       "    <tr>\n",
       "      <th>0</th>\n",
       "      <td>LP001002</td>\n",
       "      <td>Male</td>\n",
       "      <td>No</td>\n",
       "      <td>0</td>\n",
       "      <td>Graduate</td>\n",
       "      <td>No</td>\n",
       "      <td>5849</td>\n",
       "      <td>0.0</td>\n",
       "      <td>NaN</td>\n",
       "      <td>360.0</td>\n",
       "      <td>1.0</td>\n",
       "      <td>Urban</td>\n",
       "      <td>Y</td>\n",
       "    </tr>\n",
       "    <tr>\n",
       "      <th>1</th>\n",
       "      <td>LP001003</td>\n",
       "      <td>Male</td>\n",
       "      <td>Yes</td>\n",
       "      <td>1</td>\n",
       "      <td>Graduate</td>\n",
       "      <td>No</td>\n",
       "      <td>4583</td>\n",
       "      <td>1508.0</td>\n",
       "      <td>128.0</td>\n",
       "      <td>360.0</td>\n",
       "      <td>1.0</td>\n",
       "      <td>Rural</td>\n",
       "      <td>N</td>\n",
       "    </tr>\n",
       "    <tr>\n",
       "      <th>2</th>\n",
       "      <td>LP001005</td>\n",
       "      <td>Male</td>\n",
       "      <td>Yes</td>\n",
       "      <td>0</td>\n",
       "      <td>Graduate</td>\n",
       "      <td>Yes</td>\n",
       "      <td>3000</td>\n",
       "      <td>0.0</td>\n",
       "      <td>66.0</td>\n",
       "      <td>360.0</td>\n",
       "      <td>1.0</td>\n",
       "      <td>Urban</td>\n",
       "      <td>Y</td>\n",
       "    </tr>\n",
       "    <tr>\n",
       "      <th>3</th>\n",
       "      <td>LP001006</td>\n",
       "      <td>Male</td>\n",
       "      <td>Yes</td>\n",
       "      <td>0</td>\n",
       "      <td>Not Graduate</td>\n",
       "      <td>No</td>\n",
       "      <td>2583</td>\n",
       "      <td>2358.0</td>\n",
       "      <td>120.0</td>\n",
       "      <td>360.0</td>\n",
       "      <td>1.0</td>\n",
       "      <td>Urban</td>\n",
       "      <td>Y</td>\n",
       "    </tr>\n",
       "    <tr>\n",
       "      <th>4</th>\n",
       "      <td>LP001008</td>\n",
       "      <td>Male</td>\n",
       "      <td>No</td>\n",
       "      <td>0</td>\n",
       "      <td>Graduate</td>\n",
       "      <td>No</td>\n",
       "      <td>6000</td>\n",
       "      <td>0.0</td>\n",
       "      <td>141.0</td>\n",
       "      <td>360.0</td>\n",
       "      <td>1.0</td>\n",
       "      <td>Urban</td>\n",
       "      <td>Y</td>\n",
       "    </tr>\n",
       "  </tbody>\n",
       "</table>\n",
       "</div>"
      ],
      "text/plain": [
       "    Loan_ID Gender Married Dependents     Education Self_Employed  \\\n",
       "0  LP001002   Male      No          0      Graduate            No   \n",
       "1  LP001003   Male     Yes          1      Graduate            No   \n",
       "2  LP001005   Male     Yes          0      Graduate           Yes   \n",
       "3  LP001006   Male     Yes          0  Not Graduate            No   \n",
       "4  LP001008   Male      No          0      Graduate            No   \n",
       "\n",
       "   ApplicantIncome  CoapplicantIncome  LoanAmount  Loan_Amount_Term  \\\n",
       "0             5849                0.0         NaN             360.0   \n",
       "1             4583             1508.0       128.0             360.0   \n",
       "2             3000                0.0        66.0             360.0   \n",
       "3             2583             2358.0       120.0             360.0   \n",
       "4             6000                0.0       141.0             360.0   \n",
       "\n",
       "   Credit_History Property_Area Loan_Status  \n",
       "0             1.0         Urban           Y  \n",
       "1             1.0         Rural           N  \n",
       "2             1.0         Urban           Y  \n",
       "3             1.0         Urban           Y  \n",
       "4             1.0         Urban           Y  "
      ]
     },
     "execution_count": 2,
     "metadata": {},
     "output_type": "execute_result"
    }
   ],
   "source": [
    "df= pd.read_csv('https://raw.githubusercontent.com/dsrscientist/DSData/master/loan_prediction.csv')\n",
    "df.head()"
   ]
  },
  {
   "cell_type": "code",
   "execution_count": 3,
   "id": "ad1efcfd",
   "metadata": {
    "scrolled": true
   },
   "outputs": [
    {
     "data": {
      "text/plain": [
       "(614, 13)"
      ]
     },
     "execution_count": 3,
     "metadata": {},
     "output_type": "execute_result"
    }
   ],
   "source": [
    "df.shape"
   ]
  },
  {
   "cell_type": "markdown",
   "id": "03c37ee2",
   "metadata": {},
   "source": [
    "#  There are 614 rows and 13 column present in the dataset"
   ]
  },
  {
   "cell_type": "code",
   "execution_count": 4,
   "id": "fb41f9e4",
   "metadata": {},
   "outputs": [
    {
     "name": "stdout",
     "output_type": "stream",
     "text": [
      "<class 'pandas.core.frame.DataFrame'>\n",
      "RangeIndex: 614 entries, 0 to 613\n",
      "Data columns (total 13 columns):\n",
      " #   Column             Non-Null Count  Dtype  \n",
      "---  ------             --------------  -----  \n",
      " 0   Loan_ID            614 non-null    object \n",
      " 1   Gender             601 non-null    object \n",
      " 2   Married            611 non-null    object \n",
      " 3   Dependents         599 non-null    object \n",
      " 4   Education          614 non-null    object \n",
      " 5   Self_Employed      582 non-null    object \n",
      " 6   ApplicantIncome    614 non-null    int64  \n",
      " 7   CoapplicantIncome  614 non-null    float64\n",
      " 8   LoanAmount         592 non-null    float64\n",
      " 9   Loan_Amount_Term   600 non-null    float64\n",
      " 10  Credit_History     564 non-null    float64\n",
      " 11  Property_Area      614 non-null    object \n",
      " 12  Loan_Status        614 non-null    object \n",
      "dtypes: float64(4), int64(1), object(8)\n",
      "memory usage: 62.5+ KB\n"
     ]
    }
   ],
   "source": [
    "df.info()"
   ]
  },
  {
   "cell_type": "markdown",
   "id": "f1b6af32",
   "metadata": {},
   "source": [
    "# The target variable is Object dtype It means the classifiation promblem"
   ]
  },
  {
   "cell_type": "code",
   "execution_count": 5,
   "id": "4ccd71ff",
   "metadata": {},
   "outputs": [
    {
     "name": "stdout",
     "output_type": "stream",
     "text": [
      "LP001002    1\n",
      "LP002328    1\n",
      "LP002305    1\n",
      "LP002308    1\n",
      "LP002314    1\n",
      "           ..\n",
      "LP001692    1\n",
      "LP001693    1\n",
      "LP001698    1\n",
      "LP001699    1\n",
      "LP002990    1\n",
      "Name: Loan_ID, Length: 614, dtype: int64\n",
      "Male      489\n",
      "Female    112\n",
      "Name: Gender, dtype: int64\n",
      "Yes    398\n",
      "No     213\n",
      "Name: Married, dtype: int64\n",
      "0     345\n",
      "1     102\n",
      "2     101\n",
      "3+     51\n",
      "Name: Dependents, dtype: int64\n",
      "Graduate        480\n",
      "Not Graduate    134\n",
      "Name: Education, dtype: int64\n",
      "No     500\n",
      "Yes     82\n",
      "Name: Self_Employed, dtype: int64\n",
      "2500    9\n",
      "4583    6\n",
      "6000    6\n",
      "2600    6\n",
      "3333    5\n",
      "       ..\n",
      "3244    1\n",
      "4408    1\n",
      "3917    1\n",
      "3992    1\n",
      "7583    1\n",
      "Name: ApplicantIncome, Length: 505, dtype: int64\n",
      "0.0       273\n",
      "2500.0      5\n",
      "2083.0      5\n",
      "1666.0      5\n",
      "2250.0      3\n",
      "         ... \n",
      "2791.0      1\n",
      "1010.0      1\n",
      "1695.0      1\n",
      "2598.0      1\n",
      "240.0       1\n",
      "Name: CoapplicantIncome, Length: 287, dtype: int64\n",
      "120.0    20\n",
      "110.0    17\n",
      "100.0    15\n",
      "160.0    12\n",
      "187.0    12\n",
      "         ..\n",
      "240.0     1\n",
      "214.0     1\n",
      "59.0      1\n",
      "166.0     1\n",
      "253.0     1\n",
      "Name: LoanAmount, Length: 203, dtype: int64\n",
      "360.0    512\n",
      "180.0     44\n",
      "480.0     15\n",
      "300.0     13\n",
      "240.0      4\n",
      "84.0       4\n",
      "120.0      3\n",
      "60.0       2\n",
      "36.0       2\n",
      "12.0       1\n",
      "Name: Loan_Amount_Term, dtype: int64\n",
      "1.0    475\n",
      "0.0     89\n",
      "Name: Credit_History, dtype: int64\n",
      "Semiurban    233\n",
      "Urban        202\n",
      "Rural        179\n",
      "Name: Property_Area, dtype: int64\n",
      "Y    422\n",
      "N    192\n",
      "Name: Loan_Status, dtype: int64\n"
     ]
    }
   ],
   "source": [
    "for column in df:\n",
    "    print(df[column].value_counts())"
   ]
  },
  {
   "cell_type": "code",
   "execution_count": 6,
   "id": "7b3b095c",
   "metadata": {
    "scrolled": true
   },
   "outputs": [
    {
     "data": {
      "text/plain": [
       "614"
      ]
     },
     "execution_count": 6,
     "metadata": {},
     "output_type": "execute_result"
    }
   ],
   "source": [
    "df['Loan_ID'].nunique()"
   ]
  },
  {
   "cell_type": "markdown",
   "id": "0518add3",
   "metadata": {},
   "source": [
    "#  Loan_ID column 614 unique value present in the dataset so it's better we drop this column"
   ]
  },
  {
   "cell_type": "code",
   "execution_count": 7,
   "id": "de1c10a7",
   "metadata": {},
   "outputs": [],
   "source": [
    "df.drop(columns='Loan_ID',axis=1,inplace=True)"
   ]
  },
  {
   "cell_type": "code",
   "execution_count": 8,
   "id": "36fc6a9d",
   "metadata": {
    "scrolled": false
   },
   "outputs": [
    {
     "data": {
      "text/plain": [
       "Gender               13\n",
       "Married               3\n",
       "Dependents           15\n",
       "Education             0\n",
       "Self_Employed        32\n",
       "ApplicantIncome       0\n",
       "CoapplicantIncome     0\n",
       "LoanAmount           22\n",
       "Loan_Amount_Term     14\n",
       "Credit_History       50\n",
       "Property_Area         0\n",
       "Loan_Status           0\n",
       "dtype: int64"
      ]
     },
     "execution_count": 8,
     "metadata": {},
     "output_type": "execute_result"
    }
   ],
   "source": [
    "df.isnull().sum()"
   ]
  },
  {
   "cell_type": "markdown",
   "id": "4056b919",
   "metadata": {},
   "source": [
    "#  There is null value present in the dataset"
   ]
  },
  {
   "cell_type": "markdown",
   "id": "653bbc37",
   "metadata": {},
   "source": [
    "#  LoanAmount , Loan_Amount_Term, Credit_History is float dtype so we fill this value mean method and remaining column fill mode method"
   ]
  },
  {
   "cell_type": "code",
   "execution_count": 9,
   "id": "6e1c23d3",
   "metadata": {},
   "outputs": [],
   "source": [
    "catgorical_col=[]\n",
    "for i in df.dtypes.index:\n",
    "    if df.dtypes[i]=='object':\n",
    "        catgorical_col.append(i)\n",
    "        \n",
    "numerical_col=[]\n",
    "for i in df.dtypes.index:\n",
    "    if df.dtypes[i] !='object':\n",
    "        numerical_col.append(i)"
   ]
  },
  {
   "cell_type": "markdown",
   "id": "3d4a66d0",
   "metadata": {},
   "source": [
    "#  Using loop code sepreate categorical column and numerical column"
   ]
  },
  {
   "cell_type": "code",
   "execution_count": 10,
   "id": "71ba9096",
   "metadata": {},
   "outputs": [],
   "source": [
    "from sklearn.impute import SimpleImputer\n",
    "imputer= SimpleImputer(strategy='most_frequent') \n",
    "for i in catgorical_col:\n",
    "    column_data = df[i].values.reshape(-1, 1)\n",
    "    df[i]=imputer.fit_transform(column_data)\n",
    "    "
   ]
  },
  {
   "cell_type": "code",
   "execution_count": 11,
   "id": "48da97c5",
   "metadata": {},
   "outputs": [],
   "source": [
    "from sklearn.impute import SimpleImputer\n",
    "imputer= SimpleImputer() \n",
    "for i in numerical_col:\n",
    "    column_data = df[i].values.reshape(-1, 1)\n",
    "    df[i]=imputer.fit_transform(column_data)\n",
    "    "
   ]
  },
  {
   "cell_type": "code",
   "execution_count": 12,
   "id": "740c9e3e",
   "metadata": {},
   "outputs": [
    {
     "data": {
      "text/plain": [
       "Gender               0\n",
       "Married              0\n",
       "Dependents           0\n",
       "Education            0\n",
       "Self_Employed        0\n",
       "ApplicantIncome      0\n",
       "CoapplicantIncome    0\n",
       "LoanAmount           0\n",
       "Loan_Amount_Term     0\n",
       "Credit_History       0\n",
       "Property_Area        0\n",
       "Loan_Status          0\n",
       "dtype: int64"
      ]
     },
     "execution_count": 12,
     "metadata": {},
     "output_type": "execute_result"
    }
   ],
   "source": [
    "df.isnull().sum()"
   ]
  },
  {
   "cell_type": "markdown",
   "id": "46234e21",
   "metadata": {},
   "source": [
    "#  We fill null values imputation techniques"
   ]
  },
  {
   "cell_type": "code",
   "execution_count": 13,
   "id": "ee69a532",
   "metadata": {},
   "outputs": [
    {
     "data": {
      "text/html": [
       "<div>\n",
       "<style scoped>\n",
       "    .dataframe tbody tr th:only-of-type {\n",
       "        vertical-align: middle;\n",
       "    }\n",
       "\n",
       "    .dataframe tbody tr th {\n",
       "        vertical-align: top;\n",
       "    }\n",
       "\n",
       "    .dataframe thead th {\n",
       "        text-align: right;\n",
       "    }\n",
       "</style>\n",
       "<table border=\"1\" class=\"dataframe\">\n",
       "  <thead>\n",
       "    <tr style=\"text-align: right;\">\n",
       "      <th></th>\n",
       "      <th>ApplicantIncome</th>\n",
       "      <th>CoapplicantIncome</th>\n",
       "      <th>LoanAmount</th>\n",
       "      <th>Loan_Amount_Term</th>\n",
       "      <th>Credit_History</th>\n",
       "    </tr>\n",
       "  </thead>\n",
       "  <tbody>\n",
       "    <tr>\n",
       "      <th>count</th>\n",
       "      <td>614.000000</td>\n",
       "      <td>614.000000</td>\n",
       "      <td>614.000000</td>\n",
       "      <td>614.000000</td>\n",
       "      <td>614.000000</td>\n",
       "    </tr>\n",
       "    <tr>\n",
       "      <th>mean</th>\n",
       "      <td>5403.459283</td>\n",
       "      <td>1621.245798</td>\n",
       "      <td>146.412162</td>\n",
       "      <td>342.000000</td>\n",
       "      <td>0.842199</td>\n",
       "    </tr>\n",
       "    <tr>\n",
       "      <th>std</th>\n",
       "      <td>6109.041673</td>\n",
       "      <td>2926.248369</td>\n",
       "      <td>84.037468</td>\n",
       "      <td>64.372489</td>\n",
       "      <td>0.349681</td>\n",
       "    </tr>\n",
       "    <tr>\n",
       "      <th>min</th>\n",
       "      <td>150.000000</td>\n",
       "      <td>0.000000</td>\n",
       "      <td>9.000000</td>\n",
       "      <td>12.000000</td>\n",
       "      <td>0.000000</td>\n",
       "    </tr>\n",
       "    <tr>\n",
       "      <th>25%</th>\n",
       "      <td>2877.500000</td>\n",
       "      <td>0.000000</td>\n",
       "      <td>100.250000</td>\n",
       "      <td>360.000000</td>\n",
       "      <td>1.000000</td>\n",
       "    </tr>\n",
       "    <tr>\n",
       "      <th>50%</th>\n",
       "      <td>3812.500000</td>\n",
       "      <td>1188.500000</td>\n",
       "      <td>129.000000</td>\n",
       "      <td>360.000000</td>\n",
       "      <td>1.000000</td>\n",
       "    </tr>\n",
       "    <tr>\n",
       "      <th>75%</th>\n",
       "      <td>5795.000000</td>\n",
       "      <td>2297.250000</td>\n",
       "      <td>164.750000</td>\n",
       "      <td>360.000000</td>\n",
       "      <td>1.000000</td>\n",
       "    </tr>\n",
       "    <tr>\n",
       "      <th>max</th>\n",
       "      <td>81000.000000</td>\n",
       "      <td>41667.000000</td>\n",
       "      <td>700.000000</td>\n",
       "      <td>480.000000</td>\n",
       "      <td>1.000000</td>\n",
       "    </tr>\n",
       "  </tbody>\n",
       "</table>\n",
       "</div>"
      ],
      "text/plain": [
       "       ApplicantIncome  CoapplicantIncome  LoanAmount  Loan_Amount_Term  \\\n",
       "count       614.000000         614.000000  614.000000        614.000000   \n",
       "mean       5403.459283        1621.245798  146.412162        342.000000   \n",
       "std        6109.041673        2926.248369   84.037468         64.372489   \n",
       "min         150.000000           0.000000    9.000000         12.000000   \n",
       "25%        2877.500000           0.000000  100.250000        360.000000   \n",
       "50%        3812.500000        1188.500000  129.000000        360.000000   \n",
       "75%        5795.000000        2297.250000  164.750000        360.000000   \n",
       "max       81000.000000       41667.000000  700.000000        480.000000   \n",
       "\n",
       "       Credit_History  \n",
       "count      614.000000  \n",
       "mean         0.842199  \n",
       "std          0.349681  \n",
       "min          0.000000  \n",
       "25%          1.000000  \n",
       "50%          1.000000  \n",
       "75%          1.000000  \n",
       "max          1.000000  "
      ]
     },
     "execution_count": 13,
     "metadata": {},
     "output_type": "execute_result"
    }
   ],
   "source": [
    "df.describe()"
   ]
  },
  {
   "cell_type": "markdown",
   "id": "c4aa723a",
   "metadata": {},
   "source": [
    "# \n",
    "Based on the provided statistics, here's a summary of the information for each feature:\n",
    "\n",
    "ApplicantIncome:\n",
    "\n",
    "Count: 614\n",
    "Mean: 5403.46\n",
    "Standard Deviation (Std): 6109.04\n",
    "Minimum (Min): 150\n",
    "25th Percentile: 2877.5\n",
    "Median (50th Percentile): 3812.5\n",
    "75th Percentile: 5795\n",
    "Maximum (Max): 81000\n",
    "\n",
    "CoapplicantIncome:\n",
    "\n",
    "Count: 614\n",
    "Mean: 1621.25\n",
    "Standard Deviation (Std): 2926.25\n",
    "Minimum (Min): 0\n",
    "25th Percentile: 0\n",
    "Median (50th Percentile): 1188.5\n",
    "75th Percentile: 2297.25\n",
    "Maximum (Max): 41667\n",
    "\n",
    "LoanAmount:\n",
    "\n",
    "Count: 614\n",
    "Mean: 146.41\n",
    "Standard Deviation (Std): 84.04\n",
    "Minimum (Min): 9\n",
    "25th Percentile: 100.25\n",
    "Median (50th Percentile): 129\n",
    "75th Percentile: 164.75\n",
    "Maximum (Max): 700\n",
    "Loan_Amount_Term:\n",
    "\n",
    "Count: 614\n",
    "Mean: 342\n",
    "Standard Deviation (Std): 64.37\n",
    "Minimum (Min): 12\n",
    "25th Percentile: 360\n",
    "Median (50th Percentile): 360\n",
    "75th Percentile: 360\n",
    "Maximum (Max): 480\n",
    "\n",
    "Credit_History:\n",
    "\n",
    "Count: 614\n",
    "Mean: 0.8422\n",
    "Standard Deviation (Std): 0.3497\n",
    "Minimum (Min): 0\n",
    "25th Percentile: 1\n",
    "Median (50th Percentile): 1\n",
    "75th Percentile: 1\n",
    "Maximum (Max): 1\n",
    "\n",
    "the all column is right skewness"
   ]
  },
  {
   "cell_type": "markdown",
   "id": "118d6706",
   "metadata": {},
   "source": [
    "# EDA"
   ]
  },
  {
   "cell_type": "code",
   "execution_count": 14,
   "id": "4cf22a72",
   "metadata": {
    "scrolled": false
   },
   "outputs": [
    {
     "name": "stdout",
     "output_type": "stream",
     "text": [
      "Male      502\n",
      "Female    112\n",
      "Name: Gender, dtype: int64\n"
     ]
    },
    {
     "data": {
      "image/png": "[encoded data removed]",
      "text/plain": [
       "<Figure size 432x288 with 1 Axes>"
      ]
     },
     "metadata": {
      "needs_background": "light"
     },
     "output_type": "display_data"
    }
   ],
   "source": [
    "print(df['Gender'].value_counts())\n",
    "sns.histplot(data=df,x='Gender')\n",
    "plt.show()\n"
   ]
  },
  {
   "cell_type": "markdown",
   "id": "547107e8",
   "metadata": {},
   "source": [
    "#  \n",
    "The \"Married\" column provides insights into the distribution of marital status among the loan applicants. It shows the number of married applicants and the number of unmarried applicants"
   ]
  },
  {
   "cell_type": "code",
   "execution_count": 15,
   "id": "560ed46a",
   "metadata": {
    "scrolled": true
   },
   "outputs": [
    {
     "name": "stdout",
     "output_type": "stream",
     "text": [
      "Yes    401\n",
      "No     213\n",
      "Name: Married, dtype: int64\n"
     ]
    },
    {
     "data": {
      "image/png": "[encoded data removed]",
      "text/plain": [
       "<Figure size 432x288 with 1 Axes>"
      ]
     },
     "metadata": {
      "needs_background": "light"
     },
     "output_type": "display_data"
    }
   ],
   "source": [
    "print(df['Married'].value_counts())\n",
    "sns.histplot(data=df,x='Married')\n",
    "plt.show()\n"
   ]
  },
  {
   "cell_type": "markdown",
   "id": "c4645a47",
   "metadata": {},
   "source": [
    "#   In this dataset we observed Married person is high as compared to sigle person"
   ]
  },
  {
   "cell_type": "code",
   "execution_count": 16,
   "id": "6af8942c",
   "metadata": {
    "scrolled": false
   },
   "outputs": [
    {
     "name": "stdout",
     "output_type": "stream",
     "text": [
      "0     360\n",
      "1     102\n",
      "2     101\n",
      "3+     51\n",
      "Name: Dependents, dtype: int64\n"
     ]
    },
    {
     "data": {
      "image/png": "[encoded data removed]",
      "text/plain": [
       "<Figure size 432x288 with 1 Axes>"
      ]
     },
     "metadata": {
      "needs_background": "light"
     },
     "output_type": "display_data"
    }
   ],
   "source": [
    "print(df['Dependents'].value_counts())\n",
    "sns.histplot(data=df,x='Dependents')\n",
    "plt.show()\n"
   ]
  },
  {
   "cell_type": "markdown",
   "id": "dcbd4497",
   "metadata": {},
   "source": [
    "# \n",
    "there are 360 applicants with no dependents, 102 applicants with one dependent, 101 applicants with two dependents, and 51 applicants with three or more dependents."
   ]
  },
  {
   "cell_type": "code",
   "execution_count": 17,
   "id": "522cfd12",
   "metadata": {
    "scrolled": true
   },
   "outputs": [
    {
     "name": "stdout",
     "output_type": "stream",
     "text": [
      "Graduate        480\n",
      "Not Graduate    134\n",
      "Name: Education, dtype: int64\n"
     ]
    },
    {
     "data": {
      "image/png": "[encoded data removed]",
      "text/plain": [
       "<Figure size 432x288 with 1 Axes>"
      ]
     },
     "metadata": {
      "needs_background": "light"
     },
     "output_type": "display_data"
    }
   ],
   "source": [
    "print(df['Education'].value_counts())\n",
    "sns.histplot(data=df,x='Education')\n",
    "plt.show()\n"
   ]
  },
  {
   "cell_type": "markdown",
   "id": "c328c938",
   "metadata": {},
   "source": [
    "#  \n",
    "The \"Education\" column provides insights into the distribution of educational backgrounds among the loan applicants. It shows the number of applicants who are graduates and those who are not graduates"
   ]
  },
  {
   "cell_type": "code",
   "execution_count": 18,
   "id": "c9dee5ed",
   "metadata": {
    "scrolled": true
   },
   "outputs": [
    {
     "name": "stdout",
     "output_type": "stream",
     "text": [
      "No     532\n",
      "Yes     82\n",
      "Name: Self_Employed, dtype: int64\n"
     ]
    },
    {
     "data": {
      "image/png": "[encoded data removed]",
      "text/plain": [
       "<Figure size 432x288 with 1 Axes>"
      ]
     },
     "metadata": {
      "needs_background": "light"
     },
     "output_type": "display_data"
    }
   ],
   "source": [
    "print(df['Self_Employed'].value_counts())\n",
    "sns.histplot(data=df,x='Self_Employed')\n",
    "plt.show()\n"
   ]
  },
  {
   "cell_type": "markdown",
   "id": "502b06fe",
   "metadata": {},
   "source": [
    "#  \n",
    "The \"Self_Employed\" column provides insights into the distribution of self-employment status among the loan applicants. It shows the number of applicants who are self-employed and those who are not"
   ]
  },
  {
   "cell_type": "code",
   "execution_count": 19,
   "id": "6bf9bdf0",
   "metadata": {
    "scrolled": false
   },
   "outputs": [
    {
     "name": "stdout",
     "output_type": "stream",
     "text": [
      "2500.0    9\n",
      "4583.0    6\n",
      "6000.0    6\n",
      "2600.0    6\n",
      "3333.0    5\n",
      "         ..\n",
      "3244.0    1\n",
      "4408.0    1\n",
      "3917.0    1\n",
      "3992.0    1\n",
      "7583.0    1\n",
      "Name: ApplicantIncome, Length: 505, dtype: int64\n"
     ]
    },
    {
     "data": {
      "image/png": "[encoded data removed]",
      "text/plain": [
       "<Figure size 432x288 with 1 Axes>"
      ]
     },
     "metadata": {
      "needs_background": "light"
     },
     "output_type": "display_data"
    }
   ],
   "source": [
    "print(df['ApplicantIncome'].value_counts())\n",
    "sns.histplot(data=df,x='ApplicantIncome')\n",
    "plt.show()\n"
   ]
  },
  {
   "cell_type": "markdown",
   "id": "cd352172",
   "metadata": {},
   "source": [
    "# \n",
    "The \"ApplicantIncome\" column provides insights into the distribution of income levels among the loan applicants. It shows the number of applicants falling into various income brackets.\n"
   ]
  },
  {
   "cell_type": "code",
   "execution_count": 20,
   "id": "edf5c41e",
   "metadata": {
    "scrolled": false
   },
   "outputs": [
    {
     "name": "stdout",
     "output_type": "stream",
     "text": [
      "0.0       273\n",
      "2500.0      5\n",
      "2083.0      5\n",
      "1666.0      5\n",
      "2250.0      3\n",
      "         ... \n",
      "2791.0      1\n",
      "1010.0      1\n",
      "1695.0      1\n",
      "2598.0      1\n",
      "240.0       1\n",
      "Name: CoapplicantIncome, Length: 287, dtype: int64\n"
     ]
    },
    {
     "data": {
      "image/png": "[encoded data removed]",
      "text/plain": [
       "<Figure size 432x288 with 1 Axes>"
      ]
     },
     "metadata": {
      "needs_background": "light"
     },
     "output_type": "display_data"
    }
   ],
   "source": [
    "print(df['CoapplicantIncome'].value_counts())\n",
    "sns.histplot(data=df,x='CoapplicantIncome')\n",
    "plt.show()\n"
   ]
  },
  {
   "cell_type": "markdown",
   "id": "c1040ef2",
   "metadata": {},
   "source": [
    "# \n",
    "The \"CoapplicantIncome\" column provides insights into the distribution of co-applicant income levels among the loan applications. It shows the number of applications with co-applicants falling into different income brackets."
   ]
  },
  {
   "cell_type": "code",
   "execution_count": 21,
   "id": "401937c5",
   "metadata": {},
   "outputs": [
    {
     "name": "stdout",
     "output_type": "stream",
     "text": [
      "146.412162    22\n",
      "120.000000    20\n",
      "110.000000    17\n",
      "100.000000    15\n",
      "160.000000    12\n",
      "              ..\n",
      "240.000000     1\n",
      "214.000000     1\n",
      "59.000000      1\n",
      "166.000000     1\n",
      "253.000000     1\n",
      "Name: LoanAmount, Length: 204, dtype: int64\n"
     ]
    },
    {
     "data": {
      "image/png": "[encoded data removed]",
      "text/plain": [
       "<Figure size 432x288 with 1 Axes>"
      ]
     },
     "metadata": {
      "needs_background": "light"
     },
     "output_type": "display_data"
    }
   ],
   "source": [
    "print(df['LoanAmount'].value_counts())\n",
    "sns.histplot(data=df,x='LoanAmount')\n",
    "plt.show()\n"
   ]
  },
  {
   "cell_type": "markdown",
   "id": "aecbf53d",
   "metadata": {},
   "source": [
    "# \n",
    "The \"LoanAmount\" column provides insights into the distribution of requested loan amounts among the loan applicants. It shows the number of applicants requesting different loan amounts.\n"
   ]
  },
  {
   "cell_type": "code",
   "execution_count": 22,
   "id": "09735c79",
   "metadata": {
    "scrolled": true
   },
   "outputs": [
    {
     "name": "stdout",
     "output_type": "stream",
     "text": [
      "1.000000    475\n",
      "0.000000     89\n",
      "0.842199     50\n",
      "Name: Credit_History, dtype: int64\n"
     ]
    },
    {
     "data": {
      "image/png": "[encoded data removed]",
      "text/plain": [
       "<Figure size 432x288 with 1 Axes>"
      ]
     },
     "metadata": {
      "needs_background": "light"
     },
     "output_type": "display_data"
    }
   ],
   "source": [
    "print(df['Credit_History'].value_counts())\n",
    "sns.histplot(data=df,x='Credit_History')\n",
    "plt.show()\n"
   ]
  },
  {
   "cell_type": "markdown",
   "id": "28d6f732",
   "metadata": {},
   "source": [
    "# \n",
    "This information is crucial for loan approval processes, as credit history is a significant factor in determining an applicant's creditworthiness and likelihood of loan repayment"
   ]
  },
  {
   "cell_type": "code",
   "execution_count": 23,
   "id": "5bbc76ad",
   "metadata": {
    "scrolled": true
   },
   "outputs": [
    {
     "name": "stdout",
     "output_type": "stream",
     "text": [
      "Semiurban    233\n",
      "Urban        202\n",
      "Rural        179\n",
      "Name: Property_Area, dtype: int64\n"
     ]
    },
    {
     "data": {
      "image/png": "[encoded data removed]",
      "text/plain": [
       "<Figure size 432x288 with 1 Axes>"
      ]
     },
     "metadata": {
      "needs_background": "light"
     },
     "output_type": "display_data"
    }
   ],
   "source": [
    "print(df['Property_Area'].value_counts())\n",
    "sns.histplot(data=df,x='Property_Area')\n",
    "plt.show()\n"
   ]
  },
  {
   "cell_type": "markdown",
   "id": "3bf3de9c",
   "metadata": {},
   "source": [
    "# \n",
    "The \"Property_Area\" column provides insights into the distribution of property areas among the loan applicants. It shows the number of applicants with properties located in different areas, such as urban, semiurban, or rural"
   ]
  },
  {
   "cell_type": "code",
   "execution_count": 24,
   "id": "bf69511c",
   "metadata": {
    "scrolled": false
   },
   "outputs": [
    {
     "name": "stdout",
     "output_type": "stream",
     "text": [
      "Y    422\n",
      "N    192\n",
      "Name: Loan_Status, dtype: int64\n"
     ]
    },
    {
     "data": {
      "image/png": "[encoded data removed]",
      "text/plain": [
       "<Figure size 432x288 with 1 Axes>"
      ]
     },
     "metadata": {
      "needs_background": "light"
     },
     "output_type": "display_data"
    }
   ],
   "source": [
    "print(df['Loan_Status'].value_counts())\n",
    "sns.histplot(data=df,x='Loan_Status')\n",
    "plt.show()\n"
   ]
  },
  {
   "cell_type": "markdown",
   "id": "b4f02864",
   "metadata": {},
   "source": [
    "#  \n",
    "The \"Loan_Status\" column provides insights into the distribution of loan approval outcomes among the loan applicants. It shows the number of loan applications that were approved (Y) and the number of loan applications that were not approved (N)"
   ]
  },
  {
   "cell_type": "code",
   "execution_count": 25,
   "id": "8cf938dc",
   "metadata": {
    "scrolled": false
   },
   "outputs": [
    {
     "data": {
      "image/png": "[encoded data removed]",
      "text/plain": [
       "<Figure size 504x576 with 5 Axes>"
      ]
     },
     "metadata": {
      "needs_background": "light"
     },
     "output_type": "display_data"
    }
   ],
   "source": [
    "plt.figure(figsize=(7,8))\n",
    "plotnumber = 1\n",
    "\n",
    "for column in df:\n",
    "    if plotnumber <= 5:\n",
    "        ax= plt.subplot(2, 3, plotnumber)\n",
    "        sns.scatterplot(y=df[column],data=df,x=df['Loan_Status'])\n",
    "        plt.xlabel(column, fontsize=20)\n",
    "        plt.ylabel('Loan_Status' ,fontsize=20)\n",
    "     \n",
    "    plotnumber += 1\n",
    "\n",
    "plt.tight_layout()\n",
    "plt.show()\n"
   ]
  },
  {
   "cell_type": "markdown",
   "id": "da60ec53",
   "metadata": {},
   "source": [
    "#  Above the visiluation all columnhas a relation with target variables"
   ]
  },
  {
   "cell_type": "code",
   "execution_count": 26,
   "id": "de7488ea",
   "metadata": {
    "scrolled": true
   },
   "outputs": [
    {
     "data": {
      "image/png": "[encoded data removed]",
      "text/plain": [
       "<Figure size 432x288 with 1 Axes>"
      ]
     },
     "metadata": {
      "needs_background": "light"
     },
     "output_type": "display_data"
    }
   ],
   "source": [
    "sns.scatterplot(data=df,x='Gender',y='Married',hue='Loan_Status')\n",
    "plt.show()"
   ]
  },
  {
   "cell_type": "markdown",
   "id": "6de6ba34",
   "metadata": {},
   "source": [
    "#  As per the above visiulation Female single status is no chance of get a loan"
   ]
  },
  {
   "cell_type": "code",
   "execution_count": 27,
   "id": "7428fdd7",
   "metadata": {
    "scrolled": true
   },
   "outputs": [
    {
     "data": {
      "image/png": "[encoded data removed]",
      "text/plain": [
       "<Figure size 432x288 with 1 Axes>"
      ]
     },
     "metadata": {
      "needs_background": "light"
     },
     "output_type": "display_data"
    }
   ],
   "source": [
    "sns.scatterplot(data=df,x='Married',y='Education',hue='Loan_Status')\n",
    "plt.show()"
   ]
  },
  {
   "cell_type": "markdown",
   "id": "d0a59a28",
   "metadata": {},
   "source": [
    "#  As per the above visiulation Female single status is no chance of get a loan"
   ]
  },
  {
   "cell_type": "code",
   "execution_count": 28,
   "id": "66d8c67a",
   "metadata": {
    "scrolled": true
   },
   "outputs": [
    {
     "data": {
      "image/png": "[encoded data removed]",
      "text/plain": [
       "<Figure size 432x288 with 1 Axes>"
      ]
     },
     "metadata": {
      "needs_background": "light"
     },
     "output_type": "display_data"
    }
   ],
   "source": [
    "sns.scatterplot(data=df,x='Dependents',y='Education',hue='Loan_Status')\n",
    "plt.show()"
   ]
  },
  {
   "cell_type": "markdown",
   "id": "37777e40",
   "metadata": {},
   "source": [
    "#  As per the above visiulation there is no chance to get a loan if there is 0 dependents"
   ]
  },
  {
   "cell_type": "code",
   "execution_count": 29,
   "id": "9478564d",
   "metadata": {},
   "outputs": [
    {
     "data": {
      "image/png": "[encoded data removed]",
      "text/plain": [
       "<Figure size 432x288 with 1 Axes>"
      ]
     },
     "metadata": {
      "needs_background": "light"
     },
     "output_type": "display_data"
    }
   ],
   "source": [
    "sns.scatterplot(data=df,x='Self_Employed',y='Education',hue='Loan_Status')\n",
    "plt.show()"
   ]
  },
  {
   "cell_type": "markdown",
   "id": "8c7bc5ee",
   "metadata": {},
   "source": [
    "# As per the above visiulation if the person is not a  self employed then education is no matter to get a loan"
   ]
  },
  {
   "cell_type": "code",
   "execution_count": 30,
   "id": "1f15e925",
   "metadata": {},
   "outputs": [
    {
     "data": {
      "image/png": "[encoded data removed]",
      "text/plain": [
       "<Figure size 432x288 with 1 Axes>"
      ]
     },
     "metadata": {
      "needs_background": "light"
     },
     "output_type": "display_data"
    }
   ],
   "source": [
    "sns.stripplot(data=df,x='Married',y='ApplicantIncome',hue='Loan_Status')\n",
    "plt.show()"
   ]
  },
  {
   "cell_type": "code",
   "execution_count": 31,
   "id": "f38c0c64",
   "metadata": {},
   "outputs": [
    {
     "data": {
      "image/png": "[encoded data removed]",
      "text/plain": [
       "<Figure size 432x288 with 1 Axes>"
      ]
     },
     "metadata": {
      "needs_background": "light"
     },
     "output_type": "display_data"
    }
   ],
   "source": [
    "sns.stripplot(data=df,x='Married',y='LoanAmount',hue='Loan_Status')\n",
    "plt.show()"
   ]
  },
  {
   "cell_type": "code",
   "execution_count": 32,
   "id": "abc90c1d",
   "metadata": {},
   "outputs": [
    {
     "data": {
      "image/png": "[encoded data removed]",
      "text/plain": [
       "<Figure size 432x288 with 1 Axes>"
      ]
     },
     "metadata": {
      "needs_background": "light"
     },
     "output_type": "display_data"
    }
   ],
   "source": [
    "sns.stripplot(data=df,x='Married',y='Property_Area',hue='Loan_Status')\n",
    "plt.show()"
   ]
  },
  {
   "cell_type": "code",
   "execution_count": 33,
   "id": "83776991",
   "metadata": {},
   "outputs": [
    {
     "data": {
      "image/png": "[encoded data removed]",
      "text/plain": [
       "<Figure size 432x288 with 1 Axes>"
      ]
     },
     "metadata": {
      "needs_background": "light"
     },
     "output_type": "display_data"
    }
   ],
   "source": [
    "sns.stripplot(data=df,x='Married',y='Loan_Amount_Term',hue='Loan_Status')\n",
    "plt.show()"
   ]
  },
  {
   "cell_type": "code",
   "execution_count": 34,
   "id": "81d4c785",
   "metadata": {
    "scrolled": true
   },
   "outputs": [
    {
     "data": {
      "image/png": "[encoded data removed]",
      "text/plain": [
       "<Figure size 432x288 with 1 Axes>"
      ]
     },
     "metadata": {
      "needs_background": "light"
     },
     "output_type": "display_data"
    }
   ],
   "source": [
    "sns.stripplot(data=df,x='Married',y='ApplicantIncome',hue='Loan_Status')\n",
    "plt.show()"
   ]
  },
  {
   "cell_type": "code",
   "execution_count": 35,
   "id": "2bcd6f07",
   "metadata": {
    "scrolled": true
   },
   "outputs": [
    {
     "data": {
      "image/png": "[encoded data removed]",
      "text/plain": [
       "<Figure size 432x288 with 1 Axes>"
      ]
     },
     "metadata": {
      "needs_background": "light"
     },
     "output_type": "display_data"
    }
   ],
   "source": [
    "sns.scatterplot(data=df,x='ApplicantIncome',y='CoapplicantIncome',hue='Loan_Status')\n",
    "plt.show()"
   ]
  },
  {
   "cell_type": "markdown",
   "id": "cc04992a",
   "metadata": {},
   "source": [
    "#  As the above visiluation we can see applicate Income is less than coapplicate income there is no chance to get a loan"
   ]
  },
  {
   "cell_type": "code",
   "execution_count": 36,
   "id": "3991f623",
   "metadata": {
    "scrolled": false
   },
   "outputs": [
    {
     "data": {
      "text/plain": [
       "<AxesSubplot:>"
      ]
     },
     "execution_count": 36,
     "metadata": {},
     "output_type": "execute_result"
    },
    {
     "data": {
      "image/png": "[encoded data removed]",
      "text/plain": [
       "<Figure size 432x288 with 2 Axes>"
      ]
     },
     "metadata": {
      "needs_background": "light"
     },
     "output_type": "display_data"
    }
   ],
   "source": [
    "sns.heatmap(df.corr(),annot=True)"
   ]
  },
  {
   "cell_type": "markdown",
   "id": "fc5227b9",
   "metadata": {},
   "source": [
    "#  Above the heatmap There is no co-relation in the dataset"
   ]
  },
  {
   "cell_type": "code",
   "execution_count": 37,
   "id": "90e5a06f",
   "metadata": {
    "scrolled": true
   },
   "outputs": [
    {
     "data": {
      "image/png": "[encoded data removed]",
      "text/plain": [
       "<Figure size 1440x1800 with 5 Axes>"
      ]
     },
     "metadata": {
      "needs_background": "light"
     },
     "output_type": "display_data"
    }
   ],
   "source": [
    "plt.figure(figsize=(20,25))\n",
    "plotnumber=1\n",
    "for column in numerical_col:\n",
    "    if plotnumber<=5:\n",
    "        ax=plt.subplot(10,3,plotnumber)\n",
    "        sns.distplot(df[column])\n",
    "        plt.xlabel(column,fontsize=20)\n",
    "        \n",
    "    plotnumber +=1\n",
    "    \n",
    "plt.tight_layout()"
   ]
  },
  {
   "cell_type": "markdown",
   "id": "dadfe358",
   "metadata": {},
   "source": [
    "#  Above the distrubution plot the data is right skewness"
   ]
  },
  {
   "cell_type": "code",
   "execution_count": 38,
   "id": "4058bee6",
   "metadata": {},
   "outputs": [
    {
     "data": {
      "image/png": "[encoded data removed]",
      "text/plain": [
       "<Figure size 720x1440 with 5 Axes>"
      ]
     },
     "metadata": {
      "needs_background": "light"
     },
     "output_type": "display_data"
    }
   ],
   "source": [
    "plt.figure(figsize=(10,20))\n",
    "i=1\n",
    "for column in numerical_col:\n",
    "    if i<=30:\n",
    "        \n",
    "        \n",
    "    \n",
    "       ax= plt.subplot(10,3,i)\n",
    "    \n",
    "       sns.boxplot(data=df[column])\n",
    "    \n",
    "       plt.xlabel (column,fontsize=20)\n",
    "        \n",
    "    i+=1\n",
    "    \n",
    "plt.tight_layout()\n",
    "    \n",
    "                \n",
    "                \n"
   ]
  },
  {
   "cell_type": "markdown",
   "id": "4a436a89",
   "metadata": {},
   "source": [
    "#  There is outliers present in the dataset we need to remove outliers"
   ]
  },
  {
   "cell_type": "code",
   "execution_count": 39,
   "id": "e561bc61",
   "metadata": {},
   "outputs": [],
   "source": [
    "x= df.drop(columns='Loan_Status')\n",
    "y=df['Loan_Status']"
   ]
  },
  {
   "cell_type": "code",
   "execution_count": 40,
   "id": "a1407a7a",
   "metadata": {},
   "outputs": [
    {
     "data": {
      "text/plain": [
       "(614, 5)"
      ]
     },
     "execution_count": 40,
     "metadata": {},
     "output_type": "execute_result"
    }
   ],
   "source": [
    "from scipy.stats import zscore\n",
    "features=df[['ApplicantIncome','CoapplicantIncome','LoanAmount','Loan_Amount_Term','Credit_History']]\n",
    "z=np.abs(zscore(features))\n",
    "z.shape\n",
    "    \n"
   ]
  },
  {
   "cell_type": "code",
   "execution_count": 129,
   "id": "bedcdef7",
   "metadata": {},
   "outputs": [
    {
     "data": {
      "text/plain": [
       "(array([  9,  14,  68,  94, 126, 130, 133, 155, 155, 171, 171, 177, 177,\n",
       "        183, 185, 242, 262, 278, 308, 313, 333, 333, 369, 402, 409, 417,\n",
       "        432, 443, 487, 495, 497, 506, 523, 525, 546, 561, 575, 581, 585,\n",
       "        600, 604], dtype=int64),\n",
       " array([1, 3, 3, 3, 0, 2, 3, 0, 2, 0, 2, 1, 2, 0, 0, 3, 3, 2, 2, 3, 0, 2,\n",
       "        2, 1, 0, 1, 2, 0, 2, 3, 3, 2, 2, 2, 3, 2, 3, 1, 3, 1, 2],\n",
       "       dtype=int64))"
      ]
     },
     "execution_count": 129,
     "metadata": {},
     "output_type": "execute_result"
    }
   ],
   "source": [
    "threshold =3\n",
    "np.where(z>threshold)"
   ]
  },
  {
   "cell_type": "code",
   "execution_count": 42,
   "id": "ecce2c85",
   "metadata": {},
   "outputs": [
    {
     "name": "stdout",
     "output_type": "stream",
     "text": [
      "(577, 12)\n",
      "(614, 12)\n"
     ]
    }
   ],
   "source": [
    "df1=df[(z<3).all(axis=1)]\n",
    "print(df1.shape)\n",
    "print(df.shape)"
   ]
  },
  {
   "cell_type": "markdown",
   "id": "32090453",
   "metadata": {},
   "source": [
    "# Data loss "
   ]
  },
  {
   "cell_type": "code",
   "execution_count": 43,
   "id": "a9b11643",
   "metadata": {},
   "outputs": [
    {
     "data": {
      "text/plain": [
       "6.026058631921824"
      ]
     },
     "execution_count": 43,
     "metadata": {},
     "output_type": "execute_result"
    }
   ],
   "source": [
    "loss_percent = (614-577)/614*100\n",
    "loss_percent"
   ]
  },
  {
   "cell_type": "code",
   "execution_count": 44,
   "id": "154754db",
   "metadata": {},
   "outputs": [],
   "source": [
    "df=df1"
   ]
  },
  {
   "cell_type": "code",
   "execution_count": 45,
   "id": "5bbb2bf5",
   "metadata": {},
   "outputs": [
    {
     "data": {
      "text/plain": [
       "ApplicantIncome      2.148522\n",
       "CoapplicantIncome    1.350517\n",
       "LoanAmount           1.113132\n",
       "Loan_Amount_Term    -2.077031\n",
       "Credit_History      -1.921860\n",
       "dtype: float64"
      ]
     },
     "execution_count": 45,
     "metadata": {},
     "output_type": "execute_result"
    }
   ],
   "source": [
    "df.skew()"
   ]
  },
  {
   "cell_type": "markdown",
   "id": "349d9cda",
   "metadata": {},
   "source": [
    "#  We found skweness we have to reduce it"
   ]
  },
  {
   "cell_type": "code",
   "execution_count": 46,
   "id": "806a084e",
   "metadata": {},
   "outputs": [],
   "source": [
    "columns =df[['ApplicantIncome','CoapplicantIncome','LoanAmount']]\n",
    "\n",
    "for column in columns:\n",
    "    df[column] =np.cbrt(df[column])"
   ]
  },
  {
   "cell_type": "code",
   "execution_count": 47,
   "id": "f7303644",
   "metadata": {
    "scrolled": true
   },
   "outputs": [
    {
     "data": {
      "text/plain": [
       "ApplicantIncome      0.845845\n",
       "CoapplicantIncome   -0.038951\n",
       "LoanAmount           0.017152\n",
       "Loan_Amount_Term    -2.077031\n",
       "Credit_History      -1.921860\n",
       "dtype: float64"
      ]
     },
     "execution_count": 47,
     "metadata": {},
     "output_type": "execute_result"
    }
   ],
   "source": [
    "df.skew()"
   ]
  },
  {
   "cell_type": "markdown",
   "id": "aed05fbe",
   "metadata": {},
   "source": [
    "#  \n",
    "We won't remove skewness  Loan_Amount_Term and Credit_History \n",
    "classification column"
   ]
  },
  {
   "cell_type": "markdown",
   "id": "47f3baea",
   "metadata": {},
   "source": [
    "# Encoding process"
   ]
  },
  {
   "cell_type": "code",
   "execution_count": 48,
   "id": "ae68f6dc",
   "metadata": {},
   "outputs": [],
   "source": [
    "from sklearn.preprocessing import LabelEncoder\n",
    "label_encoder = LabelEncoder()\n",
    "for i in catgorical_col:\n",
    "    df[i] = label_encoder.fit_transform(df[i])"
   ]
  },
  {
   "cell_type": "code",
   "execution_count": 50,
   "id": "ae5d8fd2",
   "metadata": {
    "scrolled": true
   },
   "outputs": [],
   "source": [
    "x= df.drop(columns='Loan_Status')\n",
    "y=df['Loan_Status']"
   ]
  },
  {
   "cell_type": "code",
   "execution_count": 51,
   "id": "0ccf85d7",
   "metadata": {},
   "outputs": [],
   "source": [
    "from imblearn.over_sampling import SMOTE\n",
    "SM=SMOTE()\n",
    "x,y=SM.fit_resample(x,y)"
   ]
  },
  {
   "cell_type": "code",
   "execution_count": 52,
   "id": "db146b4d",
   "metadata": {},
   "outputs": [
    {
     "data": {
      "text/html": [
       "<div>\n",
       "<style scoped>\n",
       "    .dataframe tbody tr th:only-of-type {\n",
       "        vertical-align: middle;\n",
       "    }\n",
       "\n",
       "    .dataframe tbody tr th {\n",
       "        vertical-align: top;\n",
       "    }\n",
       "\n",
       "    .dataframe thead th {\n",
       "        text-align: right;\n",
       "    }\n",
       "</style>\n",
       "<table border=\"1\" class=\"dataframe\">\n",
       "  <thead>\n",
       "    <tr style=\"text-align: right;\">\n",
       "      <th></th>\n",
       "      <th>Gender</th>\n",
       "      <th>Married</th>\n",
       "      <th>Dependents</th>\n",
       "      <th>Education</th>\n",
       "      <th>Self_Employed</th>\n",
       "      <th>ApplicantIncome</th>\n",
       "      <th>CoapplicantIncome</th>\n",
       "      <th>LoanAmount</th>\n",
       "      <th>Loan_Amount_Term</th>\n",
       "      <th>Credit_History</th>\n",
       "      <th>Property_Area</th>\n",
       "    </tr>\n",
       "  </thead>\n",
       "  <tbody>\n",
       "    <tr>\n",
       "      <th>0</th>\n",
       "      <td>0.546381</td>\n",
       "      <td>-1.185257</td>\n",
       "      <td>-0.668615</td>\n",
       "      <td>-0.487798</td>\n",
       "      <td>-0.331936</td>\n",
       "      <td>0.646839</td>\n",
       "      <td>-1.066303</td>\n",
       "      <td>0.329225</td>\n",
       "      <td>0.218731</td>\n",
       "      <td>0.616493</td>\n",
       "      <td>1.296696</td>\n",
       "    </tr>\n",
       "    <tr>\n",
       "      <th>1</th>\n",
       "      <td>0.546381</td>\n",
       "      <td>0.843699</td>\n",
       "      <td>0.370872</td>\n",
       "      <td>-0.487798</td>\n",
       "      <td>-0.331936</td>\n",
       "      <td>0.171727</td>\n",
       "      <td>0.626709</td>\n",
       "      <td>-0.010895</td>\n",
       "      <td>0.218731</td>\n",
       "      <td>0.616493</td>\n",
       "      <td>-1.233132</td>\n",
       "    </tr>\n",
       "    <tr>\n",
       "      <th>2</th>\n",
       "      <td>0.546381</td>\n",
       "      <td>0.843699</td>\n",
       "      <td>-0.668615</td>\n",
       "      <td>-0.487798</td>\n",
       "      <td>3.012632</td>\n",
       "      <td>-0.567146</td>\n",
       "      <td>-1.066303</td>\n",
       "      <td>-1.481599</td>\n",
       "      <td>0.218731</td>\n",
       "      <td>0.616493</td>\n",
       "      <td>1.296696</td>\n",
       "    </tr>\n",
       "    <tr>\n",
       "      <th>3</th>\n",
       "      <td>0.546381</td>\n",
       "      <td>0.843699</td>\n",
       "      <td>-0.668615</td>\n",
       "      <td>2.050028</td>\n",
       "      <td>-0.331936</td>\n",
       "      <td>-0.804150</td>\n",
       "      <td>0.898750</td>\n",
       "      <td>-0.168888</td>\n",
       "      <td>0.218731</td>\n",
       "      <td>0.616493</td>\n",
       "      <td>1.296696</td>\n",
       "    </tr>\n",
       "    <tr>\n",
       "      <th>4</th>\n",
       "      <td>0.546381</td>\n",
       "      <td>-1.185257</td>\n",
       "      <td>-0.668615</td>\n",
       "      <td>-0.487798</td>\n",
       "      <td>-0.331936</td>\n",
       "      <td>0.698753</td>\n",
       "      <td>-1.066303</td>\n",
       "      <td>0.232361</td>\n",
       "      <td>0.218731</td>\n",
       "      <td>0.616493</td>\n",
       "      <td>1.296696</td>\n",
       "    </tr>\n",
       "    <tr>\n",
       "      <th>...</th>\n",
       "      <td>...</td>\n",
       "      <td>...</td>\n",
       "      <td>...</td>\n",
       "      <td>...</td>\n",
       "      <td>...</td>\n",
       "      <td>...</td>\n",
       "      <td>...</td>\n",
       "      <td>...</td>\n",
       "      <td>...</td>\n",
       "      <td>...</td>\n",
       "      <td>...</td>\n",
       "    </tr>\n",
       "    <tr>\n",
       "      <th>791</th>\n",
       "      <td>-1.830226</td>\n",
       "      <td>-1.185257</td>\n",
       "      <td>0.370872</td>\n",
       "      <td>-0.487798</td>\n",
       "      <td>-0.331936</td>\n",
       "      <td>-0.410939</td>\n",
       "      <td>-1.066303</td>\n",
       "      <td>0.233183</td>\n",
       "      <td>0.218731</td>\n",
       "      <td>0.616493</td>\n",
       "      <td>1.296696</td>\n",
       "    </tr>\n",
       "    <tr>\n",
       "      <th>792</th>\n",
       "      <td>0.546381</td>\n",
       "      <td>0.843699</td>\n",
       "      <td>0.370872</td>\n",
       "      <td>2.050028</td>\n",
       "      <td>-0.331936</td>\n",
       "      <td>-0.741371</td>\n",
       "      <td>0.743893</td>\n",
       "      <td>-0.454230</td>\n",
       "      <td>-3.049130</td>\n",
       "      <td>-0.448209</td>\n",
       "      <td>1.296696</td>\n",
       "    </tr>\n",
       "    <tr>\n",
       "      <th>793</th>\n",
       "      <td>-1.830226</td>\n",
       "      <td>0.843699</td>\n",
       "      <td>-0.668615</td>\n",
       "      <td>-0.487798</td>\n",
       "      <td>-0.331936</td>\n",
       "      <td>-1.209414</td>\n",
       "      <td>1.071871</td>\n",
       "      <td>-0.634119</td>\n",
       "      <td>0.218731</td>\n",
       "      <td>-1.896853</td>\n",
       "      <td>1.296696</td>\n",
       "    </tr>\n",
       "    <tr>\n",
       "      <th>794</th>\n",
       "      <td>-1.830226</td>\n",
       "      <td>-1.185257</td>\n",
       "      <td>-0.668615</td>\n",
       "      <td>-0.487798</td>\n",
       "      <td>-0.331936</td>\n",
       "      <td>-1.030581</td>\n",
       "      <td>-1.066303</td>\n",
       "      <td>-1.446908</td>\n",
       "      <td>-0.803455</td>\n",
       "      <td>-1.896853</td>\n",
       "      <td>-1.233132</td>\n",
       "    </tr>\n",
       "    <tr>\n",
       "      <th>795</th>\n",
       "      <td>-1.830226</td>\n",
       "      <td>-1.185257</td>\n",
       "      <td>1.410359</td>\n",
       "      <td>-0.487798</td>\n",
       "      <td>-0.331936</td>\n",
       "      <td>2.229562</td>\n",
       "      <td>0.948234</td>\n",
       "      <td>2.302998</td>\n",
       "      <td>0.218731</td>\n",
       "      <td>0.616493</td>\n",
       "      <td>-1.233132</td>\n",
       "    </tr>\n",
       "  </tbody>\n",
       "</table>\n",
       "<p>796 rows × 11 columns</p>\n",
       "</div>"
      ],
      "text/plain": [
       "       Gender   Married  Dependents  Education  Self_Employed  \\\n",
       "0    0.546381 -1.185257   -0.668615  -0.487798      -0.331936   \n",
       "1    0.546381  0.843699    0.370872  -0.487798      -0.331936   \n",
       "2    0.546381  0.843699   -0.668615  -0.487798       3.012632   \n",
       "3    0.546381  0.843699   -0.668615   2.050028      -0.331936   \n",
       "4    0.546381 -1.185257   -0.668615  -0.487798      -0.331936   \n",
       "..        ...       ...         ...        ...            ...   \n",
       "791 -1.830226 -1.185257    0.370872  -0.487798      -0.331936   \n",
       "792  0.546381  0.843699    0.370872   2.050028      -0.331936   \n",
       "793 -1.830226  0.843699   -0.668615  -0.487798      -0.331936   \n",
       "794 -1.830226 -1.185257   -0.668615  -0.487798      -0.331936   \n",
       "795 -1.830226 -1.185257    1.410359  -0.487798      -0.331936   \n",
       "\n",
       "     ApplicantIncome  CoapplicantIncome  LoanAmount  Loan_Amount_Term  \\\n",
       "0           0.646839          -1.066303    0.329225          0.218731   \n",
       "1           0.171727           0.626709   -0.010895          0.218731   \n",
       "2          -0.567146          -1.066303   -1.481599          0.218731   \n",
       "3          -0.804150           0.898750   -0.168888          0.218731   \n",
       "4           0.698753          -1.066303    0.232361          0.218731   \n",
       "..               ...                ...         ...               ...   \n",
       "791        -0.410939          -1.066303    0.233183          0.218731   \n",
       "792        -0.741371           0.743893   -0.454230         -3.049130   \n",
       "793        -1.209414           1.071871   -0.634119          0.218731   \n",
       "794        -1.030581          -1.066303   -1.446908         -0.803455   \n",
       "795         2.229562           0.948234    2.302998          0.218731   \n",
       "\n",
       "     Credit_History  Property_Area  \n",
       "0          0.616493       1.296696  \n",
       "1          0.616493      -1.233132  \n",
       "2          0.616493       1.296696  \n",
       "3          0.616493       1.296696  \n",
       "4          0.616493       1.296696  \n",
       "..              ...            ...  \n",
       "791        0.616493       1.296696  \n",
       "792       -0.448209       1.296696  \n",
       "793       -1.896853       1.296696  \n",
       "794       -1.896853      -1.233132  \n",
       "795        0.616493      -1.233132  \n",
       "\n",
       "[796 rows x 11 columns]"
      ]
     },
     "execution_count": 52,
     "metadata": {},
     "output_type": "execute_result"
    }
   ],
   "source": [
    "from sklearn.preprocessing import StandardScaler\n",
    "scaler=StandardScaler()\n",
    "x=pd.DataFrame(scaler.fit_transform(x),columns=x.columns)\n",
    "x"
   ]
  },
  {
   "cell_type": "code",
   "execution_count": 53,
   "id": "0af7663e",
   "metadata": {},
   "outputs": [
    {
     "data": {
      "text/html": [
       "<div>\n",
       "<style scoped>\n",
       "    .dataframe tbody tr th:only-of-type {\n",
       "        vertical-align: middle;\n",
       "    }\n",
       "\n",
       "    .dataframe tbody tr th {\n",
       "        vertical-align: top;\n",
       "    }\n",
       "\n",
       "    .dataframe thead th {\n",
       "        text-align: right;\n",
       "    }\n",
       "</style>\n",
       "<table border=\"1\" class=\"dataframe\">\n",
       "  <thead>\n",
       "    <tr style=\"text-align: right;\">\n",
       "      <th></th>\n",
       "      <th>vif</th>\n",
       "      <th>features</th>\n",
       "    </tr>\n",
       "  </thead>\n",
       "  <tbody>\n",
       "    <tr>\n",
       "      <th>0</th>\n",
       "      <td>1.290375</td>\n",
       "      <td>Gender</td>\n",
       "    </tr>\n",
       "    <tr>\n",
       "      <th>1</th>\n",
       "      <td>1.497641</td>\n",
       "      <td>Married</td>\n",
       "    </tr>\n",
       "    <tr>\n",
       "      <th>2</th>\n",
       "      <td>1.205769</td>\n",
       "      <td>Dependents</td>\n",
       "    </tr>\n",
       "    <tr>\n",
       "      <th>3</th>\n",
       "      <td>1.077636</td>\n",
       "      <td>Education</td>\n",
       "    </tr>\n",
       "    <tr>\n",
       "      <th>4</th>\n",
       "      <td>1.062591</td>\n",
       "      <td>Self_Employed</td>\n",
       "    </tr>\n",
       "    <tr>\n",
       "      <th>5</th>\n",
       "      <td>1.858258</td>\n",
       "      <td>ApplicantIncome</td>\n",
       "    </tr>\n",
       "    <tr>\n",
       "      <th>6</th>\n",
       "      <td>1.726188</td>\n",
       "      <td>CoapplicantIncome</td>\n",
       "    </tr>\n",
       "    <tr>\n",
       "      <th>7</th>\n",
       "      <td>1.725293</td>\n",
       "      <td>LoanAmount</td>\n",
       "    </tr>\n",
       "    <tr>\n",
       "      <th>8</th>\n",
       "      <td>1.083132</td>\n",
       "      <td>Loan_Amount_Term</td>\n",
       "    </tr>\n",
       "    <tr>\n",
       "      <th>9</th>\n",
       "      <td>1.021854</td>\n",
       "      <td>Credit_History</td>\n",
       "    </tr>\n",
       "    <tr>\n",
       "      <th>10</th>\n",
       "      <td>1.027830</td>\n",
       "      <td>Property_Area</td>\n",
       "    </tr>\n",
       "  </tbody>\n",
       "</table>\n",
       "</div>"
      ],
      "text/plain": [
       "         vif           features\n",
       "0   1.290375             Gender\n",
       "1   1.497641            Married\n",
       "2   1.205769         Dependents\n",
       "3   1.077636          Education\n",
       "4   1.062591      Self_Employed\n",
       "5   1.858258    ApplicantIncome\n",
       "6   1.726188  CoapplicantIncome\n",
       "7   1.725293         LoanAmount\n",
       "8   1.083132   Loan_Amount_Term\n",
       "9   1.021854     Credit_History\n",
       "10  1.027830      Property_Area"
      ]
     },
     "execution_count": 53,
     "metadata": {},
     "output_type": "execute_result"
    }
   ],
   "source": [
    "from statsmodels.stats.outliers_influence import variance_inflation_factor\n",
    "vif=pd.DataFrame()\n",
    "vif['vif']=[variance_inflation_factor(x, i) for i in range(x.shape[1])]\n",
    "vif ['features'] =x.columns \n",
    "vif"
   ]
  },
  {
   "cell_type": "markdown",
   "id": "11e4ae96",
   "metadata": {},
   "source": [
    "#  all features column vif score is less than 5 so there is no co-relation with each others"
   ]
  },
  {
   "cell_type": "markdown",
   "id": "742c7ea3",
   "metadata": {},
   "source": [
    "#  Preprocessing done now we can build a model"
   ]
  },
  {
   "cell_type": "code",
   "execution_count": 104,
   "id": "ae0b5629",
   "metadata": {},
   "outputs": [
    {
     "name": "stdout",
     "output_type": "stream",
     "text": [
      "Best accuracy is 0.8828451882845189 at random_state 78\n"
     ]
    }
   ],
   "source": [
    "from sklearn.model_selection import train_test_split\n",
    "from sklearn.ensemble import RandomForestClassifier\n",
    "from sklearn.metrics import accuracy_score\n",
    "\n",
    "maxAccu = 0\n",
    "maxRs = 0\n",
    "\n",
    "for i in range(1, 200):\n",
    "    x_train, x_test, y_train, y_test = train_test_split(x, y, test_size=0.30, random_state=i)\n",
    "    rnd = RandomForestClassifier()\n",
    "    rnd.fit(x_train, y_train)\n",
    "    y_pred = rnd.predict(x_test)\n",
    "    acc = accuracy_score(y_test, y_pred)\n",
    "    if acc > maxAccu:\n",
    "        maxAccu = acc\n",
    "        maxRs = i\n",
    "\n",
    "print('Best accuracy is', maxAccu, 'at random_state', maxRs)\n"
   ]
  },
  {
   "cell_type": "code",
   "execution_count": 105,
   "id": "d2c8b634",
   "metadata": {},
   "outputs": [],
   "source": [
    "x_train, x_test, y_train, y_test = train_test_split(x,y, test_size = 0.30, random_state = maxRs)"
   ]
  },
  {
   "cell_type": "code",
   "execution_count": 106,
   "id": "e8f897d4",
   "metadata": {},
   "outputs": [],
   "source": [
    "from sklearn.ensemble import RandomForestClassifier, ExtraTreesClassifier\n",
    "from sklearn.linear_model import LogisticRegression\n",
    "from sklearn.svm import SVC\n",
    "from sklearn.ensemble import GradientBoostingClassifier, AdaBoostClassifier, BaggingClassifier\n",
    "from sklearn.metrics import classification_report ,confusion_matrix, roc_curve, accuracy_score\n",
    "from sklearn.model_selection import cross_val_score"
   ]
  },
  {
   "cell_type": "code",
   "execution_count": 107,
   "id": "0499a23e",
   "metadata": {},
   "outputs": [
    {
     "name": "stdout",
     "output_type": "stream",
     "text": [
      "Accuracy score 0.8117154811715481\n",
      "\n",
      "\n",
      "[[ 78  32]\n",
      " [ 13 116]]\n"
     ]
    }
   ],
   "source": [
    "LR= LogisticRegression()\n",
    "LR.fit(x_train, y_train)\n",
    "predLR= LR.predict (x_test)\n",
    "print('Accuracy score',(accuracy_score(y_test, predLR)))\n",
    "print('\\n')\n",
    "print(confusion_matrix(y_test, predLR))"
   ]
  },
  {
   "cell_type": "code",
   "execution_count": 108,
   "id": "5199d4a5",
   "metadata": {},
   "outputs": [
    {
     "name": "stdout",
     "output_type": "stream",
     "text": [
      "Accuracy score 0.891213389121339\n",
      "\n",
      "\n",
      "[[ 99  11]\n",
      " [ 15 114]]\n"
     ]
    }
   ],
   "source": [
    "Rnd= RandomForestClassifier()\n",
    "Rnd.fit(x_train, y_train)\n",
    "predRnd= Rnd.predict (x_test)\n",
    "print('Accuracy score',(accuracy_score(y_test, predRnd)))\n",
    "print('\\n')\n",
    "print(confusion_matrix(y_test, predRnd))"
   ]
  },
  {
   "cell_type": "code",
   "execution_count": 109,
   "id": "e22e0bbf",
   "metadata": {},
   "outputs": [
    {
     "name": "stdout",
     "output_type": "stream",
     "text": [
      "Accuracy score 0.8619246861924686\n",
      "\n",
      "\n",
      "[[ 97  13]\n",
      " [ 20 109]]\n"
     ]
    }
   ],
   "source": [
    "Etr= ExtraTreesClassifier()\n",
    "Etr.fit(x_train, y_train)\n",
    "predEtr= Etr.predict (x_test)\n",
    "print('Accuracy score',(accuracy_score(y_test, predEtr)))\n",
    "print('\\n')\n",
    "print(confusion_matrix(y_test, predEtr))"
   ]
  },
  {
   "cell_type": "code",
   "execution_count": 110,
   "id": "f1c67c78",
   "metadata": {},
   "outputs": [
    {
     "name": "stdout",
     "output_type": "stream",
     "text": [
      "Accuracy score 0.803347280334728\n",
      "\n",
      "\n",
      "[[ 80  30]\n",
      " [ 17 112]]\n"
     ]
    }
   ],
   "source": [
    "svc=SVC()\n",
    "svc.fit(x_train, y_train)\n",
    "predsvc=svc.predict (x_test)\n",
    "print('Accuracy score',(accuracy_score(y_test, predsvc)))\n",
    "print('\\n')\n",
    "\n",
    "print(confusion_matrix(y_test, predsvc))"
   ]
  },
  {
   "cell_type": "code",
   "execution_count": 111,
   "id": "49d1d2b2",
   "metadata": {},
   "outputs": [
    {
     "name": "stdout",
     "output_type": "stream",
     "text": [
      "Accuracy score 0.8493723849372385\n",
      "\n",
      "\n",
      "[[ 85  25]\n",
      " [ 11 118]]\n"
     ]
    }
   ],
   "source": [
    "gbc=GradientBoostingClassifier()\n",
    "gbc.fit(x_train, y_train)\n",
    "predgbc =gbc.predict (x_test)\n",
    "print('Accuracy score',(accuracy_score(y_test, predgbc)))\n",
    "print('\\n')\n",
    "\n",
    "print(confusion_matrix(y_test, predgbc))"
   ]
  },
  {
   "cell_type": "code",
   "execution_count": 112,
   "id": "a7bd7dd5",
   "metadata": {},
   "outputs": [
    {
     "name": "stdout",
     "output_type": "stream",
     "text": [
      "Accuracy score 0.7698744769874477\n",
      "\n",
      "\n",
      "[[ 81  29]\n",
      " [ 26 103]]\n"
     ]
    }
   ],
   "source": [
    "adaboost= AdaBoostClassifier()\n",
    "adaboost.fit(x_train, y_train)\n",
    "predadaboost =adaboost.predict (x_test)\n",
    "print('Accuracy score',(accuracy_score(y_test, predadaboost)))\n",
    "print('\\n')\n",
    "\n",
    "print(confusion_matrix(y_test, predadaboost))"
   ]
  },
  {
   "cell_type": "code",
   "execution_count": 113,
   "id": "cbe762da",
   "metadata": {},
   "outputs": [
    {
     "name": "stdout",
     "output_type": "stream",
     "text": [
      "Accuracy score 0.8661087866108786\n",
      "\n",
      "\n",
      "[[ 99  11]\n",
      " [ 21 108]]\n"
     ]
    }
   ],
   "source": [
    "bagging=BaggingClassifier()\n",
    "bagging.fit(x_train, y_train)\n",
    "predbagging =bagging.predict (x_test)\n",
    "print('Accuracy score',(accuracy_score(y_test, predbagging)))\n",
    "print('\\n')\n",
    "\n",
    "print(confusion_matrix(y_test, predbagging))"
   ]
  },
  {
   "cell_type": "markdown",
   "id": "10cd2a77",
   "metadata": {},
   "source": [
    "#  Cross Validation Score"
   ]
  },
  {
   "cell_type": "code",
   "execution_count": 114,
   "id": "0794ce38",
   "metadata": {},
   "outputs": [
    {
     "name": "stdout",
     "output_type": "stream",
     "text": [
      "LogisticRegression \n",
      "\n",
      "\n",
      "[0.7125     0.72327044 0.77358491 0.81132075 0.7672956 ]\n",
      "0.7575943396226416\n",
      "Difference between Accuracy score  and cross validation score is -  0.05412114154890657\n"
     ]
    }
   ],
   "source": [
    "print('LogisticRegression ')\n",
    "print('\\n')\n",
    "score=cross_val_score(LR, x, y)\n",
    "print(score)\n",
    "print(score.mean())\n",
    "print('Difference between Accuracy score  and cross validation score is - ', accuracy_score(y_test,predLR)- score.mean())"
   ]
  },
  {
   "cell_type": "code",
   "execution_count": 115,
   "id": "e7ba004b",
   "metadata": {},
   "outputs": [
    {
     "name": "stdout",
     "output_type": "stream",
     "text": [
      "ExtraTreesClassifier \n",
      "\n",
      "\n",
      "[0.76875    0.77987421 0.86163522 0.83647799 0.9245283 ]\n",
      "0.8342531446540882\n",
      "Difference between Accuracy score  and cross validation score is -  0.05696024446725079\n"
     ]
    }
   ],
   "source": [
    "print('ExtraTreesClassifier ')\n",
    "print('\\n')\n",
    "score=cross_val_score(Rnd, x, y)\n",
    "print(score)\n",
    "print(score.mean())\n",
    "print('Difference between Accuracy score  and cross validation score is - ', accuracy_score(y_test,predRnd)- score.mean())"
   ]
  },
  {
   "cell_type": "code",
   "execution_count": 116,
   "id": "f3fb8916",
   "metadata": {},
   "outputs": [
    {
     "name": "stdout",
     "output_type": "stream",
     "text": [
      "RandomForestClassifier \n",
      "\n",
      "\n",
      "[0.75625    0.75471698 0.83647799 0.8490566  0.93081761]\n",
      "0.8254638364779874\n",
      "Difference between Accuracy score  and cross validation score is -  0.06574955264335158\n"
     ]
    }
   ],
   "source": [
    "print('RandomForestClassifier ')\n",
    "print('\\n')\n",
    "score=cross_val_score(Rnd, x, y)\n",
    "print(score)\n",
    "print(score.mean())\n",
    "print('Difference between Accuracy score  and cross validation score is - ', accuracy_score(y_test,predRnd)- score.mean())"
   ]
  },
  {
   "cell_type": "code",
   "execution_count": 117,
   "id": "fadb0cf7",
   "metadata": {},
   "outputs": [
    {
     "name": "stdout",
     "output_type": "stream",
     "text": [
      "SVC \n",
      "\n",
      "\n",
      "[0.69375    0.73584906 0.78616352 0.82389937 0.79874214]\n",
      "0.7676808176100629\n",
      "Difference between Accuracy score  and cross validation score is -  0.035666462724665116\n"
     ]
    }
   ],
   "source": [
    "print('SVC ')\n",
    "print('\\n')\n",
    "score=cross_val_score(svc, x, y)\n",
    "print(score)\n",
    "print(score.mean())\n",
    "print('Difference between Accuracy score  and cross validation score is - ', accuracy_score(y_test,predsvc)- score.mean())"
   ]
  },
  {
   "cell_type": "code",
   "execution_count": 118,
   "id": "93a7b7d2",
   "metadata": {},
   "outputs": [
    {
     "name": "stdout",
     "output_type": "stream",
     "text": [
      "GradientBoostingClassifier \n",
      "\n",
      "\n",
      "[0.70625    0.74213836 0.81761006 0.81761006 0.86163522]\n",
      "0.789048742138365\n",
      "Difference between Accuracy score  and cross validation score is -  0.06032364279887359\n"
     ]
    }
   ],
   "source": [
    "print('GradientBoostingClassifier ')\n",
    "print('\\n')\n",
    "score=cross_val_score(gbc, x, y)\n",
    "print(score)\n",
    "print(score.mean())\n",
    "print('Difference between Accuracy score  and cross validation score is - ', accuracy_score(y_test,predgbc)- score.mean())"
   ]
  },
  {
   "cell_type": "code",
   "execution_count": 119,
   "id": "b3cb1653",
   "metadata": {},
   "outputs": [
    {
     "name": "stdout",
     "output_type": "stream",
     "text": [
      "AdaBoostClassifier \n",
      "\n",
      "\n",
      "[0.69375    0.71698113 0.79874214 0.79245283 0.80503145]\n",
      "0.7613915094339623\n",
      "Difference between Accuracy score  and cross validation score is -  0.008482967553485432\n"
     ]
    }
   ],
   "source": [
    "print('AdaBoostClassifier ')\n",
    "print('\\n')\n",
    "score=cross_val_score(adaboost, x, y)\n",
    "print(score)\n",
    "print(score.mean())\n",
    "print('Difference between Accuracy score  and cross validation score is - ', accuracy_score(y_test,predadaboost)- score.mean())"
   ]
  },
  {
   "cell_type": "code",
   "execution_count": 120,
   "id": "4fc6f98a",
   "metadata": {},
   "outputs": [
    {
     "name": "stdout",
     "output_type": "stream",
     "text": [
      "BaggingClassifier \n",
      "\n",
      "\n",
      "[0.78125    0.72955975 0.86792453 0.81132075 0.82389937]\n",
      "0.8027908805031447\n",
      "Difference between Accuracy score  and cross validation score is -  0.06331790610773391\n"
     ]
    }
   ],
   "source": [
    "print('BaggingClassifier ')\n",
    "print('\\n')\n",
    "score=cross_val_score(bagging, x, y)\n",
    "print(score)\n",
    "print(score.mean())\n",
    "print('Difference between Accuracy score  and cross validation score is - ', accuracy_score(y_test,predbagging)- score.mean())"
   ]
  },
  {
   "cell_type": "markdown",
   "id": "341e2f60",
   "metadata": {},
   "source": [
    "#  RandomForestClassifier is giving 87 percent accuracy and \n",
    "# cross validation difference score mean is 4 per "
   ]
  },
  {
   "cell_type": "code",
   "execution_count": 121,
   "id": "fe5a0082",
   "metadata": {},
   "outputs": [
    {
     "data": {
      "text/plain": [
       "GridSearchCV(cv=5, estimator=RandomForestRegressor(),\n",
       "             param_grid={'max_depth': [None, 5, 10],\n",
       "                         'min_samples_leaf': [1, 2, 4],\n",
       "                         'min_samples_split': [2, 5, 10],\n",
       "                         'n_estimators': [50, 100, 150]})"
      ]
     },
     "execution_count": 121,
     "metadata": {},
     "output_type": "execute_result"
    }
   ],
   "source": [
    "from sklearn.model_selection import GridSearchCV\n",
    "param_grid = {\n",
    "    'n_estimators': [50, 100, 150],\n",
    "    'max_depth': [None, 5, 10],\n",
    "    'min_samples_split': [2, 5, 10],\n",
    "    'min_samples_leaf': [1, 2, 4],\n",
    "}\n",
    "\n",
    "gdsv = GridSearchCV(RandomForestRegressor(), param_grid, cv=5)\n",
    "gdsv.fit(x_train, y_train)"
   ]
  },
  {
   "cell_type": "code",
   "execution_count": 122,
   "id": "5e4a2744",
   "metadata": {},
   "outputs": [
    {
     "data": {
      "text/plain": [
       "{'max_depth': None,\n",
       " 'min_samples_leaf': 1,\n",
       " 'min_samples_split': 2,\n",
       " 'n_estimators': 100}"
      ]
     },
     "execution_count": 122,
     "metadata": {},
     "output_type": "execute_result"
    }
   ],
   "source": [
    "gdsv.best_params_"
   ]
  },
  {
   "cell_type": "code",
   "execution_count": 125,
   "id": "e906f71f",
   "metadata": {},
   "outputs": [
    {
     "name": "stdout",
     "output_type": "stream",
     "text": [
      "88.28451882845188\n"
     ]
    }
   ],
   "source": [
    "Final_model= RandomForestClassifier(max_depth=None,min_samples_leaf=1,min_samples_split=2,n_estimators=100)\n",
    "Final_model.fit(x_train, y_train)\n",
    "pred = Final_model.predict(x_test)\n",
    "acc= accuracy_score(y_test, pred)\n",
    "print(acc*100)"
   ]
  },
  {
   "cell_type": "code",
   "execution_count": 131,
   "id": "9b63bd7d",
   "metadata": {},
   "outputs": [],
   "source": [
    "from sklearn.metrics import classification_report\n",
    "from sklearn.metrics import accuracy_score,confusion_matrix,roc_curve,roc_auc_score\n"
   ]
  },
  {
   "cell_type": "code",
   "execution_count": 132,
   "id": "387781cd",
   "metadata": {},
   "outputs": [
    {
     "name": "stdout",
     "output_type": "stream",
     "text": [
      "              precision    recall  f1-score   support\n",
      "\n",
      "           0       0.45      0.44      0.44       110\n",
      "           1       0.53      0.54      0.54       129\n",
      "\n",
      "    accuracy                           0.49       239\n",
      "   macro avg       0.49      0.49      0.49       239\n",
      "weighted avg       0.49      0.49      0.49       239\n",
      "\n"
     ]
    }
   ],
   "source": [
    "print(classification_report(y_test,y_pred))   # support means sample to x_test "
   ]
  },
  {
   "cell_type": "code",
   "execution_count": 134,
   "id": "8e001ef2",
   "metadata": {},
   "outputs": [],
   "source": [
    "fpr,tpr,threshold=roc_curve(y_test,y_pred)"
   ]
  },
  {
   "cell_type": "code",
   "execution_count": 135,
   "id": "f4693cb3",
   "metadata": {},
   "outputs": [
    {
     "name": "stdout",
     "output_type": "stream",
     "text": [
      "threshold [2 1 0]\n",
      "False possitive rate [0.         0.56363636 1.        ]\n",
      "True possitive rate [0.         0.54263566 1.        ]\n"
     ]
    }
   ],
   "source": [
    "print('threshold',threshold)\n",
    "print('False possitive rate',fpr)\n",
    "print('True possitive rate',tpr)"
   ]
  },
  {
   "cell_type": "code",
   "execution_count": 136,
   "id": "153a8873",
   "metadata": {},
   "outputs": [
    {
     "data": {
      "image/png": "[encoded data removed]",
      "text/plain": [
       "<Figure size 432x288 with 1 Axes>"
      ]
     },
     "metadata": {
      "needs_background": "light"
     },
     "output_type": "display_data"
    }
   ],
   "source": [
    "plt.plot(fpr,tpr, color='red', label='Roc')\n",
    "plt.plot([0,1],[0,1], color='blue', linestyle='--')\n",
    "plt.xlabel('False possitive rate')\n",
    "plt.ylabel('true possitive rate')\n",
    "plt.title('receiver operating characteristic (roc) curve')\n",
    "plt.legend()\n",
    "plt.show()"
   ]
  },
  {
   "cell_type": "code",
   "execution_count": 137,
   "id": "d53153f5",
   "metadata": {},
   "outputs": [
    {
     "data": {
      "text/plain": [
       "0.4894996476391825"
      ]
     },
     "execution_count": 137,
     "metadata": {},
     "output_type": "execute_result"
    }
   ],
   "source": [
    "# how  much area auc curve covered\n",
    "auc_score=roc_auc_score(y_test,y_pred)\n",
    "auc_score"
   ]
  },
  {
   "cell_type": "code",
   "execution_count": null,
   "id": "2c2ffbb5",
   "metadata": {},
   "outputs": [],
   "source": []
  }
 ],
 "metadata": {
  "kernelspec": {
   "display_name": "Python 3 (ipykernel)",
   "language": "python",
   "name": "python3"
  },
  "language_info": {
   "codemirror_mode": {
    "name": "ipython",
    "version": 3
   },
   "file_extension": ".py",
   "mimetype": "text/x-python",
   "name": "python",
   "nbconvert_exporter": "python",
   "pygments_lexer": "ipython3",
   "version": "3.9.12"
  }
 },
 "nbformat": 4,
 "nbformat_minor": 5
}
