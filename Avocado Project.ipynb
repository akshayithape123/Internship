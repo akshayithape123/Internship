{
 "cells": [
  {
   "cell_type": "markdown",
   "id": "9f130528",
   "metadata": {},
   "source": [
    "# Avocado Project\n",
    "\n",
    "# Project Description\n",
    "This data was downloaded from the Hass Avocado Board website in May of 2018 & compiled into a single CSV. \n",
    "The table below represents weekly 2018 retail scan data for National retail volume (units) and price. Retail scan data comes directly from retailers’ cash registers based on actual retail sales of Hass avocados. \n",
    "Starting in 2013, the table below reflects an expanded, multi-outlet retail data set. Multi-outlet reporting includes an aggregation of the following channels: grocery, mass, club, drug, dollar and military. The Average Price (of avocados) in the table reflects a per unit (per avocado) cost, even when multiple units (avocados) are sold in bags. \n",
    "The Product Lookup codes (PLU’s) in the table are only for Hass avocados. Other varieties of avocados (e.g. greenskins) are not included in this table.\n",
    "\n",
    "# Some relevant columns in the dataset:\n",
    "•\tDate - The date of the observation\n",
    "\n",
    "•\tAveragePrice - the average price of a single avocado\n",
    "\n",
    "•\ttype - conventional or organic\n",
    "\n",
    "•\tyear - the year\n",
    "\n",
    "•\tRegion - the city or region of the observation\n",
    "\n",
    "•\tTotal Volume - Total number of avocados sold\n",
    "\n",
    "•\t4046 - Total number of avocados with PLU 4046 sold\n",
    "\n",
    "•\t4225 - Total number of avocados with PLU 4225 sold\n",
    "\n",
    "•\t4770 - Total number of avocados with PLU 4770 sold\n",
    "\n",
    "# Inspiration /Label \n",
    "# The dataset can be seen in two angles to find the region and find the average price .\n",
    "\n",
    "# Task: One of Classification and other of Regression\n",
    "\n",
    "# Do both tasks in the same .ipynb file and submit at single file. \n"
   ]
  },
  {
   "cell_type": "code",
   "execution_count": 1,
   "id": "4374c858",
   "metadata": {},
   "outputs": [],
   "source": [
    "import numpy as np\n",
    "import pandas as pd\n",
    "import matplotlib.pyplot as plt\n",
    "import seaborn as sns\n",
    "import warnings\n",
    "warnings.filterwarnings('ignore')"
   ]
  },
  {
   "cell_type": "code",
   "execution_count": 2,
   "id": "397f39ea",
   "metadata": {},
   "outputs": [
    {
     "data": {
      "text/html": [
       "<div>\n",
       "<style scoped>\n",
       "    .dataframe tbody tr th:only-of-type {\n",
       "        vertical-align: middle;\n",
       "    }\n",
       "\n",
       "    .dataframe tbody tr th {\n",
       "        vertical-align: top;\n",
       "    }\n",
       "\n",
       "    .dataframe thead th {\n",
       "        text-align: right;\n",
       "    }\n",
       "</style>\n",
       "<table border=\"1\" class=\"dataframe\">\n",
       "  <thead>\n",
       "    <tr style=\"text-align: right;\">\n",
       "      <th></th>\n",
       "      <th>Unnamed: 0</th>\n",
       "      <th>Date</th>\n",
       "      <th>AveragePrice</th>\n",
       "      <th>Total Volume</th>\n",
       "      <th>4046</th>\n",
       "      <th>4225</th>\n",
       "      <th>4770</th>\n",
       "      <th>Total Bags</th>\n",
       "      <th>Small Bags</th>\n",
       "      <th>Large Bags</th>\n",
       "      <th>XLarge Bags</th>\n",
       "      <th>type</th>\n",
       "      <th>year</th>\n",
       "      <th>region</th>\n",
       "    </tr>\n",
       "  </thead>\n",
       "  <tbody>\n",
       "    <tr>\n",
       "      <th>0</th>\n",
       "      <td>0</td>\n",
       "      <td>27-12-2015</td>\n",
       "      <td>1.33</td>\n",
       "      <td>64236.62</td>\n",
       "      <td>1036.74</td>\n",
       "      <td>54454.85</td>\n",
       "      <td>48.16</td>\n",
       "      <td>8696.87</td>\n",
       "      <td>8603.62</td>\n",
       "      <td>93.25</td>\n",
       "      <td>0.0</td>\n",
       "      <td>conventional</td>\n",
       "      <td>2015</td>\n",
       "      <td>Albany</td>\n",
       "    </tr>\n",
       "    <tr>\n",
       "      <th>1</th>\n",
       "      <td>1</td>\n",
       "      <td>20-12-2015</td>\n",
       "      <td>1.35</td>\n",
       "      <td>54876.98</td>\n",
       "      <td>674.28</td>\n",
       "      <td>44638.81</td>\n",
       "      <td>58.33</td>\n",
       "      <td>9505.56</td>\n",
       "      <td>9408.07</td>\n",
       "      <td>97.49</td>\n",
       "      <td>0.0</td>\n",
       "      <td>conventional</td>\n",
       "      <td>2015</td>\n",
       "      <td>Albany</td>\n",
       "    </tr>\n",
       "    <tr>\n",
       "      <th>2</th>\n",
       "      <td>2</td>\n",
       "      <td>13-12-2015</td>\n",
       "      <td>0.93</td>\n",
       "      <td>118220.22</td>\n",
       "      <td>794.70</td>\n",
       "      <td>109149.67</td>\n",
       "      <td>130.50</td>\n",
       "      <td>8145.35</td>\n",
       "      <td>8042.21</td>\n",
       "      <td>103.14</td>\n",
       "      <td>0.0</td>\n",
       "      <td>conventional</td>\n",
       "      <td>2015</td>\n",
       "      <td>Albany</td>\n",
       "    </tr>\n",
       "    <tr>\n",
       "      <th>3</th>\n",
       "      <td>3</td>\n",
       "      <td>06-12-2015</td>\n",
       "      <td>1.08</td>\n",
       "      <td>78992.15</td>\n",
       "      <td>1132.00</td>\n",
       "      <td>71976.41</td>\n",
       "      <td>72.58</td>\n",
       "      <td>5811.16</td>\n",
       "      <td>5677.40</td>\n",
       "      <td>133.76</td>\n",
       "      <td>0.0</td>\n",
       "      <td>conventional</td>\n",
       "      <td>2015</td>\n",
       "      <td>Albany</td>\n",
       "    </tr>\n",
       "    <tr>\n",
       "      <th>4</th>\n",
       "      <td>4</td>\n",
       "      <td>29-11-2015</td>\n",
       "      <td>1.28</td>\n",
       "      <td>51039.60</td>\n",
       "      <td>941.48</td>\n",
       "      <td>43838.39</td>\n",
       "      <td>75.78</td>\n",
       "      <td>6183.95</td>\n",
       "      <td>5986.26</td>\n",
       "      <td>197.69</td>\n",
       "      <td>0.0</td>\n",
       "      <td>conventional</td>\n",
       "      <td>2015</td>\n",
       "      <td>Albany</td>\n",
       "    </tr>\n",
       "    <tr>\n",
       "      <th>...</th>\n",
       "      <td>...</td>\n",
       "      <td>...</td>\n",
       "      <td>...</td>\n",
       "      <td>...</td>\n",
       "      <td>...</td>\n",
       "      <td>...</td>\n",
       "      <td>...</td>\n",
       "      <td>...</td>\n",
       "      <td>...</td>\n",
       "      <td>...</td>\n",
       "      <td>...</td>\n",
       "      <td>...</td>\n",
       "      <td>...</td>\n",
       "      <td>...</td>\n",
       "    </tr>\n",
       "    <tr>\n",
       "      <th>18244</th>\n",
       "      <td>7</td>\n",
       "      <td>04-02-2018</td>\n",
       "      <td>1.63</td>\n",
       "      <td>17074.83</td>\n",
       "      <td>2046.96</td>\n",
       "      <td>1529.20</td>\n",
       "      <td>0.00</td>\n",
       "      <td>13498.67</td>\n",
       "      <td>13066.82</td>\n",
       "      <td>431.85</td>\n",
       "      <td>0.0</td>\n",
       "      <td>organic</td>\n",
       "      <td>2018</td>\n",
       "      <td>WestTexNewMexico</td>\n",
       "    </tr>\n",
       "    <tr>\n",
       "      <th>18245</th>\n",
       "      <td>8</td>\n",
       "      <td>28-01-2018</td>\n",
       "      <td>1.71</td>\n",
       "      <td>13888.04</td>\n",
       "      <td>1191.70</td>\n",
       "      <td>3431.50</td>\n",
       "      <td>0.00</td>\n",
       "      <td>9264.84</td>\n",
       "      <td>8940.04</td>\n",
       "      <td>324.80</td>\n",
       "      <td>0.0</td>\n",
       "      <td>organic</td>\n",
       "      <td>2018</td>\n",
       "      <td>WestTexNewMexico</td>\n",
       "    </tr>\n",
       "    <tr>\n",
       "      <th>18246</th>\n",
       "      <td>9</td>\n",
       "      <td>21-01-2018</td>\n",
       "      <td>1.87</td>\n",
       "      <td>13766.76</td>\n",
       "      <td>1191.92</td>\n",
       "      <td>2452.79</td>\n",
       "      <td>727.94</td>\n",
       "      <td>9394.11</td>\n",
       "      <td>9351.80</td>\n",
       "      <td>42.31</td>\n",
       "      <td>0.0</td>\n",
       "      <td>organic</td>\n",
       "      <td>2018</td>\n",
       "      <td>WestTexNewMexico</td>\n",
       "    </tr>\n",
       "    <tr>\n",
       "      <th>18247</th>\n",
       "      <td>10</td>\n",
       "      <td>14-01-2018</td>\n",
       "      <td>1.93</td>\n",
       "      <td>16205.22</td>\n",
       "      <td>1527.63</td>\n",
       "      <td>2981.04</td>\n",
       "      <td>727.01</td>\n",
       "      <td>10969.54</td>\n",
       "      <td>10919.54</td>\n",
       "      <td>50.00</td>\n",
       "      <td>0.0</td>\n",
       "      <td>organic</td>\n",
       "      <td>2018</td>\n",
       "      <td>WestTexNewMexico</td>\n",
       "    </tr>\n",
       "    <tr>\n",
       "      <th>18248</th>\n",
       "      <td>11</td>\n",
       "      <td>07-01-2018</td>\n",
       "      <td>1.62</td>\n",
       "      <td>17489.58</td>\n",
       "      <td>2894.77</td>\n",
       "      <td>2356.13</td>\n",
       "      <td>224.53</td>\n",
       "      <td>12014.15</td>\n",
       "      <td>11988.14</td>\n",
       "      <td>26.01</td>\n",
       "      <td>0.0</td>\n",
       "      <td>organic</td>\n",
       "      <td>2018</td>\n",
       "      <td>WestTexNewMexico</td>\n",
       "    </tr>\n",
       "  </tbody>\n",
       "</table>\n",
       "<p>18249 rows × 14 columns</p>\n",
       "</div>"
      ],
      "text/plain": [
       "       Unnamed: 0        Date  AveragePrice  Total Volume     4046       4225  \\\n",
       "0               0  27-12-2015          1.33      64236.62  1036.74   54454.85   \n",
       "1               1  20-12-2015          1.35      54876.98   674.28   44638.81   \n",
       "2               2  13-12-2015          0.93     118220.22   794.70  109149.67   \n",
       "3               3  06-12-2015          1.08      78992.15  1132.00   71976.41   \n",
       "4               4  29-11-2015          1.28      51039.60   941.48   43838.39   \n",
       "...           ...         ...           ...           ...      ...        ...   \n",
       "18244           7  04-02-2018          1.63      17074.83  2046.96    1529.20   \n",
       "18245           8  28-01-2018          1.71      13888.04  1191.70    3431.50   \n",
       "18246           9  21-01-2018          1.87      13766.76  1191.92    2452.79   \n",
       "18247          10  14-01-2018          1.93      16205.22  1527.63    2981.04   \n",
       "18248          11  07-01-2018          1.62      17489.58  2894.77    2356.13   \n",
       "\n",
       "         4770  Total Bags  Small Bags  Large Bags  XLarge Bags          type  \\\n",
       "0       48.16     8696.87     8603.62       93.25          0.0  conventional   \n",
       "1       58.33     9505.56     9408.07       97.49          0.0  conventional   \n",
       "2      130.50     8145.35     8042.21      103.14          0.0  conventional   \n",
       "3       72.58     5811.16     5677.40      133.76          0.0  conventional   \n",
       "4       75.78     6183.95     5986.26      197.69          0.0  conventional   \n",
       "...       ...         ...         ...         ...          ...           ...   \n",
       "18244    0.00    13498.67    13066.82      431.85          0.0       organic   \n",
       "18245    0.00     9264.84     8940.04      324.80          0.0       organic   \n",
       "18246  727.94     9394.11     9351.80       42.31          0.0       organic   \n",
       "18247  727.01    10969.54    10919.54       50.00          0.0       organic   \n",
       "18248  224.53    12014.15    11988.14       26.01          0.0       organic   \n",
       "\n",
       "       year            region  \n",
       "0      2015            Albany  \n",
       "1      2015            Albany  \n",
       "2      2015            Albany  \n",
       "3      2015            Albany  \n",
       "4      2015            Albany  \n",
       "...     ...               ...  \n",
       "18244  2018  WestTexNewMexico  \n",
       "18245  2018  WestTexNewMexico  \n",
       "18246  2018  WestTexNewMexico  \n",
       "18247  2018  WestTexNewMexico  \n",
       "18248  2018  WestTexNewMexico  \n",
       "\n",
       "[18249 rows x 14 columns]"
      ]
     },
     "execution_count": 2,
     "metadata": {},
     "output_type": "execute_result"
    }
   ],
   "source": [
    "df=pd.read_csv('C:/Users/Admin/Desktop/Data_science_ project/avocado.csv')\n",
    "df"
   ]
  },
  {
   "cell_type": "markdown",
   "id": "0923af3c",
   "metadata": {},
   "source": [
    "#  In this dataset   two labels in \n",
    "\n",
    "1 Average Price = linear regression promblem\n",
    "\n",
    "2 region classification promblem"
   ]
  },
  {
   "cell_type": "code",
   "execution_count": 3,
   "id": "9b48b1a4",
   "metadata": {
    "scrolled": false
   },
   "outputs": [
    {
     "data": {
      "text/html": [
       "<div>\n",
       "<style scoped>\n",
       "    .dataframe tbody tr th:only-of-type {\n",
       "        vertical-align: middle;\n",
       "    }\n",
       "\n",
       "    .dataframe tbody tr th {\n",
       "        vertical-align: top;\n",
       "    }\n",
       "\n",
       "    .dataframe thead th {\n",
       "        text-align: right;\n",
       "    }\n",
       "</style>\n",
       "<table border=\"1\" class=\"dataframe\">\n",
       "  <thead>\n",
       "    <tr style=\"text-align: right;\">\n",
       "      <th></th>\n",
       "      <th>Unnamed: 0</th>\n",
       "      <th>Date</th>\n",
       "      <th>AveragePrice</th>\n",
       "      <th>Total Volume</th>\n",
       "      <th>4046</th>\n",
       "      <th>4225</th>\n",
       "      <th>4770</th>\n",
       "      <th>Total Bags</th>\n",
       "      <th>Small Bags</th>\n",
       "      <th>Large Bags</th>\n",
       "      <th>XLarge Bags</th>\n",
       "      <th>type</th>\n",
       "      <th>year</th>\n",
       "      <th>region</th>\n",
       "    </tr>\n",
       "  </thead>\n",
       "  <tbody>\n",
       "    <tr>\n",
       "      <th>6546</th>\n",
       "      <td>29</td>\n",
       "      <td>11-06-2017</td>\n",
       "      <td>1.75</td>\n",
       "      <td>296173.79</td>\n",
       "      <td>11601.99</td>\n",
       "      <td>218427.65</td>\n",
       "      <td>135.11</td>\n",
       "      <td>66009.04</td>\n",
       "      <td>62894.62</td>\n",
       "      <td>6.09</td>\n",
       "      <td>3108.33</td>\n",
       "      <td>conventional</td>\n",
       "      <td>2017</td>\n",
       "      <td>HartfordSpringfield</td>\n",
       "    </tr>\n",
       "    <tr>\n",
       "      <th>6877</th>\n",
       "      <td>42</td>\n",
       "      <td>12-03-2017</td>\n",
       "      <td>1.18</td>\n",
       "      <td>85005.19</td>\n",
       "      <td>2122.02</td>\n",
       "      <td>42103.02</td>\n",
       "      <td>159.61</td>\n",
       "      <td>40620.54</td>\n",
       "      <td>14085.25</td>\n",
       "      <td>26520.40</td>\n",
       "      <td>14.89</td>\n",
       "      <td>conventional</td>\n",
       "      <td>2017</td>\n",
       "      <td>Louisville</td>\n",
       "    </tr>\n",
       "    <tr>\n",
       "      <th>14885</th>\n",
       "      <td>38</td>\n",
       "      <td>09-04-2017</td>\n",
       "      <td>1.89</td>\n",
       "      <td>19114.94</td>\n",
       "      <td>854.07</td>\n",
       "      <td>10375.80</td>\n",
       "      <td>269.66</td>\n",
       "      <td>7615.41</td>\n",
       "      <td>7604.51</td>\n",
       "      <td>10.90</td>\n",
       "      <td>0.00</td>\n",
       "      <td>organic</td>\n",
       "      <td>2017</td>\n",
       "      <td>BaltimoreWashington</td>\n",
       "    </tr>\n",
       "    <tr>\n",
       "      <th>2062</th>\n",
       "      <td>34</td>\n",
       "      <td>03-05-2015</td>\n",
       "      <td>1.03</td>\n",
       "      <td>147690.42</td>\n",
       "      <td>54015.48</td>\n",
       "      <td>60973.26</td>\n",
       "      <td>120.87</td>\n",
       "      <td>32580.81</td>\n",
       "      <td>32327.48</td>\n",
       "      <td>253.33</td>\n",
       "      <td>0.00</td>\n",
       "      <td>conventional</td>\n",
       "      <td>2015</td>\n",
       "      <td>Roanoke</td>\n",
       "    </tr>\n",
       "    <tr>\n",
       "      <th>682</th>\n",
       "      <td>6</td>\n",
       "      <td>15-11-2015</td>\n",
       "      <td>1.10</td>\n",
       "      <td>248933.35</td>\n",
       "      <td>88132.72</td>\n",
       "      <td>35472.80</td>\n",
       "      <td>52490.90</td>\n",
       "      <td>72836.93</td>\n",
       "      <td>65345.24</td>\n",
       "      <td>1141.32</td>\n",
       "      <td>6350.37</td>\n",
       "      <td>conventional</td>\n",
       "      <td>2015</td>\n",
       "      <td>Detroit</td>\n",
       "    </tr>\n",
       "    <tr>\n",
       "      <th>16155</th>\n",
       "      <td>36</td>\n",
       "      <td>23-04-2017</td>\n",
       "      <td>1.43</td>\n",
       "      <td>7063.97</td>\n",
       "      <td>582.27</td>\n",
       "      <td>3204.62</td>\n",
       "      <td>0.00</td>\n",
       "      <td>3277.08</td>\n",
       "      <td>157.88</td>\n",
       "      <td>3119.20</td>\n",
       "      <td>0.00</td>\n",
       "      <td>organic</td>\n",
       "      <td>2017</td>\n",
       "      <td>Nashville</td>\n",
       "    </tr>\n",
       "    <tr>\n",
       "      <th>13000</th>\n",
       "      <td>27</td>\n",
       "      <td>19-06-2016</td>\n",
       "      <td>1.71</td>\n",
       "      <td>3747.81</td>\n",
       "      <td>2375.35</td>\n",
       "      <td>118.56</td>\n",
       "      <td>20.57</td>\n",
       "      <td>1233.33</td>\n",
       "      <td>1233.33</td>\n",
       "      <td>0.00</td>\n",
       "      <td>0.00</td>\n",
       "      <td>organic</td>\n",
       "      <td>2016</td>\n",
       "      <td>Jacksonville</td>\n",
       "    </tr>\n",
       "    <tr>\n",
       "      <th>12765</th>\n",
       "      <td>0</td>\n",
       "      <td>25-12-2016</td>\n",
       "      <td>1.81</td>\n",
       "      <td>8656.11</td>\n",
       "      <td>257.75</td>\n",
       "      <td>163.34</td>\n",
       "      <td>19.81</td>\n",
       "      <td>8215.21</td>\n",
       "      <td>8215.21</td>\n",
       "      <td>0.00</td>\n",
       "      <td>0.00</td>\n",
       "      <td>organic</td>\n",
       "      <td>2016</td>\n",
       "      <td>HarrisburgScranton</td>\n",
       "    </tr>\n",
       "    <tr>\n",
       "      <th>15800</th>\n",
       "      <td>52</td>\n",
       "      <td>01-01-2017</td>\n",
       "      <td>1.76</td>\n",
       "      <td>1956.00</td>\n",
       "      <td>147.29</td>\n",
       "      <td>1025.37</td>\n",
       "      <td>0.00</td>\n",
       "      <td>783.34</td>\n",
       "      <td>614.99</td>\n",
       "      <td>168.35</td>\n",
       "      <td>0.00</td>\n",
       "      <td>organic</td>\n",
       "      <td>2017</td>\n",
       "      <td>Indianapolis</td>\n",
       "    </tr>\n",
       "    <tr>\n",
       "      <th>206</th>\n",
       "      <td>50</td>\n",
       "      <td>11-01-2015</td>\n",
       "      <td>1.18</td>\n",
       "      <td>57355.52</td>\n",
       "      <td>38112.34</td>\n",
       "      <td>10997.54</td>\n",
       "      <td>3321.89</td>\n",
       "      <td>4923.75</td>\n",
       "      <td>3295.11</td>\n",
       "      <td>1628.64</td>\n",
       "      <td>0.00</td>\n",
       "      <td>conventional</td>\n",
       "      <td>2015</td>\n",
       "      <td>Boise</td>\n",
       "    </tr>\n",
       "  </tbody>\n",
       "</table>\n",
       "</div>"
      ],
      "text/plain": [
       "       Unnamed: 0        Date  AveragePrice  Total Volume      4046  \\\n",
       "6546           29  11-06-2017          1.75     296173.79  11601.99   \n",
       "6877           42  12-03-2017          1.18      85005.19   2122.02   \n",
       "14885          38  09-04-2017          1.89      19114.94    854.07   \n",
       "2062           34  03-05-2015          1.03     147690.42  54015.48   \n",
       "682             6  15-11-2015          1.10     248933.35  88132.72   \n",
       "16155          36  23-04-2017          1.43       7063.97    582.27   \n",
       "13000          27  19-06-2016          1.71       3747.81   2375.35   \n",
       "12765           0  25-12-2016          1.81       8656.11    257.75   \n",
       "15800          52  01-01-2017          1.76       1956.00    147.29   \n",
       "206            50  11-01-2015          1.18      57355.52  38112.34   \n",
       "\n",
       "            4225      4770  Total Bags  Small Bags  Large Bags  XLarge Bags  \\\n",
       "6546   218427.65    135.11    66009.04    62894.62        6.09      3108.33   \n",
       "6877    42103.02    159.61    40620.54    14085.25    26520.40        14.89   \n",
       "14885   10375.80    269.66     7615.41     7604.51       10.90         0.00   \n",
       "2062    60973.26    120.87    32580.81    32327.48      253.33         0.00   \n",
       "682     35472.80  52490.90    72836.93    65345.24     1141.32      6350.37   \n",
       "16155    3204.62      0.00     3277.08      157.88     3119.20         0.00   \n",
       "13000     118.56     20.57     1233.33     1233.33        0.00         0.00   \n",
       "12765     163.34     19.81     8215.21     8215.21        0.00         0.00   \n",
       "15800    1025.37      0.00      783.34      614.99      168.35         0.00   \n",
       "206     10997.54   3321.89     4923.75     3295.11     1628.64         0.00   \n",
       "\n",
       "               type  year               region  \n",
       "6546   conventional  2017  HartfordSpringfield  \n",
       "6877   conventional  2017           Louisville  \n",
       "14885       organic  2017  BaltimoreWashington  \n",
       "2062   conventional  2015              Roanoke  \n",
       "682    conventional  2015              Detroit  \n",
       "16155       organic  2017            Nashville  \n",
       "13000       organic  2016         Jacksonville  \n",
       "12765       organic  2016   HarrisburgScranton  \n",
       "15800       organic  2017         Indianapolis  \n",
       "206    conventional  2015                Boise  "
      ]
     },
     "execution_count": 3,
     "metadata": {},
     "output_type": "execute_result"
    }
   ],
   "source": [
    "df.sample(10)"
   ]
  },
  {
   "cell_type": "markdown",
   "id": "55d4343d",
   "metadata": {},
   "source": [
    "#  This is the Random no of the dataset\n",
    "\n",
    "we drop year column cause we have full date so its beneficial to drop year column\n",
    "\n"
   ]
  },
  {
   "cell_type": "code",
   "execution_count": 4,
   "id": "4e5e9cd5",
   "metadata": {},
   "outputs": [],
   "source": [
    "df.drop(columns='year',inplace=True,axis= 1)"
   ]
  },
  {
   "cell_type": "code",
   "execution_count": 5,
   "id": "0aca6184",
   "metadata": {},
   "outputs": [
    {
     "data": {
      "text/plain": [
       "Unnamed: 0      0\n",
       "Date            0\n",
       "AveragePrice    0\n",
       "Total Volume    0\n",
       "4046            0\n",
       "4225            0\n",
       "4770            0\n",
       "Total Bags      0\n",
       "Small Bags      0\n",
       "Large Bags      0\n",
       "XLarge Bags     0\n",
       "type            0\n",
       "region          0\n",
       "dtype: int64"
      ]
     },
     "execution_count": 5,
     "metadata": {},
     "output_type": "execute_result"
    }
   ],
   "source": [
    "df.isna().sum()"
   ]
  },
  {
   "cell_type": "markdown",
   "id": "24e86d2f",
   "metadata": {},
   "source": [
    "#  There is no null value present in the dataset"
   ]
  },
  {
   "cell_type": "code",
   "execution_count": 6,
   "id": "47237029",
   "metadata": {
    "scrolled": true
   },
   "outputs": [
    {
     "name": "stdout",
     "output_type": "stream",
     "text": [
      "<class 'pandas.core.frame.DataFrame'>\n",
      "RangeIndex: 18249 entries, 0 to 18248\n",
      "Data columns (total 13 columns):\n",
      " #   Column        Non-Null Count  Dtype  \n",
      "---  ------        --------------  -----  \n",
      " 0   Unnamed: 0    18249 non-null  int64  \n",
      " 1   Date          18249 non-null  object \n",
      " 2   AveragePrice  18249 non-null  float64\n",
      " 3   Total Volume  18249 non-null  float64\n",
      " 4   4046          18249 non-null  float64\n",
      " 5   4225          18249 non-null  float64\n",
      " 6   4770          18249 non-null  float64\n",
      " 7   Total Bags    18249 non-null  float64\n",
      " 8   Small Bags    18249 non-null  float64\n",
      " 9   Large Bags    18249 non-null  float64\n",
      " 10  XLarge Bags   18249 non-null  float64\n",
      " 11  type          18249 non-null  object \n",
      " 12  region        18249 non-null  object \n",
      "dtypes: float64(9), int64(1), object(3)\n",
      "memory usage: 1.8+ MB\n"
     ]
    }
   ],
   "source": [
    "df.info()"
   ]
  },
  {
   "cell_type": "markdown",
   "id": "430b96de",
   "metadata": {},
   "source": [
    "# \n",
    " we found date column object dtype we have to change dtype to datetime "
   ]
  },
  {
   "cell_type": "code",
   "execution_count": 7,
   "id": "f9c0a052",
   "metadata": {},
   "outputs": [],
   "source": [
    "df['Date'] = pd.to_datetime(df['Date'], format='%d-%m-%Y')\n"
   ]
  },
  {
   "cell_type": "code",
   "execution_count": 8,
   "id": "36ed0dc7",
   "metadata": {
    "scrolled": true
   },
   "outputs": [
    {
     "name": "stdout",
     "output_type": "stream",
     "text": [
      "<class 'pandas.core.frame.DataFrame'>\n",
      "RangeIndex: 18249 entries, 0 to 18248\n",
      "Data columns (total 13 columns):\n",
      " #   Column        Non-Null Count  Dtype         \n",
      "---  ------        --------------  -----         \n",
      " 0   Unnamed: 0    18249 non-null  int64         \n",
      " 1   Date          18249 non-null  datetime64[ns]\n",
      " 2   AveragePrice  18249 non-null  float64       \n",
      " 3   Total Volume  18249 non-null  float64       \n",
      " 4   4046          18249 non-null  float64       \n",
      " 5   4225          18249 non-null  float64       \n",
      " 6   4770          18249 non-null  float64       \n",
      " 7   Total Bags    18249 non-null  float64       \n",
      " 8   Small Bags    18249 non-null  float64       \n",
      " 9   Large Bags    18249 non-null  float64       \n",
      " 10  XLarge Bags   18249 non-null  float64       \n",
      " 11  type          18249 non-null  object        \n",
      " 12  region        18249 non-null  object        \n",
      "dtypes: datetime64[ns](1), float64(9), int64(1), object(2)\n",
      "memory usage: 1.8+ MB\n"
     ]
    }
   ],
   "source": [
    "df.info()"
   ]
  },
  {
   "cell_type": "code",
   "execution_count": 9,
   "id": "fa55529c",
   "metadata": {
    "scrolled": false
   },
   "outputs": [
    {
     "name": "stdout",
     "output_type": "stream",
     "text": [
      "0     432\n",
      "7     432\n",
      "1     432\n",
      "11    432\n",
      "9     432\n",
      "8     432\n",
      "10    432\n",
      "6     432\n",
      "5     432\n",
      "4     432\n",
      "3     432\n",
      "2     432\n",
      "41    324\n",
      "34    324\n",
      "35    324\n",
      "36    324\n",
      "37    324\n",
      "38    324\n",
      "39    324\n",
      "40    324\n",
      "47    324\n",
      "42    324\n",
      "43    324\n",
      "44    324\n",
      "45    324\n",
      "46    324\n",
      "32    324\n",
      "48    324\n",
      "49    324\n",
      "50    324\n",
      "33    324\n",
      "26    324\n",
      "31    324\n",
      "30    324\n",
      "12    324\n",
      "13    324\n",
      "14    324\n",
      "15    324\n",
      "16    324\n",
      "17    324\n",
      "18    324\n",
      "19    324\n",
      "20    324\n",
      "21    324\n",
      "22    324\n",
      "23    324\n",
      "24    324\n",
      "25    324\n",
      "27    324\n",
      "28    324\n",
      "29    324\n",
      "51    322\n",
      "52    107\n",
      "Name: Unnamed: 0, dtype: int64\n",
      "2015-12-27    108\n",
      "2017-12-24    108\n",
      "2017-12-10    108\n",
      "2017-12-03    108\n",
      "2017-11-26    108\n",
      "             ... \n",
      "2016-11-06    108\n",
      "2018-01-07    108\n",
      "2017-06-18    107\n",
      "2017-06-25    107\n",
      "2015-12-06    107\n",
      "Name: Date, Length: 169, dtype: int64\n",
      "1.15    202\n",
      "1.18    199\n",
      "1.08    194\n",
      "1.26    193\n",
      "1.13    192\n",
      "       ... \n",
      "3.25      1\n",
      "3.12      1\n",
      "2.68      1\n",
      "3.03      1\n",
      "3.17      1\n",
      "Name: AveragePrice, Length: 259, dtype: int64\n",
      "4103.97       2\n",
      "3529.44       2\n",
      "46602.16      2\n",
      "13234.04      2\n",
      "3713.49       2\n",
      "             ..\n",
      "874349.55     1\n",
      "1621253.97    1\n",
      "830499.38     1\n",
      "845065.66     1\n",
      "17489.58      1\n",
      "Name: Total Volume, Length: 18237, dtype: int64\n",
      "0.00       242\n",
      "3.00        10\n",
      "4.00         8\n",
      "1.24         8\n",
      "1.00         8\n",
      "          ... \n",
      "1486.31      1\n",
      "1761.80      1\n",
      "1772.26      1\n",
      "1803.39      1\n",
      "2894.77      1\n",
      "Name: 4046, Length: 17702, dtype: int64\n",
      "0.00         61\n",
      "177.87        3\n",
      "215.36        3\n",
      "1.30          3\n",
      "1.26          3\n",
      "             ..\n",
      "417905.67     1\n",
      "275986.91     1\n",
      "277789.30     1\n",
      "378155.00     1\n",
      "2356.13       1\n",
      "Name: 4225, Length: 18103, dtype: int64\n",
      "0.00      5497\n",
      "2.66         7\n",
      "3.32         7\n",
      "10.97        6\n",
      "1.59         6\n",
      "          ... \n",
      "547.08       1\n",
      "155.87       1\n",
      "72.01        1\n",
      "128.06       1\n",
      "224.53       1\n",
      "Name: 4770, Length: 12071, dtype: int64\n",
      "0.00         15\n",
      "990.00        5\n",
      "300.00        5\n",
      "550.00        4\n",
      "266.67        4\n",
      "             ..\n",
      "90196.05      1\n",
      "130858.02     1\n",
      "510679.10     1\n",
      "84522.00      1\n",
      "12014.15      1\n",
      "Name: Total Bags, Length: 18097, dtype: int64\n",
      "0.00        159\n",
      "203.33       11\n",
      "223.33       10\n",
      "533.33       10\n",
      "123.33        8\n",
      "           ... \n",
      "14002.00      1\n",
      "32441.00      1\n",
      "29560.96      1\n",
      "22077.20      1\n",
      "11988.14      1\n",
      "Name: Small Bags, Length: 17321, dtype: int64\n",
      "0.00          2370\n",
      "3.33           187\n",
      "6.67            78\n",
      "10.00           47\n",
      "4.44            38\n",
      "              ... \n",
      "2528089.14       1\n",
      "2287449.76       1\n",
      "731388.25        1\n",
      "673464.14        1\n",
      "26.01            1\n",
      "Name: Large Bags, Length: 15082, dtype: int64\n",
      "0.00       12048\n",
      "3.33          29\n",
      "6.67          16\n",
      "1.11          15\n",
      "5.00          12\n",
      "           ...  \n",
      "3018.05        1\n",
      "2739.44        1\n",
      "9301.67        1\n",
      "8640.00        1\n",
      "24.18          1\n",
      "Name: XLarge Bags, Length: 5588, dtype: int64\n",
      "conventional    9126\n",
      "organic         9123\n",
      "Name: type, dtype: int64\n",
      "Albany                 338\n",
      "Sacramento             338\n",
      "Northeast              338\n",
      "NorthernNewEngland     338\n",
      "Orlando                338\n",
      "Philadelphia           338\n",
      "PhoenixTucson          338\n",
      "Pittsburgh             338\n",
      "Plains                 338\n",
      "Portland               338\n",
      "RaleighGreensboro      338\n",
      "RichmondNorfolk        338\n",
      "Roanoke                338\n",
      "SanDiego               338\n",
      "Atlanta                338\n",
      "SanFrancisco           338\n",
      "Seattle                338\n",
      "SouthCarolina          338\n",
      "SouthCentral           338\n",
      "Southeast              338\n",
      "Spokane                338\n",
      "StLouis                338\n",
      "Syracuse               338\n",
      "Tampa                  338\n",
      "TotalUS                338\n",
      "West                   338\n",
      "NewYork                338\n",
      "NewOrleansMobile       338\n",
      "Nashville              338\n",
      "Midsouth               338\n",
      "BaltimoreWashington    338\n",
      "Boise                  338\n",
      "Boston                 338\n",
      "BuffaloRochester       338\n",
      "California             338\n",
      "Charlotte              338\n",
      "Chicago                338\n",
      "CincinnatiDayton       338\n",
      "Columbus               338\n",
      "DallasFtWorth          338\n",
      "Denver                 338\n",
      "Detroit                338\n",
      "GrandRapids            338\n",
      "GreatLakes             338\n",
      "HarrisburgScranton     338\n",
      "HartfordSpringfield    338\n",
      "Houston                338\n",
      "Indianapolis           338\n",
      "Jacksonville           338\n",
      "LasVegas               338\n",
      "LosAngeles             338\n",
      "Louisville             338\n",
      "MiamiFtLauderdale      338\n",
      "WestTexNewMexico       335\n",
      "Name: region, dtype: int64\n"
     ]
    }
   ],
   "source": [
    "for i in df.columns:\n",
    "    print(df[i].value_counts())"
   ]
  },
  {
   "cell_type": "code",
   "execution_count": 10,
   "id": "0dd3a3a9",
   "metadata": {},
   "outputs": [
    {
     "data": {
      "text/html": [
       "<div>\n",
       "<style scoped>\n",
       "    .dataframe tbody tr th:only-of-type {\n",
       "        vertical-align: middle;\n",
       "    }\n",
       "\n",
       "    .dataframe tbody tr th {\n",
       "        vertical-align: top;\n",
       "    }\n",
       "\n",
       "    .dataframe thead th {\n",
       "        text-align: right;\n",
       "    }\n",
       "</style>\n",
       "<table border=\"1\" class=\"dataframe\">\n",
       "  <thead>\n",
       "    <tr style=\"text-align: right;\">\n",
       "      <th></th>\n",
       "      <th>Unnamed: 0</th>\n",
       "      <th>AveragePrice</th>\n",
       "      <th>Total Volume</th>\n",
       "      <th>4046</th>\n",
       "      <th>4225</th>\n",
       "      <th>4770</th>\n",
       "      <th>Total Bags</th>\n",
       "      <th>Small Bags</th>\n",
       "      <th>Large Bags</th>\n",
       "      <th>XLarge Bags</th>\n",
       "    </tr>\n",
       "  </thead>\n",
       "  <tbody>\n",
       "    <tr>\n",
       "      <th>count</th>\n",
       "      <td>18249.000000</td>\n",
       "      <td>18249.000000</td>\n",
       "      <td>1.824900e+04</td>\n",
       "      <td>1.824900e+04</td>\n",
       "      <td>1.824900e+04</td>\n",
       "      <td>1.824900e+04</td>\n",
       "      <td>1.824900e+04</td>\n",
       "      <td>1.824900e+04</td>\n",
       "      <td>1.824900e+04</td>\n",
       "      <td>18249.000000</td>\n",
       "    </tr>\n",
       "    <tr>\n",
       "      <th>mean</th>\n",
       "      <td>24.232232</td>\n",
       "      <td>1.405978</td>\n",
       "      <td>8.506440e+05</td>\n",
       "      <td>2.930084e+05</td>\n",
       "      <td>2.951546e+05</td>\n",
       "      <td>2.283974e+04</td>\n",
       "      <td>2.396392e+05</td>\n",
       "      <td>1.821947e+05</td>\n",
       "      <td>5.433809e+04</td>\n",
       "      <td>3106.426507</td>\n",
       "    </tr>\n",
       "    <tr>\n",
       "      <th>std</th>\n",
       "      <td>15.481045</td>\n",
       "      <td>0.402677</td>\n",
       "      <td>3.453545e+06</td>\n",
       "      <td>1.264989e+06</td>\n",
       "      <td>1.204120e+06</td>\n",
       "      <td>1.074641e+05</td>\n",
       "      <td>9.862424e+05</td>\n",
       "      <td>7.461785e+05</td>\n",
       "      <td>2.439660e+05</td>\n",
       "      <td>17692.894652</td>\n",
       "    </tr>\n",
       "    <tr>\n",
       "      <th>min</th>\n",
       "      <td>0.000000</td>\n",
       "      <td>0.440000</td>\n",
       "      <td>8.456000e+01</td>\n",
       "      <td>0.000000e+00</td>\n",
       "      <td>0.000000e+00</td>\n",
       "      <td>0.000000e+00</td>\n",
       "      <td>0.000000e+00</td>\n",
       "      <td>0.000000e+00</td>\n",
       "      <td>0.000000e+00</td>\n",
       "      <td>0.000000</td>\n",
       "    </tr>\n",
       "    <tr>\n",
       "      <th>25%</th>\n",
       "      <td>10.000000</td>\n",
       "      <td>1.100000</td>\n",
       "      <td>1.083858e+04</td>\n",
       "      <td>8.540700e+02</td>\n",
       "      <td>3.008780e+03</td>\n",
       "      <td>0.000000e+00</td>\n",
       "      <td>5.088640e+03</td>\n",
       "      <td>2.849420e+03</td>\n",
       "      <td>1.274700e+02</td>\n",
       "      <td>0.000000</td>\n",
       "    </tr>\n",
       "    <tr>\n",
       "      <th>50%</th>\n",
       "      <td>24.000000</td>\n",
       "      <td>1.370000</td>\n",
       "      <td>1.073768e+05</td>\n",
       "      <td>8.645300e+03</td>\n",
       "      <td>2.906102e+04</td>\n",
       "      <td>1.849900e+02</td>\n",
       "      <td>3.974383e+04</td>\n",
       "      <td>2.636282e+04</td>\n",
       "      <td>2.647710e+03</td>\n",
       "      <td>0.000000</td>\n",
       "    </tr>\n",
       "    <tr>\n",
       "      <th>75%</th>\n",
       "      <td>38.000000</td>\n",
       "      <td>1.660000</td>\n",
       "      <td>4.329623e+05</td>\n",
       "      <td>1.110202e+05</td>\n",
       "      <td>1.502069e+05</td>\n",
       "      <td>6.243420e+03</td>\n",
       "      <td>1.107834e+05</td>\n",
       "      <td>8.333767e+04</td>\n",
       "      <td>2.202925e+04</td>\n",
       "      <td>132.500000</td>\n",
       "    </tr>\n",
       "    <tr>\n",
       "      <th>max</th>\n",
       "      <td>52.000000</td>\n",
       "      <td>3.250000</td>\n",
       "      <td>6.250565e+07</td>\n",
       "      <td>2.274362e+07</td>\n",
       "      <td>2.047057e+07</td>\n",
       "      <td>2.546439e+06</td>\n",
       "      <td>1.937313e+07</td>\n",
       "      <td>1.338459e+07</td>\n",
       "      <td>5.719097e+06</td>\n",
       "      <td>551693.650000</td>\n",
       "    </tr>\n",
       "  </tbody>\n",
       "</table>\n",
       "</div>"
      ],
      "text/plain": [
       "         Unnamed: 0  AveragePrice  Total Volume          4046          4225  \\\n",
       "count  18249.000000  18249.000000  1.824900e+04  1.824900e+04  1.824900e+04   \n",
       "mean      24.232232      1.405978  8.506440e+05  2.930084e+05  2.951546e+05   \n",
       "std       15.481045      0.402677  3.453545e+06  1.264989e+06  1.204120e+06   \n",
       "min        0.000000      0.440000  8.456000e+01  0.000000e+00  0.000000e+00   \n",
       "25%       10.000000      1.100000  1.083858e+04  8.540700e+02  3.008780e+03   \n",
       "50%       24.000000      1.370000  1.073768e+05  8.645300e+03  2.906102e+04   \n",
       "75%       38.000000      1.660000  4.329623e+05  1.110202e+05  1.502069e+05   \n",
       "max       52.000000      3.250000  6.250565e+07  2.274362e+07  2.047057e+07   \n",
       "\n",
       "               4770    Total Bags    Small Bags    Large Bags    XLarge Bags  \n",
       "count  1.824900e+04  1.824900e+04  1.824900e+04  1.824900e+04   18249.000000  \n",
       "mean   2.283974e+04  2.396392e+05  1.821947e+05  5.433809e+04    3106.426507  \n",
       "std    1.074641e+05  9.862424e+05  7.461785e+05  2.439660e+05   17692.894652  \n",
       "min    0.000000e+00  0.000000e+00  0.000000e+00  0.000000e+00       0.000000  \n",
       "25%    0.000000e+00  5.088640e+03  2.849420e+03  1.274700e+02       0.000000  \n",
       "50%    1.849900e+02  3.974383e+04  2.636282e+04  2.647710e+03       0.000000  \n",
       "75%    6.243420e+03  1.107834e+05  8.333767e+04  2.202925e+04     132.500000  \n",
       "max    2.546439e+06  1.937313e+07  1.338459e+07  5.719097e+06  551693.650000  "
      ]
     },
     "execution_count": 10,
     "metadata": {},
     "output_type": "execute_result"
    }
   ],
   "source": [
    "df.describe()"
   ]
  },
  {
   "cell_type": "markdown",
   "id": "685c87a7",
   "metadata": {},
   "source": [
    "# EDA"
   ]
  },
  {
   "cell_type": "code",
   "execution_count": 11,
   "id": "272a8b45",
   "metadata": {},
   "outputs": [
    {
     "data": {
      "text/html": [
       "<div>\n",
       "<style scoped>\n",
       "    .dataframe tbody tr th:only-of-type {\n",
       "        vertical-align: middle;\n",
       "    }\n",
       "\n",
       "    .dataframe tbody tr th {\n",
       "        vertical-align: top;\n",
       "    }\n",
       "\n",
       "    .dataframe thead th {\n",
       "        text-align: right;\n",
       "    }\n",
       "</style>\n",
       "<table border=\"1\" class=\"dataframe\">\n",
       "  <thead>\n",
       "    <tr style=\"text-align: right;\">\n",
       "      <th>type</th>\n",
       "      <th>conventional</th>\n",
       "      <th>organic</th>\n",
       "      <th>All</th>\n",
       "    </tr>\n",
       "    <tr>\n",
       "      <th>region</th>\n",
       "      <th></th>\n",
       "      <th></th>\n",
       "      <th></th>\n",
       "    </tr>\n",
       "  </thead>\n",
       "  <tbody>\n",
       "    <tr>\n",
       "      <th>Albany</th>\n",
       "      <td>169</td>\n",
       "      <td>169</td>\n",
       "      <td>338</td>\n",
       "    </tr>\n",
       "    <tr>\n",
       "      <th>Atlanta</th>\n",
       "      <td>169</td>\n",
       "      <td>169</td>\n",
       "      <td>338</td>\n",
       "    </tr>\n",
       "    <tr>\n",
       "      <th>BaltimoreWashington</th>\n",
       "      <td>169</td>\n",
       "      <td>169</td>\n",
       "      <td>338</td>\n",
       "    </tr>\n",
       "    <tr>\n",
       "      <th>Boise</th>\n",
       "      <td>169</td>\n",
       "      <td>169</td>\n",
       "      <td>338</td>\n",
       "    </tr>\n",
       "    <tr>\n",
       "      <th>Boston</th>\n",
       "      <td>169</td>\n",
       "      <td>169</td>\n",
       "      <td>338</td>\n",
       "    </tr>\n",
       "    <tr>\n",
       "      <th>BuffaloRochester</th>\n",
       "      <td>169</td>\n",
       "      <td>169</td>\n",
       "      <td>338</td>\n",
       "    </tr>\n",
       "    <tr>\n",
       "      <th>California</th>\n",
       "      <td>169</td>\n",
       "      <td>169</td>\n",
       "      <td>338</td>\n",
       "    </tr>\n",
       "    <tr>\n",
       "      <th>Charlotte</th>\n",
       "      <td>169</td>\n",
       "      <td>169</td>\n",
       "      <td>338</td>\n",
       "    </tr>\n",
       "    <tr>\n",
       "      <th>Chicago</th>\n",
       "      <td>169</td>\n",
       "      <td>169</td>\n",
       "      <td>338</td>\n",
       "    </tr>\n",
       "    <tr>\n",
       "      <th>CincinnatiDayton</th>\n",
       "      <td>169</td>\n",
       "      <td>169</td>\n",
       "      <td>338</td>\n",
       "    </tr>\n",
       "    <tr>\n",
       "      <th>Columbus</th>\n",
       "      <td>169</td>\n",
       "      <td>169</td>\n",
       "      <td>338</td>\n",
       "    </tr>\n",
       "    <tr>\n",
       "      <th>DallasFtWorth</th>\n",
       "      <td>169</td>\n",
       "      <td>169</td>\n",
       "      <td>338</td>\n",
       "    </tr>\n",
       "    <tr>\n",
       "      <th>Denver</th>\n",
       "      <td>169</td>\n",
       "      <td>169</td>\n",
       "      <td>338</td>\n",
       "    </tr>\n",
       "    <tr>\n",
       "      <th>Detroit</th>\n",
       "      <td>169</td>\n",
       "      <td>169</td>\n",
       "      <td>338</td>\n",
       "    </tr>\n",
       "    <tr>\n",
       "      <th>GrandRapids</th>\n",
       "      <td>169</td>\n",
       "      <td>169</td>\n",
       "      <td>338</td>\n",
       "    </tr>\n",
       "    <tr>\n",
       "      <th>GreatLakes</th>\n",
       "      <td>169</td>\n",
       "      <td>169</td>\n",
       "      <td>338</td>\n",
       "    </tr>\n",
       "    <tr>\n",
       "      <th>HarrisburgScranton</th>\n",
       "      <td>169</td>\n",
       "      <td>169</td>\n",
       "      <td>338</td>\n",
       "    </tr>\n",
       "    <tr>\n",
       "      <th>HartfordSpringfield</th>\n",
       "      <td>169</td>\n",
       "      <td>169</td>\n",
       "      <td>338</td>\n",
       "    </tr>\n",
       "    <tr>\n",
       "      <th>Houston</th>\n",
       "      <td>169</td>\n",
       "      <td>169</td>\n",
       "      <td>338</td>\n",
       "    </tr>\n",
       "    <tr>\n",
       "      <th>Indianapolis</th>\n",
       "      <td>169</td>\n",
       "      <td>169</td>\n",
       "      <td>338</td>\n",
       "    </tr>\n",
       "    <tr>\n",
       "      <th>Jacksonville</th>\n",
       "      <td>169</td>\n",
       "      <td>169</td>\n",
       "      <td>338</td>\n",
       "    </tr>\n",
       "    <tr>\n",
       "      <th>LasVegas</th>\n",
       "      <td>169</td>\n",
       "      <td>169</td>\n",
       "      <td>338</td>\n",
       "    </tr>\n",
       "    <tr>\n",
       "      <th>LosAngeles</th>\n",
       "      <td>169</td>\n",
       "      <td>169</td>\n",
       "      <td>338</td>\n",
       "    </tr>\n",
       "    <tr>\n",
       "      <th>Louisville</th>\n",
       "      <td>169</td>\n",
       "      <td>169</td>\n",
       "      <td>338</td>\n",
       "    </tr>\n",
       "    <tr>\n",
       "      <th>MiamiFtLauderdale</th>\n",
       "      <td>169</td>\n",
       "      <td>169</td>\n",
       "      <td>338</td>\n",
       "    </tr>\n",
       "    <tr>\n",
       "      <th>Midsouth</th>\n",
       "      <td>169</td>\n",
       "      <td>169</td>\n",
       "      <td>338</td>\n",
       "    </tr>\n",
       "    <tr>\n",
       "      <th>Nashville</th>\n",
       "      <td>169</td>\n",
       "      <td>169</td>\n",
       "      <td>338</td>\n",
       "    </tr>\n",
       "    <tr>\n",
       "      <th>NewOrleansMobile</th>\n",
       "      <td>169</td>\n",
       "      <td>169</td>\n",
       "      <td>338</td>\n",
       "    </tr>\n",
       "    <tr>\n",
       "      <th>NewYork</th>\n",
       "      <td>169</td>\n",
       "      <td>169</td>\n",
       "      <td>338</td>\n",
       "    </tr>\n",
       "    <tr>\n",
       "      <th>Northeast</th>\n",
       "      <td>169</td>\n",
       "      <td>169</td>\n",
       "      <td>338</td>\n",
       "    </tr>\n",
       "    <tr>\n",
       "      <th>NorthernNewEngland</th>\n",
       "      <td>169</td>\n",
       "      <td>169</td>\n",
       "      <td>338</td>\n",
       "    </tr>\n",
       "    <tr>\n",
       "      <th>Orlando</th>\n",
       "      <td>169</td>\n",
       "      <td>169</td>\n",
       "      <td>338</td>\n",
       "    </tr>\n",
       "    <tr>\n",
       "      <th>Philadelphia</th>\n",
       "      <td>169</td>\n",
       "      <td>169</td>\n",
       "      <td>338</td>\n",
       "    </tr>\n",
       "    <tr>\n",
       "      <th>PhoenixTucson</th>\n",
       "      <td>169</td>\n",
       "      <td>169</td>\n",
       "      <td>338</td>\n",
       "    </tr>\n",
       "    <tr>\n",
       "      <th>Pittsburgh</th>\n",
       "      <td>169</td>\n",
       "      <td>169</td>\n",
       "      <td>338</td>\n",
       "    </tr>\n",
       "    <tr>\n",
       "      <th>Plains</th>\n",
       "      <td>169</td>\n",
       "      <td>169</td>\n",
       "      <td>338</td>\n",
       "    </tr>\n",
       "    <tr>\n",
       "      <th>Portland</th>\n",
       "      <td>169</td>\n",
       "      <td>169</td>\n",
       "      <td>338</td>\n",
       "    </tr>\n",
       "    <tr>\n",
       "      <th>RaleighGreensboro</th>\n",
       "      <td>169</td>\n",
       "      <td>169</td>\n",
       "      <td>338</td>\n",
       "    </tr>\n",
       "    <tr>\n",
       "      <th>RichmondNorfolk</th>\n",
       "      <td>169</td>\n",
       "      <td>169</td>\n",
       "      <td>338</td>\n",
       "    </tr>\n",
       "    <tr>\n",
       "      <th>Roanoke</th>\n",
       "      <td>169</td>\n",
       "      <td>169</td>\n",
       "      <td>338</td>\n",
       "    </tr>\n",
       "    <tr>\n",
       "      <th>Sacramento</th>\n",
       "      <td>169</td>\n",
       "      <td>169</td>\n",
       "      <td>338</td>\n",
       "    </tr>\n",
       "    <tr>\n",
       "      <th>SanDiego</th>\n",
       "      <td>169</td>\n",
       "      <td>169</td>\n",
       "      <td>338</td>\n",
       "    </tr>\n",
       "    <tr>\n",
       "      <th>SanFrancisco</th>\n",
       "      <td>169</td>\n",
       "      <td>169</td>\n",
       "      <td>338</td>\n",
       "    </tr>\n",
       "    <tr>\n",
       "      <th>Seattle</th>\n",
       "      <td>169</td>\n",
       "      <td>169</td>\n",
       "      <td>338</td>\n",
       "    </tr>\n",
       "    <tr>\n",
       "      <th>SouthCarolina</th>\n",
       "      <td>169</td>\n",
       "      <td>169</td>\n",
       "      <td>338</td>\n",
       "    </tr>\n",
       "    <tr>\n",
       "      <th>SouthCentral</th>\n",
       "      <td>169</td>\n",
       "      <td>169</td>\n",
       "      <td>338</td>\n",
       "    </tr>\n",
       "    <tr>\n",
       "      <th>Southeast</th>\n",
       "      <td>169</td>\n",
       "      <td>169</td>\n",
       "      <td>338</td>\n",
       "    </tr>\n",
       "    <tr>\n",
       "      <th>Spokane</th>\n",
       "      <td>169</td>\n",
       "      <td>169</td>\n",
       "      <td>338</td>\n",
       "    </tr>\n",
       "    <tr>\n",
       "      <th>StLouis</th>\n",
       "      <td>169</td>\n",
       "      <td>169</td>\n",
       "      <td>338</td>\n",
       "    </tr>\n",
       "    <tr>\n",
       "      <th>Syracuse</th>\n",
       "      <td>169</td>\n",
       "      <td>169</td>\n",
       "      <td>338</td>\n",
       "    </tr>\n",
       "    <tr>\n",
       "      <th>Tampa</th>\n",
       "      <td>169</td>\n",
       "      <td>169</td>\n",
       "      <td>338</td>\n",
       "    </tr>\n",
       "    <tr>\n",
       "      <th>TotalUS</th>\n",
       "      <td>169</td>\n",
       "      <td>169</td>\n",
       "      <td>338</td>\n",
       "    </tr>\n",
       "    <tr>\n",
       "      <th>West</th>\n",
       "      <td>169</td>\n",
       "      <td>169</td>\n",
       "      <td>338</td>\n",
       "    </tr>\n",
       "    <tr>\n",
       "      <th>WestTexNewMexico</th>\n",
       "      <td>169</td>\n",
       "      <td>166</td>\n",
       "      <td>335</td>\n",
       "    </tr>\n",
       "    <tr>\n",
       "      <th>All</th>\n",
       "      <td>9126</td>\n",
       "      <td>9123</td>\n",
       "      <td>18249</td>\n",
       "    </tr>\n",
       "  </tbody>\n",
       "</table>\n",
       "</div>"
      ],
      "text/plain": [
       "type                 conventional  organic    All\n",
       "region                                           \n",
       "Albany                        169      169    338\n",
       "Atlanta                       169      169    338\n",
       "BaltimoreWashington           169      169    338\n",
       "Boise                         169      169    338\n",
       "Boston                        169      169    338\n",
       "BuffaloRochester              169      169    338\n",
       "California                    169      169    338\n",
       "Charlotte                     169      169    338\n",
       "Chicago                       169      169    338\n",
       "CincinnatiDayton              169      169    338\n",
       "Columbus                      169      169    338\n",
       "DallasFtWorth                 169      169    338\n",
       "Denver                        169      169    338\n",
       "Detroit                       169      169    338\n",
       "GrandRapids                   169      169    338\n",
       "GreatLakes                    169      169    338\n",
       "HarrisburgScranton            169      169    338\n",
       "HartfordSpringfield           169      169    338\n",
       "Houston                       169      169    338\n",
       "Indianapolis                  169      169    338\n",
       "Jacksonville                  169      169    338\n",
       "LasVegas                      169      169    338\n",
       "LosAngeles                    169      169    338\n",
       "Louisville                    169      169    338\n",
       "MiamiFtLauderdale             169      169    338\n",
       "Midsouth                      169      169    338\n",
       "Nashville                     169      169    338\n",
       "NewOrleansMobile              169      169    338\n",
       "NewYork                       169      169    338\n",
       "Northeast                     169      169    338\n",
       "NorthernNewEngland            169      169    338\n",
       "Orlando                       169      169    338\n",
       "Philadelphia                  169      169    338\n",
       "PhoenixTucson                 169      169    338\n",
       "Pittsburgh                    169      169    338\n",
       "Plains                        169      169    338\n",
       "Portland                      169      169    338\n",
       "RaleighGreensboro             169      169    338\n",
       "RichmondNorfolk               169      169    338\n",
       "Roanoke                       169      169    338\n",
       "Sacramento                    169      169    338\n",
       "SanDiego                      169      169    338\n",
       "SanFrancisco                  169      169    338\n",
       "Seattle                       169      169    338\n",
       "SouthCarolina                 169      169    338\n",
       "SouthCentral                  169      169    338\n",
       "Southeast                     169      169    338\n",
       "Spokane                       169      169    338\n",
       "StLouis                       169      169    338\n",
       "Syracuse                      169      169    338\n",
       "Tampa                         169      169    338\n",
       "TotalUS                       169      169    338\n",
       "West                          169      169    338\n",
       "WestTexNewMexico              169      166    335\n",
       "All                          9126     9123  18249"
      ]
     },
     "execution_count": 11,
     "metadata": {},
     "output_type": "execute_result"
    }
   ],
   "source": [
    "organic_avgprice =pd.crosstab(df['region'],df['type'],margins =True)\n",
    "organic_avgprice"
   ]
  },
  {
   "cell_type": "markdown",
   "id": "ccf13228",
   "metadata": {},
   "source": [
    "#  As per  the observation the type of avocado organic and conventional type of all region"
   ]
  },
  {
   "cell_type": "code",
   "execution_count": 12,
   "id": "e3548024",
   "metadata": {
    "scrolled": true
   },
   "outputs": [
    {
     "data": {
      "image/png": "[encoded data removed]",
      "text/plain": [
       "<Figure size 432x288 with 1 Axes>"
      ]
     },
     "metadata": {
      "needs_background": "light"
     },
     "output_type": "display_data"
    }
   ],
   "source": [
    "sns.histplot(data=df['AveragePrice'],bins=10)\n",
    "plt.show()"
   ]
  },
  {
   "cell_type": "markdown",
   "id": "a749261b",
   "metadata": {},
   "source": [
    "# avocado per piece avg price is 0.5 to 3.0"
   ]
  },
  {
   "cell_type": "code",
   "execution_count": 13,
   "id": "22c70db1",
   "metadata": {
    "scrolled": false
   },
   "outputs": [
    {
     "data": {
      "text/html": [
       "<div>\n",
       "<style scoped>\n",
       "    .dataframe tbody tr th:only-of-type {\n",
       "        vertical-align: middle;\n",
       "    }\n",
       "\n",
       "    .dataframe tbody tr th {\n",
       "        vertical-align: top;\n",
       "    }\n",
       "\n",
       "    .dataframe thead th {\n",
       "        text-align: right;\n",
       "    }\n",
       "</style>\n",
       "<table border=\"1\" class=\"dataframe\">\n",
       "  <thead>\n",
       "    <tr style=\"text-align: right;\">\n",
       "      <th>type</th>\n",
       "      <th>conventional</th>\n",
       "      <th>organic</th>\n",
       "      <th>All</th>\n",
       "    </tr>\n",
       "    <tr>\n",
       "      <th>Date</th>\n",
       "      <th></th>\n",
       "      <th></th>\n",
       "      <th></th>\n",
       "    </tr>\n",
       "  </thead>\n",
       "  <tbody>\n",
       "    <tr>\n",
       "      <th>2015-01-04 00:00:00</th>\n",
       "      <td>54</td>\n",
       "      <td>54</td>\n",
       "      <td>108</td>\n",
       "    </tr>\n",
       "    <tr>\n",
       "      <th>2015-01-11 00:00:00</th>\n",
       "      <td>54</td>\n",
       "      <td>54</td>\n",
       "      <td>108</td>\n",
       "    </tr>\n",
       "    <tr>\n",
       "      <th>2015-01-18 00:00:00</th>\n",
       "      <td>54</td>\n",
       "      <td>54</td>\n",
       "      <td>108</td>\n",
       "    </tr>\n",
       "    <tr>\n",
       "      <th>2015-01-25 00:00:00</th>\n",
       "      <td>54</td>\n",
       "      <td>54</td>\n",
       "      <td>108</td>\n",
       "    </tr>\n",
       "    <tr>\n",
       "      <th>2015-02-01 00:00:00</th>\n",
       "      <td>54</td>\n",
       "      <td>54</td>\n",
       "      <td>108</td>\n",
       "    </tr>\n",
       "    <tr>\n",
       "      <th>...</th>\n",
       "      <td>...</td>\n",
       "      <td>...</td>\n",
       "      <td>...</td>\n",
       "    </tr>\n",
       "    <tr>\n",
       "      <th>2018-03-04 00:00:00</th>\n",
       "      <td>54</td>\n",
       "      <td>54</td>\n",
       "      <td>108</td>\n",
       "    </tr>\n",
       "    <tr>\n",
       "      <th>2018-03-11 00:00:00</th>\n",
       "      <td>54</td>\n",
       "      <td>54</td>\n",
       "      <td>108</td>\n",
       "    </tr>\n",
       "    <tr>\n",
       "      <th>2018-03-18 00:00:00</th>\n",
       "      <td>54</td>\n",
       "      <td>54</td>\n",
       "      <td>108</td>\n",
       "    </tr>\n",
       "    <tr>\n",
       "      <th>2018-03-25 00:00:00</th>\n",
       "      <td>54</td>\n",
       "      <td>54</td>\n",
       "      <td>108</td>\n",
       "    </tr>\n",
       "    <tr>\n",
       "      <th>All</th>\n",
       "      <td>9126</td>\n",
       "      <td>9123</td>\n",
       "      <td>18249</td>\n",
       "    </tr>\n",
       "  </tbody>\n",
       "</table>\n",
       "<p>170 rows × 3 columns</p>\n",
       "</div>"
      ],
      "text/plain": [
       "type                 conventional  organic    All\n",
       "Date                                             \n",
       "2015-01-04 00:00:00            54       54    108\n",
       "2015-01-11 00:00:00            54       54    108\n",
       "2015-01-18 00:00:00            54       54    108\n",
       "2015-01-25 00:00:00            54       54    108\n",
       "2015-02-01 00:00:00            54       54    108\n",
       "...                           ...      ...    ...\n",
       "2018-03-04 00:00:00            54       54    108\n",
       "2018-03-11 00:00:00            54       54    108\n",
       "2018-03-18 00:00:00            54       54    108\n",
       "2018-03-25 00:00:00            54       54    108\n",
       "All                          9126     9123  18249\n",
       "\n",
       "[170 rows x 3 columns]"
      ]
     },
     "execution_count": 13,
     "metadata": {},
     "output_type": "execute_result"
    }
   ],
   "source": [
    "date_type =pd.crosstab(df['Date'],df['type'],margins =True)\n",
    "date_type"
   ]
  },
  {
   "cell_type": "markdown",
   "id": "40fedc9b",
   "metadata": {},
   "source": [
    "# \n",
    "as per the information every year avocado grows both type is equally same"
   ]
  },
  {
   "cell_type": "code",
   "execution_count": 14,
   "id": "c2dce32a",
   "metadata": {
    "scrolled": true
   },
   "outputs": [
    {
     "data": {
      "text/plain": [
       "region\n",
       "HartfordSpringfield    1.818639\n",
       "SanFrancisco           1.804201\n",
       "NewYork                1.727574\n",
       "Philadelphia           1.632130\n",
       "Sacramento             1.621568\n",
       "Charlotte              1.606036\n",
       "Northeast              1.601923\n",
       "Albany                 1.561036\n",
       "Chicago                1.556775\n",
       "RaleighGreensboro      1.555118\n",
       "BaltimoreWashington    1.534231\n",
       "Boston                 1.530888\n",
       "Syracuse               1.520325\n",
       "BuffaloRochester       1.516834\n",
       "HarrisburgScranton     1.513284\n",
       "Jacksonville           1.510947\n",
       "Orlando                1.506213\n",
       "GrandRapids            1.505000\n",
       "NorthernNewEngland     1.477396\n",
       "Spokane                1.445592\n",
       "Seattle                1.442574\n",
       "Plains                 1.436509\n",
       "StLouis                1.430621\n",
       "MiamiFtLauderdale      1.428491\n",
       "Tampa                  1.408846\n",
       "Midsouth               1.404763\n",
       "SouthCarolina          1.403284\n",
       "SanDiego               1.398166\n",
       "Southeast              1.398018\n",
       "California             1.395325\n",
       "LasVegas               1.380917\n",
       "Pittsburgh             1.364320\n",
       "Boise                  1.348136\n",
       "GreatLakes             1.338550\n",
       "Atlanta                1.337959\n",
       "TotalUS                1.319024\n",
       "Portland               1.317722\n",
       "Indianapolis           1.313994\n",
       "NewOrleansMobile       1.304793\n",
       "RichmondNorfolk        1.291331\n",
       "Louisville             1.286686\n",
       "Detroit                1.276095\n",
       "West                   1.272219\n",
       "WestTexNewMexico       1.261701\n",
       "Columbus               1.252781\n",
       "Roanoke                1.247929\n",
       "PhoenixTucson          1.224438\n",
       "Denver                 1.218580\n",
       "LosAngeles             1.216006\n",
       "Nashville              1.212101\n",
       "CincinnatiDayton       1.209201\n",
       "SouthCentral           1.101243\n",
       "DallasFtWorth          1.085592\n",
       "Houston                1.047929\n",
       "Name: AveragePrice, dtype: float64"
      ]
     },
     "execution_count": 14,
     "metadata": {},
     "output_type": "execute_result"
    }
   ],
   "source": [
    "avg_prices = df.groupby('region')['AveragePrice'].mean().sort_values(ascending=False)\n",
    "avg_prices"
   ]
  },
  {
   "cell_type": "markdown",
   "id": "d9c44fc9",
   "metadata": {},
   "source": [
    "#  \n",
    "As per the information  HartfordSpringfield has high avg price of avocado \n",
    "\n",
    "this region has high demand of avocado as compared to others region"
   ]
  },
  {
   "cell_type": "code",
   "execution_count": 15,
   "id": "57fc079c",
   "metadata": {
    "scrolled": false
   },
   "outputs": [
    {
     "data": {
      "text/html": [
       "<div>\n",
       "<style scoped>\n",
       "    .dataframe tbody tr th:only-of-type {\n",
       "        vertical-align: middle;\n",
       "    }\n",
       "\n",
       "    .dataframe tbody tr th {\n",
       "        vertical-align: top;\n",
       "    }\n",
       "\n",
       "    .dataframe thead th {\n",
       "        text-align: right;\n",
       "    }\n",
       "</style>\n",
       "<table border=\"1\" class=\"dataframe\">\n",
       "  <thead>\n",
       "    <tr style=\"text-align: right;\">\n",
       "      <th>type</th>\n",
       "      <th>conventional</th>\n",
       "      <th>organic</th>\n",
       "      <th>All</th>\n",
       "    </tr>\n",
       "    <tr>\n",
       "      <th>region</th>\n",
       "      <th></th>\n",
       "      <th></th>\n",
       "      <th></th>\n",
       "    </tr>\n",
       "  </thead>\n",
       "  <tbody>\n",
       "    <tr>\n",
       "      <th>Albany</th>\n",
       "      <td>169</td>\n",
       "      <td>169</td>\n",
       "      <td>338</td>\n",
       "    </tr>\n",
       "    <tr>\n",
       "      <th>Atlanta</th>\n",
       "      <td>169</td>\n",
       "      <td>169</td>\n",
       "      <td>338</td>\n",
       "    </tr>\n",
       "    <tr>\n",
       "      <th>BaltimoreWashington</th>\n",
       "      <td>169</td>\n",
       "      <td>169</td>\n",
       "      <td>338</td>\n",
       "    </tr>\n",
       "    <tr>\n",
       "      <th>Boise</th>\n",
       "      <td>169</td>\n",
       "      <td>169</td>\n",
       "      <td>338</td>\n",
       "    </tr>\n",
       "    <tr>\n",
       "      <th>Boston</th>\n",
       "      <td>169</td>\n",
       "      <td>169</td>\n",
       "      <td>338</td>\n",
       "    </tr>\n",
       "    <tr>\n",
       "      <th>BuffaloRochester</th>\n",
       "      <td>169</td>\n",
       "      <td>169</td>\n",
       "      <td>338</td>\n",
       "    </tr>\n",
       "    <tr>\n",
       "      <th>California</th>\n",
       "      <td>169</td>\n",
       "      <td>169</td>\n",
       "      <td>338</td>\n",
       "    </tr>\n",
       "    <tr>\n",
       "      <th>Charlotte</th>\n",
       "      <td>169</td>\n",
       "      <td>169</td>\n",
       "      <td>338</td>\n",
       "    </tr>\n",
       "    <tr>\n",
       "      <th>Chicago</th>\n",
       "      <td>169</td>\n",
       "      <td>169</td>\n",
       "      <td>338</td>\n",
       "    </tr>\n",
       "    <tr>\n",
       "      <th>CincinnatiDayton</th>\n",
       "      <td>169</td>\n",
       "      <td>169</td>\n",
       "      <td>338</td>\n",
       "    </tr>\n",
       "    <tr>\n",
       "      <th>Columbus</th>\n",
       "      <td>169</td>\n",
       "      <td>169</td>\n",
       "      <td>338</td>\n",
       "    </tr>\n",
       "    <tr>\n",
       "      <th>DallasFtWorth</th>\n",
       "      <td>169</td>\n",
       "      <td>169</td>\n",
       "      <td>338</td>\n",
       "    </tr>\n",
       "    <tr>\n",
       "      <th>Denver</th>\n",
       "      <td>169</td>\n",
       "      <td>169</td>\n",
       "      <td>338</td>\n",
       "    </tr>\n",
       "    <tr>\n",
       "      <th>Detroit</th>\n",
       "      <td>169</td>\n",
       "      <td>169</td>\n",
       "      <td>338</td>\n",
       "    </tr>\n",
       "    <tr>\n",
       "      <th>GrandRapids</th>\n",
       "      <td>169</td>\n",
       "      <td>169</td>\n",
       "      <td>338</td>\n",
       "    </tr>\n",
       "    <tr>\n",
       "      <th>GreatLakes</th>\n",
       "      <td>169</td>\n",
       "      <td>169</td>\n",
       "      <td>338</td>\n",
       "    </tr>\n",
       "    <tr>\n",
       "      <th>HarrisburgScranton</th>\n",
       "      <td>169</td>\n",
       "      <td>169</td>\n",
       "      <td>338</td>\n",
       "    </tr>\n",
       "    <tr>\n",
       "      <th>HartfordSpringfield</th>\n",
       "      <td>169</td>\n",
       "      <td>169</td>\n",
       "      <td>338</td>\n",
       "    </tr>\n",
       "    <tr>\n",
       "      <th>Houston</th>\n",
       "      <td>169</td>\n",
       "      <td>169</td>\n",
       "      <td>338</td>\n",
       "    </tr>\n",
       "    <tr>\n",
       "      <th>Indianapolis</th>\n",
       "      <td>169</td>\n",
       "      <td>169</td>\n",
       "      <td>338</td>\n",
       "    </tr>\n",
       "    <tr>\n",
       "      <th>Jacksonville</th>\n",
       "      <td>169</td>\n",
       "      <td>169</td>\n",
       "      <td>338</td>\n",
       "    </tr>\n",
       "    <tr>\n",
       "      <th>LasVegas</th>\n",
       "      <td>169</td>\n",
       "      <td>169</td>\n",
       "      <td>338</td>\n",
       "    </tr>\n",
       "    <tr>\n",
       "      <th>LosAngeles</th>\n",
       "      <td>169</td>\n",
       "      <td>169</td>\n",
       "      <td>338</td>\n",
       "    </tr>\n",
       "    <tr>\n",
       "      <th>Louisville</th>\n",
       "      <td>169</td>\n",
       "      <td>169</td>\n",
       "      <td>338</td>\n",
       "    </tr>\n",
       "    <tr>\n",
       "      <th>MiamiFtLauderdale</th>\n",
       "      <td>169</td>\n",
       "      <td>169</td>\n",
       "      <td>338</td>\n",
       "    </tr>\n",
       "    <tr>\n",
       "      <th>Midsouth</th>\n",
       "      <td>169</td>\n",
       "      <td>169</td>\n",
       "      <td>338</td>\n",
       "    </tr>\n",
       "    <tr>\n",
       "      <th>Nashville</th>\n",
       "      <td>169</td>\n",
       "      <td>169</td>\n",
       "      <td>338</td>\n",
       "    </tr>\n",
       "    <tr>\n",
       "      <th>NewOrleansMobile</th>\n",
       "      <td>169</td>\n",
       "      <td>169</td>\n",
       "      <td>338</td>\n",
       "    </tr>\n",
       "    <tr>\n",
       "      <th>NewYork</th>\n",
       "      <td>169</td>\n",
       "      <td>169</td>\n",
       "      <td>338</td>\n",
       "    </tr>\n",
       "    <tr>\n",
       "      <th>Northeast</th>\n",
       "      <td>169</td>\n",
       "      <td>169</td>\n",
       "      <td>338</td>\n",
       "    </tr>\n",
       "    <tr>\n",
       "      <th>NorthernNewEngland</th>\n",
       "      <td>169</td>\n",
       "      <td>169</td>\n",
       "      <td>338</td>\n",
       "    </tr>\n",
       "    <tr>\n",
       "      <th>Orlando</th>\n",
       "      <td>169</td>\n",
       "      <td>169</td>\n",
       "      <td>338</td>\n",
       "    </tr>\n",
       "    <tr>\n",
       "      <th>Philadelphia</th>\n",
       "      <td>169</td>\n",
       "      <td>169</td>\n",
       "      <td>338</td>\n",
       "    </tr>\n",
       "    <tr>\n",
       "      <th>PhoenixTucson</th>\n",
       "      <td>169</td>\n",
       "      <td>169</td>\n",
       "      <td>338</td>\n",
       "    </tr>\n",
       "    <tr>\n",
       "      <th>Pittsburgh</th>\n",
       "      <td>169</td>\n",
       "      <td>169</td>\n",
       "      <td>338</td>\n",
       "    </tr>\n",
       "    <tr>\n",
       "      <th>Plains</th>\n",
       "      <td>169</td>\n",
       "      <td>169</td>\n",
       "      <td>338</td>\n",
       "    </tr>\n",
       "    <tr>\n",
       "      <th>Portland</th>\n",
       "      <td>169</td>\n",
       "      <td>169</td>\n",
       "      <td>338</td>\n",
       "    </tr>\n",
       "    <tr>\n",
       "      <th>RaleighGreensboro</th>\n",
       "      <td>169</td>\n",
       "      <td>169</td>\n",
       "      <td>338</td>\n",
       "    </tr>\n",
       "    <tr>\n",
       "      <th>RichmondNorfolk</th>\n",
       "      <td>169</td>\n",
       "      <td>169</td>\n",
       "      <td>338</td>\n",
       "    </tr>\n",
       "    <tr>\n",
       "      <th>Roanoke</th>\n",
       "      <td>169</td>\n",
       "      <td>169</td>\n",
       "      <td>338</td>\n",
       "    </tr>\n",
       "    <tr>\n",
       "      <th>Sacramento</th>\n",
       "      <td>169</td>\n",
       "      <td>169</td>\n",
       "      <td>338</td>\n",
       "    </tr>\n",
       "    <tr>\n",
       "      <th>SanDiego</th>\n",
       "      <td>169</td>\n",
       "      <td>169</td>\n",
       "      <td>338</td>\n",
       "    </tr>\n",
       "    <tr>\n",
       "      <th>SanFrancisco</th>\n",
       "      <td>169</td>\n",
       "      <td>169</td>\n",
       "      <td>338</td>\n",
       "    </tr>\n",
       "    <tr>\n",
       "      <th>Seattle</th>\n",
       "      <td>169</td>\n",
       "      <td>169</td>\n",
       "      <td>338</td>\n",
       "    </tr>\n",
       "    <tr>\n",
       "      <th>SouthCarolina</th>\n",
       "      <td>169</td>\n",
       "      <td>169</td>\n",
       "      <td>338</td>\n",
       "    </tr>\n",
       "    <tr>\n",
       "      <th>SouthCentral</th>\n",
       "      <td>169</td>\n",
       "      <td>169</td>\n",
       "      <td>338</td>\n",
       "    </tr>\n",
       "    <tr>\n",
       "      <th>Southeast</th>\n",
       "      <td>169</td>\n",
       "      <td>169</td>\n",
       "      <td>338</td>\n",
       "    </tr>\n",
       "    <tr>\n",
       "      <th>Spokane</th>\n",
       "      <td>169</td>\n",
       "      <td>169</td>\n",
       "      <td>338</td>\n",
       "    </tr>\n",
       "    <tr>\n",
       "      <th>StLouis</th>\n",
       "      <td>169</td>\n",
       "      <td>169</td>\n",
       "      <td>338</td>\n",
       "    </tr>\n",
       "    <tr>\n",
       "      <th>Syracuse</th>\n",
       "      <td>169</td>\n",
       "      <td>169</td>\n",
       "      <td>338</td>\n",
       "    </tr>\n",
       "    <tr>\n",
       "      <th>Tampa</th>\n",
       "      <td>169</td>\n",
       "      <td>169</td>\n",
       "      <td>338</td>\n",
       "    </tr>\n",
       "    <tr>\n",
       "      <th>TotalUS</th>\n",
       "      <td>169</td>\n",
       "      <td>169</td>\n",
       "      <td>338</td>\n",
       "    </tr>\n",
       "    <tr>\n",
       "      <th>West</th>\n",
       "      <td>169</td>\n",
       "      <td>169</td>\n",
       "      <td>338</td>\n",
       "    </tr>\n",
       "    <tr>\n",
       "      <th>WestTexNewMexico</th>\n",
       "      <td>169</td>\n",
       "      <td>166</td>\n",
       "      <td>335</td>\n",
       "    </tr>\n",
       "    <tr>\n",
       "      <th>All</th>\n",
       "      <td>9126</td>\n",
       "      <td>9123</td>\n",
       "      <td>18249</td>\n",
       "    </tr>\n",
       "  </tbody>\n",
       "</table>\n",
       "</div>"
      ],
      "text/plain": [
       "type                 conventional  organic    All\n",
       "region                                           \n",
       "Albany                        169      169    338\n",
       "Atlanta                       169      169    338\n",
       "BaltimoreWashington           169      169    338\n",
       "Boise                         169      169    338\n",
       "Boston                        169      169    338\n",
       "BuffaloRochester              169      169    338\n",
       "California                    169      169    338\n",
       "Charlotte                     169      169    338\n",
       "Chicago                       169      169    338\n",
       "CincinnatiDayton              169      169    338\n",
       "Columbus                      169      169    338\n",
       "DallasFtWorth                 169      169    338\n",
       "Denver                        169      169    338\n",
       "Detroit                       169      169    338\n",
       "GrandRapids                   169      169    338\n",
       "GreatLakes                    169      169    338\n",
       "HarrisburgScranton            169      169    338\n",
       "HartfordSpringfield           169      169    338\n",
       "Houston                       169      169    338\n",
       "Indianapolis                  169      169    338\n",
       "Jacksonville                  169      169    338\n",
       "LasVegas                      169      169    338\n",
       "LosAngeles                    169      169    338\n",
       "Louisville                    169      169    338\n",
       "MiamiFtLauderdale             169      169    338\n",
       "Midsouth                      169      169    338\n",
       "Nashville                     169      169    338\n",
       "NewOrleansMobile              169      169    338\n",
       "NewYork                       169      169    338\n",
       "Northeast                     169      169    338\n",
       "NorthernNewEngland            169      169    338\n",
       "Orlando                       169      169    338\n",
       "Philadelphia                  169      169    338\n",
       "PhoenixTucson                 169      169    338\n",
       "Pittsburgh                    169      169    338\n",
       "Plains                        169      169    338\n",
       "Portland                      169      169    338\n",
       "RaleighGreensboro             169      169    338\n",
       "RichmondNorfolk               169      169    338\n",
       "Roanoke                       169      169    338\n",
       "Sacramento                    169      169    338\n",
       "SanDiego                      169      169    338\n",
       "SanFrancisco                  169      169    338\n",
       "Seattle                       169      169    338\n",
       "SouthCarolina                 169      169    338\n",
       "SouthCentral                  169      169    338\n",
       "Southeast                     169      169    338\n",
       "Spokane                       169      169    338\n",
       "StLouis                       169      169    338\n",
       "Syracuse                      169      169    338\n",
       "Tampa                         169      169    338\n",
       "TotalUS                       169      169    338\n",
       "West                          169      169    338\n",
       "WestTexNewMexico              169      166    335\n",
       "All                          9126     9123  18249"
      ]
     },
     "execution_count": 15,
     "metadata": {},
     "output_type": "execute_result"
    }
   ],
   "source": [
    "region_type =pd.crosstab(df['region'],df['type'],margins =True) \n",
    "region_type"
   ]
  },
  {
   "cell_type": "markdown",
   "id": "e01e2115",
   "metadata": {},
   "source": [
    "#  \n",
    "\n",
    "As per the information they have equal demand of type of avocado"
   ]
  },
  {
   "cell_type": "code",
   "execution_count": 16,
   "id": "bd3e57e0",
   "metadata": {},
   "outputs": [
    {
     "data": {
      "image/png": "[encoded data removed]",
      "text/plain": [
       "<Figure size 360x360 with 1 Axes>"
      ]
     },
     "metadata": {
      "needs_background": "light"
     },
     "output_type": "display_data"
    }
   ],
   "source": [
    "plt.figure(figsize=(5,5))\n",
    "sns.lineplot(data=df,x='Date',y= 'AveragePrice' )\n",
    "plt.show()"
   ]
  },
  {
   "cell_type": "code",
   "execution_count": 17,
   "id": "a9e5f28c",
   "metadata": {},
   "outputs": [
    {
     "data": {
      "text/plain": [
       "<AxesSubplot:>"
      ]
     },
     "execution_count": 17,
     "metadata": {},
     "output_type": "execute_result"
    },
    {
     "data": {
      "image/png": "[encoded data removed]",
      "text/plain": [
       "<Figure size 648x432 with 2 Axes>"
      ]
     },
     "metadata": {
      "needs_background": "light"
     },
     "output_type": "display_data"
    }
   ],
   "source": [
    "f, ax = plt.subplots(figsize=(9, 6))\n",
    "sns.heatmap(df.corr(),annot=True,fmt='.2g',linewidths=1,ax=ax)"
   ]
  },
  {
   "cell_type": "markdown",
   "id": "718a6a8d",
   "metadata": {},
   "source": [
    "#  As per visiulisation  Total volume has a strong co-relation with  4046,4225,4770,Total Bags,Small Bags, Large Bags, XLarge Bags \t"
   ]
  },
  {
   "cell_type": "code",
   "execution_count": 18,
   "id": "0e19d844",
   "metadata": {
    "scrolled": true
   },
   "outputs": [
    {
     "data": {
      "text/plain": [
       "<AxesSubplot:xlabel='4046', ylabel='Total Volume'>"
      ]
     },
     "execution_count": 18,
     "metadata": {},
     "output_type": "execute_result"
    },
    {
     "data": {
      "image/png": "[encoded data removed]",
      "text/plain": [
       "<Figure size 432x288 with 1 Axes>"
      ]
     },
     "metadata": {
      "needs_background": "light"
     },
     "output_type": "display_data"
    }
   ],
   "source": [
    "sns.scatterplot(data=df,x = '4046', y = 'Total Volume' )"
   ]
  },
  {
   "cell_type": "markdown",
   "id": "24e87dbc",
   "metadata": {},
   "source": [
    "#  \n",
    "The date vise avocado avg prices 2017 years the avocado prie is rises"
   ]
  },
  {
   "cell_type": "markdown",
   "id": "880fdfcd",
   "metadata": {},
   "source": [
    "#  \n",
    "Total volume has high collinearity promblem 4046,4225,Total Bags,Small Bags, Large Bags, XLarge Bags \t"
   ]
  },
  {
   "cell_type": "code",
   "execution_count": 19,
   "id": "f0f52d17",
   "metadata": {
    "scrolled": true
   },
   "outputs": [
    {
     "data": {
      "text/plain": [
       "<AxesSubplot:xlabel='4225', ylabel='Total Volume'>"
      ]
     },
     "execution_count": 19,
     "metadata": {},
     "output_type": "execute_result"
    },
    {
     "data": {
      "image/png": "[encoded data removed]",
      "text/plain": [
       "<Figure size 432x288 with 1 Axes>"
      ]
     },
     "metadata": {
      "needs_background": "light"
     },
     "output_type": "display_data"
    }
   ],
   "source": [
    "sns.scatterplot(data=df,x = '4225', y = 'Total Volume' )"
   ]
  },
  {
   "cell_type": "code",
   "execution_count": 20,
   "id": "68fe44c3",
   "metadata": {
    "scrolled": true
   },
   "outputs": [
    {
     "data": {
      "text/plain": [
       "<AxesSubplot:xlabel='Total Bags', ylabel='Total Volume'>"
      ]
     },
     "execution_count": 20,
     "metadata": {},
     "output_type": "execute_result"
    },
    {
     "data": {
      "image/png": "[encoded data removed]",
      "text/plain": [
       "<Figure size 432x288 with 1 Axes>"
      ]
     },
     "metadata": {
      "needs_background": "light"
     },
     "output_type": "display_data"
    }
   ],
   "source": [
    "sns.scatterplot(data=df,x = 'Total Bags', y = 'Total Volume' )"
   ]
  },
  {
   "cell_type": "code",
   "execution_count": 21,
   "id": "4b662899",
   "metadata": {
    "scrolled": true
   },
   "outputs": [
    {
     "data": {
      "text/plain": [
       "<AxesSubplot:xlabel='Small Bags', ylabel='Total Volume'>"
      ]
     },
     "execution_count": 21,
     "metadata": {},
     "output_type": "execute_result"
    },
    {
     "data": {
      "image/png": "[encoded data removed]",
      "text/plain": [
       "<Figure size 432x288 with 1 Axes>"
      ]
     },
     "metadata": {
      "needs_background": "light"
     },
     "output_type": "display_data"
    }
   ],
   "source": [
    "sns.scatterplot(data=df,x = 'Small Bags', y = 'Total Volume' )"
   ]
  },
  {
   "cell_type": "code",
   "execution_count": 22,
   "id": "9934016d",
   "metadata": {
    "scrolled": true
   },
   "outputs": [
    {
     "data": {
      "text/plain": [
       "<AxesSubplot:xlabel='Large Bags', ylabel='Total Volume'>"
      ]
     },
     "execution_count": 22,
     "metadata": {},
     "output_type": "execute_result"
    },
    {
     "data": {
      "image/png": "[encoded data removed]",
      "text/plain": [
       "<Figure size 432x288 with 1 Axes>"
      ]
     },
     "metadata": {
      "needs_background": "light"
     },
     "output_type": "display_data"
    }
   ],
   "source": [
    "sns.scatterplot(data=df,x = 'Large Bags', y = 'Total Volume' )"
   ]
  },
  {
   "cell_type": "code",
   "execution_count": 23,
   "id": "3cdb783b",
   "metadata": {
    "scrolled": false
   },
   "outputs": [
    {
     "data": {
      "text/plain": [
       "<AxesSubplot:xlabel='XLarge Bags', ylabel='Total Volume'>"
      ]
     },
     "execution_count": 23,
     "metadata": {},
     "output_type": "execute_result"
    },
    {
     "data": {
      "image/png": "[encoded data removed]",
      "text/plain": [
       "<Figure size 432x288 with 1 Axes>"
      ]
     },
     "metadata": {
      "needs_background": "light"
     },
     "output_type": "display_data"
    }
   ],
   "source": [
    "sns.scatterplot(data=df,x = 'XLarge Bags', y = 'Total Volume' )"
   ]
  },
  {
   "cell_type": "code",
   "execution_count": 24,
   "id": "3dcb4834",
   "metadata": {
    "scrolled": true
   },
   "outputs": [
    {
     "data": {
      "text/plain": [
       "<AxesSubplot:xlabel='4770', ylabel='Total Volume'>"
      ]
     },
     "execution_count": 24,
     "metadata": {},
     "output_type": "execute_result"
    },
    {
     "data": {
      "image/png": "[encoded data removed]",
      "text/plain": [
       "<Figure size 432x288 with 1 Axes>"
      ]
     },
     "metadata": {
      "needs_background": "light"
     },
     "output_type": "display_data"
    }
   ],
   "source": [
    "sns.scatterplot(data=df,x = '4770', y = 'Total Volume' )"
   ]
  },
  {
   "cell_type": "markdown",
   "id": "7914acc9",
   "metadata": {},
   "source": [
    "#  \n",
    "As per the visiulisation Total volum has strong relation with this column \n",
    "\n",
    "but we are not droping Total volumn column we drop others columns cause this column has corelation with each others \n",
    "\n",
    "so we keep total volumn column "
   ]
  },
  {
   "cell_type": "code",
   "execution_count": 25,
   "id": "9423cd6b",
   "metadata": {},
   "outputs": [],
   "source": [
    "df.drop(columns=['4046','4225','4770','Total Bags','Small Bags','Large Bags','XLarge Bags'],axis=1,inplace=True)"
   ]
  },
  {
   "cell_type": "code",
   "execution_count": 26,
   "id": "f00e64d6",
   "metadata": {},
   "outputs": [
    {
     "data": {
      "text/plain": [
       "<AxesSubplot:>"
      ]
     },
     "execution_count": 26,
     "metadata": {},
     "output_type": "execute_result"
    },
    {
     "data": {
      "image/png": "[encoded data removed]",
      "text/plain": [
       "<Figure size 648x432 with 2 Axes>"
      ]
     },
     "metadata": {
      "needs_background": "light"
     },
     "output_type": "display_data"
    }
   ],
   "source": [
    "f, ax = plt.subplots(figsize=(9, 6))\n",
    "sns.heatmap(df.corr(),annot=True,fmt='.2g',linewidths=1,ax=ax)"
   ]
  },
  {
   "cell_type": "code",
   "execution_count": 27,
   "id": "0adcacac",
   "metadata": {},
   "outputs": [],
   "source": [
    "catgorical_col=[]\n",
    "for i in df.dtypes.index:\n",
    "    if df.dtypes[i]=='object':\n",
    "        catgorical_col.append(i)\n",
    "        \n",
    "numerical_col=[]\n",
    "for i in df.dtypes.index:\n",
    "    if df.dtypes[i] !='object':\n",
    "        numerical_col.append(i)"
   ]
  },
  {
   "cell_type": "code",
   "execution_count": 28,
   "id": "ef5a2929",
   "metadata": {},
   "outputs": [],
   "source": [
    "columns=['Unnamed: 0','AveragePrice','Total Volume']"
   ]
  },
  {
   "cell_type": "code",
   "execution_count": 29,
   "id": "f4669c6b",
   "metadata": {
    "scrolled": true
   },
   "outputs": [
    {
     "data": {
      "image/png": "[encoded data removed]",
      "text/plain": [
       "<Figure size 1080x1080 with 3 Axes>"
      ]
     },
     "metadata": {
      "needs_background": "light"
     },
     "output_type": "display_data"
    }
   ],
   "source": [
    "plt.figure(figsize=(15,15))\n",
    "i=1\n",
    "for column in columns:\n",
    "    if i<=12:\n",
    "        \n",
    "        \n",
    "    \n",
    "        plt.subplot(4,4,i)\n",
    "    \n",
    "        ax=sns.boxplot(data=df[column])\n",
    "    \n",
    "        plt.xlabel (column,fontsize=15)\n",
    "        \n",
    "    i+=1\n",
    "    \n",
    "plt.show()\n",
    "    \n",
    "                \n",
    "                \n"
   ]
  },
  {
   "cell_type": "markdown",
   "id": "db93b61e",
   "metadata": {},
   "source": [
    "# \n",
    "    so we have found Total volumn column\n",
    "    \n",
    " so, removing outliers usin zscore"
   ]
  },
  {
   "cell_type": "code",
   "execution_count": 30,
   "id": "fe2cc71e",
   "metadata": {},
   "outputs": [],
   "source": [
    "from sklearn.preprocessing import LabelEncoder\n",
    "lm=LabelEncoder()\n",
    "df['type']=lm.fit_transform(df['type'])\n",
    "df['region']=lm.fit_transform(df['region'])"
   ]
  },
  {
   "cell_type": "code",
   "execution_count": 31,
   "id": "809c20d8",
   "metadata": {},
   "outputs": [
    {
     "data": {
      "text/html": [
       "<div>\n",
       "<style scoped>\n",
       "    .dataframe tbody tr th:only-of-type {\n",
       "        vertical-align: middle;\n",
       "    }\n",
       "\n",
       "    .dataframe tbody tr th {\n",
       "        vertical-align: top;\n",
       "    }\n",
       "\n",
       "    .dataframe thead th {\n",
       "        text-align: right;\n",
       "    }\n",
       "</style>\n",
       "<table border=\"1\" class=\"dataframe\">\n",
       "  <thead>\n",
       "    <tr style=\"text-align: right;\">\n",
       "      <th></th>\n",
       "      <th>Unnamed: 0</th>\n",
       "      <th>Date</th>\n",
       "      <th>AveragePrice</th>\n",
       "      <th>Total Volume</th>\n",
       "      <th>type</th>\n",
       "      <th>region</th>\n",
       "    </tr>\n",
       "  </thead>\n",
       "  <tbody>\n",
       "    <tr>\n",
       "      <th>0</th>\n",
       "      <td>0</td>\n",
       "      <td>2015-12-27</td>\n",
       "      <td>1.33</td>\n",
       "      <td>64236.62</td>\n",
       "      <td>0</td>\n",
       "      <td>0</td>\n",
       "    </tr>\n",
       "    <tr>\n",
       "      <th>1</th>\n",
       "      <td>1</td>\n",
       "      <td>2015-12-20</td>\n",
       "      <td>1.35</td>\n",
       "      <td>54876.98</td>\n",
       "      <td>0</td>\n",
       "      <td>0</td>\n",
       "    </tr>\n",
       "    <tr>\n",
       "      <th>2</th>\n",
       "      <td>2</td>\n",
       "      <td>2015-12-13</td>\n",
       "      <td>0.93</td>\n",
       "      <td>118220.22</td>\n",
       "      <td>0</td>\n",
       "      <td>0</td>\n",
       "    </tr>\n",
       "    <tr>\n",
       "      <th>3</th>\n",
       "      <td>3</td>\n",
       "      <td>2015-12-06</td>\n",
       "      <td>1.08</td>\n",
       "      <td>78992.15</td>\n",
       "      <td>0</td>\n",
       "      <td>0</td>\n",
       "    </tr>\n",
       "    <tr>\n",
       "      <th>4</th>\n",
       "      <td>4</td>\n",
       "      <td>2015-11-29</td>\n",
       "      <td>1.28</td>\n",
       "      <td>51039.60</td>\n",
       "      <td>0</td>\n",
       "      <td>0</td>\n",
       "    </tr>\n",
       "  </tbody>\n",
       "</table>\n",
       "</div>"
      ],
      "text/plain": [
       "   Unnamed: 0       Date  AveragePrice  Total Volume  type  region\n",
       "0           0 2015-12-27          1.33      64236.62     0       0\n",
       "1           1 2015-12-20          1.35      54876.98     0       0\n",
       "2           2 2015-12-13          0.93     118220.22     0       0\n",
       "3           3 2015-12-06          1.08      78992.15     0       0\n",
       "4           4 2015-11-29          1.28      51039.60     0       0"
      ]
     },
     "execution_count": 31,
     "metadata": {},
     "output_type": "execute_result"
    }
   ],
   "source": [
    "df.head()"
   ]
  },
  {
   "cell_type": "code",
   "execution_count": 32,
   "id": "a92e84a8",
   "metadata": {},
   "outputs": [
    {
     "data": {
      "text/plain": [
       "(18249, 1)"
      ]
     },
     "execution_count": 32,
     "metadata": {},
     "output_type": "execute_result"
    }
   ],
   "source": [
    "from scipy.stats import zscore\n",
    "features=df[['Total Volume']]\n",
    "z=np.abs(zscore(features))\n",
    "z.shape"
   ]
  },
  {
   "cell_type": "code",
   "execution_count": 33,
   "id": "bfe56c29",
   "metadata": {},
   "outputs": [
    {
     "name": "stdout",
     "output_type": "stream",
     "text": [
      "(array([2652, 2653, 2654, 2655, 2656, 2657, 2658, 2659, 2660, 2661, 2662,\n",
      "       2663, 2664, 2665, 2666, 2667, 2668, 2669, 2670, 2671, 2672, 2673,\n",
      "       2674, 2675, 2676, 2677, 2678, 2679, 2680, 2681, 2682, 2683, 2684,\n",
      "       2685, 2686, 2687, 2688, 2689, 2690, 2691, 2692, 2693, 2694, 2695,\n",
      "       2696, 2697, 2698, 2699, 2700, 2701, 2702, 2703, 5460, 5461, 5462,\n",
      "       5463, 5464, 5465, 5466, 5467, 5468, 5469, 5470, 5471, 5472, 5473,\n",
      "       5474, 5475, 5476, 5477, 5478, 5479, 5480, 5481, 5482, 5483, 5484,\n",
      "       5485, 5486, 5487, 5488, 5489, 5490, 5491, 5492, 5493, 5494, 5495,\n",
      "       5496, 5497, 5498, 5499, 5500, 5501, 5502, 5503, 5504, 5505, 5506,\n",
      "       5507, 5508, 5509, 5510, 5511, 5981, 8319, 8320, 8321, 8322, 8323,\n",
      "       8324, 8325, 8326, 8327, 8328, 8329, 8330, 8331, 8332, 8333, 8334,\n",
      "       8335, 8336, 8337, 8338, 8339, 8340, 8341, 8342, 8343, 8344, 8345,\n",
      "       8346, 8347, 8348, 8349, 8350, 8351, 8352, 8353, 8354, 8355, 8356,\n",
      "       8357, 8358, 8359, 8360, 8361, 8362, 8363, 8364, 8365, 8366, 8367,\n",
      "       8368, 8369, 8370, 8371, 8419, 9090, 9091, 9092, 9093, 9094, 9095,\n",
      "       9096, 9097, 9098, 9099, 9100, 9101], dtype=int64), array([0, 0, 0, 0, 0, 0, 0, 0, 0, 0, 0, 0, 0, 0, 0, 0, 0, 0, 0, 0, 0, 0,\n",
      "       0, 0, 0, 0, 0, 0, 0, 0, 0, 0, 0, 0, 0, 0, 0, 0, 0, 0, 0, 0, 0, 0,\n",
      "       0, 0, 0, 0, 0, 0, 0, 0, 0, 0, 0, 0, 0, 0, 0, 0, 0, 0, 0, 0, 0, 0,\n",
      "       0, 0, 0, 0, 0, 0, 0, 0, 0, 0, 0, 0, 0, 0, 0, 0, 0, 0, 0, 0, 0, 0,\n",
      "       0, 0, 0, 0, 0, 0, 0, 0, 0, 0, 0, 0, 0, 0, 0, 0, 0, 0, 0, 0, 0, 0,\n",
      "       0, 0, 0, 0, 0, 0, 0, 0, 0, 0, 0, 0, 0, 0, 0, 0, 0, 0, 0, 0, 0, 0,\n",
      "       0, 0, 0, 0, 0, 0, 0, 0, 0, 0, 0, 0, 0, 0, 0, 0, 0, 0, 0, 0, 0, 0,\n",
      "       0, 0, 0, 0, 0, 0, 0, 0, 0, 0, 0, 0, 0, 0, 0, 0, 0], dtype=int64))\n"
     ]
    }
   ],
   "source": [
    "threshold=3\n",
    "print(np.where(z>threshold))"
   ]
  },
  {
   "cell_type": "code",
   "execution_count": 34,
   "id": "7e0acef5",
   "metadata": {
    "scrolled": true
   },
   "outputs": [
    {
     "name": "stdout",
     "output_type": "stream",
     "text": [
      "(18249, 6)\n",
      "(18078, 6)\n"
     ]
    }
   ],
   "source": [
    "df1=df[(z<3).all(axis=1)]\n",
    "print(df.shape)\n",
    "print(df1.shape)"
   ]
  },
  {
   "cell_type": "markdown",
   "id": "b70e7a57",
   "metadata": {},
   "source": [
    "# percentage of data loss:"
   ]
  },
  {
   "cell_type": "code",
   "execution_count": 35,
   "id": "bc54ba45",
   "metadata": {},
   "outputs": [
    {
     "data": {
      "text/plain": [
       "0.9370376458984053"
      ]
     },
     "execution_count": 35,
     "metadata": {},
     "output_type": "execute_result"
    }
   ],
   "source": [
    "loss_percent = (18249-18078)/18249*100\n",
    "loss_percent"
   ]
  },
  {
   "cell_type": "markdown",
   "id": "6e339bd5",
   "metadata": {},
   "source": [
    "# using z score techniques we loose  0.93 percent of data "
   ]
  },
  {
   "cell_type": "code",
   "execution_count": 36,
   "id": "5e32774e",
   "metadata": {
    "scrolled": true
   },
   "outputs": [],
   "source": [
    "df=df1"
   ]
  },
  {
   "cell_type": "code",
   "execution_count": 37,
   "id": "94b6af0c",
   "metadata": {
    "scrolled": false
   },
   "outputs": [
    {
     "data": {
      "image/png": "[encoded data removed]",
      "text/plain": [
       "<Figure size 1080x1080 with 4 Axes>"
      ]
     },
     "metadata": {
      "needs_background": "light"
     },
     "output_type": "display_data"
    }
   ],
   "source": [
    " plt.figure(figsize=(15,15))\n",
    "plotnumber =1\n",
    "for column in numerical_col:\n",
    "    if plotnumber<=12:\n",
    "        ax=plt.subplot(4,4,plotnumber)\n",
    "        sns.distplot(df[column])\n",
    "        plt.xlabel(column,fontsize=20)\n",
    "        \n",
    "    plotnumber+=1\n",
    "    \n",
    "plt.show()"
   ]
  },
  {
   "cell_type": "markdown",
   "id": "5b1e7d52",
   "metadata": {},
   "source": [
    "#  \n",
    "From the above distribution total volumn has skweness we have to reduce skewness"
   ]
  },
  {
   "cell_type": "code",
   "execution_count": 38,
   "id": "89adc5e2",
   "metadata": {},
   "outputs": [
    {
     "data": {
      "text/plain": [
       "Unnamed: 0      0.108503\n",
       "AveragePrice    0.570248\n",
       "Total Volume    3.581220\n",
       "type           -0.018588\n",
       "region          0.007253\n",
       "dtype: float64"
      ]
     },
     "execution_count": 38,
     "metadata": {},
     "output_type": "execute_result"
    }
   ],
   "source": [
    "df.skew()"
   ]
  },
  {
   "cell_type": "code",
   "execution_count": 39,
   "id": "3467058b",
   "metadata": {},
   "outputs": [],
   "source": [
    "# using cuberoot methon to reduced skewness\n",
    "df['Total Volume'] =np.cbrt(df['Total Volume'])"
   ]
  },
  {
   "cell_type": "code",
   "execution_count": 40,
   "id": "6fd5486d",
   "metadata": {},
   "outputs": [
    {
     "data": {
      "text/plain": [
       "Unnamed: 0      0.108503\n",
       "AveragePrice    0.570248\n",
       "Total Volume    1.308463\n",
       "type           -0.018588\n",
       "region          0.007253\n",
       "dtype: float64"
      ]
     },
     "execution_count": 40,
     "metadata": {},
     "output_type": "execute_result"
    }
   ],
   "source": [
    "df.skew()"
   ]
  },
  {
   "cell_type": "code",
   "execution_count": 41,
   "id": "f977a4a1",
   "metadata": {},
   "outputs": [
    {
     "data": {
      "image/png": "[encoded data removed]",
      "text/plain": [
       "<Figure size 1080x1080 with 4 Axes>"
      ]
     },
     "metadata": {
      "needs_background": "light"
     },
     "output_type": "display_data"
    }
   ],
   "source": [
    " plt.figure(figsize=(15,15))\n",
    "plotnumber =1\n",
    "for column in numerical_col:\n",
    "    if plotnumber<=12:\n",
    "        ax=plt.subplot(4,4,plotnumber)\n",
    "        sns.distplot(df[column])\n",
    "        plt.xlabel(column,fontsize=20)\n",
    "        \n",
    "    plotnumber+=1\n",
    "    \n",
    "plt.show()"
   ]
  },
  {
   "cell_type": "markdown",
   "id": "4ee8d742",
   "metadata": {},
   "source": [
    "#  \n",
    "we fix outliers and  and skewness now we can build a model first we build a linear regression model and then we build classification model"
   ]
  },
  {
   "cell_type": "code",
   "execution_count": 42,
   "id": "4fcee82f",
   "metadata": {},
   "outputs": [],
   "source": [
    "df.drop('Unnamed: 0', axis=1, inplace=True)"
   ]
  },
  {
   "cell_type": "code",
   "execution_count": 43,
   "id": "6562c6ad",
   "metadata": {
    "scrolled": true
   },
   "outputs": [],
   "source": [
    "df['Date'] = df['Date'].astype(np.int64) // 10**9\n"
   ]
  },
  {
   "cell_type": "code",
   "execution_count": 44,
   "id": "165e01bb",
   "metadata": {},
   "outputs": [],
   "source": [
    "x= df.drop(columns='AveragePrice')\n",
    "y= df['AveragePrice']"
   ]
  },
  {
   "cell_type": "code",
   "execution_count": 45,
   "id": "b098a2c1",
   "metadata": {
    "scrolled": false
   },
   "outputs": [
    {
     "data": {
      "text/html": [
       "<div>\n",
       "<style scoped>\n",
       "    .dataframe tbody tr th:only-of-type {\n",
       "        vertical-align: middle;\n",
       "    }\n",
       "\n",
       "    .dataframe tbody tr th {\n",
       "        vertical-align: top;\n",
       "    }\n",
       "\n",
       "    .dataframe thead th {\n",
       "        text-align: right;\n",
       "    }\n",
       "</style>\n",
       "<table border=\"1\" class=\"dataframe\">\n",
       "  <thead>\n",
       "    <tr style=\"text-align: right;\">\n",
       "      <th></th>\n",
       "      <th>Date</th>\n",
       "      <th>Total Volume</th>\n",
       "      <th>type</th>\n",
       "      <th>region</th>\n",
       "    </tr>\n",
       "  </thead>\n",
       "  <tbody>\n",
       "    <tr>\n",
       "      <th>0</th>\n",
       "      <td>-0.676275</td>\n",
       "      <td>-0.378675</td>\n",
       "      <td>-1.009337</td>\n",
       "      <td>-1.697559</td>\n",
       "    </tr>\n",
       "    <tr>\n",
       "      <th>1</th>\n",
       "      <td>-0.696772</td>\n",
       "      <td>-0.428628</td>\n",
       "      <td>-1.009337</td>\n",
       "      <td>-1.697559</td>\n",
       "    </tr>\n",
       "    <tr>\n",
       "      <th>2</th>\n",
       "      <td>-0.717268</td>\n",
       "      <td>-0.158431</td>\n",
       "      <td>-1.009337</td>\n",
       "      <td>-1.697559</td>\n",
       "    </tr>\n",
       "    <tr>\n",
       "      <th>3</th>\n",
       "      <td>-0.737765</td>\n",
       "      <td>-0.308973</td>\n",
       "      <td>-1.009337</td>\n",
       "      <td>-1.697559</td>\n",
       "    </tr>\n",
       "    <tr>\n",
       "      <th>4</th>\n",
       "      <td>-0.758262</td>\n",
       "      <td>-0.450757</td>\n",
       "      <td>-1.009337</td>\n",
       "      <td>-1.697559</td>\n",
       "    </tr>\n",
       "    <tr>\n",
       "      <th>...</th>\n",
       "      <td>...</td>\n",
       "      <td>...</td>\n",
       "      <td>...</td>\n",
       "      <td>...</td>\n",
       "    </tr>\n",
       "    <tr>\n",
       "      <th>18073</th>\n",
       "      <td>1.578364</td>\n",
       "      <td>-0.727427</td>\n",
       "      <td>0.990750</td>\n",
       "      <td>1.727768</td>\n",
       "    </tr>\n",
       "    <tr>\n",
       "      <th>18074</th>\n",
       "      <td>1.557867</td>\n",
       "      <td>-0.769219</td>\n",
       "      <td>0.990750</td>\n",
       "      <td>1.727768</td>\n",
       "    </tr>\n",
       "    <tr>\n",
       "      <th>18075</th>\n",
       "      <td>1.537371</td>\n",
       "      <td>-0.770931</td>\n",
       "      <td>0.990750</td>\n",
       "      <td>1.727768</td>\n",
       "    </tr>\n",
       "    <tr>\n",
       "      <th>18076</th>\n",
       "      <td>1.516874</td>\n",
       "      <td>-0.738275</td>\n",
       "      <td>0.990750</td>\n",
       "      <td>1.727768</td>\n",
       "    </tr>\n",
       "    <tr>\n",
       "      <th>18077</th>\n",
       "      <td>1.496377</td>\n",
       "      <td>-0.722382</td>\n",
       "      <td>0.990750</td>\n",
       "      <td>1.727768</td>\n",
       "    </tr>\n",
       "  </tbody>\n",
       "</table>\n",
       "<p>18078 rows × 4 columns</p>\n",
       "</div>"
      ],
      "text/plain": [
       "           Date  Total Volume      type    region\n",
       "0     -0.676275     -0.378675 -1.009337 -1.697559\n",
       "1     -0.696772     -0.428628 -1.009337 -1.697559\n",
       "2     -0.717268     -0.158431 -1.009337 -1.697559\n",
       "3     -0.737765     -0.308973 -1.009337 -1.697559\n",
       "4     -0.758262     -0.450757 -1.009337 -1.697559\n",
       "...         ...           ...       ...       ...\n",
       "18073  1.578364     -0.727427  0.990750  1.727768\n",
       "18074  1.557867     -0.769219  0.990750  1.727768\n",
       "18075  1.537371     -0.770931  0.990750  1.727768\n",
       "18076  1.516874     -0.738275  0.990750  1.727768\n",
       "18077  1.496377     -0.722382  0.990750  1.727768\n",
       "\n",
       "[18078 rows x 4 columns]"
      ]
     },
     "execution_count": 45,
     "metadata": {},
     "output_type": "execute_result"
    }
   ],
   "source": [
    "from sklearn.preprocessing import StandardScaler\n",
    "scaler=StandardScaler()\n",
    "x=pd.DataFrame(scaler.fit_transform(x),columns=x.columns)\n",
    "x"
   ]
  },
  {
   "cell_type": "code",
   "execution_count": 46,
   "id": "61f2219f",
   "metadata": {},
   "outputs": [
    {
     "data": {
      "text/html": [
       "<div>\n",
       "<style scoped>\n",
       "    .dataframe tbody tr th:only-of-type {\n",
       "        vertical-align: middle;\n",
       "    }\n",
       "\n",
       "    .dataframe tbody tr th {\n",
       "        vertical-align: top;\n",
       "    }\n",
       "\n",
       "    .dataframe thead th {\n",
       "        text-align: right;\n",
       "    }\n",
       "</style>\n",
       "<table border=\"1\" class=\"dataframe\">\n",
       "  <thead>\n",
       "    <tr style=\"text-align: right;\">\n",
       "      <th></th>\n",
       "      <th>vif</th>\n",
       "      <th>features</th>\n",
       "    </tr>\n",
       "  </thead>\n",
       "  <tbody>\n",
       "    <tr>\n",
       "      <th>0</th>\n",
       "      <td>1.003898</td>\n",
       "      <td>Date</td>\n",
       "    </tr>\n",
       "    <tr>\n",
       "      <th>1</th>\n",
       "      <td>2.054584</td>\n",
       "      <td>Total Volume</td>\n",
       "    </tr>\n",
       "    <tr>\n",
       "      <th>2</th>\n",
       "      <td>2.034394</td>\n",
       "      <td>type</td>\n",
       "    </tr>\n",
       "    <tr>\n",
       "      <th>3</th>\n",
       "      <td>1.021032</td>\n",
       "      <td>region</td>\n",
       "    </tr>\n",
       "  </tbody>\n",
       "</table>\n",
       "</div>"
      ],
      "text/plain": [
       "        vif      features\n",
       "0  1.003898          Date\n",
       "1  2.054584  Total Volume\n",
       "2  2.034394          type\n",
       "3  1.021032        region"
      ]
     },
     "execution_count": 46,
     "metadata": {},
     "output_type": "execute_result"
    }
   ],
   "source": [
    "from statsmodels.stats.outliers_influence import variance_inflation_factor\n",
    "vif=pd.DataFrame()\n",
    "vif['vif']=[variance_inflation_factor(x, i) for i in range(x.shape[1])]\n",
    "vif ['features'] =x.columns \n",
    "vif"
   ]
  },
  {
   "cell_type": "markdown",
   "id": "f3263693",
   "metadata": {},
   "source": [
    "#  \n",
    "First we build a find the  AveragePrice and keep region column as a features\n"
   ]
  },
  {
   "cell_type": "code",
   "execution_count": 47,
   "id": "6e387cf9",
   "metadata": {},
   "outputs": [],
   "source": [
    "# import libraryies\n",
    "from sklearn.model_selection import train_test_split\n",
    "from sklearn.metrics import mean_absolute_error\n",
    "from sklearn.metrics import mean_squared_error\n",
    "from sklearn.metrics import r2_score \n",
    "from sklearn.ensemble import GradientBoostingRegressor\n",
    "from sklearn.linear_model import LinearRegression\n",
    "from sklearn.ensemble import RandomForestRegressor\n",
    "from sklearn.tree import DecisionTreeRegressor\n",
    "from sklearn.neighbors import KNeighborsRegressor as KNN\n",
    "from sklearn.linear_model import Lasso, Ridge"
   ]
  },
  {
   "cell_type": "code",
   "execution_count": 48,
   "id": "bf91423e",
   "metadata": {},
   "outputs": [
    {
     "name": "stdout",
     "output_type": "stream",
     "text": [
      "Best accuracy is 0.44695249521241553 at random_state 4438\n"
     ]
    }
   ],
   "source": [
    "maxAccu = 0\n",
    "maxRs = 0\n",
    "\n",
    "for i in range(1, 15000):\n",
    "    x_train, x_test, y_train, y_test = train_test_split(x, y, test_size=0.30, random_state=i)\n",
    "    lr = LinearRegression()\n",
    "    lr.fit(x_train, y_train)\n",
    "    y_pred = lr.predict(x_test)\n",
    "    acc = r2_score(y_test, y_pred)\n",
    "    if acc > maxAccu:\n",
    "        maxAccu = acc\n",
    "        maxRs = i\n",
    "\n",
    "print('Best accuracy is', maxAccu, 'at random_state', maxRs)\n",
    "  "
   ]
  },
  {
   "cell_type": "code",
   "execution_count": 49,
   "id": "d933f266",
   "metadata": {},
   "outputs": [],
   "source": [
    "x_train, x_test, y_train, y_test = train_test_split(x,y, test_size = 0.30, random_state = maxRs)"
   ]
  },
  {
   "cell_type": "code",
   "execution_count": 50,
   "id": "9112ecc0",
   "metadata": {},
   "outputs": [],
   "source": [
    "from sklearn.ensemble import GradientBoostingRegressor\n",
    "from sklearn.linear_model import LinearRegression\n",
    "from sklearn.ensemble import RandomForestRegressor\n",
    "from sklearn.tree import DecisionTreeRegressor\n",
    "from sklearn.neighbors import KNeighborsRegressor as KNN\n",
    "from sklearn.linear_model import Lasso, Ridge"
   ]
  },
  {
   "cell_type": "code",
   "execution_count": 51,
   "id": "caf5cd62",
   "metadata": {},
   "outputs": [
    {
     "name": "stdout",
     "output_type": "stream",
     "text": [
      "R2_score :  0.44695249521241553\n",
      "R2_score on training data:  40.544156996375044\n",
      "MEAN ABSOLUTE ERROR : 0.23600759714882366\n",
      "MEAN SQUARED ERROR : 0.09288752085712844\n",
      "ROOT MEAN SQUARED ERROR : 0.3047745410252117\n"
     ]
    }
   ],
   "source": [
    "LR= LinearRegression()\n",
    "LR.fit(x_train,y_train)\n",
    "pred_LR= LR.predict(x_test)\n",
    "pred_train= LR.predict(x_train)\n",
    "print('R2_score : ',r2_score(y_test,pred_LR) )\n",
    "print('R2_score on training data: ',r2_score(y_train,pred_train)*100)\n",
    "print('MEAN ABSOLUTE ERROR :', mean_absolute_error(y_test, pred_LR))\n",
    "print ('MEAN SQUARED ERROR :', mean_squared_error(y_test, pred_LR))\n",
    "print ('ROOT MEAN SQUARED ERROR :', np.sqrt (mean_squared_error(y_test, pred_LR)))"
   ]
  },
  {
   "cell_type": "code",
   "execution_count": 52,
   "id": "f7c74e34",
   "metadata": {},
   "outputs": [
    {
     "name": "stdout",
     "output_type": "stream",
     "text": [
      "R2_score :  0.7295075641713495\n",
      "R2_score on training data:  71.4953547774285\n",
      "MEAN ABSOLUTE ERROR : 0.15728635222675197\n",
      "MEAN SQUARED ERROR : 0.04543076599609549\n",
      "ROOT MEAN SQUARED ERROR : 0.2131449412866641\n"
     ]
    }
   ],
   "source": [
    "GB= GradientBoostingRegressor()\n",
    "GB.fit(x_train,y_train)\n",
    "pred_GB= GB.predict(x_test)\n",
    "pred_train= GB.predict(x_train)\n",
    "print('R2_score : ',r2_score(y_test,pred_GB) )\n",
    "print('R2_score on training data: ',r2_score(y_train,pred_train)*100)\n",
    "print('MEAN ABSOLUTE ERROR :', mean_absolute_error(y_test, pred_GB))\n",
    "print ('MEAN SQUARED ERROR :', mean_squared_error(y_test, pred_GB))\n",
    "print ('ROOT MEAN SQUARED ERROR :', np.sqrt (mean_squared_error(y_test, pred_GB)))"
   ]
  },
  {
   "cell_type": "code",
   "execution_count": 53,
   "id": "4079d26a",
   "metadata": {},
   "outputs": [
    {
     "name": "stdout",
     "output_type": "stream",
     "text": [
      "R2_score :  0.905704491247473\n",
      "R2_score on training data:  98.56353532777742\n",
      "MEAN ABSOLUTE ERROR : 0.08644647861356929\n",
      "MEAN SQUARED ERROR : 0.01583747500921828\n",
      "ROOT MEAN SQUARED ERROR : 0.12584703019625962\n"
     ]
    }
   ],
   "source": [
    "RFR= RandomForestRegressor()\n",
    "RFR.fit(x_train,y_train)\n",
    "pred_RFR= RFR.predict(x_test)\n",
    "pred_train= RFR.predict(x_train)\n",
    "print('R2_score : ',r2_score(y_test,pred_RFR) )\n",
    "print('R2_score on training data: ',r2_score(y_train,pred_train)*100)\n",
    "print('MEAN ABSOLUTE ERROR :', mean_absolute_error(y_test, pred_RFR))\n",
    "print ('MEAN SQUARED ERROR :', mean_squared_error(y_test, pred_RFR))\n",
    "print ('ROOT MEAN SQUARED ERROR :', np.sqrt (mean_squared_error(y_test, pred_RFR)))"
   ]
  },
  {
   "cell_type": "code",
   "execution_count": 54,
   "id": "ecf59525",
   "metadata": {},
   "outputs": [
    {
     "name": "stdout",
     "output_type": "stream",
     "text": [
      "R2_score :  0.44695249521241553\n",
      "R2_score on training data:  100.0\n",
      "MEAN ABSOLUTE ERROR : 0.23600759714882366\n",
      "MEAN SQUARED ERROR : 0.09288752085712844\n",
      "ROOT MEAN SQUARED ERROR : 0.3047745410252117\n"
     ]
    }
   ],
   "source": [
    "DTR= DecisionTreeRegressor()\n",
    "DTR.fit(x_train,y_train)\n",
    "pred_DTR= DTR.predict(x_test)\n",
    "pred_train= DTR.predict(x_train)\n",
    "print('R2_score : ',r2_score(y_test,pred_LR) )\n",
    "print('R2_score on training data: ',r2_score(y_train,pred_train)*100)\n",
    "print('MEAN ABSOLUTE ERROR :', mean_absolute_error(y_test, pred_LR))\n",
    "print ('MEAN SQUARED ERROR :', mean_squared_error(y_test, pred_LR))\n",
    "print ('ROOT MEAN SQUARED ERROR :', np.sqrt (mean_squared_error(y_test, pred_LR)))"
   ]
  },
  {
   "cell_type": "code",
   "execution_count": 55,
   "id": "459e0adb",
   "metadata": {},
   "outputs": [
    {
     "name": "stdout",
     "output_type": "stream",
     "text": [
      "R2_score :  0.8600777255387357\n",
      "R2_score on training data:  91.94256174739736\n",
      "MEAN ABSOLUTE ERROR : 0.10161356932153393\n",
      "MEAN SQUARED ERROR : 0.023500753687315634\n",
      "ROOT MEAN SQUARED ERROR : 0.15329955540482051\n"
     ]
    }
   ],
   "source": [
    "knn= KNN()\n",
    "knn.fit(x_train,y_train)\n",
    "pred_knn= knn.predict(x_test)\n",
    "pred_train= knn.predict(x_train)\n",
    "print('R2_score : ',r2_score(y_test,pred_knn) )\n",
    "print('R2_score on training data: ',r2_score(y_train,pred_train)*100)\n",
    "print('MEAN ABSOLUTE ERROR :', mean_absolute_error(y_test, pred_knn))\n",
    "print ('MEAN SQUARED ERROR :', mean_squared_error(y_test, pred_knn))\n",
    "print ('ROOT MEAN SQUARED ERROR :', np.sqrt (mean_squared_error(y_test, pred_knn)))"
   ]
  },
  {
   "cell_type": "code",
   "execution_count": 56,
   "id": "ffe268ea",
   "metadata": {},
   "outputs": [
    {
     "name": "stdout",
     "output_type": "stream",
     "text": [
      "R2_score :  -0.00018166260710139603\n",
      "R2_score on training data:  0.0\n",
      "MEAN ABSOLUTE ERROR : 0.3318855482170573\n",
      "MEAN SQUARED ERROR : 0.16798628371357976\n",
      "ROOT MEAN SQUARED ERROR : 0.4098612981407\n"
     ]
    }
   ],
   "source": [
    "LA= Lasso()\n",
    "LA.fit(x_train,y_train)\n",
    "pred_LA= LA.predict(x_test)\n",
    "pred_train= LA.predict(x_train)\n",
    "print('R2_score : ',r2_score(y_test,pred_LA) )\n",
    "print('R2_score on training data: ',r2_score(y_train,pred_train)*100)\n",
    "print('MEAN ABSOLUTE ERROR :', mean_absolute_error(y_test, pred_LA))\n",
    "print ('MEAN SQUARED ERROR :', mean_squared_error(y_test, pred_LA))\n",
    "print ('ROOT MEAN SQUARED ERROR :', np.sqrt (mean_squared_error(y_test, pred_LA)))"
   ]
  },
  {
   "cell_type": "code",
   "execution_count": 57,
   "id": "9f0a94f2",
   "metadata": {},
   "outputs": [
    {
     "name": "stdout",
     "output_type": "stream",
     "text": [
      "R2_score :  0.44694891775977785\n",
      "R2_score on training data:  91.94256174739736\n",
      "MEAN ABSOLUTE ERROR : 0.23600843380653366\n",
      "MEAN SQUARED ERROR : 0.09288812171094954\n",
      "ROOT MEAN SQUARED ERROR : 0.3047755267585466\n"
     ]
    }
   ],
   "source": [
    "RI= Ridge()\n",
    "RI.fit(x_train,y_train)\n",
    "pred_RI= RI.predict(x_test)\n",
    "pred_train= knn.predict(x_train)\n",
    "print('R2_score : ',r2_score(y_test,pred_RI) )\n",
    "print('R2_score on training data: ',r2_score(y_train,pred_train)*100)\n",
    "print('MEAN ABSOLUTE ERROR :', mean_absolute_error(y_test, pred_RI))\n",
    "print ('MEAN SQUARED ERROR :', mean_squared_error(y_test, pred_RI))\n",
    "print ('ROOT MEAN SQUARED ERROR :', np.sqrt (mean_squared_error(y_test, pred_RI)))"
   ]
  },
  {
   "cell_type": "markdown",
   "id": "a04682f2",
   "metadata": {},
   "source": [
    "# CROSS VALIDATION SCORE"
   ]
  },
  {
   "cell_type": "code",
   "execution_count": 58,
   "id": "db7c1bb2",
   "metadata": {},
   "outputs": [],
   "source": [
    "from sklearn.model_selection import cross_val_score"
   ]
  },
  {
   "cell_type": "code",
   "execution_count": 59,
   "id": "1eb149ed",
   "metadata": {},
   "outputs": [
    {
     "name": "stdout",
     "output_type": "stream",
     "text": [
      "LinearRegression \n",
      "\n",
      "\n",
      "[ 0.04747092  0.05437576  0.30893216 -0.01560803  0.0202884 ]\n",
      "0.08309184145927932\n",
      "Difference between Accuracy score  and cross validation score is -  0.3638606537531362\n"
     ]
    }
   ],
   "source": [
    "print('LinearRegression ')\n",
    "print('\\n')\n",
    "score=cross_val_score(LR, x, y)\n",
    "print(score)\n",
    "print(score.mean())\n",
    "print('Difference between Accuracy score  and cross validation score is - ', (r2_score(y_test,pred_LR)- score.mean()))"
   ]
  },
  {
   "cell_type": "code",
   "execution_count": 60,
   "id": "d935633c",
   "metadata": {},
   "outputs": [
    {
     "name": "stdout",
     "output_type": "stream",
     "text": [
      "GradientBoostingRegressor \n",
      "\n",
      "\n",
      "[0.47643596 0.60803428 0.67466059 0.31253296 0.25053835]\n",
      "0.464440426832515\n",
      "Difference between Accuracy score  and cross validation score is -  0.2650671373388345\n"
     ]
    }
   ],
   "source": [
    "print('GradientBoostingRegressor ')\n",
    "print('\\n')\n",
    "score=cross_val_score(GB, x, y)\n",
    "print(score)\n",
    "print(score.mean())\n",
    "print('Difference between Accuracy score  and cross validation score is - ', r2_score(y_test,pred_GB)- score.mean())"
   ]
  },
  {
   "cell_type": "code",
   "execution_count": 61,
   "id": "83708b89",
   "metadata": {},
   "outputs": [
    {
     "name": "stdout",
     "output_type": "stream",
     "text": [
      "RandomForestRegressor \n",
      "\n",
      "\n",
      "[ 0.06220673  0.40341804  0.53795792  0.38397269 -0.12006836]\n",
      "0.2534974046982523\n",
      "Difference between Accuracy score  and cross validation score is -  0.6522070865492207\n"
     ]
    }
   ],
   "source": [
    "print('RandomForestRegressor ')\n",
    "print('\\n')\n",
    "score=cross_val_score(RFR, x, y)\n",
    "print(score)\n",
    "print(score.mean())\n",
    "print('Difference between Accuracy score  and cross validation score is - ', r2_score(y_test,pred_RFR)- score.mean())"
   ]
  },
  {
   "cell_type": "code",
   "execution_count": 62,
   "id": "3776c225",
   "metadata": {},
   "outputs": [
    {
     "name": "stdout",
     "output_type": "stream",
     "text": [
      "DecisionTreeRegressor \n",
      "\n",
      "\n",
      "[-0.08713719  0.06109534  0.20417803  0.01294642 -0.54242952]\n",
      "-0.07026938356871301\n",
      "Difference between Accuracy score  and cross validation score is -  0.894651067774984\n"
     ]
    }
   ],
   "source": [
    "print('DecisionTreeRegressor ')\n",
    "print('\\n')\n",
    "score=cross_val_score(DTR, x, y)\n",
    "print(score)\n",
    "print(score.mean())\n",
    "print('Difference between Accuracy score  and cross validation score is - ', r2_score(y_test,pred_DTR)- score.mean())"
   ]
  },
  {
   "cell_type": "code",
   "execution_count": 63,
   "id": "b3a20163",
   "metadata": {},
   "outputs": [
    {
     "name": "stdout",
     "output_type": "stream",
     "text": [
      "KNN \n",
      "\n",
      "\n",
      "[-0.00835257  0.00485858  0.34329126  0.0754236  -0.16636385]\n",
      "0.049771402632236096\n",
      "Difference between Accuracy score  and cross validation score is -  0.8103063229064996\n"
     ]
    }
   ],
   "source": [
    "print('KNN ')\n",
    "print('\\n')\n",
    "score=cross_val_score(knn, x, y)\n",
    "print(score)\n",
    "print(score.mean())\n",
    "print('Difference between Accuracy score  and cross validation score is - ', r2_score(y_test,pred_knn)- score.mean())"
   ]
  },
  {
   "cell_type": "code",
   "execution_count": 64,
   "id": "afb103fc",
   "metadata": {},
   "outputs": [
    {
     "name": "stdout",
     "output_type": "stream",
     "text": [
      "Lasso \n",
      "\n",
      "\n",
      "[-3.95598153 -0.73639933 -0.02506959 -0.43520495 -0.79920148]\n",
      "-1.1903713748312186\n",
      "Difference between Accuracy score  and cross validation score is -  1.1901897122241172\n"
     ]
    }
   ],
   "source": [
    "print('Lasso ')\n",
    "print('\\n')\n",
    "score=cross_val_score(LA, x, y)\n",
    "print(score)\n",
    "print(score.mean())\n",
    "print('Difference between Accuracy score  and cross validation score is - ', r2_score(y_test,pred_LA)- score.mean())"
   ]
  },
  {
   "cell_type": "code",
   "execution_count": 65,
   "id": "eead0c86",
   "metadata": {},
   "outputs": [
    {
     "name": "stdout",
     "output_type": "stream",
     "text": [
      "Ridge \n",
      "\n",
      "\n",
      "[ 0.04741995  0.0543909   0.30892377 -0.01559009  0.02030239]\n",
      "0.0830893852945606\n",
      "Difference between Accuracy score  and cross validation score is -  0.36385953246521724\n"
     ]
    }
   ],
   "source": [
    "print('Ridge ')\n",
    "print('\\n')\n",
    "score=cross_val_score(RI, x, y)\n",
    "print(score)\n",
    "print(score.mean())\n",
    "print('Difference between Accuracy score  and cross validation score is - ', r2_score(y_test,pred_RI)- score.mean())"
   ]
  },
  {
   "cell_type": "markdown",
   "id": "66e3a195",
   "metadata": {},
   "source": [
    "#  Random forest gives a 90 per accuracy and cross validation score is  0.66 percent"
   ]
  },
  {
   "cell_type": "code",
   "execution_count": 66,
   "id": "21efd944",
   "metadata": {},
   "outputs": [],
   "source": [
    "from sklearn.model_selection import GridSearchCV"
   ]
  },
  {
   "cell_type": "code",
   "execution_count": 67,
   "id": "8461a55e",
   "metadata": {},
   "outputs": [
    {
     "data": {
      "text/plain": [
       "GridSearchCV(cv=5, estimator=RandomForestRegressor(),\n",
       "             param_grid={'max_depth': [None, 10], 'min_samples_split': [2, 5],\n",
       "                         'n_estimators': [100, 200], 'random_state': [1, 10]})"
      ]
     },
     "execution_count": 67,
     "metadata": {},
     "output_type": "execute_result"
    }
   ],
   "source": [
    "params = {\n",
    "    'n_estimators': [100, 200],\n",
    "    'max_depth': [None, 10],\n",
    "    'min_samples_split': [2, 5],\n",
    "    'random_state': [1, 10]\n",
    "}\n",
    "\n",
    "\n",
    "\n",
    "gdsv= GridSearchCV(RandomForestRegressor(),params,cv=5)\n",
    "gdsv.fit(x_train,y_train)"
   ]
  },
  {
   "cell_type": "code",
   "execution_count": 68,
   "id": "3b8b9e22",
   "metadata": {},
   "outputs": [
    {
     "data": {
      "text/plain": [
       "{'max_depth': None,\n",
       " 'min_samples_split': 2,\n",
       " 'n_estimators': 200,\n",
       " 'random_state': 10}"
      ]
     },
     "execution_count": 68,
     "metadata": {},
     "output_type": "execute_result"
    }
   ],
   "source": [
    "gdsv.best_params_"
   ]
  },
  {
   "cell_type": "code",
   "execution_count": 69,
   "id": "f42de0ce",
   "metadata": {},
   "outputs": [
    {
     "name": "stdout",
     "output_type": "stream",
     "text": [
      "90.6582995821237\n"
     ]
    }
   ],
   "source": [
    "Final_model = RandomForestRegressor(max_depth= None, min_samples_split = 2,n_estimators = 200,random_state = 10 )\n",
    "Final_model.fit(x_train, y_train)\n",
    "pred = Final_model.predict(x_test)\n",
    "acc= r2_score(y_test, pred)\n",
    "print(acc*100)"
   ]
  },
  {
   "cell_type": "code",
   "execution_count": 70,
   "id": "ed31586b",
   "metadata": {},
   "outputs": [],
   "source": [
    "residuals = y_test - y_pred"
   ]
  },
  {
   "cell_type": "code",
   "execution_count": 71,
   "id": "da869674",
   "metadata": {},
   "outputs": [
    {
     "data": {
      "image/png": "[encoded data removed]",
      "text/plain": [
       "<Figure size 432x288 with 1 Axes>"
      ]
     },
     "metadata": {
      "needs_background": "light"
     },
     "output_type": "display_data"
    }
   ],
   "source": [
    "plt.scatter(y_pred, residuals)\n",
    "plt.axhline(y=0, color='red', linestyle='--')\n",
    "plt.xlabel('Predicted Values')\n",
    "plt.ylabel('Residuals')\n",
    "plt.title('Residuals Plot')\n",
    "plt.show()"
   ]
  },
  {
   "cell_type": "markdown",
   "id": "e21325d5",
   "metadata": {},
   "source": [
    "#  Now we build a model to find region column \n",
    "#  Multiclass Classification Algorithm"
   ]
  },
  {
   "cell_type": "code",
   "execution_count": 72,
   "id": "c0d31152",
   "metadata": {},
   "outputs": [],
   "source": [
    "x=df.drop(columns='region')\n",
    "y= df['region']"
   ]
  },
  {
   "cell_type": "code",
   "execution_count": 73,
   "id": "7b9dcf4c",
   "metadata": {},
   "outputs": [
    {
     "name": "stdout",
     "output_type": "stream",
     "text": [
      "Best accuracy is 0.4515117994100295 at random_state 151\n"
     ]
    }
   ],
   "source": [
    "from sklearn.model_selection import train_test_split\n",
    "from sklearn.ensemble import RandomForestClassifier\n",
    "from sklearn.metrics import accuracy_score\n",
    "\n",
    "maxAccu = 0\n",
    "maxRs = 0\n",
    "\n",
    "for i in range(1, 200):\n",
    "    x_train, x_test, y_train, y_test = train_test_split(x, y, test_size=0.30, random_state=i)\n",
    "    rnd = RandomForestClassifier()\n",
    "    rnd.fit(x_train, y_train)\n",
    "    y_pred = rnd.predict(x_test)\n",
    "    acc = accuracy_score(y_test, y_pred)\n",
    "    if acc > maxAccu:\n",
    "        maxAccu = acc\n",
    "        maxRs = i\n",
    "\n",
    "print('Best accuracy is', maxAccu, 'at random_state', maxRs)\n"
   ]
  },
  {
   "cell_type": "code",
   "execution_count": 74,
   "id": "8b9cf025",
   "metadata": {},
   "outputs": [],
   "source": [
    "x_train, x_test, y_train, y_test = train_test_split(x, y, test_size=0.30, random_state=maxRs)"
   ]
  },
  {
   "cell_type": "code",
   "execution_count": 75,
   "id": "1b2d566a",
   "metadata": {},
   "outputs": [],
   "source": [
    "from sklearn.ensemble import RandomForestClassifier, ExtraTreesClassifier\n",
    "from sklearn.svm import SVC\n",
    "from sklearn.ensemble import GradientBoostingClassifier, AdaBoostClassifier, BaggingClassifier\n",
    "from sklearn.metrics import classification_report ,confusion_matrix, roc_curve, accuracy_score\n",
    "from sklearn.model_selection import cross_val_score"
   ]
  },
  {
   "cell_type": "code",
   "execution_count": 76,
   "id": "7e2e3d0a",
   "metadata": {},
   "outputs": [
    {
     "name": "stdout",
     "output_type": "stream",
     "text": [
      "Accuracy score 0.4480088495575221\n",
      "\n",
      "\n",
      "[[48  0  0 ...  0  0  0]\n",
      " [ 0 26  1 ...  0  0  3]\n",
      " [ 0  0 59 ...  0  0  3]\n",
      " ...\n",
      " [ 0  0  0 ... 54  0  0]\n",
      " [ 0  0  0 ...  1 65  0]\n",
      " [ 0  0  2 ...  0  0 43]]\n"
     ]
    }
   ],
   "source": [
    "Rnd= RandomForestClassifier()\n",
    "Rnd.fit(x_train, y_train)\n",
    "predRnd= Rnd.predict (x_test)\n",
    "print('Accuracy score',(accuracy_score(y_test, predRnd)))\n",
    "print('\\n')\n",
    "print(confusion_matrix(y_test, predRnd))"
   ]
  },
  {
   "cell_type": "code",
   "execution_count": 77,
   "id": "ca4e84d3",
   "metadata": {},
   "outputs": [
    {
     "name": "stdout",
     "output_type": "stream",
     "text": [
      "Accuracy score 0.4452433628318584\n",
      "\n",
      "\n",
      "[[51  0  0 ...  0  0  0]\n",
      " [ 0 28  1 ...  0  0  5]\n",
      " [ 0  0 55 ...  0  0  3]\n",
      " ...\n",
      " [ 0  0  0 ... 54  0  0]\n",
      " [ 0  0  0 ...  0 73  0]\n",
      " [ 0  1  2 ...  0  0 43]]\n"
     ]
    }
   ],
   "source": [
    "Etr= ExtraTreesClassifier()\n",
    "Etr.fit(x_train, y_train)\n",
    "predEtr= Etr.predict (x_test)\n",
    "print('Accuracy score',(accuracy_score(y_test, predEtr)))\n",
    "print('\\n')\n",
    "print(confusion_matrix(y_test, predEtr))"
   ]
  },
  {
   "cell_type": "code",
   "execution_count": 78,
   "id": "9e17c349",
   "metadata": {},
   "outputs": [
    {
     "name": "stdout",
     "output_type": "stream",
     "text": [
      "Accuracy score 0.014564896755162243\n",
      "\n",
      "\n",
      "[[0 0 0 ... 0 0 0]\n",
      " [0 0 0 ... 0 0 0]\n",
      " [0 0 0 ... 0 0 0]\n",
      " ...\n",
      " [0 0 0 ... 0 0 0]\n",
      " [0 0 0 ... 0 0 0]\n",
      " [0 0 0 ... 0 0 0]]\n"
     ]
    }
   ],
   "source": [
    "svc=SVC()\n",
    "svc.fit(x_train, y_train)\n",
    "predsvc=svc.predict (x_test)\n",
    "print('Accuracy score',(accuracy_score(y_test, predsvc)))\n",
    "print('\\n')\n",
    "\n",
    "print(confusion_matrix(y_test, predsvc))"
   ]
  },
  {
   "cell_type": "code",
   "execution_count": 79,
   "id": "415e633e",
   "metadata": {},
   "outputs": [
    {
     "name": "stdout",
     "output_type": "stream",
     "text": [
      "Accuracy score 0.31987463126843657\n",
      "\n",
      "\n",
      "[[28  0  0 ...  0  0  0]\n",
      " [ 0 16  1 ...  0  0  4]\n",
      " [ 0  1 39 ...  0  0  4]\n",
      " ...\n",
      " [ 0  0  0 ... 54  0  0]\n",
      " [ 0  0  0 ...  1 50  0]\n",
      " [ 0  1  3 ...  0  0 27]]\n"
     ]
    }
   ],
   "source": [
    "gbc=GradientBoostingClassifier()\n",
    "gbc.fit(x_train, y_train)\n",
    "predgbc =gbc.predict (x_test)\n",
    "print('Accuracy score',(accuracy_score(y_test, predgbc)))\n",
    "print('\\n')\n",
    "\n",
    "print(confusion_matrix(y_test, predgbc))"
   ]
  },
  {
   "cell_type": "code",
   "execution_count": 80,
   "id": "fcc1d8b4",
   "metadata": {},
   "outputs": [
    {
     "name": "stdout",
     "output_type": "stream",
     "text": [
      "Accuracy score 0.04553834808259587\n",
      "\n",
      "\n",
      "[[ 0  0  0 ...  0  0  0]\n",
      " [ 0  2  0 ...  0  0  0]\n",
      " [ 0  5  0 ...  0  0  0]\n",
      " ...\n",
      " [ 0  0 54 ...  0  0  0]\n",
      " [ 0  0  1 ...  0  0  0]\n",
      " [ 0  6  0 ...  0  0  0]]\n"
     ]
    }
   ],
   "source": [
    "adaboost= AdaBoostClassifier()\n",
    "adaboost.fit(x_train, y_train)\n",
    "predadaboost =adaboost.predict (x_test)\n",
    "print('Accuracy score',(accuracy_score(y_test, predadaboost)))\n",
    "print('\\n')\n",
    "\n",
    "print(confusion_matrix(y_test, predadaboost))"
   ]
  },
  {
   "cell_type": "code",
   "execution_count": 81,
   "id": "b3a59326",
   "metadata": {},
   "outputs": [
    {
     "name": "stdout",
     "output_type": "stream",
     "text": [
      "Accuracy score 0.4105825958702065\n",
      "\n",
      "\n",
      "[[48  0  0 ...  0  0  0]\n",
      " [ 0 30  0 ...  0  0  4]\n",
      " [ 0  0 58 ...  0  0  1]\n",
      " ...\n",
      " [ 0  0  0 ... 54  0  0]\n",
      " [ 0  0  0 ...  1 61  0]\n",
      " [ 0  1  3 ...  0  0 41]]\n"
     ]
    }
   ],
   "source": [
    "bagging=BaggingClassifier()\n",
    "bagging.fit(x_train, y_train)\n",
    "predbagging =bagging.predict (x_test)\n",
    "print('Accuracy score',(accuracy_score(y_test, predbagging)))\n",
    "print('\\n')\n",
    "\n",
    "print(confusion_matrix(y_test, predbagging))"
   ]
  },
  {
   "cell_type": "markdown",
   "id": "3d78f7a2",
   "metadata": {},
   "source": [
    "#  Cross Validation Score"
   ]
  },
  {
   "cell_type": "code",
   "execution_count": 82,
   "id": "4908e6b6",
   "metadata": {},
   "outputs": [
    {
     "name": "stdout",
     "output_type": "stream",
     "text": [
      "RandomForestClassifier \n",
      "\n",
      "\n",
      "[0.23534292 0.28595133 0.28042035 0.20276625 0.11784232]\n",
      "0.2244646354300542\n",
      "Difference between Accuracy score  and cross validation score is -  0.22354421412746792\n"
     ]
    }
   ],
   "source": [
    "print('RandomForestClassifier ')\n",
    "print('\\n')\n",
    "score=cross_val_score(Rnd, x, y)\n",
    "print(score)\n",
    "print(score.mean())\n",
    "print('Difference between Accuracy score  and cross validation score is - ', accuracy_score(y_test,predRnd)- score.mean())"
   ]
  },
  {
   "cell_type": "code",
   "execution_count": 83,
   "id": "1bd2f81d",
   "metadata": {},
   "outputs": [
    {
     "name": "stdout",
     "output_type": "stream",
     "text": [
      "ExtraTreesClassifier \n",
      "\n",
      "\n",
      "[0.24336283 0.27903761 0.28042035 0.21272476 0.11784232]\n",
      "0.2266775756129206\n",
      "Difference between Accuracy score  and cross validation score is -  0.2185657872189378\n"
     ]
    }
   ],
   "source": [
    "print('ExtraTreesClassifier ')\n",
    "print('\\n')\n",
    "score=cross_val_score(Etr, x, y)\n",
    "print(score)\n",
    "print(score.mean())\n",
    "print('Difference between Accuracy score  and cross validation score is - ', accuracy_score(y_test,predEtr)- score.mean())"
   ]
  },
  {
   "cell_type": "code",
   "execution_count": 84,
   "id": "fad98d4e",
   "metadata": {},
   "outputs": [
    {
     "name": "stdout",
     "output_type": "stream",
     "text": [
      "SVC \n",
      "\n",
      "\n",
      "[0.05586283 0.02959071 0.02848451 0.01632089 0.01825726]\n",
      "0.029703239941737354\n",
      "Difference between Accuracy score  and cross validation score is -  -0.015138343186575112\n"
     ]
    }
   ],
   "source": [
    "print('SVC ')\n",
    "print('\\n')\n",
    "score=cross_val_score(svc, x, y)\n",
    "print(score)\n",
    "print(score.mean())\n",
    "print('Difference between Accuracy score  and cross validation score is - ', accuracy_score(y_test,predsvc)- score.mean())"
   ]
  },
  {
   "cell_type": "code",
   "execution_count": 85,
   "id": "898e674f",
   "metadata": {},
   "outputs": [
    {
     "name": "stdout",
     "output_type": "stream",
     "text": [
      "GradientBoostingClassifier \n",
      "\n",
      "\n",
      "[0.12693584 0.26631637 0.19496681 0.1626556  0.11341632]\n",
      "0.17285818981872483\n",
      "Difference between Accuracy score  and cross validation score is -  0.14701644144971174\n"
     ]
    }
   ],
   "source": [
    "print('GradientBoostingClassifier ')\n",
    "print('\\n')\n",
    "score=cross_val_score(gbc, x, y)\n",
    "print(score)\n",
    "print(score.mean())\n",
    "print('Difference between Accuracy score  and cross validation score is - ', accuracy_score(y_test,predgbc)- score.mean())"
   ]
  },
  {
   "cell_type": "code",
   "execution_count": 86,
   "id": "1ec06db4",
   "metadata": {},
   "outputs": [
    {
     "name": "stdout",
     "output_type": "stream",
     "text": [
      "AdaBoostClassifier \n",
      "\n",
      "\n",
      "[0.03318584 0.06526549 0.06388274 0.07192254 0.05228216]\n",
      "0.057307754684879864\n",
      "Difference between Accuracy score  and cross validation score is -  -0.011769406602283997\n"
     ]
    }
   ],
   "source": [
    "print('AdaBoostClassifier ')\n",
    "print('\\n')\n",
    "score=cross_val_score(adaboost, x, y)\n",
    "print(score)\n",
    "print(score.mean())\n",
    "print('Difference between Accuracy score  and cross validation score is - ', accuracy_score(y_test,predadaboost)- score.mean())"
   ]
  },
  {
   "cell_type": "code",
   "execution_count": 87,
   "id": "eae9c31e",
   "metadata": {},
   "outputs": [
    {
     "name": "stdout",
     "output_type": "stream",
     "text": [
      "BaggingClassifier \n",
      "\n",
      "\n",
      "[0.22511062 0.27184735 0.24861726 0.18727524 0.11286307]\n",
      "0.20914270676507668\n",
      "Difference between Accuracy score  and cross validation score is -  0.20143988910512983\n"
     ]
    }
   ],
   "source": [
    "print('BaggingClassifier ')\n",
    "print('\\n')\n",
    "score=cross_val_score(bagging, x, y)\n",
    "print(score)\n",
    "print(score.mean())\n",
    "print('Difference between Accuracy score  and cross validation score is - ', accuracy_score(y_test,predbagging)- score.mean())"
   ]
  },
  {
   "cell_type": "markdown",
   "id": "2de4b7b5",
   "metadata": {},
   "source": [
    "# ExtraTreesClassifier gives 40 percent accuracy and cross validation mean score is 2.2"
   ]
  },
  {
   "cell_type": "markdown",
   "id": "789fd435",
   "metadata": {},
   "source": [
    "#  Hyper Parameter Tunning\n",
    "# Try to improve more accuracy score"
   ]
  },
  {
   "cell_type": "markdown",
   "id": "adeca1a2",
   "metadata": {},
   "source": [
    "#  so many time takes   Hyper Parameter Tunning  "
   ]
  },
  {
   "cell_type": "code",
   "execution_count": null,
   "id": "5d4fd4ec",
   "metadata": {},
   "outputs": [],
   "source": [
    "from sklearn.model_selection import GridSearchCV"
   ]
  },
  {
   "cell_type": "code",
   "execution_count": null,
   "id": "1c0e80f3",
   "metadata": {},
   "outputs": [],
   "source": [
    "parameters ={'criterion': ['gini','entropy'],\n",
    "            'random_state': [10,100,850],\n",
    "            'max_depth':[0,15,30],\n",
    "            'n_jobs': [-2,-1,1],\n",
    "            'n_estimators':[50,100,200,300]}\n",
    "\n"
   ]
  },
  {
   "cell_type": "code",
   "execution_count": null,
   "id": "3ac44d12",
   "metadata": {},
   "outputs": [],
   "source": [
    "GCV =GridSearchCV(ExtraTreesClassifier(),parameters, cv=5)"
   ]
  },
  {
   "cell_type": "code",
   "execution_count": null,
   "id": "e5db1ae3",
   "metadata": {},
   "outputs": [],
   "source": [
    "GCV.fit(x_train,y_train)"
   ]
  },
  {
   "cell_type": "code",
   "execution_count": null,
   "id": "c7035ad2",
   "metadata": {},
   "outputs": [],
   "source": [
    "GCV.best_params_"
   ]
  },
  {
   "cell_type": "code",
   "execution_count": null,
   "id": "654f01a3",
   "metadata": {},
   "outputs": [],
   "source": [
    "Final_model= ExtraTreesClassifier(criterion= 'gini',max_depth= 30,n_estimators = 200  , n_jobs= -2 ,random_state =850)\n",
    "Final_model.fit(x_train, y_train)\n",
    "pred = Final_model.predict(x_test)\n",
    "acc= accuracy_score(y_test, pred)\n",
    "print(acc*100)"
   ]
  }
 ],
 "metadata": {
  "kernelspec": {
   "display_name": "Python 3 (ipykernel)",
   "language": "python",
   "name": "python3"
  },
  "language_info": {
   "codemirror_mode": {
    "name": "ipython",
    "version": 3
   },
   "file_extension": ".py",
   "mimetype": "text/x-python",
   "name": "python",
   "nbconvert_exporter": "python",
   "pygments_lexer": "ipython3",
   "version": "3.9.12"
  }
 },
 "nbformat": 4,
 "nbformat_minor": 5
}
