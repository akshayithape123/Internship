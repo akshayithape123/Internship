{
 "cells": [
  {
   "cell_type": "markdown",
   "id": "da71b49c",
   "metadata": {},
   "source": [
    "# Project Description\n",
    "Zomato Data Analysis is one of the most useful analysis for foodies who want to taste the best\n",
    "cuisines of every part of the world which lies in their budget. This analysis is also for those who\n",
    "want to find the value for money restaurants in various parts of the country for the cuisines.\n",
    "Additionally, this analysis caters the needs of people who are striving to get the best cuisine of\n",
    "the country and which locality of that country serves that cuisines with maximum number of\n",
    "restaurants.\n",
    "\n",
    "# Data Storage:\n",
    "This problem statement contains two datasets- Zomato.csv and country_code.csv.\n",
    "Country_code.csv contains two variables:\n",
    "• Country code\n",
    "• Country name\n",
    "\n",
    "The collected data has been stored in the Comma Separated Value file Zomato.csv. Each\n",
    "restaurant in the dataset is uniquely identified by its Restaurant Id. Every Restaurant contains the following variables:\n",
    "• Restaurant Id: Unique id of every restaurant across various cities of the world\n",
    "• Restaurant Name: Name of the restaurant\n",
    "• Country Code: Country in which restaurant is located\n",
    "• City: City in which restaurant is located\n",
    "• Address: Address of the restaurant\n",
    "• Locality: Location in the city\n",
    "• Locality Verbose: Detailed description of the locality\n",
    "• Longitude: Longitude coordinate of the restaurant&#39;s location\n",
    "• Latitude: Latitude coordinate of the restaurant&#39;s location\n",
    "• Cuisines: Cuisines offered by the restaurant\n",
    "• Average Cost for two: Cost for two people in different currencies ��\n",
    "• Currency: Currency of the country\n",
    "• Has Table booking: yes/no\n",
    "• Has Online delivery: yes/ no\n",
    "• Is delivering: yes/ no\n",
    "• Switch to order menu: yes/no\n",
    "• Price range: range of price of food\n",
    "• Aggregate Rating: Average rating out of 5\n",
    "• Rating color: depending upon the average rating color\n",
    "• Rating text: text on the basis of rating of rating\n",
    "• Votes: Number of ratings casted by people\n",
    "\n",
    "Problem statement : In this dataset predict 2 things –\n",
    "1) Average Cost for two\n",
    "2) Price range\n"
   ]
  },
  {
   "cell_type": "code",
   "execution_count": 1,
   "id": "3d721336",
   "metadata": {},
   "outputs": [],
   "source": [
    "import pandas as pd\n",
    "import numpy as np\n",
    "import seaborn as sns \n",
    "import matplotlib.pyplot as plt\n",
    "import warnings \n",
    "warnings.filterwarnings('ignore')"
   ]
  },
  {
   "cell_type": "code",
   "execution_count": 2,
   "id": "9f622dee",
   "metadata": {},
   "outputs": [
    {
     "data": {
      "text/html": [
       "<div>\n",
       "<style scoped>\n",
       "    .dataframe tbody tr th:only-of-type {\n",
       "        vertical-align: middle;\n",
       "    }\n",
       "\n",
       "    .dataframe tbody tr th {\n",
       "        vertical-align: top;\n",
       "    }\n",
       "\n",
       "    .dataframe thead th {\n",
       "        text-align: right;\n",
       "    }\n",
       "</style>\n",
       "<table border=\"1\" class=\"dataframe\">\n",
       "  <thead>\n",
       "    <tr style=\"text-align: right;\">\n",
       "      <th></th>\n",
       "      <th>Restaurant ID</th>\n",
       "      <th>Restaurant Name</th>\n",
       "      <th>Country Code</th>\n",
       "      <th>City</th>\n",
       "      <th>Address</th>\n",
       "      <th>Locality</th>\n",
       "      <th>Locality Verbose</th>\n",
       "      <th>Longitude</th>\n",
       "      <th>Latitude</th>\n",
       "      <th>Cuisines</th>\n",
       "      <th>...</th>\n",
       "      <th>Currency</th>\n",
       "      <th>Has Table booking</th>\n",
       "      <th>Has Online delivery</th>\n",
       "      <th>Is delivering now</th>\n",
       "      <th>Switch to order menu</th>\n",
       "      <th>Price range</th>\n",
       "      <th>Aggregate rating</th>\n",
       "      <th>Rating color</th>\n",
       "      <th>Rating text</th>\n",
       "      <th>Votes</th>\n",
       "    </tr>\n",
       "  </thead>\n",
       "  <tbody>\n",
       "    <tr>\n",
       "      <th>0</th>\n",
       "      <td>6317637</td>\n",
       "      <td>Le Petit Souffle</td>\n",
       "      <td>162</td>\n",
       "      <td>Makati City</td>\n",
       "      <td>Third Floor, Century City Mall, Kalayaan Avenu...</td>\n",
       "      <td>Century City Mall, Poblacion, Makati City</td>\n",
       "      <td>Century City Mall, Poblacion, Makati City, Mak...</td>\n",
       "      <td>121.027535</td>\n",
       "      <td>14.565443</td>\n",
       "      <td>French, Japanese, Desserts</td>\n",
       "      <td>...</td>\n",
       "      <td>Botswana Pula(P)</td>\n",
       "      <td>Yes</td>\n",
       "      <td>No</td>\n",
       "      <td>No</td>\n",
       "      <td>No</td>\n",
       "      <td>3</td>\n",
       "      <td>4.8</td>\n",
       "      <td>Dark Green</td>\n",
       "      <td>Excellent</td>\n",
       "      <td>314</td>\n",
       "    </tr>\n",
       "    <tr>\n",
       "      <th>1</th>\n",
       "      <td>6304287</td>\n",
       "      <td>Izakaya Kikufuji</td>\n",
       "      <td>162</td>\n",
       "      <td>Makati City</td>\n",
       "      <td>Little Tokyo, 2277 Chino Roces Avenue, Legaspi...</td>\n",
       "      <td>Little Tokyo, Legaspi Village, Makati City</td>\n",
       "      <td>Little Tokyo, Legaspi Village, Makati City, Ma...</td>\n",
       "      <td>121.014101</td>\n",
       "      <td>14.553708</td>\n",
       "      <td>Japanese</td>\n",
       "      <td>...</td>\n",
       "      <td>Botswana Pula(P)</td>\n",
       "      <td>Yes</td>\n",
       "      <td>No</td>\n",
       "      <td>No</td>\n",
       "      <td>No</td>\n",
       "      <td>3</td>\n",
       "      <td>4.5</td>\n",
       "      <td>Dark Green</td>\n",
       "      <td>Excellent</td>\n",
       "      <td>591</td>\n",
       "    </tr>\n",
       "    <tr>\n",
       "      <th>2</th>\n",
       "      <td>6300002</td>\n",
       "      <td>Heat - Edsa Shangri-La</td>\n",
       "      <td>162</td>\n",
       "      <td>Mandaluyong City</td>\n",
       "      <td>Edsa Shangri-La, 1 Garden Way, Ortigas, Mandal...</td>\n",
       "      <td>Edsa Shangri-La, Ortigas, Mandaluyong City</td>\n",
       "      <td>Edsa Shangri-La, Ortigas, Mandaluyong City, Ma...</td>\n",
       "      <td>121.056831</td>\n",
       "      <td>14.581404</td>\n",
       "      <td>Seafood, Asian, Filipino, Indian</td>\n",
       "      <td>...</td>\n",
       "      <td>Botswana Pula(P)</td>\n",
       "      <td>Yes</td>\n",
       "      <td>No</td>\n",
       "      <td>No</td>\n",
       "      <td>No</td>\n",
       "      <td>4</td>\n",
       "      <td>4.4</td>\n",
       "      <td>Green</td>\n",
       "      <td>Very Good</td>\n",
       "      <td>270</td>\n",
       "    </tr>\n",
       "    <tr>\n",
       "      <th>3</th>\n",
       "      <td>6318506</td>\n",
       "      <td>Ooma</td>\n",
       "      <td>162</td>\n",
       "      <td>Mandaluyong City</td>\n",
       "      <td>Third Floor, Mega Fashion Hall, SM Megamall, O...</td>\n",
       "      <td>SM Megamall, Ortigas, Mandaluyong City</td>\n",
       "      <td>SM Megamall, Ortigas, Mandaluyong City, Mandal...</td>\n",
       "      <td>121.056475</td>\n",
       "      <td>14.585318</td>\n",
       "      <td>Japanese, Sushi</td>\n",
       "      <td>...</td>\n",
       "      <td>Botswana Pula(P)</td>\n",
       "      <td>No</td>\n",
       "      <td>No</td>\n",
       "      <td>No</td>\n",
       "      <td>No</td>\n",
       "      <td>4</td>\n",
       "      <td>4.9</td>\n",
       "      <td>Dark Green</td>\n",
       "      <td>Excellent</td>\n",
       "      <td>365</td>\n",
       "    </tr>\n",
       "    <tr>\n",
       "      <th>4</th>\n",
       "      <td>6314302</td>\n",
       "      <td>Sambo Kojin</td>\n",
       "      <td>162</td>\n",
       "      <td>Mandaluyong City</td>\n",
       "      <td>Third Floor, Mega Atrium, SM Megamall, Ortigas...</td>\n",
       "      <td>SM Megamall, Ortigas, Mandaluyong City</td>\n",
       "      <td>SM Megamall, Ortigas, Mandaluyong City, Mandal...</td>\n",
       "      <td>121.057508</td>\n",
       "      <td>14.584450</td>\n",
       "      <td>Japanese, Korean</td>\n",
       "      <td>...</td>\n",
       "      <td>Botswana Pula(P)</td>\n",
       "      <td>Yes</td>\n",
       "      <td>No</td>\n",
       "      <td>No</td>\n",
       "      <td>No</td>\n",
       "      <td>4</td>\n",
       "      <td>4.8</td>\n",
       "      <td>Dark Green</td>\n",
       "      <td>Excellent</td>\n",
       "      <td>229</td>\n",
       "    </tr>\n",
       "  </tbody>\n",
       "</table>\n",
       "<p>5 rows × 21 columns</p>\n",
       "</div>"
      ],
      "text/plain": [
       "   Restaurant ID         Restaurant Name  Country Code              City  \\\n",
       "0        6317637        Le Petit Souffle           162       Makati City   \n",
       "1        6304287        Izakaya Kikufuji           162       Makati City   \n",
       "2        6300002  Heat - Edsa Shangri-La           162  Mandaluyong City   \n",
       "3        6318506                    Ooma           162  Mandaluyong City   \n",
       "4        6314302             Sambo Kojin           162  Mandaluyong City   \n",
       "\n",
       "                                             Address  \\\n",
       "0  Third Floor, Century City Mall, Kalayaan Avenu...   \n",
       "1  Little Tokyo, 2277 Chino Roces Avenue, Legaspi...   \n",
       "2  Edsa Shangri-La, 1 Garden Way, Ortigas, Mandal...   \n",
       "3  Third Floor, Mega Fashion Hall, SM Megamall, O...   \n",
       "4  Third Floor, Mega Atrium, SM Megamall, Ortigas...   \n",
       "\n",
       "                                     Locality  \\\n",
       "0   Century City Mall, Poblacion, Makati City   \n",
       "1  Little Tokyo, Legaspi Village, Makati City   \n",
       "2  Edsa Shangri-La, Ortigas, Mandaluyong City   \n",
       "3      SM Megamall, Ortigas, Mandaluyong City   \n",
       "4      SM Megamall, Ortigas, Mandaluyong City   \n",
       "\n",
       "                                    Locality Verbose   Longitude   Latitude  \\\n",
       "0  Century City Mall, Poblacion, Makati City, Mak...  121.027535  14.565443   \n",
       "1  Little Tokyo, Legaspi Village, Makati City, Ma...  121.014101  14.553708   \n",
       "2  Edsa Shangri-La, Ortigas, Mandaluyong City, Ma...  121.056831  14.581404   \n",
       "3  SM Megamall, Ortigas, Mandaluyong City, Mandal...  121.056475  14.585318   \n",
       "4  SM Megamall, Ortigas, Mandaluyong City, Mandal...  121.057508  14.584450   \n",
       "\n",
       "                           Cuisines  ...          Currency Has Table booking  \\\n",
       "0        French, Japanese, Desserts  ...  Botswana Pula(P)               Yes   \n",
       "1                          Japanese  ...  Botswana Pula(P)               Yes   \n",
       "2  Seafood, Asian, Filipino, Indian  ...  Botswana Pula(P)               Yes   \n",
       "3                   Japanese, Sushi  ...  Botswana Pula(P)                No   \n",
       "4                  Japanese, Korean  ...  Botswana Pula(P)               Yes   \n",
       "\n",
       "  Has Online delivery Is delivering now Switch to order menu Price range  \\\n",
       "0                  No                No                   No           3   \n",
       "1                  No                No                   No           3   \n",
       "2                  No                No                   No           4   \n",
       "3                  No                No                   No           4   \n",
       "4                  No                No                   No           4   \n",
       "\n",
       "   Aggregate rating  Rating color Rating text Votes  \n",
       "0               4.8    Dark Green   Excellent   314  \n",
       "1               4.5    Dark Green   Excellent   591  \n",
       "2               4.4         Green   Very Good   270  \n",
       "3               4.9    Dark Green   Excellent   365  \n",
       "4               4.8    Dark Green   Excellent   229  \n",
       "\n",
       "[5 rows x 21 columns]"
      ]
     },
     "execution_count": 2,
     "metadata": {},
     "output_type": "execute_result"
    }
   ],
   "source": [
    "try:\n",
    "    df1 = pd.read_csv('https://raw.githubusercontent.com/dsrscientist/dataset4/main/zomato.csv', encoding='ISO-8859-1')\n",
    "except UnicodeDecodeError:\n",
    "    df1 = pd.read_csv('https://raw.githubusercontent.com/dsrscientist/dataset4/main/zomato.csv', encoding='cp1252')\n",
    "df1.head()"
   ]
  },
  {
   "cell_type": "code",
   "execution_count": 3,
   "id": "ec2492c9",
   "metadata": {},
   "outputs": [
    {
     "data": {
      "text/html": [
       "<div>\n",
       "<style scoped>\n",
       "    .dataframe tbody tr th:only-of-type {\n",
       "        vertical-align: middle;\n",
       "    }\n",
       "\n",
       "    .dataframe tbody tr th {\n",
       "        vertical-align: top;\n",
       "    }\n",
       "\n",
       "    .dataframe thead th {\n",
       "        text-align: right;\n",
       "    }\n",
       "</style>\n",
       "<table border=\"1\" class=\"dataframe\">\n",
       "  <thead>\n",
       "    <tr style=\"text-align: right;\">\n",
       "      <th></th>\n",
       "      <th>Country Code</th>\n",
       "      <th>Country</th>\n",
       "    </tr>\n",
       "  </thead>\n",
       "  <tbody>\n",
       "    <tr>\n",
       "      <th>0</th>\n",
       "      <td>1</td>\n",
       "      <td>India</td>\n",
       "    </tr>\n",
       "    <tr>\n",
       "      <th>1</th>\n",
       "      <td>14</td>\n",
       "      <td>Australia</td>\n",
       "    </tr>\n",
       "    <tr>\n",
       "      <th>2</th>\n",
       "      <td>30</td>\n",
       "      <td>Brazil</td>\n",
       "    </tr>\n",
       "    <tr>\n",
       "      <th>3</th>\n",
       "      <td>37</td>\n",
       "      <td>Canada</td>\n",
       "    </tr>\n",
       "    <tr>\n",
       "      <th>4</th>\n",
       "      <td>94</td>\n",
       "      <td>Indonesia</td>\n",
       "    </tr>\n",
       "    <tr>\n",
       "      <th>5</th>\n",
       "      <td>148</td>\n",
       "      <td>New Zealand</td>\n",
       "    </tr>\n",
       "    <tr>\n",
       "      <th>6</th>\n",
       "      <td>162</td>\n",
       "      <td>Phillipines</td>\n",
       "    </tr>\n",
       "    <tr>\n",
       "      <th>7</th>\n",
       "      <td>166</td>\n",
       "      <td>Qatar</td>\n",
       "    </tr>\n",
       "    <tr>\n",
       "      <th>8</th>\n",
       "      <td>184</td>\n",
       "      <td>Singapore</td>\n",
       "    </tr>\n",
       "    <tr>\n",
       "      <th>9</th>\n",
       "      <td>189</td>\n",
       "      <td>South Africa</td>\n",
       "    </tr>\n",
       "    <tr>\n",
       "      <th>10</th>\n",
       "      <td>191</td>\n",
       "      <td>Sri Lanka</td>\n",
       "    </tr>\n",
       "    <tr>\n",
       "      <th>11</th>\n",
       "      <td>208</td>\n",
       "      <td>Turkey</td>\n",
       "    </tr>\n",
       "    <tr>\n",
       "      <th>12</th>\n",
       "      <td>214</td>\n",
       "      <td>UAE</td>\n",
       "    </tr>\n",
       "    <tr>\n",
       "      <th>13</th>\n",
       "      <td>215</td>\n",
       "      <td>United Kingdom</td>\n",
       "    </tr>\n",
       "    <tr>\n",
       "      <th>14</th>\n",
       "      <td>216</td>\n",
       "      <td>United States</td>\n",
       "    </tr>\n",
       "  </tbody>\n",
       "</table>\n",
       "</div>"
      ],
      "text/plain": [
       "    Country Code         Country\n",
       "0              1           India\n",
       "1             14       Australia\n",
       "2             30          Brazil\n",
       "3             37          Canada\n",
       "4             94       Indonesia\n",
       "5            148     New Zealand\n",
       "6            162     Phillipines\n",
       "7            166           Qatar\n",
       "8            184       Singapore\n",
       "9            189    South Africa\n",
       "10           191       Sri Lanka\n",
       "11           208          Turkey\n",
       "12           214             UAE\n",
       "13           215  United Kingdom\n",
       "14           216   United States"
      ]
     },
     "execution_count": 3,
     "metadata": {},
     "output_type": "execute_result"
    }
   ],
   "source": [
    "df2 = pd.read_excel('C:/Users/Admin/Downloads/Country-Code.xlsx')\n",
    "df2"
   ]
  },
  {
   "cell_type": "code",
   "execution_count": 4,
   "id": "ff8990d3",
   "metadata": {},
   "outputs": [
    {
     "name": "stdout",
     "output_type": "stream",
     "text": [
      "      Country Code      Country\n",
      "0              162  Phillipines\n",
      "1              162  Phillipines\n",
      "2              162  Phillipines\n",
      "3              162  Phillipines\n",
      "4              162  Phillipines\n",
      "...            ...          ...\n",
      "9546           208       Turkey\n",
      "9547           208       Turkey\n",
      "9548           208       Turkey\n",
      "9549           208       Turkey\n",
      "9550           208       Turkey\n",
      "\n",
      "[9551 rows x 2 columns]\n"
     ]
    }
   ],
   "source": [
    "df=pd.merge (df1,df2) \n",
    "print(df[['Country Code','Country']])\n"
   ]
  },
  {
   "cell_type": "code",
   "execution_count": 5,
   "id": "1330e2e0",
   "metadata": {},
   "outputs": [
    {
     "data": {
      "text/plain": [
       "(9551, 22)"
      ]
     },
     "execution_count": 5,
     "metadata": {},
     "output_type": "execute_result"
    }
   ],
   "source": [
    "df.shape"
   ]
  },
  {
   "cell_type": "markdown",
   "id": "85060b56",
   "metadata": {},
   "source": [
    "#  There is 9551 rows and 22 columns present in the dataset"
   ]
  },
  {
   "cell_type": "code",
   "execution_count": 6,
   "id": "d4623469",
   "metadata": {},
   "outputs": [
    {
     "data": {
      "text/plain": [
       "0"
      ]
     },
     "execution_count": 6,
     "metadata": {},
     "output_type": "execute_result"
    }
   ],
   "source": [
    "df.duplicated().sum()"
   ]
  },
  {
   "cell_type": "markdown",
   "id": "ac247d0a",
   "metadata": {},
   "source": [
    "#  There is no duplicate value present in the dataset"
   ]
  },
  {
   "cell_type": "code",
   "execution_count": 7,
   "id": "73b6531a",
   "metadata": {},
   "outputs": [
    {
     "data": {
      "text/plain": [
       "Restaurant ID           0\n",
       "Restaurant Name         0\n",
       "Country Code            0\n",
       "City                    0\n",
       "Address                 0\n",
       "Locality                0\n",
       "Locality Verbose        0\n",
       "Longitude               0\n",
       "Latitude                0\n",
       "Cuisines                9\n",
       "Average Cost for two    0\n",
       "Currency                0\n",
       "Has Table booking       0\n",
       "Has Online delivery     0\n",
       "Is delivering now       0\n",
       "Switch to order menu    0\n",
       "Price range             0\n",
       "Aggregate rating        0\n",
       "Rating color            0\n",
       "Rating text             0\n",
       "Votes                   0\n",
       "Country                 0\n",
       "dtype: int64"
      ]
     },
     "execution_count": 7,
     "metadata": {},
     "output_type": "execute_result"
    }
   ],
   "source": [
    "df.isna().sum()"
   ]
  },
  {
   "cell_type": "markdown",
   "id": "a2e60463",
   "metadata": {},
   "source": [
    "#  Cuisines columns found null value present in the dataset we drop this           "
   ]
  },
  {
   "cell_type": "code",
   "execution_count": 8,
   "id": "f9cc0c29",
   "metadata": {},
   "outputs": [],
   "source": [
    "df.dropna(how='any',inplace=True)"
   ]
  },
  {
   "cell_type": "code",
   "execution_count": 9,
   "id": "0fdffa91",
   "metadata": {},
   "outputs": [
    {
     "data": {
      "text/plain": [
       "Restaurant ID           0\n",
       "Restaurant Name         0\n",
       "Country Code            0\n",
       "City                    0\n",
       "Address                 0\n",
       "Locality                0\n",
       "Locality Verbose        0\n",
       "Longitude               0\n",
       "Latitude                0\n",
       "Cuisines                0\n",
       "Average Cost for two    0\n",
       "Currency                0\n",
       "Has Table booking       0\n",
       "Has Online delivery     0\n",
       "Is delivering now       0\n",
       "Switch to order menu    0\n",
       "Price range             0\n",
       "Aggregate rating        0\n",
       "Rating color            0\n",
       "Rating text             0\n",
       "Votes                   0\n",
       "Country                 0\n",
       "dtype: int64"
      ]
     },
     "execution_count": 9,
     "metadata": {},
     "output_type": "execute_result"
    }
   ],
   "source": [
    "df.isna().sum()"
   ]
  },
  {
   "cell_type": "code",
   "execution_count": 10,
   "id": "97b618dc",
   "metadata": {
    "scrolled": false
   },
   "outputs": [
    {
     "name": "stdout",
     "output_type": "stream",
     "text": [
      "<bound method IndexOpsMixin.value_counts of 0       6317637\n",
      "1       6304287\n",
      "2       6300002\n",
      "3       6318506\n",
      "4       6314302\n",
      "         ...   \n",
      "9546    5915730\n",
      "9547    5908749\n",
      "9548    5915807\n",
      "9549    5916112\n",
      "9550    5927402\n",
      "Name: Restaurant ID, Length: 9542, dtype: int64>\n",
      "<bound method IndexOpsMixin.value_counts of 0               Le Petit Souffle\n",
      "1               Izakaya Kikufuji\n",
      "2         Heat - Edsa Shangri-La\n",
      "3                           Ooma\n",
      "4                    Sambo Kojin\n",
      "                  ...           \n",
      "9546                NamlÛ± Gurme\n",
      "9547               Ceviz AÛôacÛ±\n",
      "9548                       Huqqa\n",
      "9549                Aôôk Kahve\n",
      "9550    Walter's Coffee Roastery\n",
      "Name: Restaurant Name, Length: 9542, dtype: object>\n",
      "<bound method IndexOpsMixin.value_counts of 0       162\n",
      "1       162\n",
      "2       162\n",
      "3       162\n",
      "4       162\n",
      "       ... \n",
      "9546    208\n",
      "9547    208\n",
      "9548    208\n",
      "9549    208\n",
      "9550    208\n",
      "Name: Country Code, Length: 9542, dtype: int64>\n",
      "<bound method IndexOpsMixin.value_counts of 0            Makati City\n",
      "1            Makati City\n",
      "2       Mandaluyong City\n",
      "3       Mandaluyong City\n",
      "4       Mandaluyong City\n",
      "              ...       \n",
      "9546           ÛÁstanbul\n",
      "9547           ÛÁstanbul\n",
      "9548           ÛÁstanbul\n",
      "9549           ÛÁstanbul\n",
      "9550           ÛÁstanbul\n",
      "Name: City, Length: 9542, dtype: object>\n",
      "<bound method IndexOpsMixin.value_counts of 0       Third Floor, Century City Mall, Kalayaan Avenu...\n",
      "1       Little Tokyo, 2277 Chino Roces Avenue, Legaspi...\n",
      "2       Edsa Shangri-La, 1 Garden Way, Ortigas, Mandal...\n",
      "3       Third Floor, Mega Fashion Hall, SM Megamall, O...\n",
      "4       Third Floor, Mega Atrium, SM Megamall, Ortigas...\n",
      "                              ...                        \n",
      "9546    Kemankeô Karamustafa Paôa Mahallesi, RÛ±htÛ±...\n",
      "9547    Koôuyolu Mahallesi, Muhittin íìstí_ndaÛô Cadd...\n",
      "9548    Kuruí_eôme Mahallesi, Muallim Naci Caddesi, N...\n",
      "9549    Kuruí_eôme Mahallesi, Muallim Naci Caddesi, N...\n",
      "9550    CafeaÛôa Mahallesi, BademaltÛ± Sokak, No 21/B,...\n",
      "Name: Address, Length: 9542, dtype: object>\n",
      "<bound method IndexOpsMixin.value_counts of 0        Century City Mall, Poblacion, Makati City\n",
      "1       Little Tokyo, Legaspi Village, Makati City\n",
      "2       Edsa Shangri-La, Ortigas, Mandaluyong City\n",
      "3           SM Megamall, Ortigas, Mandaluyong City\n",
      "4           SM Megamall, Ortigas, Mandaluyong City\n",
      "                           ...                    \n",
      "9546                                      Karakí_y\n",
      "9547                                     Koôuyolu\n",
      "9548                                   Kuruí_eôme\n",
      "9549                                   Kuruí_eôme\n",
      "9550                                          Moda\n",
      "Name: Locality, Length: 9542, dtype: object>\n",
      "<bound method IndexOpsMixin.value_counts of 0       Century City Mall, Poblacion, Makati City, Mak...\n",
      "1       Little Tokyo, Legaspi Village, Makati City, Ma...\n",
      "2       Edsa Shangri-La, Ortigas, Mandaluyong City, Ma...\n",
      "3       SM Megamall, Ortigas, Mandaluyong City, Mandal...\n",
      "4       SM Megamall, Ortigas, Mandaluyong City, Mandal...\n",
      "                              ...                        \n",
      "9546                                  Karakí_y, ÛÁstanbul\n",
      "9547                                 Koôuyolu, ÛÁstanbul\n",
      "9548                               Kuruí_eôme, ÛÁstanbul\n",
      "9549                               Kuruí_eôme, ÛÁstanbul\n",
      "9550                                      Moda, ÛÁstanbul\n",
      "Name: Locality Verbose, Length: 9542, dtype: object>\n",
      "<bound method IndexOpsMixin.value_counts of 0       121.027535\n",
      "1       121.014101\n",
      "2       121.056831\n",
      "3       121.056475\n",
      "4       121.057508\n",
      "           ...    \n",
      "9546     28.977392\n",
      "9547     29.041297\n",
      "9548     29.034640\n",
      "9549     29.036019\n",
      "9550     29.026016\n",
      "Name: Longitude, Length: 9542, dtype: float64>\n",
      "<bound method IndexOpsMixin.value_counts of 0       14.565443\n",
      "1       14.553708\n",
      "2       14.581404\n",
      "3       14.585318\n",
      "4       14.584450\n",
      "          ...    \n",
      "9546    41.022793\n",
      "9547    41.009847\n",
      "9548    41.055817\n",
      "9549    41.057979\n",
      "9550    40.984776\n",
      "Name: Latitude, Length: 9542, dtype: float64>\n",
      "<bound method IndexOpsMixin.value_counts of 0             French, Japanese, Desserts\n",
      "1                               Japanese\n",
      "2       Seafood, Asian, Filipino, Indian\n",
      "3                        Japanese, Sushi\n",
      "4                       Japanese, Korean\n",
      "                      ...               \n",
      "9546                             Turkish\n",
      "9547     World Cuisine, Patisserie, Cafe\n",
      "9548              Italian, World Cuisine\n",
      "9549                     Restaurant Cafe\n",
      "9550                                Cafe\n",
      "Name: Cuisines, Length: 9542, dtype: object>\n",
      "<bound method IndexOpsMixin.value_counts of 0       1100\n",
      "1       1200\n",
      "2       4000\n",
      "3       1500\n",
      "4       1500\n",
      "        ... \n",
      "9546      80\n",
      "9547     105\n",
      "9548     170\n",
      "9549     120\n",
      "9550      55\n",
      "Name: Average Cost for two, Length: 9542, dtype: int64>\n",
      "<bound method IndexOpsMixin.value_counts of 0       Botswana Pula(P)\n",
      "1       Botswana Pula(P)\n",
      "2       Botswana Pula(P)\n",
      "3       Botswana Pula(P)\n",
      "4       Botswana Pula(P)\n",
      "              ...       \n",
      "9546    Turkish Lira(TL)\n",
      "9547    Turkish Lira(TL)\n",
      "9548    Turkish Lira(TL)\n",
      "9549    Turkish Lira(TL)\n",
      "9550    Turkish Lira(TL)\n",
      "Name: Currency, Length: 9542, dtype: object>\n",
      "<bound method IndexOpsMixin.value_counts of 0       Yes\n",
      "1       Yes\n",
      "2       Yes\n",
      "3        No\n",
      "4       Yes\n",
      "       ... \n",
      "9546     No\n",
      "9547     No\n",
      "9548     No\n",
      "9549     No\n",
      "9550     No\n",
      "Name: Has Table booking, Length: 9542, dtype: object>\n",
      "<bound method IndexOpsMixin.value_counts of 0       No\n",
      "1       No\n",
      "2       No\n",
      "3       No\n",
      "4       No\n",
      "        ..\n",
      "9546    No\n",
      "9547    No\n",
      "9548    No\n",
      "9549    No\n",
      "9550    No\n",
      "Name: Has Online delivery, Length: 9542, dtype: object>\n",
      "<bound method IndexOpsMixin.value_counts of 0       No\n",
      "1       No\n",
      "2       No\n",
      "3       No\n",
      "4       No\n",
      "        ..\n",
      "9546    No\n",
      "9547    No\n",
      "9548    No\n",
      "9549    No\n",
      "9550    No\n",
      "Name: Is delivering now, Length: 9542, dtype: object>\n",
      "<bound method IndexOpsMixin.value_counts of 0       No\n",
      "1       No\n",
      "2       No\n",
      "3       No\n",
      "4       No\n",
      "        ..\n",
      "9546    No\n",
      "9547    No\n",
      "9548    No\n",
      "9549    No\n",
      "9550    No\n",
      "Name: Switch to order menu, Length: 9542, dtype: object>\n",
      "<bound method IndexOpsMixin.value_counts of 0       3\n",
      "1       3\n",
      "2       4\n",
      "3       4\n",
      "4       4\n",
      "       ..\n",
      "9546    3\n",
      "9547    3\n",
      "9548    4\n",
      "9549    4\n",
      "9550    2\n",
      "Name: Price range, Length: 9542, dtype: int64>\n",
      "<bound method IndexOpsMixin.value_counts of 0       4.8\n",
      "1       4.5\n",
      "2       4.4\n",
      "3       4.9\n",
      "4       4.8\n",
      "       ... \n",
      "9546    4.1\n",
      "9547    4.2\n",
      "9548    3.7\n",
      "9549    4.0\n",
      "9550    4.0\n",
      "Name: Aggregate rating, Length: 9542, dtype: float64>\n",
      "<bound method IndexOpsMixin.value_counts of 0       Dark Green\n",
      "1       Dark Green\n",
      "2            Green\n",
      "3       Dark Green\n",
      "4       Dark Green\n",
      "           ...    \n",
      "9546         Green\n",
      "9547         Green\n",
      "9548        Yellow\n",
      "9549         Green\n",
      "9550         Green\n",
      "Name: Rating color, Length: 9542, dtype: object>\n",
      "<bound method IndexOpsMixin.value_counts of 0       Excellent\n",
      "1       Excellent\n",
      "2       Very Good\n",
      "3       Excellent\n",
      "4       Excellent\n",
      "          ...    \n",
      "9546    Very Good\n",
      "9547    Very Good\n",
      "9548         Good\n",
      "9549    Very Good\n",
      "9550    Very Good\n",
      "Name: Rating text, Length: 9542, dtype: object>\n",
      "<bound method IndexOpsMixin.value_counts of 0        314\n",
      "1        591\n",
      "2        270\n",
      "3        365\n",
      "4        229\n",
      "        ... \n",
      "9546     788\n",
      "9547    1034\n",
      "9548     661\n",
      "9549     901\n",
      "9550     591\n",
      "Name: Votes, Length: 9542, dtype: int64>\n",
      "<bound method IndexOpsMixin.value_counts of 0       Phillipines\n",
      "1       Phillipines\n",
      "2       Phillipines\n",
      "3       Phillipines\n",
      "4       Phillipines\n",
      "           ...     \n",
      "9546         Turkey\n",
      "9547         Turkey\n",
      "9548         Turkey\n",
      "9549         Turkey\n",
      "9550         Turkey\n",
      "Name: Country, Length: 9542, dtype: object>\n"
     ]
    }
   ],
   "source": [
    "for column in df.columns:\n",
    "    print(df[column].value_counts)"
   ]
  },
  {
   "cell_type": "code",
   "execution_count": 11,
   "id": "3af1a732",
   "metadata": {},
   "outputs": [
    {
     "data": {
      "image/png": "[encoded data removed]",
      "text/plain": [
       "<Figure size 720x432 with 1 Axes>"
      ]
     },
     "metadata": {},
     "output_type": "display_data"
    }
   ],
   "source": [
    "unique = df.nunique().to_frame()\n",
    "unique.columns = ['Count']\n",
    "unique.index.names = ['ColName']\n",
    "unique = unique.reset_index()\n",
    "sns.set(style=\"whitegrid\", color_codes=True)\n",
    "plt.figure(figsize=(10, 6))\n",
    "sns.barplot(x='ColName', y='Count', data=unique)\n",
    "plt.xticks(rotation=90)\n",
    "plt.xlabel('Column Name')\n",
    "plt.ylabel('Count of Unique Values')\n",
    "plt.title('Number of Unique Values in Each Column')\n",
    "plt.tight_layout()\n",
    "plt.show()"
   ]
  },
  {
   "cell_type": "markdown",
   "id": "bc1a91b4",
   "metadata": {},
   "source": [
    "# \n",
    "Above the visiluation we can see the unique value to each column\n",
    "we drop this column is more than 5000 uniqu value "
   ]
  },
  {
   "cell_type": "code",
   "execution_count": 12,
   "id": "851c5393",
   "metadata": {},
   "outputs": [],
   "source": [
    "df.drop(columns=['Restaurant ID','Restaurant Name','Address','Longitude','Latitude'],axis=1,inplace=True)"
   ]
  },
  {
   "cell_type": "code",
   "execution_count": 13,
   "id": "a9818098",
   "metadata": {},
   "outputs": [
    {
     "name": "stdout",
     "output_type": "stream",
     "text": [
      "<class 'pandas.core.frame.DataFrame'>\n",
      "Int64Index: 9542 entries, 0 to 9550\n",
      "Data columns (total 17 columns):\n",
      " #   Column                Non-Null Count  Dtype  \n",
      "---  ------                --------------  -----  \n",
      " 0   Country Code          9542 non-null   int64  \n",
      " 1   City                  9542 non-null   object \n",
      " 2   Locality              9542 non-null   object \n",
      " 3   Locality Verbose      9542 non-null   object \n",
      " 4   Cuisines              9542 non-null   object \n",
      " 5   Average Cost for two  9542 non-null   int64  \n",
      " 6   Currency              9542 non-null   object \n",
      " 7   Has Table booking     9542 non-null   object \n",
      " 8   Has Online delivery   9542 non-null   object \n",
      " 9   Is delivering now     9542 non-null   object \n",
      " 10  Switch to order menu  9542 non-null   object \n",
      " 11  Price range           9542 non-null   int64  \n",
      " 12  Aggregate rating      9542 non-null   float64\n",
      " 13  Rating color          9542 non-null   object \n",
      " 14  Rating text           9542 non-null   object \n",
      " 15  Votes                 9542 non-null   int64  \n",
      " 16  Country               9542 non-null   object \n",
      "dtypes: float64(1), int64(4), object(12)\n",
      "memory usage: 1.3+ MB\n"
     ]
    }
   ],
   "source": [
    "df.info()"
   ]
  },
  {
   "cell_type": "code",
   "execution_count": 14,
   "id": "a17b60c7",
   "metadata": {},
   "outputs": [
    {
     "data": {
      "text/html": [
       "<div>\n",
       "<style scoped>\n",
       "    .dataframe tbody tr th:only-of-type {\n",
       "        vertical-align: middle;\n",
       "    }\n",
       "\n",
       "    .dataframe tbody tr th {\n",
       "        vertical-align: top;\n",
       "    }\n",
       "\n",
       "    .dataframe thead th {\n",
       "        text-align: right;\n",
       "    }\n",
       "</style>\n",
       "<table border=\"1\" class=\"dataframe\">\n",
       "  <thead>\n",
       "    <tr style=\"text-align: right;\">\n",
       "      <th>ColName</th>\n",
       "      <th>Country Code</th>\n",
       "      <th>Average Cost for two</th>\n",
       "      <th>Price range</th>\n",
       "      <th>Aggregate rating</th>\n",
       "      <th>Votes</th>\n",
       "    </tr>\n",
       "  </thead>\n",
       "  <tbody>\n",
       "    <tr>\n",
       "      <th>count</th>\n",
       "      <td>9542.000000</td>\n",
       "      <td>9542.000000</td>\n",
       "      <td>9542.000000</td>\n",
       "      <td>9542.000000</td>\n",
       "      <td>9542.000000</td>\n",
       "    </tr>\n",
       "    <tr>\n",
       "      <th>mean</th>\n",
       "      <td>18.179208</td>\n",
       "      <td>1200.326137</td>\n",
       "      <td>1.804968</td>\n",
       "      <td>2.665238</td>\n",
       "      <td>156.772060</td>\n",
       "    </tr>\n",
       "    <tr>\n",
       "      <th>std</th>\n",
       "      <td>56.451600</td>\n",
       "      <td>16128.743876</td>\n",
       "      <td>0.905563</td>\n",
       "      <td>1.516588</td>\n",
       "      <td>430.203324</td>\n",
       "    </tr>\n",
       "    <tr>\n",
       "      <th>min</th>\n",
       "      <td>1.000000</td>\n",
       "      <td>0.000000</td>\n",
       "      <td>1.000000</td>\n",
       "      <td>0.000000</td>\n",
       "      <td>0.000000</td>\n",
       "    </tr>\n",
       "    <tr>\n",
       "      <th>25%</th>\n",
       "      <td>1.000000</td>\n",
       "      <td>250.000000</td>\n",
       "      <td>1.000000</td>\n",
       "      <td>2.500000</td>\n",
       "      <td>5.000000</td>\n",
       "    </tr>\n",
       "    <tr>\n",
       "      <th>50%</th>\n",
       "      <td>1.000000</td>\n",
       "      <td>400.000000</td>\n",
       "      <td>2.000000</td>\n",
       "      <td>3.200000</td>\n",
       "      <td>31.000000</td>\n",
       "    </tr>\n",
       "    <tr>\n",
       "      <th>75%</th>\n",
       "      <td>1.000000</td>\n",
       "      <td>700.000000</td>\n",
       "      <td>2.000000</td>\n",
       "      <td>3.700000</td>\n",
       "      <td>130.000000</td>\n",
       "    </tr>\n",
       "    <tr>\n",
       "      <th>max</th>\n",
       "      <td>216.000000</td>\n",
       "      <td>800000.000000</td>\n",
       "      <td>4.000000</td>\n",
       "      <td>4.900000</td>\n",
       "      <td>10934.000000</td>\n",
       "    </tr>\n",
       "  </tbody>\n",
       "</table>\n",
       "</div>"
      ],
      "text/plain": [
       "ColName  Country Code  Average Cost for two  Price range  Aggregate rating  \\\n",
       "count     9542.000000           9542.000000  9542.000000       9542.000000   \n",
       "mean        18.179208           1200.326137     1.804968          2.665238   \n",
       "std         56.451600          16128.743876     0.905563          1.516588   \n",
       "min          1.000000              0.000000     1.000000          0.000000   \n",
       "25%          1.000000            250.000000     1.000000          2.500000   \n",
       "50%          1.000000            400.000000     2.000000          3.200000   \n",
       "75%          1.000000            700.000000     2.000000          3.700000   \n",
       "max        216.000000         800000.000000     4.000000          4.900000   \n",
       "\n",
       "ColName         Votes  \n",
       "count     9542.000000  \n",
       "mean       156.772060  \n",
       "std        430.203324  \n",
       "min          0.000000  \n",
       "25%          5.000000  \n",
       "50%         31.000000  \n",
       "75%        130.000000  \n",
       "max      10934.000000  "
      ]
     },
     "execution_count": 14,
     "metadata": {},
     "output_type": "execute_result"
    }
   ],
   "source": [
    "df.describe()"
   ]
  },
  {
   "cell_type": "markdown",
   "id": "a6d5f9bd",
   "metadata": {},
   "source": [
    "#  \n",
    "Country Code: It appears to be a numerical code representing the country associated with the restaurants in the dataset.\n",
    "\n",
    "Average Cost for two: This represents the average cost in the local currency for two people dining at the restaurant.\n",
    "\n",
    "Price range: This indicates the price range of the restaurant. It seems to be a categorical variable with values ranging from 1 to 4.\n",
    "\n",
    "Aggregate rating: This refers to the overall rating of the restaurant. It is a numerical value ranging from 0 to 5.\n",
    "\n",
    "Votes count: This shows the number of votes or reviews the restaurant has received.\n",
    "\n",
    "The dataset contains a total of 9542 entries.\n",
    "\n",
    "Let me know if you have any specific questions or if there's anything else you'd like to know about this data!"
   ]
  },
  {
   "cell_type": "markdown",
   "id": "c85d6514",
   "metadata": {},
   "source": [
    "# EDA"
   ]
  },
  {
   "cell_type": "code",
   "execution_count": 15,
   "id": "72d67ec6",
   "metadata": {
    "scrolled": true
   },
   "outputs": [
    {
     "data": {
      "text/plain": [
       "<AxesSubplot:xlabel='Aggregate rating', ylabel='Count'>"
      ]
     },
     "execution_count": 15,
     "metadata": {},
     "output_type": "execute_result"
    },
    {
     "data": {
      "image/png": "[encoded data removed]",
      "text/plain": [
       "<Figure size 432x288 with 1 Axes>"
      ]
     },
     "metadata": {},
     "output_type": "display_data"
    }
   ],
   "source": [
    "sns.histplot(x='Aggregate rating',data=df)"
   ]
  },
  {
   "cell_type": "markdown",
   "id": "2ee87c17",
   "metadata": {},
   "source": [
    "# \n",
    "The average Aggregate rating is 0 in the dataset"
   ]
  },
  {
   "cell_type": "code",
   "execution_count": 16,
   "id": "baa7bcf5",
   "metadata": {},
   "outputs": [
    {
     "data": {
      "text/plain": [
       "0       1094\n",
       "1        483\n",
       "2        327\n",
       "3        244\n",
       "4        207\n",
       "        ... \n",
       "1616       1\n",
       "1040       1\n",
       "5966       1\n",
       "2224       1\n",
       "901        1\n",
       "Name: Votes, Length: 1012, dtype: int64"
      ]
     },
     "execution_count": 16,
     "metadata": {},
     "output_type": "execute_result"
    },
    {
     "data": {
      "image/png": "[encoded data removed]",
      "text/plain": [
       "<Figure size 432x288 with 1 Axes>"
      ]
     },
     "metadata": {},
     "output_type": "display_data"
    }
   ],
   "source": [
    "sns.histplot(x='Votes',data=df)\n",
    "df['Votes'].value_counts()"
   ]
  },
  {
   "cell_type": "code",
   "execution_count": 17,
   "id": "3b61450b",
   "metadata": {},
   "outputs": [
    {
     "data": {
      "text/plain": [
       "1    4438\n",
       "2    3113\n",
       "3    1405\n",
       "4     586\n",
       "Name: Price range, dtype: int64"
      ]
     },
     "execution_count": 17,
     "metadata": {},
     "output_type": "execute_result"
    },
    {
     "data": {
      "image/png": "[encoded data removed]",
      "text/plain": [
       "<Figure size 432x288 with 1 Axes>"
      ]
     },
     "metadata": {},
     "output_type": "display_data"
    }
   ],
   "source": [
    "sns.histplot(x='Price range',data=df)\n",
    "df['Price range'].value_counts()"
   ]
  },
  {
   "cell_type": "code",
   "execution_count": 18,
   "id": "0372000f",
   "metadata": {},
   "outputs": [
    {
     "data": {
      "image/png": "[encoded data removed]",
      "text/plain": [
       "<Figure size 720x432 with 1 Axes>"
      ]
     },
     "metadata": {},
     "output_type": "display_data"
    }
   ],
   "source": [
    "unique = df.nunique().to_frame()\n",
    "unique.columns = ['Count']\n",
    "unique.index.names = ['ColName']\n",
    "unique = unique.reset_index()\n",
    "sns.set(style=\"whitegrid\", color_codes=True)\n",
    "plt.figure(figsize=(10, 6))\n",
    "sns.barplot(x='ColName', y='Count', data=unique)\n",
    "plt.xticks(rotation=90)\n",
    "plt.xlabel('Column Name')\n",
    "plt.ylabel('Count of Unique Values')\n",
    "plt.title('Number of Unique Values in Each Column')\n",
    "plt.tight_layout()\n",
    "plt.show()"
   ]
  },
  {
   "cell_type": "markdown",
   "id": "c6d75087",
   "metadata": {},
   "source": [
    "# \n",
    "We drop locality ,Locality Verbose,Cuisines of the more unique value in the dataset"
   ]
  },
  {
   "cell_type": "code",
   "execution_count": 19,
   "id": "eb1ce56b",
   "metadata": {},
   "outputs": [],
   "source": [
    "df.drop(columns=['Locality','Locality Verbose','Cuisines'],axis=1,inplace=True)"
   ]
  },
  {
   "cell_type": "code",
   "execution_count": 20,
   "id": "1c7a3252",
   "metadata": {},
   "outputs": [],
   "source": [
    "catgorical_col=[]\n",
    "for i in df.dtypes.index:\n",
    "    if df.dtypes[i]=='object':\n",
    "        catgorical_col.append(i)\n",
    "        \n",
    "numerical_col=[]\n",
    "for i in df.dtypes.index:\n",
    "    if df.dtypes[i] !='object':\n",
    "        numerical_col.append(i)"
   ]
  },
  {
   "cell_type": "code",
   "execution_count": 21,
   "id": "60e91dc1",
   "metadata": {},
   "outputs": [
    {
     "data": {
      "image/png": "[encoded data removed]",
      "text/plain": [
       "<Figure size 1080x1080 with 5 Axes>"
      ]
     },
     "metadata": {},
     "output_type": "display_data"
    }
   ],
   "source": [
    "plt.figure(figsize=(15,15))\n",
    "plotnumber =1\n",
    "for column in numerical_col:\n",
    "    if plotnumber<=11:\n",
    "        ax=plt.subplot(4,4,plotnumber)\n",
    "        sns.distplot(df[column])\n",
    "        plt.xlabel(column,fontsize=20)\n",
    "        \n",
    "    plotnumber+=1\n",
    "    \n",
    "\n",
    "plt.tight_layout()"
   ]
  },
  {
   "cell_type": "code",
   "execution_count": 22,
   "id": "598b4fbf",
   "metadata": {},
   "outputs": [
    {
     "data": {
      "image/png": "[encoded data removed]",
      "text/plain": [
       "<Figure size 1080x1080 with 5 Axes>"
      ]
     },
     "metadata": {},
     "output_type": "display_data"
    }
   ],
   "source": [
    "plt.figure(figsize=(15,15))\n",
    "i=1\n",
    "for column in numerical_col:\n",
    "    if i<=12:\n",
    "        \n",
    "        \n",
    "    \n",
    "        plt.subplot(4,4,i)\n",
    "    \n",
    "        ax=sns.boxplot(data=df[column])\n",
    "    \n",
    "        plt.xlabel (column,fontsize=15)\n",
    "        \n",
    "    i+=1\n",
    "    \n",
    "plt.show()\n",
    "    \n",
    "                \n",
    "                \n"
   ]
  },
  {
   "cell_type": "markdown",
   "id": "cbe7847b",
   "metadata": {},
   "source": [
    "# \n",
    "We found outliers present in the dataset but we won't remove outliers"
   ]
  },
  {
   "cell_type": "code",
   "execution_count": 23,
   "id": "a748fb4a",
   "metadata": {
    "scrolled": false
   },
   "outputs": [
    {
     "data": {
      "image/png": "[encoded data removed]",
      "text/plain": [
       "<Figure size 432x288 with 2 Axes>"
      ]
     },
     "metadata": {},
     "output_type": "display_data"
    }
   ],
   "source": [
    "sns.heatmap(df.corr(),annot=True)\n",
    "plt.show()"
   ]
  },
  {
   "cell_type": "markdown",
   "id": "8be97add",
   "metadata": {},
   "source": [
    "# \n",
    "We can see there is no co-relation with each others"
   ]
  },
  {
   "cell_type": "markdown",
   "id": "93cabe35",
   "metadata": {},
   "source": [
    "# Encoding"
   ]
  },
  {
   "cell_type": "code",
   "execution_count": 24,
   "id": "a7eefbce",
   "metadata": {},
   "outputs": [],
   "source": [
    "from sklearn.preprocessing import LabelEncoder\n",
    "lm=LabelEncoder()\n",
    "for i in catgorical_col:\n",
    "    df[i]=lm.fit_transform(df[i])"
   ]
  },
  {
   "cell_type": "code",
   "execution_count": 25,
   "id": "950135c7",
   "metadata": {},
   "outputs": [
    {
     "data": {
      "text/html": [
       "<div>\n",
       "<style scoped>\n",
       "    .dataframe tbody tr th:only-of-type {\n",
       "        vertical-align: middle;\n",
       "    }\n",
       "\n",
       "    .dataframe tbody tr th {\n",
       "        vertical-align: top;\n",
       "    }\n",
       "\n",
       "    .dataframe thead th {\n",
       "        text-align: right;\n",
       "    }\n",
       "</style>\n",
       "<table border=\"1\" class=\"dataframe\">\n",
       "  <thead>\n",
       "    <tr style=\"text-align: right;\">\n",
       "      <th>ColName</th>\n",
       "      <th>Country Code</th>\n",
       "      <th>City</th>\n",
       "      <th>Average Cost for two</th>\n",
       "      <th>Currency</th>\n",
       "      <th>Has Table booking</th>\n",
       "      <th>Has Online delivery</th>\n",
       "      <th>Is delivering now</th>\n",
       "      <th>Switch to order menu</th>\n",
       "      <th>Price range</th>\n",
       "      <th>Aggregate rating</th>\n",
       "      <th>Rating color</th>\n",
       "      <th>Rating text</th>\n",
       "      <th>Votes</th>\n",
       "      <th>Country</th>\n",
       "    </tr>\n",
       "  </thead>\n",
       "  <tbody>\n",
       "    <tr>\n",
       "      <th>0</th>\n",
       "      <td>162</td>\n",
       "      <td>73</td>\n",
       "      <td>1100</td>\n",
       "      <td>0</td>\n",
       "      <td>1</td>\n",
       "      <td>0</td>\n",
       "      <td>0</td>\n",
       "      <td>0</td>\n",
       "      <td>3</td>\n",
       "      <td>4.8</td>\n",
       "      <td>0</td>\n",
       "      <td>1</td>\n",
       "      <td>314</td>\n",
       "      <td>6</td>\n",
       "    </tr>\n",
       "    <tr>\n",
       "      <th>1</th>\n",
       "      <td>162</td>\n",
       "      <td>73</td>\n",
       "      <td>1200</td>\n",
       "      <td>0</td>\n",
       "      <td>1</td>\n",
       "      <td>0</td>\n",
       "      <td>0</td>\n",
       "      <td>0</td>\n",
       "      <td>3</td>\n",
       "      <td>4.5</td>\n",
       "      <td>0</td>\n",
       "      <td>1</td>\n",
       "      <td>591</td>\n",
       "      <td>6</td>\n",
       "    </tr>\n",
       "    <tr>\n",
       "      <th>2</th>\n",
       "      <td>162</td>\n",
       "      <td>75</td>\n",
       "      <td>4000</td>\n",
       "      <td>0</td>\n",
       "      <td>1</td>\n",
       "      <td>0</td>\n",
       "      <td>0</td>\n",
       "      <td>0</td>\n",
       "      <td>4</td>\n",
       "      <td>4.4</td>\n",
       "      <td>1</td>\n",
       "      <td>5</td>\n",
       "      <td>270</td>\n",
       "      <td>6</td>\n",
       "    </tr>\n",
       "    <tr>\n",
       "      <th>3</th>\n",
       "      <td>162</td>\n",
       "      <td>75</td>\n",
       "      <td>1500</td>\n",
       "      <td>0</td>\n",
       "      <td>0</td>\n",
       "      <td>0</td>\n",
       "      <td>0</td>\n",
       "      <td>0</td>\n",
       "      <td>4</td>\n",
       "      <td>4.9</td>\n",
       "      <td>0</td>\n",
       "      <td>1</td>\n",
       "      <td>365</td>\n",
       "      <td>6</td>\n",
       "    </tr>\n",
       "    <tr>\n",
       "      <th>4</th>\n",
       "      <td>162</td>\n",
       "      <td>75</td>\n",
       "      <td>1500</td>\n",
       "      <td>0</td>\n",
       "      <td>1</td>\n",
       "      <td>0</td>\n",
       "      <td>0</td>\n",
       "      <td>0</td>\n",
       "      <td>4</td>\n",
       "      <td>4.8</td>\n",
       "      <td>0</td>\n",
       "      <td>1</td>\n",
       "      <td>229</td>\n",
       "      <td>6</td>\n",
       "    </tr>\n",
       "  </tbody>\n",
       "</table>\n",
       "</div>"
      ],
      "text/plain": [
       "ColName  Country Code  City  Average Cost for two  Currency  \\\n",
       "0                 162    73                  1100         0   \n",
       "1                 162    73                  1200         0   \n",
       "2                 162    75                  4000         0   \n",
       "3                 162    75                  1500         0   \n",
       "4                 162    75                  1500         0   \n",
       "\n",
       "ColName  Has Table booking  Has Online delivery  Is delivering now  \\\n",
       "0                        1                    0                  0   \n",
       "1                        1                    0                  0   \n",
       "2                        1                    0                  0   \n",
       "3                        0                    0                  0   \n",
       "4                        1                    0                  0   \n",
       "\n",
       "ColName  Switch to order menu  Price range  Aggregate rating  Rating color  \\\n",
       "0                           0            3               4.8             0   \n",
       "1                           0            3               4.5             0   \n",
       "2                           0            4               4.4             1   \n",
       "3                           0            4               4.9             0   \n",
       "4                           0            4               4.8             0   \n",
       "\n",
       "ColName  Rating text  Votes  Country  \n",
       "0                  1    314        6  \n",
       "1                  1    591        6  \n",
       "2                  5    270        6  \n",
       "3                  1    365        6  \n",
       "4                  1    229        6  "
      ]
     },
     "execution_count": 25,
     "metadata": {},
     "output_type": "execute_result"
    }
   ],
   "source": [
    "df.head()"
   ]
  },
  {
   "cell_type": "code",
   "execution_count": 26,
   "id": "ac260f37",
   "metadata": {},
   "outputs": [],
   "source": [
    "x=df.drop(columns=['Average Cost for two','Price range'],axis=1)\n",
    "z=df['Average Cost for two']\n",
    "y= df['Price range']"
   ]
  },
  {
   "cell_type": "code",
   "execution_count": 27,
   "id": "3ac3deda",
   "metadata": {
    "scrolled": true
   },
   "outputs": [
    {
     "data": {
      "text/plain": [
       "1    4438\n",
       "2    3113\n",
       "3    1405\n",
       "4     586\n",
       "Name: Price range, dtype: int64"
      ]
     },
     "execution_count": 27,
     "metadata": {},
     "output_type": "execute_result"
    }
   ],
   "source": [
    "y.value_counts()"
   ]
  },
  {
   "cell_type": "markdown",
   "id": "2258c9fa",
   "metadata": {},
   "source": [
    "#  We found classification feature data imbalance but we solve this promblem before build a model"
   ]
  },
  {
   "cell_type": "markdown",
   "id": "61ef2345",
   "metadata": {},
   "source": [
    "#  we build a regression model build first Average Cost for two predictions"
   ]
  },
  {
   "cell_type": "code",
   "execution_count": 28,
   "id": "06086693",
   "metadata": {},
   "outputs": [],
   "source": [
    "# import libraryies\n",
    "from sklearn.model_selection import train_test_split\n",
    "from sklearn.metrics import mean_absolute_error\n",
    "from sklearn.metrics import mean_squared_error\n",
    "from sklearn.metrics import r2_score \n",
    "from sklearn.ensemble import GradientBoostingRegressor\n",
    "from sklearn.linear_model import LinearRegression\n",
    "from sklearn.ensemble import RandomForestRegressor\n",
    "from sklearn.tree import DecisionTreeRegressor\n",
    "from sklearn.neighbors import KNeighborsRegressor as KNN\n",
    "from sklearn.linear_model import Lasso, Ridge"
   ]
  },
  {
   "cell_type": "code",
   "execution_count": 29,
   "id": "b4d984aa",
   "metadata": {},
   "outputs": [
    {
     "name": "stdout",
     "output_type": "stream",
     "text": [
      "Best accuracy is 0.08416903120498354 at random_state 348\n"
     ]
    }
   ],
   "source": [
    "maxAccu = 0\n",
    "maxRs = 0\n",
    "\n",
    "for i in range(1, 500):\n",
    "    x_train, x_test, y_train, y_test = train_test_split(x, z, test_size=0.30, random_state=i)\n",
    "    lr = LinearRegression()\n",
    "    lr.fit(x_train, y_train)\n",
    "    y_pred = lr.predict(x_test)\n",
    "    acc = r2_score(y_test, y_pred)\n",
    "    if acc > maxAccu:\n",
    "        maxAccu = acc\n",
    "        maxRs = i\n",
    "\n",
    "print('Best accuracy is', maxAccu, 'at random_state', maxRs)\n"
   ]
  },
  {
   "cell_type": "code",
   "execution_count": 31,
   "id": "e64a0bc1",
   "metadata": {},
   "outputs": [],
   "source": [
    "x_train, x_test, y_train, y_test = train_test_split(x,y, test_size = 0.30, random_state = maxRs)\n"
   ]
  },
  {
   "cell_type": "code",
   "execution_count": 32,
   "id": "fa899aa1",
   "metadata": {},
   "outputs": [],
   "source": [
    "from sklearn.ensemble import GradientBoostingRegressor\n",
    "from sklearn.linear_model import LinearRegression\n",
    "from sklearn.ensemble import RandomForestRegressor\n",
    "from sklearn.tree import DecisionTreeRegressor\n",
    "from sklearn.neighbors import KNeighborsRegressor as KNN\n",
    "from sklearn.linear_model import Lasso, Ridge"
   ]
  },
  {
   "cell_type": "code",
   "execution_count": 33,
   "id": "8eef03cd",
   "metadata": {},
   "outputs": [
    {
     "name": "stdout",
     "output_type": "stream",
     "text": [
      "R2_score :  0.4690596649467975\n",
      "R2_score on training data:  48.61370120580838\n",
      "MEAN ABSOLUTE ERROR : 0.5221601367546159\n",
      "MEAN SQUARED ERROR : 0.41071675590254686\n",
      "ROOT MEAN SQUARED ERROR : 0.6408718716736964\n"
     ]
    }
   ],
   "source": [
    "LR= LinearRegression()\n",
    "LR.fit(x_train,y_train)\n",
    "pred_LR= LR.predict(x_test)\n",
    "pred_train= LR.predict(x_train)\n",
    "print('R2_score : ',r2_score(y_test,pred_LR) )\n",
    "print('R2_score on training data: ',r2_score(y_train,pred_train)*100)\n",
    "print('MEAN ABSOLUTE ERROR :', mean_absolute_error(y_test, pred_LR))\n",
    "print ('MEAN SQUARED ERROR :', mean_squared_error(y_test, pred_LR))\n",
    "print ('ROOT MEAN SQUARED ERROR :', np.sqrt (mean_squared_error(y_test, pred_LR)))"
   ]
  },
  {
   "cell_type": "code",
   "execution_count": 34,
   "id": "d68aad23",
   "metadata": {},
   "outputs": [
    {
     "name": "stdout",
     "output_type": "stream",
     "text": [
      "R2_score :  0.5428918617062486\n",
      "R2_score on training data:  59.72820904879046\n",
      "MEAN ABSOLUTE ERROR : 0.4749507701991537\n",
      "MEAN SQUARED ERROR : 0.3536027671317339\n",
      "ROOT MEAN SQUARED ERROR : 0.5946450766059818\n"
     ]
    }
   ],
   "source": [
    "GB= GradientBoostingRegressor()\n",
    "GB.fit(x_train,y_train)\n",
    "pred_GB= GB.predict(x_test)\n",
    "pred_train= GB.predict(x_train)\n",
    "print('R2_score : ',r2_score(y_test,pred_GB) )\n",
    "print('R2_score on training data: ',r2_score(y_train,pred_train)*100)\n",
    "print('MEAN ABSOLUTE ERROR :', mean_absolute_error(y_test, pred_GB))\n",
    "print ('MEAN SQUARED ERROR :', mean_squared_error(y_test, pred_GB))\n",
    "print ('ROOT MEAN SQUARED ERROR :', np.sqrt (mean_squared_error(y_test, pred_GB)))"
   ]
  },
  {
   "cell_type": "code",
   "execution_count": 35,
   "id": "f7992875",
   "metadata": {},
   "outputs": [
    {
     "name": "stdout",
     "output_type": "stream",
     "text": [
      "R2_score :  0.49395181087381257\n",
      "R2_score on training data:  85.25776075445674\n",
      "MEAN ABSOLUTE ERROR : 0.4787646123631174\n",
      "MEAN SQUARED ERROR : 0.391461067932312\n",
      "ROOT MEAN SQUARED ERROR : 0.6256684968354345\n"
     ]
    }
   ],
   "source": [
    "RFR= RandomForestRegressor()\n",
    "RFR.fit(x_train,y_train)\n",
    "pred_RFR= RFR.predict(x_test)\n",
    "pred_train= RFR.predict(x_train)\n",
    "print('R2_score : ',r2_score(y_test,pred_RFR) )\n",
    "print('R2_score on training data: ',r2_score(y_train,pred_train)*100)\n",
    "print('MEAN ABSOLUTE ERROR :', mean_absolute_error(y_test, pred_RFR))\n",
    "print ('MEAN SQUARED ERROR :', mean_squared_error(y_test, pred_RFR))\n",
    "print ('ROOT MEAN SQUARED ERROR :', np.sqrt (mean_squared_error(y_test, pred_RFR)))"
   ]
  },
  {
   "cell_type": "code",
   "execution_count": 36,
   "id": "1b9dea9d",
   "metadata": {},
   "outputs": [
    {
     "name": "stdout",
     "output_type": "stream",
     "text": [
      "R2_score :  0.4690596649467975\n",
      "R2_score on training data:  90.346666023236\n",
      "MEAN ABSOLUTE ERROR : 0.5221601367546159\n",
      "MEAN SQUARED ERROR : 0.41071675590254686\n",
      "ROOT MEAN SQUARED ERROR : 0.6408718716736964\n"
     ]
    }
   ],
   "source": [
    "DTR= DecisionTreeRegressor()\n",
    "DTR.fit(x_train,y_train)\n",
    "pred_DTR= DTR.predict(x_test)\n",
    "pred_train= DTR.predict(x_train)\n",
    "print('R2_score : ',r2_score(y_test,pred_LR) )\n",
    "print('R2_score on training data: ',r2_score(y_train,pred_train)*100)\n",
    "print('MEAN ABSOLUTE ERROR :', mean_absolute_error(y_test, pred_LR))\n",
    "print ('MEAN SQUARED ERROR :', mean_squared_error(y_test, pred_LR))\n",
    "print ('ROOT MEAN SQUARED ERROR :', np.sqrt (mean_squared_error(y_test, pred_LR)))"
   ]
  },
  {
   "cell_type": "code",
   "execution_count": 37,
   "id": "9864a1e7",
   "metadata": {},
   "outputs": [
    {
     "name": "stdout",
     "output_type": "stream",
     "text": [
      "R2_score :  0.29654186929837123\n",
      "R2_score on training data:  53.20853770624054\n",
      "MEAN ABSOLUTE ERROR : 0.5724764233321691\n",
      "MEAN SQUARED ERROR : 0.5441704505763185\n",
      "ROOT MEAN SQUARED ERROR : 0.7376790972884609\n"
     ]
    }
   ],
   "source": [
    "knn= KNN()\n",
    "knn.fit(x_train,y_train)\n",
    "pred_knn= knn.predict(x_test)\n",
    "pred_train= knn.predict(x_train)\n",
    "print('R2_score : ',r2_score(y_test,pred_knn) )\n",
    "print('R2_score on training data: ',r2_score(y_train,pred_train)*100)\n",
    "print('MEAN ABSOLUTE ERROR :', mean_absolute_error(y_test, pred_knn))\n",
    "print ('MEAN SQUARED ERROR :', mean_squared_error(y_test, pred_knn))\n",
    "print ('ROOT MEAN SQUARED ERROR :', np.sqrt (mean_squared_error(y_test, pred_knn)))"
   ]
  },
  {
   "cell_type": "code",
   "execution_count": 38,
   "id": "33854757",
   "metadata": {},
   "outputs": [
    {
     "name": "stdout",
     "output_type": "stream",
     "text": [
      "R2_score :  0.13371923004148267\n",
      "R2_score on training data:  13.649468162269695\n",
      "MEAN ABSOLUTE ERROR : 0.6861146520407432\n",
      "MEAN SQUARED ERROR : 0.6701243135021385\n",
      "ROOT MEAN SQUARED ERROR : 0.8186112102226175\n"
     ]
    }
   ],
   "source": [
    "LA= Lasso()\n",
    "LA.fit(x_train,y_train)\n",
    "pred_LA= LA.predict(x_test)\n",
    "pred_train= LA.predict(x_train)\n",
    "print('R2_score : ',r2_score(y_test,pred_LA) )\n",
    "print('R2_score on training data: ',r2_score(y_train,pred_train)*100)\n",
    "print('MEAN ABSOLUTE ERROR :', mean_absolute_error(y_test, pred_LA))\n",
    "print ('MEAN SQUARED ERROR :', mean_squared_error(y_test, pred_LA))\n",
    "print ('ROOT MEAN SQUARED ERROR :', np.sqrt (mean_squared_error(y_test, pred_LA)))"
   ]
  },
  {
   "cell_type": "code",
   "execution_count": 39,
   "id": "76ecd354",
   "metadata": {},
   "outputs": [
    {
     "name": "stdout",
     "output_type": "stream",
     "text": [
      "R2_score :  0.4690974442764121\n",
      "R2_score on training data:  53.20853770624054\n",
      "MEAN ABSOLUTE ERROR : 0.522126535821199\n",
      "MEAN SQUARED ERROR : 0.410687531142861\n",
      "ROOT MEAN SQUARED ERROR : 0.6408490704860709\n"
     ]
    }
   ],
   "source": [
    "RI= Ridge()\n",
    "RI.fit(x_train,y_train)\n",
    "pred_RI= RI.predict(x_test)\n",
    "pred_train= knn.predict(x_train)\n",
    "print('R2_score : ',r2_score(y_test,pred_RI) )\n",
    "print('R2_score on training data: ',r2_score(y_train,pred_train)*100)\n",
    "print('MEAN ABSOLUTE ERROR :', mean_absolute_error(y_test, pred_RI))\n",
    "print ('MEAN SQUARED ERROR :', mean_squared_error(y_test, pred_RI))\n",
    "print ('ROOT MEAN SQUARED ERROR :', np.sqrt (mean_squared_error(y_test, pred_RI)))"
   ]
  },
  {
   "cell_type": "markdown",
   "id": "b55ebbc6",
   "metadata": {},
   "source": [
    "#  CROSS VALIDATION SCORE"
   ]
  },
  {
   "cell_type": "code",
   "execution_count": 40,
   "id": "e225a69d",
   "metadata": {},
   "outputs": [],
   "source": [
    "from sklearn.model_selection import cross_val_score"
   ]
  },
  {
   "cell_type": "code",
   "execution_count": 41,
   "id": "0f872504",
   "metadata": {},
   "outputs": [
    {
     "name": "stdout",
     "output_type": "stream",
     "text": [
      "LinearRegression \n",
      "\n",
      "\n",
      "[0.32923837 0.42909967 0.44575488 0.51305293 0.50480375]\n",
      "0.44438992042880265\n",
      "Difference between Accuracy score  and cross validation score is -  0.024669744517994863\n"
     ]
    }
   ],
   "source": [
    "print('LinearRegression ')\n",
    "print('\\n')\n",
    "score=cross_val_score(LR, x, y)\n",
    "print(score)\n",
    "print(score.mean())\n",
    "print('Difference between Accuracy score  and cross validation score is - ', (r2_score(y_test,pred_LR)- score.mean()))"
   ]
  },
  {
   "cell_type": "code",
   "execution_count": 42,
   "id": "5df9e813",
   "metadata": {},
   "outputs": [
    {
     "name": "stdout",
     "output_type": "stream",
     "text": [
      "GradientBoostingRegressor \n",
      "\n",
      "\n",
      "[0.32504557 0.48574662 0.51634379 0.5582882  0.523208  ]\n",
      "0.48172643662007564\n",
      "Difference between Accuracy score  and cross validation score is -  0.06116542508617295\n"
     ]
    }
   ],
   "source": [
    "print('GradientBoostingRegressor ')\n",
    "print('\\n')\n",
    "score=cross_val_score(GB, x, y)\n",
    "print(score)\n",
    "print(score.mean())\n",
    "print('Difference between Accuracy score  and cross validation score is - ', r2_score(y_test,pred_GB)- score.mean())"
   ]
  },
  {
   "cell_type": "code",
   "execution_count": 43,
   "id": "45224087",
   "metadata": {},
   "outputs": [
    {
     "name": "stdout",
     "output_type": "stream",
     "text": [
      "RandomForestRegressor \n",
      "\n",
      "\n",
      "[0.17007346 0.38426944 0.44205138 0.52709321 0.47695244]\n",
      "0.4000879849130098\n",
      "Difference between Accuracy score  and cross validation score is -  0.09386382596080278\n"
     ]
    }
   ],
   "source": [
    "print('RandomForestRegressor ')\n",
    "print('\\n')\n",
    "score=cross_val_score(RFR, x, y)\n",
    "print(score)\n",
    "print(score.mean())\n",
    "print('Difference between Accuracy score  and cross validation score is - ', r2_score(y_test,pred_RFR)- score.mean())"
   ]
  },
  {
   "cell_type": "code",
   "execution_count": 44,
   "id": "7d33652a",
   "metadata": {},
   "outputs": [
    {
     "name": "stdout",
     "output_type": "stream",
     "text": [
      "DecisionTreeRegressor \n",
      "\n",
      "\n",
      "[-0.48228143  0.07015318  0.21418785  0.3319803   0.1060136 ]\n",
      "0.04801069878606008\n",
      "Difference between Accuracy score  and cross validation score is -  0.19465139015800076\n"
     ]
    }
   ],
   "source": [
    "print('DecisionTreeRegressor ')\n",
    "print('\\n')\n",
    "score=cross_val_score(DTR, x, y)\n",
    "print(score)\n",
    "print(score.mean())\n",
    "print('Difference between Accuracy score  and cross validation score is - ', r2_score(y_test,pred_DTR)- score.mean())"
   ]
  },
  {
   "cell_type": "code",
   "execution_count": 45,
   "id": "8bdd768e",
   "metadata": {},
   "outputs": [
    {
     "name": "stdout",
     "output_type": "stream",
     "text": [
      "KNN \n",
      "\n",
      "\n",
      "[-0.1437333   0.22455735  0.21194836  0.23499241  0.28994168]\n",
      "0.1635412988832196\n",
      "Difference between Accuracy score  and cross validation score is -  0.13300057041515162\n"
     ]
    }
   ],
   "source": [
    "print('KNN ')\n",
    "print('\\n')\n",
    "score=cross_val_score(knn, x, y)\n",
    "print(score)\n",
    "print(score.mean())\n",
    "print('Difference between Accuracy score  and cross validation score is - ', r2_score(y_test,pred_knn)- score.mean())"
   ]
  },
  {
   "cell_type": "code",
   "execution_count": 46,
   "id": "72b2fae1",
   "metadata": {},
   "outputs": [
    {
     "name": "stdout",
     "output_type": "stream",
     "text": [
      "Lasso \n",
      "\n",
      "\n",
      "[-0.21709893  0.0683931   0.02226287  0.05667482  0.18247379]\n",
      "0.02254112889788922\n",
      "Difference between Accuracy score  and cross validation score is -  0.11117810114359346\n"
     ]
    }
   ],
   "source": [
    "print('Lasso ')\n",
    "print('\\n')\n",
    "score=cross_val_score(LA, x, y)\n",
    "print(score)\n",
    "print(score.mean())\n",
    "print('Difference between Accuracy score  and cross validation score is - ', r2_score(y_test,pred_LA)- score.mean())"
   ]
  },
  {
   "cell_type": "code",
   "execution_count": 47,
   "id": "4024f62e",
   "metadata": {},
   "outputs": [
    {
     "name": "stdout",
     "output_type": "stream",
     "text": [
      "Ridge \n",
      "\n",
      "\n",
      "[0.32921075 0.4291582  0.44569312 0.51290728 0.50492331]\n",
      "0.44437853130107585\n",
      "Difference between Accuracy score  and cross validation score is -  0.024718912975336238\n"
     ]
    }
   ],
   "source": [
    "print('Ridge ')\n",
    "print('\\n')\n",
    "score=cross_val_score(RI, x, y)\n",
    "print(score)\n",
    "print(score.mean())\n",
    "print('Difference between Accuracy score  and cross validation score is - ', r2_score(y_test,pred_RI)- score.mean())"
   ]
  },
  {
   "cell_type": "markdown",
   "id": "7905d985",
   "metadata": {},
   "source": [
    "# GradientBoostingRegressor is giving 54 accuracy and  19 percent of cross validation score"
   ]
  },
  {
   "cell_type": "code",
   "execution_count": 48,
   "id": "70710dd8",
   "metadata": {},
   "outputs": [],
   "source": [
    "from sklearn.model_selection import GridSearchCV"
   ]
  },
  {
   "cell_type": "code",
   "execution_count": 49,
   "id": "9acc5d65",
   "metadata": {},
   "outputs": [
    {
     "data": {
      "text/plain": [
       "GridSearchCV(cv=3, estimator=GradientBoostingRegressor(),\n",
       "             param_grid={'max_depth': [None, 5, 10, 15],\n",
       "                         'n_estimators': [100, 200, 300]})"
      ]
     },
     "execution_count": 49,
     "metadata": {},
     "output_type": "execute_result"
    }
   ],
   "source": [
    "param_grid = {\n",
    "    'n_estimators': [100, 200, 300],\n",
    "    'max_depth': [None, 5, 10, 15],\n",
    "}\n",
    "\n",
    "gdsv = GridSearchCV(GradientBoostingRegressor(), param_grid, cv=3)\n",
    "gdsv.fit(x_train, y_train)"
   ]
  },
  {
   "cell_type": "code",
   "execution_count": 50,
   "id": "8a72a23e",
   "metadata": {},
   "outputs": [
    {
     "data": {
      "text/plain": [
       "{'max_depth': 5, 'n_estimators': 100}"
      ]
     },
     "execution_count": 50,
     "metadata": {},
     "output_type": "execute_result"
    }
   ],
   "source": [
    "gdsv.best_params_"
   ]
  },
  {
   "cell_type": "markdown",
   "id": "89a9be50",
   "metadata": {},
   "source": [
    "#  Final model Average Cost for two prediction"
   ]
  },
  {
   "cell_type": "code",
   "execution_count": 51,
   "id": "5398d86e",
   "metadata": {},
   "outputs": [
    {
     "name": "stdout",
     "output_type": "stream",
     "text": [
      "49.460577379400014\n"
     ]
    }
   ],
   "source": [
    "cost_Final_model= RandomForestRegressor(max_depth= None,n_estimators = 300  )\n",
    "cost_Final_model.fit(x_train, y_train)\n",
    "pred = cost_Final_model.predict(x_test)\n",
    "acc= r2_score(y_test, pred)\n",
    "print(acc*100)"
   ]
  },
  {
   "cell_type": "code",
   "execution_count": null,
   "id": "2bf4f0fb",
   "metadata": {},
   "outputs": [],
   "source": [
    "from imblearn.over_sampling import SMOTE\n",
    "SM=SMOTE()\n",
    "x,y=SM.fit_resample(x,y)"
   ]
  },
  {
   "cell_type": "markdown",
   "id": "e92587fa",
   "metadata": {},
   "source": [
    "#  We solve data imbalance now we can build a classification model"
   ]
  },
  {
   "cell_type": "code",
   "execution_count": null,
   "id": "811adad2",
   "metadata": {},
   "outputs": [],
   "source": [
    "from sklearn.preprocessing import StandardScaler\n",
    "scaler=StandardScaler()\n",
    "x=pd.DataFrame(scaler.fit_transform(x),columns=x.columns)\n",
    "x"
   ]
  },
  {
   "cell_type": "code",
   "execution_count": null,
   "id": "7663166a",
   "metadata": {},
   "outputs": [],
   "source": [
    "from statsmodels.stats.outliers_influence import variance_inflation_factor\n",
    "vif=pd.DataFrame()\n",
    "vif['vif']=[variance_inflation_factor(x, i) for i in range(x.shape[1])]\n",
    "vif ['features'] =x.columns \n",
    "vif"
   ]
  },
  {
   "cell_type": "markdown",
   "id": "312d9585",
   "metadata": {},
   "source": [
    "#  We drop columns vif score greater than 5 we drop country code columns"
   ]
  },
  {
   "cell_type": "code",
   "execution_count": null,
   "id": "11d555fe",
   "metadata": {},
   "outputs": [],
   "source": [
    "x.drop(columns=['Country Code','Switch to order menu'],axis=1,inplace=True)"
   ]
  },
  {
   "cell_type": "code",
   "execution_count": null,
   "id": "38b49f45",
   "metadata": {
    "scrolled": true
   },
   "outputs": [],
   "source": [
    "from statsmodels.stats.outliers_influence import variance_inflation_factor\n",
    "vif=pd.DataFrame()\n",
    "vif['vif']=[variance_inflation_factor(x, i) for i in range(x.shape[1])]\n",
    "vif ['features'] =x.columns \n",
    "vif"
   ]
  },
  {
   "cell_type": "markdown",
   "id": "e21ba66f",
   "metadata": {},
   "source": [
    "#  Price range model build"
   ]
  },
  {
   "cell_type": "code",
   "execution_count": null,
   "id": "cbd0a0d3",
   "metadata": {},
   "outputs": [],
   "source": [
    "from sklearn.model_selection import train_test_split\n",
    "from sklearn.ensemble import RandomForestClassifier\n",
    "from sklearn.metrics import accuracy_score\n",
    "\n",
    "maxAccu = 0\n",
    "maxRs = 0\n",
    "\n",
    "for i in range(1, 200):\n",
    "    x_train, x_test, y_train, y_test = train_test_split(x, y, test_size=0.30, random_state=i)\n",
    "    rnd = RandomForestClassifier()\n",
    "    rnd.fit(x_train, y_train)\n",
    "    y_pred = rnd.predict(x_test)\n",
    "    acc = accuracy_score(y_test, y_pred)\n",
    "    if acc > maxAccu:\n",
    "        maxAccu = acc\n",
    "        maxRs = i\n",
    "\n",
    "print('Best accuracy is', maxAccu, 'at random_state', maxRs)\n"
   ]
  },
  {
   "cell_type": "code",
   "execution_count": null,
   "id": "8de42bc1",
   "metadata": {},
   "outputs": [],
   "source": [
    "x_train, x_test, y_train, y_test = train_test_split(x,y, test_size = 0.30, random_state = maxRs)"
   ]
  },
  {
   "cell_type": "code",
   "execution_count": null,
   "id": "74479eaa",
   "metadata": {},
   "outputs": [],
   "source": [
    "from sklearn.ensemble import RandomForestClassifier, ExtraTreesClassifier\n",
    "from sklearn.linear_model import LogisticRegression\n",
    "from sklearn.svm import SVC\n",
    "from sklearn.ensemble import GradientBoostingClassifier, AdaBoostClassifier, BaggingClassifier\n",
    "from sklearn.metrics import classification_report ,confusion_matrix, roc_curve, accuracy_score\n",
    "from sklearn.model_selection import cross_val_score"
   ]
  },
  {
   "cell_type": "code",
   "execution_count": null,
   "id": "22587925",
   "metadata": {},
   "outputs": [],
   "source": [
    "Rnd= RandomForestClassifier()\n",
    "Rnd.fit(x_train, y_train)\n",
    "predRnd= Rnd.predict (x_test)\n",
    "print('Accuracy score',(accuracy_score(y_test, predRnd)))\n",
    "print('\\n')\n",
    "print(confusion_matrix(y_test, predRnd))"
   ]
  },
  {
   "cell_type": "code",
   "execution_count": null,
   "id": "024e7722",
   "metadata": {},
   "outputs": [],
   "source": [
    "Etr= ExtraTreesClassifier()\n",
    "Etr.fit(x_train, y_train)\n",
    "predEtr= Etr.predict (x_test)\n",
    "print('Accuracy score',(accuracy_score(y_test, predEtr)))\n",
    "print('\\n')\n",
    "print(confusion_matrix(y_test, predEtr))"
   ]
  },
  {
   "cell_type": "code",
   "execution_count": null,
   "id": "eb152f9c",
   "metadata": {},
   "outputs": [],
   "source": [
    "svc=SVC()\n",
    "svc.fit(x_train, y_train)\n",
    "predsvc=svc.predict (x_test)\n",
    "print('Accuracy score',(accuracy_score(y_test, predsvc)))\n",
    "print('\\n')\n",
    "\n",
    "print(confusion_matrix(y_test, predsvc))"
   ]
  },
  {
   "cell_type": "code",
   "execution_count": null,
   "id": "807e78b1",
   "metadata": {},
   "outputs": [],
   "source": [
    "gbc=GradientBoostingClassifier()\n",
    "gbc.fit(x_train, y_train)\n",
    "predgbc =gbc.predict (x_test)\n",
    "print('Accuracy score',(accuracy_score(y_test, predgbc)))\n",
    "print('\\n')\n",
    "\n",
    "print(confusion_matrix(y_test, predgbc))"
   ]
  },
  {
   "cell_type": "code",
   "execution_count": null,
   "id": "baf60306",
   "metadata": {},
   "outputs": [],
   "source": [
    "adaboost= AdaBoostClassifier()\n",
    "adaboost.fit(x_train, y_train)\n",
    "predadaboost =adaboost.predict (x_test)\n",
    "print('Accuracy score',(accuracy_score(y_test, predadaboost)))\n",
    "print('\\n')\n",
    "\n",
    "print(confusion_matrix(y_test, predadaboost))"
   ]
  },
  {
   "cell_type": "code",
   "execution_count": null,
   "id": "1d9abfc8",
   "metadata": {},
   "outputs": [],
   "source": [
    "bagging=BaggingClassifier()\n",
    "bagging.fit(x_train, y_train)\n",
    "predbagging =bagging.predict (x_test)\n",
    "print('Accuracy score',(accuracy_score(y_test, predbagging)))\n",
    "print('\\n')\n",
    "\n",
    "print(confusion_matrix(y_test, predbagging))"
   ]
  },
  {
   "cell_type": "markdown",
   "id": "dca0dc33",
   "metadata": {},
   "source": [
    "#  Cross validation score"
   ]
  },
  {
   "cell_type": "code",
   "execution_count": null,
   "id": "96bfe526",
   "metadata": {},
   "outputs": [],
   "source": [
    "print('ExtraTreesClassifier ')\n",
    "print('\\n')\n",
    "score=cross_val_score(Rnd, x, y)\n",
    "print(score)\n",
    "print(score.mean())\n",
    "print('Difference between Accuracy score  and cross validation score is - ', accuracy_score(y_test,predRnd)- score.mean())"
   ]
  },
  {
   "cell_type": "code",
   "execution_count": null,
   "id": "d01731ce",
   "metadata": {},
   "outputs": [],
   "source": [
    "print('RandomForestClassifier ')\n",
    "print('\\n')\n",
    "score=cross_val_score(Rnd, x, y)\n",
    "print(score)\n",
    "print(score.mean())\n",
    "print('Difference between Accuracy score  and cross validation score is - ', accuracy_score(y_test,predRnd)- score.mean())"
   ]
  },
  {
   "cell_type": "code",
   "execution_count": null,
   "id": "a17e4bfe",
   "metadata": {},
   "outputs": [],
   "source": [
    "print('SVC ')\n",
    "print('\\n')\n",
    "score=cross_val_score(svc, x, y)\n",
    "print(score)\n",
    "print(score.mean())\n",
    "print('Difference between Accuracy score  and cross validation score is - ', accuracy_score(y_test,predsvc)- score.mean())"
   ]
  },
  {
   "cell_type": "code",
   "execution_count": null,
   "id": "bb8cc6b5",
   "metadata": {},
   "outputs": [],
   "source": [
    "print('GradientBoostingClassifier ')\n",
    "print('\\n')\n",
    "score=cross_val_score(gbc, x, y)\n",
    "print(score)\n",
    "print(score.mean())\n",
    "print('Difference between Accuracy score  and cross validation score is - ', accuracy_score(y_test,predgbc)- score.mean())"
   ]
  },
  {
   "cell_type": "code",
   "execution_count": null,
   "id": "55dd99cc",
   "metadata": {},
   "outputs": [],
   "source": [
    "print('AdaBoostClassifier ')\n",
    "print('\\n')\n",
    "score=cross_val_score(adaboost, x, y)\n",
    "print(score)\n",
    "print(score.mean())\n",
    "print('Difference between Accuracy score  and cross validation score is - ', accuracy_score(y_test,predadaboost)- score.mean())"
   ]
  },
  {
   "cell_type": "code",
   "execution_count": null,
   "id": "eaa9e7ce",
   "metadata": {},
   "outputs": [],
   "source": [
    "print('BaggingClassifier ')\n",
    "print('\\n')\n",
    "score=cross_val_score(bagging, x, y)\n",
    "print(score)\n",
    "print(score.mean())\n",
    "print('Difference between Accuracy score  and cross validation score is - ', accuracy_score(y_test,predbagging)- score.mean())"
   ]
  },
  {
   "cell_type": "markdown",
   "id": "9b704c77",
   "metadata": {},
   "source": [
    "#  RandomForestClassifier is giving 69  percent  accuracy and 5 percent of cross validation score¶"
   ]
  },
  {
   "cell_type": "code",
   "execution_count": null,
   "id": "8107aaec",
   "metadata": {},
   "outputs": [],
   "source": [
    "from sklearn.model_selection import GridSearchCV\n",
    "param_grid = {\n",
    "    'n_estimators': [50, 100, 150],\n",
    "    'max_depth': [None, 5, 10],\n",
    "    'min_samples_split': [2, 5, 10],\n",
    "    'min_samples_leaf': [1, 2, 4],\n",
    "}\n",
    "\n",
    "gdsv = GridSearchCV(RandomForestClassifier(), param_grid, cv=5)\n",
    "gdsv.fit(x_train, y_train)"
   ]
  },
  {
   "cell_type": "code",
   "execution_count": null,
   "id": "336e205f",
   "metadata": {},
   "outputs": [],
   "source": [
    "gdsv.best_params_"
   ]
  },
  {
   "cell_type": "code",
   "execution_count": null,
   "id": "9b4f477a",
   "metadata": {},
   "outputs": [],
   "source": [
    "Final_model= RandomForestClassifier(max_depth=None,min_samples_leaf=1,min_samples_split=5,n_estimators=100)\n",
    "Final_model.fit(x_train, y_train)\n",
    "pred = Final_model.predict(x_test)\n",
    "acc= accuracy_score(y_test, pred)\n",
    "print(acc*100)"
   ]
  },
  {
   "cell_type": "code",
   "execution_count": null,
   "id": "2008a7d0",
   "metadata": {},
   "outputs": [],
   "source": [
    "from sklearn.metrics import classification_report\n",
    "from sklearn.metrics import accuracy_score,confusion_matrix,roc_curve,roc_auc_score\n"
   ]
  },
  {
   "cell_type": "code",
   "execution_count": null,
   "id": "6f05ac51",
   "metadata": {},
   "outputs": [],
   "source": [
    "print(classification_report(y_test,y_pred))   # support means sample to x_test "
   ]
  },
  {
   "cell_type": "markdown",
   "id": "aac7545f",
   "metadata": {},
   "source": []
  }
 ],
 "metadata": {
  "kernelspec": {
   "display_name": "Python 3 (ipykernel)",
   "language": "python",
   "name": "python3"
  },
  "language_info": {
   "codemirror_mode": {
    "name": "ipython",
    "version": 3
   },
   "file_extension": ".py",
   "mimetype": "text/x-python",
   "name": "python",
   "nbconvert_exporter": "python",
   "pygments_lexer": "ipython3",
   "version": "3.9.12"
  }
 },
 "nbformat": 4,
 "nbformat_minor": 5
}
