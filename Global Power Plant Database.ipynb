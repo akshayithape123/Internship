{
 "cells": [
  {
   "cell_type": "markdown",
   "id": "75477604",
   "metadata": {},
   "source": [
    "#  Project Description\n",
    "The Global Power Plant Database is a comprehensive, open source database of power plants around the world. It centralizes power plant data to make it easier to navigate, compare and draw insights for one’s own analysis. The database covers approximately 35,000 power plants from 167 countries and includes thermal plants (e.g. coal, gas, oil, nuclear, biomass, waste, geothermal) and renewables (e.g. hydro, wind, solar). Each power plant is geolocated and entries contain information on plant capacity, generation, ownership, and fuel type. It will be continuously updated as data becomes available."
   ]
  },
  {
   "cell_type": "markdown",
   "id": "a43dbefe",
   "metadata": {},
   "source": [
    "#  Key attributes of the database\n",
    "\n",
    "Key attributes of the database\n",
    "\n",
    "•\t`country` (text): 3 character country code corresponding to the ISO 3166-1 alpha-3 specification [5]\n",
    "\n",
    "•\t`country` (text): 3 character country code corresponding to the ISO 3166-1 alpha-3 specification [5]\n",
    "\n",
    "•\t`name` (text): name or title of the power plant, generally in Romanized form\n",
    "\n",
    "•\t`gppd_idnr` (text): 10 or 12 character identifier for the power plant\n",
    "\n",
    "•\t`capacity_mw` (number): electrical generating capacity in megawatts\n",
    "\n",
    "•\t`latitude` (number): geolocation in decimal degrees; WGS84 (EPSG:4326)\n",
    "\n",
    "•\t`longitude` (number): geolocation in decimal degrees; WGS84 (EPSG:4326)\n",
    "\n",
    "•\t`primary_fuel` (text): energy source used in primary electricity generation or export\n",
    "\n",
    "•\t`other_fuel1` (text): energy source used in electricity generation or export\n",
    "\n",
    "•\t`other_fuel2` (text): energy source used in electricity generation or export\n",
    "\n",
    "•\t`other_fuel3` (text): energy source used in electricity generation or export\n",
    "\n",
    "•\t `commissioning_year` (number): year of plant operation, weighted by unit-capacity when data is available\n",
    "\n",
    "•\t`owner` (text): majority shareholder of the power plant, generally in Romanized form\n",
    "\n",
    "•\t`source` (text): entity reporting the data; could be an organization, report, or document, generally in Romanized form\n",
    "\n",
    "•\t`url` (text): web document corresponding to the `source` field\n",
    "\n",
    "•\t`geolocation_source` (text): attribution for geolocation information\n",
    "\n",
    "•\t`wepp_id` (text): a reference to a unique plant identifier in the widely-used PLATTS-WEPP database.\n",
    "\n",
    "•\t`year_of_capacity_data` (number): year the capacity information was reported\n",
    "\n",
    "•\t`generation_gwh_2013` (number): electricity generation in gigawatt-hours reported for the year 2013\n",
    "\n",
    "•\t`generation_gwh_2014` (number): electricity generation in gigawatt-hours reported for the year 2014\n",
    "\n",
    "•\t`generation_gwh_2015` (number): electricity generation in gigawatt-hours reported for the year 2015\n",
    "\n",
    "•\t`generation_gwh_2016` (number): electricity generation in gigawatt-hours reported for the year 2016\n",
    "\n",
    "•\t`generation_gwh_2017` (number): electricity generation in gigawatt-hours reported for the year 2017\n",
    "\n",
    "•\t`generation_gwh_2018` (number): electricity generation in gigawatt-hours reported for the year 2018\n",
    "\n",
    "•\t`generation_gwh_2019` (number): electricity generation in gigawatt-hours reported for the year 2019\n",
    "\n",
    "•\t`generation_data_source` (text): attribution for the reported generation information\n",
    "\n",
    "•\t`estimated_generation_gwh_2013` (number): estimated electricity generation in gigawatt-hours for the year 2013\n",
    "\n",
    "•\t`estimated_generation_gwh_2014` (number): estimated electricity generation in gigawatt-hours for the year 2014 \n",
    "\n",
    "•\t`estimated_generation_gwh_2015` (number): estimated electricity generation in gigawatt-hours for the year 2015 \n",
    "\n",
    "•\t`estimated_generation_gwh_2016` (number): estimated electricity generation in gigawatt-hours for the year 2016 \n",
    "\n",
    "•\t`estimated_generation_gwh_2017` (number): estimated electricity generation in gigawatt-hours for the year 2017\n",
    "\n",
    "•\t'estimated_generation_note_2013` (text): label of the model/method used to estimate generation for the year 2013\n",
    "\n",
    "•\t`estimated_generation_note_2014` (text): label of the model/method used to estimate generation for the year 2014 \n",
    "\n",
    "•\t`estimated_generation_note_2015` (text): label of the model/method used to estimate generation for the year 2015\n",
    "\n",
    "•\t`estimated_generation_note_2016` (text): label of the model/method used to estimate generation for the year 2016\n",
    "\n",
    "•\t`estimated_generation_note_2017` (text): label of the model/method used to estimate generation for the year 2017 \n",
    "\n",
    "# Fuel Type Aggregation\n",
    "We define the \"Fuel Type\" attribute of our database based on common fuel categories. \n",
    "# Prediction :   Make two prediction  1) Primary Fuel    2) capacity_mw "
   ]
  },
  {
   "cell_type": "code",
   "execution_count": 1,
   "id": "4c498702",
   "metadata": {},
   "outputs": [],
   "source": [
    "import numpy as np\n",
    "import pandas as pd\n",
    "import matplotlib.pyplot as plt\n",
    "import seaborn as sns\n",
    "import warnings\n",
    "warnings.filterwarnings('ignore')"
   ]
  },
  {
   "cell_type": "code",
   "execution_count": 2,
   "id": "dec177f9",
   "metadata": {},
   "outputs": [
    {
     "data": {
      "text/html": [
       "<div>\n",
       "<style scoped>\n",
       "    .dataframe tbody tr th:only-of-type {\n",
       "        vertical-align: middle;\n",
       "    }\n",
       "\n",
       "    .dataframe tbody tr th {\n",
       "        vertical-align: top;\n",
       "    }\n",
       "\n",
       "    .dataframe thead th {\n",
       "        text-align: right;\n",
       "    }\n",
       "</style>\n",
       "<table border=\"1\" class=\"dataframe\">\n",
       "  <thead>\n",
       "    <tr style=\"text-align: right;\">\n",
       "      <th></th>\n",
       "      <th>country</th>\n",
       "      <th>country_long</th>\n",
       "      <th>name</th>\n",
       "      <th>gppd_idnr</th>\n",
       "      <th>capacity_mw</th>\n",
       "      <th>latitude</th>\n",
       "      <th>longitude</th>\n",
       "      <th>primary_fuel</th>\n",
       "      <th>other_fuel1</th>\n",
       "      <th>other_fuel2</th>\n",
       "      <th>...</th>\n",
       "      <th>year_of_capacity_data</th>\n",
       "      <th>generation_gwh_2013</th>\n",
       "      <th>generation_gwh_2014</th>\n",
       "      <th>generation_gwh_2015</th>\n",
       "      <th>generation_gwh_2016</th>\n",
       "      <th>generation_gwh_2017</th>\n",
       "      <th>generation_gwh_2018</th>\n",
       "      <th>generation_gwh_2019</th>\n",
       "      <th>generation_data_source</th>\n",
       "      <th>estimated_generation_gwh</th>\n",
       "    </tr>\n",
       "  </thead>\n",
       "  <tbody>\n",
       "    <tr>\n",
       "      <th>0</th>\n",
       "      <td>IND</td>\n",
       "      <td>India</td>\n",
       "      <td>ACME Solar Tower</td>\n",
       "      <td>WRI1020239</td>\n",
       "      <td>2.5</td>\n",
       "      <td>28.1839</td>\n",
       "      <td>73.2407</td>\n",
       "      <td>Solar</td>\n",
       "      <td>NaN</td>\n",
       "      <td>NaN</td>\n",
       "      <td>...</td>\n",
       "      <td>NaN</td>\n",
       "      <td>NaN</td>\n",
       "      <td>NaN</td>\n",
       "      <td>NaN</td>\n",
       "      <td>NaN</td>\n",
       "      <td>NaN</td>\n",
       "      <td>NaN</td>\n",
       "      <td>NaN</td>\n",
       "      <td>NaN</td>\n",
       "      <td>NaN</td>\n",
       "    </tr>\n",
       "    <tr>\n",
       "      <th>1</th>\n",
       "      <td>IND</td>\n",
       "      <td>India</td>\n",
       "      <td>ADITYA CEMENT WORKS</td>\n",
       "      <td>WRI1019881</td>\n",
       "      <td>98.0</td>\n",
       "      <td>24.7663</td>\n",
       "      <td>74.6090</td>\n",
       "      <td>Coal</td>\n",
       "      <td>NaN</td>\n",
       "      <td>NaN</td>\n",
       "      <td>...</td>\n",
       "      <td>NaN</td>\n",
       "      <td>NaN</td>\n",
       "      <td>NaN</td>\n",
       "      <td>NaN</td>\n",
       "      <td>NaN</td>\n",
       "      <td>NaN</td>\n",
       "      <td>NaN</td>\n",
       "      <td>NaN</td>\n",
       "      <td>NaN</td>\n",
       "      <td>NaN</td>\n",
       "    </tr>\n",
       "    <tr>\n",
       "      <th>2</th>\n",
       "      <td>IND</td>\n",
       "      <td>India</td>\n",
       "      <td>AES Saurashtra Windfarms</td>\n",
       "      <td>WRI1026669</td>\n",
       "      <td>39.2</td>\n",
       "      <td>21.9038</td>\n",
       "      <td>69.3732</td>\n",
       "      <td>Wind</td>\n",
       "      <td>NaN</td>\n",
       "      <td>NaN</td>\n",
       "      <td>...</td>\n",
       "      <td>NaN</td>\n",
       "      <td>NaN</td>\n",
       "      <td>NaN</td>\n",
       "      <td>NaN</td>\n",
       "      <td>NaN</td>\n",
       "      <td>NaN</td>\n",
       "      <td>NaN</td>\n",
       "      <td>NaN</td>\n",
       "      <td>NaN</td>\n",
       "      <td>NaN</td>\n",
       "    </tr>\n",
       "    <tr>\n",
       "      <th>3</th>\n",
       "      <td>IND</td>\n",
       "      <td>India</td>\n",
       "      <td>AGARTALA GT</td>\n",
       "      <td>IND0000001</td>\n",
       "      <td>135.0</td>\n",
       "      <td>23.8712</td>\n",
       "      <td>91.3602</td>\n",
       "      <td>Gas</td>\n",
       "      <td>NaN</td>\n",
       "      <td>NaN</td>\n",
       "      <td>...</td>\n",
       "      <td>2019.0</td>\n",
       "      <td>NaN</td>\n",
       "      <td>617.789264</td>\n",
       "      <td>843.747</td>\n",
       "      <td>886.004428</td>\n",
       "      <td>663.774500</td>\n",
       "      <td>626.239128</td>\n",
       "      <td>NaN</td>\n",
       "      <td>Central Electricity Authority</td>\n",
       "      <td>NaN</td>\n",
       "    </tr>\n",
       "    <tr>\n",
       "      <th>4</th>\n",
       "      <td>IND</td>\n",
       "      <td>India</td>\n",
       "      <td>AKALTARA TPP</td>\n",
       "      <td>IND0000002</td>\n",
       "      <td>1800.0</td>\n",
       "      <td>21.9603</td>\n",
       "      <td>82.4091</td>\n",
       "      <td>Coal</td>\n",
       "      <td>Oil</td>\n",
       "      <td>NaN</td>\n",
       "      <td>...</td>\n",
       "      <td>2019.0</td>\n",
       "      <td>NaN</td>\n",
       "      <td>3035.550000</td>\n",
       "      <td>5916.370</td>\n",
       "      <td>6243.000000</td>\n",
       "      <td>5385.579736</td>\n",
       "      <td>7279.000000</td>\n",
       "      <td>NaN</td>\n",
       "      <td>Central Electricity Authority</td>\n",
       "      <td>NaN</td>\n",
       "    </tr>\n",
       "  </tbody>\n",
       "</table>\n",
       "<p>5 rows × 27 columns</p>\n",
       "</div>"
      ],
      "text/plain": [
       "  country country_long                      name   gppd_idnr  capacity_mw  \\\n",
       "0     IND        India          ACME Solar Tower  WRI1020239          2.5   \n",
       "1     IND        India       ADITYA CEMENT WORKS  WRI1019881         98.0   \n",
       "2     IND        India  AES Saurashtra Windfarms  WRI1026669         39.2   \n",
       "3     IND        India               AGARTALA GT  IND0000001        135.0   \n",
       "4     IND        India              AKALTARA TPP  IND0000002       1800.0   \n",
       "\n",
       "   latitude  longitude primary_fuel other_fuel1 other_fuel2  ...  \\\n",
       "0   28.1839    73.2407        Solar         NaN         NaN  ...   \n",
       "1   24.7663    74.6090         Coal         NaN         NaN  ...   \n",
       "2   21.9038    69.3732         Wind         NaN         NaN  ...   \n",
       "3   23.8712    91.3602          Gas         NaN         NaN  ...   \n",
       "4   21.9603    82.4091         Coal         Oil         NaN  ...   \n",
       "\n",
       "   year_of_capacity_data  generation_gwh_2013 generation_gwh_2014  \\\n",
       "0                    NaN                  NaN                 NaN   \n",
       "1                    NaN                  NaN                 NaN   \n",
       "2                    NaN                  NaN                 NaN   \n",
       "3                 2019.0                  NaN          617.789264   \n",
       "4                 2019.0                  NaN         3035.550000   \n",
       "\n",
       "  generation_gwh_2015 generation_gwh_2016 generation_gwh_2017  \\\n",
       "0                 NaN                 NaN                 NaN   \n",
       "1                 NaN                 NaN                 NaN   \n",
       "2                 NaN                 NaN                 NaN   \n",
       "3             843.747          886.004428          663.774500   \n",
       "4            5916.370         6243.000000         5385.579736   \n",
       "\n",
       "   generation_gwh_2018  generation_gwh_2019         generation_data_source  \\\n",
       "0                  NaN                  NaN                            NaN   \n",
       "1                  NaN                  NaN                            NaN   \n",
       "2                  NaN                  NaN                            NaN   \n",
       "3           626.239128                  NaN  Central Electricity Authority   \n",
       "4          7279.000000                  NaN  Central Electricity Authority   \n",
       "\n",
       "   estimated_generation_gwh  \n",
       "0                       NaN  \n",
       "1                       NaN  \n",
       "2                       NaN  \n",
       "3                       NaN  \n",
       "4                       NaN  \n",
       "\n",
       "[5 rows x 27 columns]"
      ]
     },
     "execution_count": 2,
     "metadata": {},
     "output_type": "execute_result"
    }
   ],
   "source": [
    "df = pd.read_csv('https://raw.githubusercontent.com/wri/global-power-plant-database/master/source_databases_csv/database_IND.csv')\n",
    "df.head()"
   ]
  },
  {
   "cell_type": "code",
   "execution_count": 3,
   "id": "7dcd23c4",
   "metadata": {},
   "outputs": [
    {
     "data": {
      "text/plain": [
       "(907, 27)"
      ]
     },
     "execution_count": 3,
     "metadata": {},
     "output_type": "execute_result"
    }
   ],
   "source": [
    "df.shape"
   ]
  },
  {
   "cell_type": "markdown",
   "id": "a17e199e",
   "metadata": {},
   "source": [
    "#  There is 907 rows and 27 columns present in the dataset"
   ]
  },
  {
   "cell_type": "code",
   "execution_count": 4,
   "id": "b5b48749",
   "metadata": {},
   "outputs": [
    {
     "data": {
      "text/plain": [
       "country                       0\n",
       "country_long                  0\n",
       "name                          0\n",
       "gppd_idnr                     0\n",
       "capacity_mw                   0\n",
       "latitude                     46\n",
       "longitude                    46\n",
       "primary_fuel                  0\n",
       "other_fuel1                 709\n",
       "other_fuel2                 906\n",
       "other_fuel3                 907\n",
       "commissioning_year          380\n",
       "owner                       565\n",
       "source                        0\n",
       "url                           0\n",
       "geolocation_source           19\n",
       "wepp_id                     907\n",
       "year_of_capacity_data       388\n",
       "generation_gwh_2013         907\n",
       "generation_gwh_2014         509\n",
       "generation_gwh_2015         485\n",
       "generation_gwh_2016         473\n",
       "generation_gwh_2017         467\n",
       "generation_gwh_2018         459\n",
       "generation_gwh_2019         907\n",
       "generation_data_source      458\n",
       "estimated_generation_gwh    907\n",
       "dtype: int64"
      ]
     },
     "execution_count": 4,
     "metadata": {},
     "output_type": "execute_result"
    }
   ],
   "source": [
    "df.isna().sum()"
   ]
  },
  {
   "cell_type": "markdown",
   "id": "43f83b9f",
   "metadata": {},
   "source": [
    "# \n",
    "other_fuel1, other_fuel2, other_fuel3,commissioning_year,owner,wepp_id,\n",
    "\n",
    "year_of_capacity_data,generation_gwh_2013,generation_gwh_2014,\n",
    "\n",
    "generation_gwh_2015 , generation_gwh_2016, generation_gwh_2017,\n",
    "\n",
    " generation_gwh_2018, generation_data_source, estimated_generation_gwh\n",
    " \n",
    "More than 50 percent of null value present in the dataset so better we drop this column"
   ]
  },
  {
   "cell_type": "code",
   "execution_count": 5,
   "id": "edd7fb6d",
   "metadata": {},
   "outputs": [],
   "source": [
    "df.drop(columns=['other_fuel1','other_fuel2','other_fuel3','commissioning_year','owner','wepp_id','year_of_capacity_data','generation_gwh_2013','generation_gwh_2014','generation_gwh_2015','generation_gwh_2016','generation_gwh_2017','generation_gwh_2018','generation_data_source','estimated_generation_gwh','generation_gwh_2019'],axis=1, inplace=True)"
   ]
  },
  {
   "cell_type": "code",
   "execution_count": 6,
   "id": "3f5ec0e3",
   "metadata": {},
   "outputs": [
    {
     "data": {
      "text/plain": [
       "country                0\n",
       "country_long           0\n",
       "name                   0\n",
       "gppd_idnr              0\n",
       "capacity_mw            0\n",
       "latitude              46\n",
       "longitude             46\n",
       "primary_fuel           0\n",
       "source                 0\n",
       "url                    0\n",
       "geolocation_source    19\n",
       "dtype: int64"
      ]
     },
     "execution_count": 6,
     "metadata": {},
     "output_type": "execute_result"
    }
   ],
   "source": [
    "df.isna().sum()"
   ]
  },
  {
   "cell_type": "code",
   "execution_count": 7,
   "id": "c4f315c4",
   "metadata": {
    "scrolled": true
   },
   "outputs": [
    {
     "name": "stdout",
     "output_type": "stream",
     "text": [
      "<class 'pandas.core.frame.DataFrame'>\n",
      "RangeIndex: 907 entries, 0 to 906\n",
      "Data columns (total 11 columns):\n",
      " #   Column              Non-Null Count  Dtype  \n",
      "---  ------              --------------  -----  \n",
      " 0   country             907 non-null    object \n",
      " 1   country_long        907 non-null    object \n",
      " 2   name                907 non-null    object \n",
      " 3   gppd_idnr           907 non-null    object \n",
      " 4   capacity_mw         907 non-null    float64\n",
      " 5   latitude            861 non-null    float64\n",
      " 6   longitude           861 non-null    float64\n",
      " 7   primary_fuel        907 non-null    object \n",
      " 8   source              907 non-null    object \n",
      " 9   url                 907 non-null    object \n",
      " 10  geolocation_source  888 non-null    object \n",
      "dtypes: float64(3), object(8)\n",
      "memory usage: 78.1+ KB\n"
     ]
    }
   ],
   "source": [
    "df.info()"
   ]
  },
  {
   "cell_type": "markdown",
   "id": "50bc06dd",
   "metadata": {},
   "source": [
    "Based on the provided information, it seems to be a description of a dataset with several columns, including the column names and their corresponding data types. Here's a breakdown of the columns:\n",
    "\n",
    "country: Categorical variable representing the country. It has 907 non-null values and is of type object.\n",
    "\n",
    "country_long: Categorical variable representing the long-form name of the country. It has 907 non-null values and is of type object.\n",
    "\n",
    "name: Categorical variable representing the name. It has 907 non-null values and is of type object.\n",
    "\n",
    "gppd_idnr: Categorical variable representing an ID number. It has 907 non-null values and is of type object.\n",
    "\n",
    "capacity_mw: Numeric variable representing the capacity in megawatts. It has 907 non-null values and is of type float64.\n",
    "\n",
    "latitude: Numeric variable representing the latitude. It has 861 non-null values and is of type float64.\n",
    "\n",
    "longitude: Numeric variable representing the longitude. It has 861 non-null values and is of type float64.\n",
    "\n",
    "primary_fuel: Categorical variable representing the primary fuel source. It has 907 non-null values and is of type object.\n",
    "\n",
    "source: Categorical variable representing the data source. It has 907 non-null values and is of type object.\n",
    "\n",
    "url: Categorical variable representing the URL. It has 907 non-null values and is of type object.\n",
    "\n",
    "geolocation_source: Categorical variable representing the source of geolocation data. It has 888 non-null values and is of type object.\n",
    "\n",
    "This information provides an overview of the dataset's columns and their corresponding data types."
   ]
  },
  {
   "cell_type": "code",
   "execution_count": 8,
   "id": "6e3e1ac7",
   "metadata": {},
   "outputs": [],
   "source": [
    "from sklearn.impute import SimpleImputer\n",
    "column = df[['latitude', 'longitude']]\n",
    "imputer = SimpleImputer(strategy='mean')\n",
    "df[['latitude', 'longitude']] = imputer.fit_transform(column)\n",
    "\n"
   ]
  },
  {
   "cell_type": "code",
   "execution_count": 9,
   "id": "dd6b9b8f",
   "metadata": {},
   "outputs": [],
   "source": [
    "df['geolocation_source'].fillna(df['geolocation_source'].mode()[0], inplace=True)\n"
   ]
  },
  {
   "cell_type": "code",
   "execution_count": 10,
   "id": "8b7142e0",
   "metadata": {},
   "outputs": [
    {
     "data": {
      "text/plain": [
       "country               0\n",
       "country_long          0\n",
       "name                  0\n",
       "gppd_idnr             0\n",
       "capacity_mw           0\n",
       "latitude              0\n",
       "longitude             0\n",
       "primary_fuel          0\n",
       "source                0\n",
       "url                   0\n",
       "geolocation_source    0\n",
       "dtype: int64"
      ]
     },
     "execution_count": 10,
     "metadata": {},
     "output_type": "execute_result"
    }
   ],
   "source": [
    "df.isna().sum()"
   ]
  },
  {
   "cell_type": "code",
   "execution_count": 11,
   "id": "9aa6b6d1",
   "metadata": {},
   "outputs": [],
   "source": [
    "catgorical_col=[]\n",
    "for i in df.dtypes.index:\n",
    "    if df.dtypes[i]=='object':\n",
    "        catgorical_col.append(i)\n",
    "        \n",
    "numerical_col=[]\n",
    "for i in df.dtypes.index:\n",
    "    if df.dtypes[i] !='object':\n",
    "        numerical_col.append(i)"
   ]
  },
  {
   "cell_type": "code",
   "execution_count": 12,
   "id": "e606673b",
   "metadata": {
    "scrolled": false
   },
   "outputs": [
    {
     "name": "stdout",
     "output_type": "stream",
     "text": [
      "<bound method IndexOpsMixin.value_counts of 0      IND\n",
      "1      IND\n",
      "2      IND\n",
      "3      IND\n",
      "4      IND\n",
      "      ... \n",
      "902    IND\n",
      "903    IND\n",
      "904    IND\n",
      "905    IND\n",
      "906    IND\n",
      "Name: country, Length: 907, dtype: object>\n",
      "<bound method IndexOpsMixin.value_counts of 0      India\n",
      "1      India\n",
      "2      India\n",
      "3      India\n",
      "4      India\n",
      "       ...  \n",
      "902    India\n",
      "903    India\n",
      "904    India\n",
      "905    India\n",
      "906    India\n",
      "Name: country_long, Length: 907, dtype: object>\n",
      "<bound method IndexOpsMixin.value_counts of 0                  ACME Solar Tower\n",
      "1               ADITYA CEMENT WORKS\n",
      "2          AES Saurashtra Windfarms\n",
      "3                       AGARTALA GT\n",
      "4                      AKALTARA TPP\n",
      "                   ...             \n",
      "902                    YERMARUS TPP\n",
      "903    Yelesandra Solar Power Plant\n",
      "904    Yelisirur wind power project\n",
      "905                     ZAWAR MINES\n",
      "906         iEnergy Theni Wind Farm\n",
      "Name: name, Length: 907, dtype: object>\n",
      "<bound method IndexOpsMixin.value_counts of 0      WRI1020239\n",
      "1      WRI1019881\n",
      "2      WRI1026669\n",
      "3      IND0000001\n",
      "4      IND0000002\n",
      "          ...    \n",
      "902    IND0000513\n",
      "903    WRI1026222\n",
      "904    WRI1026776\n",
      "905    WRI1019901\n",
      "906    WRI1026761\n",
      "Name: gppd_idnr, Length: 907, dtype: object>\n",
      "<bound method IndexOpsMixin.value_counts of 0         2.5\n",
      "1        98.0\n",
      "2        39.2\n",
      "3       135.0\n",
      "4      1800.0\n",
      "        ...  \n",
      "902    1600.0\n",
      "903       3.0\n",
      "904      25.5\n",
      "905      80.0\n",
      "906      16.5\n",
      "Name: capacity_mw, Length: 907, dtype: float64>\n",
      "<bound method IndexOpsMixin.value_counts of 0      28.1839\n",
      "1      24.7663\n",
      "2      21.9038\n",
      "3      23.8712\n",
      "4      21.9603\n",
      "        ...   \n",
      "902    16.2949\n",
      "903    12.8932\n",
      "904    15.2758\n",
      "905    24.3500\n",
      "906     9.9344\n",
      "Name: latitude, Length: 907, dtype: float64>\n",
      "<bound method IndexOpsMixin.value_counts of 0      73.2407\n",
      "1      74.6090\n",
      "2      69.3732\n",
      "3      91.3602\n",
      "4      82.4091\n",
      "        ...   \n",
      "902    77.3568\n",
      "903    78.1654\n",
      "904    75.5811\n",
      "905    73.7477\n",
      "906    77.4768\n",
      "Name: longitude, Length: 907, dtype: float64>\n",
      "<bound method IndexOpsMixin.value_counts of 0      Solar\n",
      "1       Coal\n",
      "2       Wind\n",
      "3        Gas\n",
      "4       Coal\n",
      "       ...  \n",
      "902     Coal\n",
      "903    Solar\n",
      "904     Wind\n",
      "905     Coal\n",
      "906     Wind\n",
      "Name: primary_fuel, Length: 907, dtype: object>\n",
      "<bound method IndexOpsMixin.value_counts of 0      National Renewable Energy Laboratory\n",
      "1                      Ultratech Cement ltd\n",
      "2                                       CDM\n",
      "3             Central Electricity Authority\n",
      "4             Central Electricity Authority\n",
      "                       ...                 \n",
      "902           Central Electricity Authority\n",
      "903     Karnataka Power Corporation Limited\n",
      "904                                     CDM\n",
      "905                      Hindustan Zinc ltd\n",
      "906                                     CDM\n",
      "Name: source, Length: 907, dtype: object>\n",
      "<bound method IndexOpsMixin.value_counts of 0      http://www.nrel.gov/csp/solarpaces/project_det...\n",
      "1                        http://www.ultratechcement.com/\n",
      "2      https://cdm.unfccc.int/Projects/DB/DNV-CUK1328...\n",
      "3                                 http://www.cea.nic.in/\n",
      "4                                 http://www.cea.nic.in/\n",
      "                             ...                        \n",
      "902                               http://www.cea.nic.in/\n",
      "903                            http://karnatakapower.com\n",
      "904    https://cdm.unfccc.int/Projects/DB/TUEV-RHEIN1...\n",
      "905                             http://www.hzlindia.com/\n",
      "906    https://cdm.unfccc.int/Projects/DB/RWTUV134503...\n",
      "Name: url, Length: 907, dtype: object>\n",
      "<bound method IndexOpsMixin.value_counts of 0      National Renewable Energy Laboratory\n",
      "1                                       WRI\n",
      "2                                       WRI\n",
      "3                                       WRI\n",
      "4                                       WRI\n",
      "                       ...                 \n",
      "902                                     WRI\n",
      "903                          Industry About\n",
      "904                                     WRI\n",
      "905                                     WRI\n",
      "906                                     WRI\n",
      "Name: geolocation_source, Length: 907, dtype: object>\n"
     ]
    }
   ],
   "source": [
    "for i in df.columns:\n",
    "    print(df[i].value_counts)"
   ]
  },
  {
   "cell_type": "code",
   "execution_count": 13,
   "id": "08dc4194",
   "metadata": {
    "scrolled": true
   },
   "outputs": [
    {
     "data": {
      "text/plain": [
       "Index(['country', 'country_long', 'name', 'gppd_idnr', 'capacity_mw',\n",
       "       'latitude', 'longitude', 'primary_fuel', 'source', 'url',\n",
       "       'geolocation_source'],\n",
       "      dtype='object')"
      ]
     },
     "execution_count": 13,
     "metadata": {},
     "output_type": "execute_result"
    }
   ],
   "source": [
    "df.columns"
   ]
  },
  {
   "cell_type": "markdown",
   "id": "a17538c7",
   "metadata": {},
   "source": [
    "#  country and country_long  in this column only 1 value and url is link this company so we drop this column"
   ]
  },
  {
   "cell_type": "code",
   "execution_count": 14,
   "id": "4402197c",
   "metadata": {
    "scrolled": true
   },
   "outputs": [
    {
     "data": {
      "text/plain": [
       "907"
      ]
     },
     "execution_count": 14,
     "metadata": {},
     "output_type": "execute_result"
    }
   ],
   "source": [
    "df['name'].nunique()"
   ]
  },
  {
   "cell_type": "code",
   "execution_count": 15,
   "id": "36f8cc76",
   "metadata": {},
   "outputs": [
    {
     "data": {
      "text/plain": [
       "907"
      ]
     },
     "execution_count": 15,
     "metadata": {},
     "output_type": "execute_result"
    }
   ],
   "source": [
    "df['gppd_idnr'].nunique()"
   ]
  },
  {
   "cell_type": "markdown",
   "id": "bf67618b",
   "metadata": {},
   "source": [
    "#  we drop this name and gppd_idnr column cause there all unique value to each "
   ]
  },
  {
   "cell_type": "code",
   "execution_count": 16,
   "id": "94fa7e00",
   "metadata": {},
   "outputs": [],
   "source": [
    "df.drop(columns=['country','country_long','url','name','gppd_idnr'],axis=1,inplace=True)"
   ]
  },
  {
   "cell_type": "code",
   "execution_count": 17,
   "id": "1bb2ab18",
   "metadata": {},
   "outputs": [
    {
     "data": {
      "text/html": [
       "<div>\n",
       "<style scoped>\n",
       "    .dataframe tbody tr th:only-of-type {\n",
       "        vertical-align: middle;\n",
       "    }\n",
       "\n",
       "    .dataframe tbody tr th {\n",
       "        vertical-align: top;\n",
       "    }\n",
       "\n",
       "    .dataframe thead th {\n",
       "        text-align: right;\n",
       "    }\n",
       "</style>\n",
       "<table border=\"1\" class=\"dataframe\">\n",
       "  <thead>\n",
       "    <tr style=\"text-align: right;\">\n",
       "      <th></th>\n",
       "      <th>capacity_mw</th>\n",
       "      <th>latitude</th>\n",
       "      <th>longitude</th>\n",
       "    </tr>\n",
       "  </thead>\n",
       "  <tbody>\n",
       "    <tr>\n",
       "      <th>count</th>\n",
       "      <td>907.000000</td>\n",
       "      <td>907.000000</td>\n",
       "      <td>907.000000</td>\n",
       "    </tr>\n",
       "    <tr>\n",
       "      <th>mean</th>\n",
       "      <td>326.223755</td>\n",
       "      <td>21.197918</td>\n",
       "      <td>77.464907</td>\n",
       "    </tr>\n",
       "    <tr>\n",
       "      <th>std</th>\n",
       "      <td>590.085456</td>\n",
       "      <td>6.079148</td>\n",
       "      <td>4.812291</td>\n",
       "    </tr>\n",
       "    <tr>\n",
       "      <th>min</th>\n",
       "      <td>0.000000</td>\n",
       "      <td>8.168900</td>\n",
       "      <td>68.644700</td>\n",
       "    </tr>\n",
       "    <tr>\n",
       "      <th>25%</th>\n",
       "      <td>16.725000</td>\n",
       "      <td>17.072000</td>\n",
       "      <td>74.388900</td>\n",
       "    </tr>\n",
       "    <tr>\n",
       "      <th>50%</th>\n",
       "      <td>59.200000</td>\n",
       "      <td>21.281800</td>\n",
       "      <td>76.979200</td>\n",
       "    </tr>\n",
       "    <tr>\n",
       "      <th>75%</th>\n",
       "      <td>385.250000</td>\n",
       "      <td>25.176450</td>\n",
       "      <td>79.206100</td>\n",
       "    </tr>\n",
       "    <tr>\n",
       "      <th>max</th>\n",
       "      <td>4760.000000</td>\n",
       "      <td>34.649000</td>\n",
       "      <td>95.408000</td>\n",
       "    </tr>\n",
       "  </tbody>\n",
       "</table>\n",
       "</div>"
      ],
      "text/plain": [
       "       capacity_mw    latitude   longitude\n",
       "count   907.000000  907.000000  907.000000\n",
       "mean    326.223755   21.197918   77.464907\n",
       "std     590.085456    6.079148    4.812291\n",
       "min       0.000000    8.168900   68.644700\n",
       "25%      16.725000   17.072000   74.388900\n",
       "50%      59.200000   21.281800   76.979200\n",
       "75%     385.250000   25.176450   79.206100\n",
       "max    4760.000000   34.649000   95.408000"
      ]
     },
     "execution_count": 17,
     "metadata": {},
     "output_type": "execute_result"
    }
   ],
   "source": [
    "df.describe()"
   ]
  },
  {
   "cell_type": "markdown",
   "id": "917ae440",
   "metadata": {},
   "source": [
    "#  \n",
    "The summary of the dataset looks almost perfect since there is no negative value present in dataset from the above desccription we observed the following :\n",
    "the counts of the all columns are same which means there is no missing value in the dataset"
   ]
  },
  {
   "cell_type": "markdown",
   "id": "eaa6ac8f",
   "metadata": {},
   "source": [
    "#  EDA"
   ]
  },
  {
   "cell_type": "code",
   "execution_count": 18,
   "id": "8fa50721",
   "metadata": {},
   "outputs": [
    {
     "data": {
      "text/plain": [
       "Coal       258\n",
       "Hydro      251\n",
       "Solar      127\n",
       "Wind       123\n",
       "Gas         69\n",
       "Biomass     50\n",
       "Oil         20\n",
       "Nuclear      9\n",
       "Name: primary_fuel, dtype: int64"
      ]
     },
     "execution_count": 18,
     "metadata": {},
     "output_type": "execute_result"
    },
    {
     "data": {
      "image/png": "[encoded data removed]",
      "text/plain": [
       "<Figure size 432x288 with 1 Axes>"
      ]
     },
     "metadata": {
      "needs_background": "light"
     },
     "output_type": "display_data"
    }
   ],
   "source": [
    "sns.countplot(data=df,x='primary_fuel')\n",
    "df['primary_fuel'].value_counts()"
   ]
  },
  {
   "cell_type": "markdown",
   "id": "40fee301",
   "metadata": {},
   "source": [
    "# when we build classification promblem then we fix data imbalance "
   ]
  },
  {
   "cell_type": "code",
   "execution_count": 19,
   "id": "54be3317",
   "metadata": {},
   "outputs": [
    {
     "data": {
      "text/plain": [
       "WRI                                     784\n",
       "Industry About                          119\n",
       "National Renewable Energy Laboratory      4\n",
       "Name: geolocation_source, dtype: int64"
      ]
     },
     "execution_count": 19,
     "metadata": {},
     "output_type": "execute_result"
    },
    {
     "data": {
      "image/png": "[encoded data removed]",
      "text/plain": [
       "<Figure size 432x288 with 1 Axes>"
      ]
     },
     "metadata": {
      "needs_background": "light"
     },
     "output_type": "display_data"
    }
   ],
   "source": [
    "sns.countplot(data=df,x='geolocation_source')\n",
    "df['geolocation_source'].value_counts()"
   ]
  },
  {
   "cell_type": "code",
   "execution_count": 20,
   "id": "9f7482c1",
   "metadata": {},
   "outputs": [
    {
     "data": {
      "image/png": "[encoded data removed]",
      "text/plain": [
       "<Figure size 432x288 with 1 Axes>"
      ]
     },
     "metadata": {
      "needs_background": "light"
     },
     "output_type": "display_data"
    }
   ],
   "source": [
    "sns.scatterplot(data=df,x='latitude',y='capacity_mw')\n",
    "plt.show()"
   ]
  },
  {
   "cell_type": "code",
   "execution_count": 21,
   "id": "6125eda0",
   "metadata": {},
   "outputs": [
    {
     "data": {
      "image/png": "[encoded data removed]",
      "text/plain": [
       "<Figure size 432x288 with 1 Axes>"
      ]
     },
     "metadata": {
      "needs_background": "light"
     },
     "output_type": "display_data"
    }
   ],
   "source": [
    "sns.scatterplot(data=df,x='longitude',y='capacity_mw')\n",
    "plt.show()"
   ]
  },
  {
   "cell_type": "code",
   "execution_count": 22,
   "id": "fe9c5917",
   "metadata": {},
   "outputs": [
    {
     "data": {
      "image/png": "[encoded data removed]",
      "text/plain": [
       "<Figure size 432x288 with 1 Axes>"
      ]
     },
     "metadata": {
      "needs_background": "light"
     },
     "output_type": "display_data"
    }
   ],
   "source": [
    "sns.scatterplot(data=df,x='primary_fuel',y='latitude')\n",
    "plt.show()"
   ]
  },
  {
   "cell_type": "code",
   "execution_count": 23,
   "id": "83921010",
   "metadata": {},
   "outputs": [
    {
     "data": {
      "image/png": "[encoded data removed]",
      "text/plain": [
       "<Figure size 432x288 with 1 Axes>"
      ]
     },
     "metadata": {
      "needs_background": "light"
     },
     "output_type": "display_data"
    }
   ],
   "source": [
    "sns.scatterplot(data=df,x='primary_fuel',y='longitude')\n",
    "plt.show()"
   ]
  },
  {
   "cell_type": "code",
   "execution_count": 24,
   "id": "63b445d7",
   "metadata": {},
   "outputs": [],
   "source": [
    "catgorical_col=[]\n",
    "for i in df.dtypes.index:\n",
    "    if df.dtypes[i]=='object':\n",
    "        catgorical_col.append(i)\n",
    "        \n",
    "numerical_col=[]\n",
    "for i in df.dtypes.index:\n",
    "    if df.dtypes[i] !='object':\n",
    "        numerical_col.append(i)"
   ]
  },
  {
   "cell_type": "code",
   "execution_count": 25,
   "id": "925a2be0",
   "metadata": {
    "scrolled": true
   },
   "outputs": [
    {
     "data": {
      "image/png": "[encoded data removed]",
      "text/plain": [
       "<Figure size 1080x1080 with 3 Axes>"
      ]
     },
     "metadata": {
      "needs_background": "light"
     },
     "output_type": "display_data"
    }
   ],
   "source": [
    "plt.figure(figsize=(15,15))\n",
    "i=1\n",
    "for column in numerical_col:\n",
    "    if i<=12:\n",
    "        \n",
    "        \n",
    "    \n",
    "        plt.subplot(4,4,i)\n",
    "    \n",
    "        ax=sns.boxplot(data=df[column])\n",
    "    \n",
    "        plt.xlabel (column,fontsize=15)\n",
    "        \n",
    "    i+=1\n",
    "    \n",
    "plt.show()\n",
    "    \n",
    "                \n",
    "                \n"
   ]
  },
  {
   "cell_type": "markdown",
   "id": "5ec6f515",
   "metadata": {},
   "source": [
    "#  We found outliers in longtitude columns we have to reduce it"
   ]
  },
  {
   "cell_type": "markdown",
   "id": "ed0a0aae",
   "metadata": {},
   "source": [
    "# Encoding process"
   ]
  },
  {
   "cell_type": "code",
   "execution_count": 26,
   "id": "5806f195",
   "metadata": {},
   "outputs": [
    {
     "data": {
      "text/html": [
       "<div>\n",
       "<style scoped>\n",
       "    .dataframe tbody tr th:only-of-type {\n",
       "        vertical-align: middle;\n",
       "    }\n",
       "\n",
       "    .dataframe tbody tr th {\n",
       "        vertical-align: top;\n",
       "    }\n",
       "\n",
       "    .dataframe thead th {\n",
       "        text-align: right;\n",
       "    }\n",
       "</style>\n",
       "<table border=\"1\" class=\"dataframe\">\n",
       "  <thead>\n",
       "    <tr style=\"text-align: right;\">\n",
       "      <th></th>\n",
       "      <th>capacity_mw</th>\n",
       "      <th>latitude</th>\n",
       "      <th>longitude</th>\n",
       "      <th>primary_fuel</th>\n",
       "      <th>source</th>\n",
       "      <th>geolocation_source</th>\n",
       "    </tr>\n",
       "  </thead>\n",
       "  <tbody>\n",
       "    <tr>\n",
       "      <th>0</th>\n",
       "      <td>2.5</td>\n",
       "      <td>28.1839</td>\n",
       "      <td>73.2407</td>\n",
       "      <td>6</td>\n",
       "      <td>109</td>\n",
       "      <td>1</td>\n",
       "    </tr>\n",
       "    <tr>\n",
       "      <th>1</th>\n",
       "      <td>98.0</td>\n",
       "      <td>24.7663</td>\n",
       "      <td>74.6090</td>\n",
       "      <td>1</td>\n",
       "      <td>174</td>\n",
       "      <td>2</td>\n",
       "    </tr>\n",
       "    <tr>\n",
       "      <th>2</th>\n",
       "      <td>39.2</td>\n",
       "      <td>21.9038</td>\n",
       "      <td>69.3732</td>\n",
       "      <td>7</td>\n",
       "      <td>21</td>\n",
       "      <td>2</td>\n",
       "    </tr>\n",
       "    <tr>\n",
       "      <th>3</th>\n",
       "      <td>135.0</td>\n",
       "      <td>23.8712</td>\n",
       "      <td>91.3602</td>\n",
       "      <td>2</td>\n",
       "      <td>22</td>\n",
       "      <td>2</td>\n",
       "    </tr>\n",
       "    <tr>\n",
       "      <th>4</th>\n",
       "      <td>1800.0</td>\n",
       "      <td>21.9603</td>\n",
       "      <td>82.4091</td>\n",
       "      <td>1</td>\n",
       "      <td>22</td>\n",
       "      <td>2</td>\n",
       "    </tr>\n",
       "  </tbody>\n",
       "</table>\n",
       "</div>"
      ],
      "text/plain": [
       "   capacity_mw  latitude  longitude  primary_fuel  source  geolocation_source\n",
       "0          2.5   28.1839    73.2407             6     109                   1\n",
       "1         98.0   24.7663    74.6090             1     174                   2\n",
       "2         39.2   21.9038    69.3732             7      21                   2\n",
       "3        135.0   23.8712    91.3602             2      22                   2\n",
       "4       1800.0   21.9603    82.4091             1      22                   2"
      ]
     },
     "execution_count": 26,
     "metadata": {},
     "output_type": "execute_result"
    }
   ],
   "source": [
    "from sklearn.preprocessing import LabelEncoder\n",
    "lm=LabelEncoder()\n",
    "for i in catgorical_col:\n",
    "    df[i] = lm.fit_transform(df[i])\n",
    "df.head()"
   ]
  },
  {
   "cell_type": "code",
   "execution_count": 27,
   "id": "02a16866",
   "metadata": {},
   "outputs": [],
   "source": [
    "x=df.drop(columns='primary_fuel')\n",
    "y=df['primary_fuel']"
   ]
  },
  {
   "cell_type": "code",
   "execution_count": 28,
   "id": "c070e99f",
   "metadata": {},
   "outputs": [
    {
     "data": {
      "text/plain": [
       "(907, 5)"
      ]
     },
     "execution_count": 28,
     "metadata": {},
     "output_type": "execute_result"
    }
   ],
   "source": [
    "from scipy.stats import zscore\n",
    "z=np.abs(zscore(x))\n",
    "z.shape"
   ]
  },
  {
   "cell_type": "code",
   "execution_count": 29,
   "id": "ebe25299",
   "metadata": {},
   "outputs": [
    {
     "name": "stdout",
     "output_type": "stream",
     "text": [
      "(array([ 15,  71,  80, 143, 147, 179, 183, 191, 209, 244, 299, 308, 321,\n",
      "       323, 333, 340, 345, 360, 363, 364, 375, 416, 427, 482, 493, 494,\n",
      "       499, 519, 546, 577, 638, 648, 657, 661, 669, 689, 695, 726, 767,\n",
      "       786, 788, 808, 818, 832, 847, 870, 871, 879, 880, 895, 900],\n",
      "      dtype=int64), array([0, 3, 3, 0, 0, 2, 2, 3, 0, 2, 3, 0, 3, 2, 2, 2, 3, 2, 0, 0, 0, 2,\n",
      "       2, 0, 0, 0, 2, 2, 2, 2, 2, 0, 0, 3, 3, 3, 0, 0, 0, 0, 0, 0, 2, 3,\n",
      "       2, 3, 3, 3, 0, 3, 3], dtype=int64))\n"
     ]
    }
   ],
   "source": [
    "threshold=3\n",
    "print(np.where(z>3))"
   ]
  },
  {
   "cell_type": "code",
   "execution_count": 30,
   "id": "c98d2e6e",
   "metadata": {},
   "outputs": [
    {
     "name": "stdout",
     "output_type": "stream",
     "text": [
      "(907, 6)\n",
      "(856, 6)\n"
     ]
    }
   ],
   "source": [
    "x=df[(z<3).all(axis=1)]\n",
    "print(df.shape)\n",
    "print(x.shape)"
   ]
  },
  {
   "cell_type": "code",
   "execution_count": 31,
   "id": "9e429f6d",
   "metadata": {},
   "outputs": [
    {
     "name": "stdout",
     "output_type": "stream",
     "text": [
      "(856,)\n"
     ]
    }
   ],
   "source": [
    "y=y[(z<3).all(axis=1)]\n",
    "print(y.shape)"
   ]
  },
  {
   "cell_type": "markdown",
   "id": "fd7370e7",
   "metadata": {},
   "source": [
    "#  percentage of data loss:"
   ]
  },
  {
   "cell_type": "code",
   "execution_count": 32,
   "id": "995e2471",
   "metadata": {},
   "outputs": [
    {
     "data": {
      "text/plain": [
       "5.622932745314222"
      ]
     },
     "execution_count": 32,
     "metadata": {},
     "output_type": "execute_result"
    }
   ],
   "source": [
    "loss_percent = (907-856)/907*100\n",
    "loss_percent"
   ]
  },
  {
   "cell_type": "code",
   "execution_count": 33,
   "id": "21af8f96",
   "metadata": {},
   "outputs": [
    {
     "data": {
      "image/png": "[encoded data removed]",
      "text/plain": [
       "<Figure size 432x288 with 2 Axes>"
      ]
     },
     "metadata": {
      "needs_background": "light"
     },
     "output_type": "display_data"
    }
   ],
   "source": [
    "sns.heatmap(df.corr(),annot=True)\n",
    "plt.show()"
   ]
  },
  {
   "cell_type": "markdown",
   "id": "69671bb2",
   "metadata": {},
   "source": [
    "#  There is no co-relation to each other"
   ]
  },
  {
   "cell_type": "code",
   "execution_count": 34,
   "id": "f5942bd4",
   "metadata": {
    "scrolled": true
   },
   "outputs": [
    {
     "data": {
      "image/png": "[encoded data removed]",
      "text/plain": [
       "<Figure size 1080x1080 with 3 Axes>"
      ]
     },
     "metadata": {
      "needs_background": "light"
     },
     "output_type": "display_data"
    }
   ],
   "source": [
    " plt.figure(figsize=(15,15))\n",
    "plotnumber =1\n",
    "for column in numerical_col:\n",
    "    if plotnumber<=4:\n",
    "        ax=plt.subplot(4,4,plotnumber)\n",
    "        sns.distplot(df[column])\n",
    "        plt.xlabel(column,fontsize=20)\n",
    "        \n",
    "    plotnumber+=1\n",
    "    \n",
    "plt.show()"
   ]
  },
  {
   "cell_type": "markdown",
   "id": "d0bf0f99",
   "metadata": {},
   "source": [
    "# capacity_mw is right skewed and latitude and longitude is looks like normal distrubuted"
   ]
  },
  {
   "cell_type": "code",
   "execution_count": 35,
   "id": "e8a0732d",
   "metadata": {
    "scrolled": false
   },
   "outputs": [
    {
     "data": {
      "text/plain": [
       "capacity_mw           3.123576\n",
       "latitude             -0.149698\n",
       "longitude             1.141881\n",
       "primary_fuel          0.472251\n",
       "source                1.827373\n",
       "geolocation_source   -2.159841\n",
       "dtype: float64"
      ]
     },
     "execution_count": 35,
     "metadata": {},
     "output_type": "execute_result"
    }
   ],
   "source": [
    "df.skew()"
   ]
  },
  {
   "cell_type": "markdown",
   "id": "96749119",
   "metadata": {},
   "source": [
    "#  capacity_mw is very high skewness we hae to reduced skewness"
   ]
  },
  {
   "cell_type": "code",
   "execution_count": 36,
   "id": "80defa1d",
   "metadata": {},
   "outputs": [],
   "source": [
    "df['capacity_mw'] =np.cbrt(df['capacity_mw'])"
   ]
  },
  {
   "cell_type": "code",
   "execution_count": 37,
   "id": "ef067c60",
   "metadata": {
    "scrolled": true
   },
   "outputs": [
    {
     "data": {
      "text/plain": [
       "capacity_mw           1.013378\n",
       "latitude             -0.149698\n",
       "longitude             1.141881\n",
       "primary_fuel          0.472251\n",
       "source                1.827373\n",
       "geolocation_source   -2.159841\n",
       "dtype: float64"
      ]
     },
     "execution_count": 37,
     "metadata": {},
     "output_type": "execute_result"
    }
   ],
   "source": [
    "df.skew()"
   ]
  },
  {
   "cell_type": "markdown",
   "id": "037ec5d5",
   "metadata": {},
   "source": [
    "# We solve  capacity_mw skewness promblem"
   ]
  },
  {
   "cell_type": "code",
   "execution_count": 38,
   "id": "2eaa3af5",
   "metadata": {},
   "outputs": [
    {
     "data": {
      "text/plain": [
       "3    240\n",
       "1    234\n",
       "7    123\n",
       "6    121\n",
       "2     64\n",
       "0     45\n",
       "5     20\n",
       "4      9\n",
       "Name: primary_fuel, dtype: int64"
      ]
     },
     "execution_count": 38,
     "metadata": {},
     "output_type": "execute_result"
    }
   ],
   "source": [
    "y.value_counts()"
   ]
  },
  {
   "cell_type": "markdown",
   "id": "dab807f3",
   "metadata": {},
   "source": [
    "#  There is data imbalance we solve this issue"
   ]
  },
  {
   "cell_type": "code",
   "execution_count": 39,
   "id": "2af7e0bf",
   "metadata": {},
   "outputs": [],
   "source": [
    "from imblearn.over_sampling import SMOTE\n",
    "SM=SMOTE()\n",
    "x,y=SM.fit_resample(x,y)"
   ]
  },
  {
   "cell_type": "code",
   "execution_count": 40,
   "id": "75bed520",
   "metadata": {},
   "outputs": [],
   "source": [
    "from sklearn.preprocessing import StandardScaler\n",
    "scaler=StandardScaler()\n",
    "x_scaled=scaler.fit_transform(x)"
   ]
  },
  {
   "cell_type": "code",
   "execution_count": 41,
   "id": "5e451cfa",
   "metadata": {},
   "outputs": [],
   "source": [
    "# import library\n",
    "from sklearn.model_selection import train_test_split\n",
    "from sklearn.metrics import mean_absolute_error\n",
    "from sklearn.metrics import mean_squared_error\n",
    "from sklearn.metrics import r2_score \n",
    "from sklearn.ensemble import GradientBoostingRegressor\n",
    "from sklearn.linear_model import LinearRegression\n",
    "from sklearn.ensemble import RandomForestRegressor\n",
    "from sklearn.tree import DecisionTreeRegressor\n",
    "from sklearn.neighbors import KNeighborsRegressor as KNN\n",
    "from sklearn.linear_model import Lasso, Ridge"
   ]
  },
  {
   "cell_type": "code",
   "execution_count": 42,
   "id": "6aaeb544",
   "metadata": {},
   "outputs": [
    {
     "name": "stdout",
     "output_type": "stream",
     "text": [
      "Best accuracy is 1.0 at random_state 1\n"
     ]
    }
   ],
   "source": [
    "from sklearn.model_selection import train_test_split\n",
    "from sklearn.ensemble import RandomForestClassifier\n",
    "from sklearn.metrics import accuracy_score\n",
    "\n",
    "maxAccu = 0\n",
    "maxRs = 0\n",
    "\n",
    "for i in range(1, 200):\n",
    "    x_train, x_test, y_train, y_test = train_test_split(x, y, test_size=0.30, random_state=i)\n",
    "    rnd = RandomForestClassifier()\n",
    "    rnd.fit(x_train, y_train)\n",
    "    y_pred = rnd.predict(x_test)\n",
    "    acc = accuracy_score(y_test, y_pred)\n",
    "    if acc > maxAccu:\n",
    "        maxAccu = acc\n",
    "        maxRs = i\n",
    "\n",
    "print('Best accuracy is', maxAccu, 'at random_state', maxRs)\n"
   ]
  },
  {
   "cell_type": "code",
   "execution_count": 43,
   "id": "f1aa0f40",
   "metadata": {},
   "outputs": [],
   "source": [
    "x_train, x_test, y_train, y_test = train_test_split(x,y, test_size = 0.30, random_state = maxRs)"
   ]
  },
  {
   "cell_type": "code",
   "execution_count": 44,
   "id": "af5111b7",
   "metadata": {},
   "outputs": [],
   "source": [
    "from sklearn.ensemble import RandomForestClassifier, ExtraTreesClassifier\n",
    "from sklearn.linear_model import LogisticRegression\n",
    "from sklearn.svm import SVC\n",
    "from sklearn.ensemble import GradientBoostingClassifier, AdaBoostClassifier, BaggingClassifier\n",
    "from sklearn.metrics import classification_report ,confusion_matrix, roc_curve, accuracy_score\n",
    "from sklearn.model_selection import cross_val_score"
   ]
  },
  {
   "cell_type": "code",
   "execution_count": 45,
   "id": "150ae8ce",
   "metadata": {},
   "outputs": [
    {
     "name": "stdout",
     "output_type": "stream",
     "text": [
      "Accuracy score 0.6145833333333334\n",
      "\n",
      "\n",
      "[[69  1  0  2  0  0  1  0]\n",
      " [ 4 38  6 16  4  0  1  1]\n",
      " [ 4 23 14 19  3  9  0  0]\n",
      " [ 5  3  6 37  6 10  1 13]\n",
      " [ 0  7 10  8 46  0  0  0]\n",
      " [ 0  0  0  5  1 46  1 21]\n",
      " [ 6  1  0  1  0  4 54  8]\n",
      " [ 0  0  0  2  0  1  8 50]]\n"
     ]
    }
   ],
   "source": [
    "LR= LogisticRegression()\n",
    "LR.fit(x_train, y_train)\n",
    "predLR= LR.predict (x_test)\n",
    "print('Accuracy score',(accuracy_score(y_test, predLR)))\n",
    "print('\\n')\n",
    "print(confusion_matrix(y_test, predLR))"
   ]
  },
  {
   "cell_type": "code",
   "execution_count": 46,
   "id": "2ce25444",
   "metadata": {},
   "outputs": [
    {
     "name": "stdout",
     "output_type": "stream",
     "text": [
      "Accuracy score 1.0\n",
      "\n",
      "\n",
      "[[73  0  0  0  0  0  0  0]\n",
      " [ 0 70  0  0  0  0  0  0]\n",
      " [ 0  0 72  0  0  0  0  0]\n",
      " [ 0  0  0 81  0  0  0  0]\n",
      " [ 0  0  0  0 71  0  0  0]\n",
      " [ 0  0  0  0  0 74  0  0]\n",
      " [ 0  0  0  0  0  0 74  0]\n",
      " [ 0  0  0  0  0  0  0 61]]\n"
     ]
    }
   ],
   "source": [
    "Rnd= RandomForestClassifier()\n",
    "Rnd.fit(x_train, y_train)\n",
    "predRnd= Rnd.predict (x_test)\n",
    "print('Accuracy score',(accuracy_score(y_test, predRnd)))\n",
    "print('\\n')\n",
    "print(confusion_matrix(y_test, predRnd))"
   ]
  },
  {
   "cell_type": "code",
   "execution_count": 47,
   "id": "cc3068b2",
   "metadata": {},
   "outputs": [
    {
     "name": "stdout",
     "output_type": "stream",
     "text": [
      "Accuracy score 1.0\n",
      "\n",
      "\n",
      "[[73  0  0  0  0  0  0  0]\n",
      " [ 0 70  0  0  0  0  0  0]\n",
      " [ 0  0 72  0  0  0  0  0]\n",
      " [ 0  0  0 81  0  0  0  0]\n",
      " [ 0  0  0  0 71  0  0  0]\n",
      " [ 0  0  0  0  0 74  0  0]\n",
      " [ 0  0  0  0  0  0 74  0]\n",
      " [ 0  0  0  0  0  0  0 61]]\n"
     ]
    }
   ],
   "source": [
    "Etr= ExtraTreesClassifier()\n",
    "Etr.fit(x_train, y_train)\n",
    "predEtr= Etr.predict (x_test)\n",
    "print('Accuracy score',(accuracy_score(y_test, predEtr)))\n",
    "print('\\n')\n",
    "print(confusion_matrix(y_test, predEtr))"
   ]
  },
  {
   "cell_type": "code",
   "execution_count": 48,
   "id": "92702f93",
   "metadata": {},
   "outputs": [
    {
     "name": "stdout",
     "output_type": "stream",
     "text": [
      "Accuracy score 0.3732638888888889\n",
      "\n",
      "\n",
      "[[45  0  0  0  0  0  2 26]\n",
      " [ 3  0  9  3 42  5  0  8]\n",
      " [ 7  0 23  5 27  3  0  7]\n",
      " [ 0  0 14 17 14  0  0 36]\n",
      " [ 0  0  4  3 64  0  0  0]\n",
      " [14  0  2 24  1  6  0 27]\n",
      " [52  0  0  0  1  4  1 16]\n",
      " [ 0  0  0  2  0  0  0 59]]\n"
     ]
    }
   ],
   "source": [
    "svc=SVC()\n",
    "svc.fit(x_train, y_train)\n",
    "predsvc=svc.predict (x_test)\n",
    "print('Accuracy score',(accuracy_score(y_test, predsvc)))\n",
    "print('\\n')\n",
    "\n",
    "print(confusion_matrix(y_test, predsvc))"
   ]
  },
  {
   "cell_type": "code",
   "execution_count": 49,
   "id": "0ac6fb8f",
   "metadata": {},
   "outputs": [
    {
     "name": "stdout",
     "output_type": "stream",
     "text": [
      "Accuracy score 1.0\n",
      "\n",
      "\n",
      "[[73  0  0  0  0  0  0  0]\n",
      " [ 0 70  0  0  0  0  0  0]\n",
      " [ 0  0 72  0  0  0  0  0]\n",
      " [ 0  0  0 81  0  0  0  0]\n",
      " [ 0  0  0  0 71  0  0  0]\n",
      " [ 0  0  0  0  0 74  0  0]\n",
      " [ 0  0  0  0  0  0 74  0]\n",
      " [ 0  0  0  0  0  0  0 61]]\n"
     ]
    }
   ],
   "source": [
    "gbc=GradientBoostingClassifier()\n",
    "gbc.fit(x_train, y_train)\n",
    "predgbc =gbc.predict (x_test)\n",
    "print('Accuracy score',(accuracy_score(y_test, predgbc)))\n",
    "print('\\n')\n",
    "\n",
    "print(confusion_matrix(y_test, predgbc))"
   ]
  },
  {
   "cell_type": "code",
   "execution_count": 50,
   "id": "f0c81a07",
   "metadata": {},
   "outputs": [
    {
     "name": "stdout",
     "output_type": "stream",
     "text": [
      "Accuracy score 0.3541666666666667\n",
      "\n",
      "\n",
      "[[73  0  0  0  0  0  0  0]\n",
      " [ 0 70  0  0  0  0  0  0]\n",
      " [ 0 72  0  0  0  0  0  0]\n",
      " [ 0 81  0  0  0  0  0  0]\n",
      " [ 0 71  0  0  0  0  0  0]\n",
      " [ 0 74  0  0  0  0  0  0]\n",
      " [ 0 74  0  0  0  0  0  0]\n",
      " [ 0  0  0  0  0  0  0 61]]\n"
     ]
    }
   ],
   "source": [
    "adaboost= AdaBoostClassifier()\n",
    "adaboost.fit(x_train, y_train)\n",
    "predadaboost =adaboost.predict (x_test)\n",
    "print('Accuracy score',(accuracy_score(y_test, predadaboost)))\n",
    "print('\\n')\n",
    "\n",
    "print(confusion_matrix(y_test, predadaboost))"
   ]
  },
  {
   "cell_type": "code",
   "execution_count": 51,
   "id": "e0d76299",
   "metadata": {},
   "outputs": [
    {
     "name": "stdout",
     "output_type": "stream",
     "text": [
      "Accuracy score 1.0\n",
      "\n",
      "\n",
      "[[73  0  0  0  0  0  0  0]\n",
      " [ 0 70  0  0  0  0  0  0]\n",
      " [ 0  0 72  0  0  0  0  0]\n",
      " [ 0  0  0 81  0  0  0  0]\n",
      " [ 0  0  0  0 71  0  0  0]\n",
      " [ 0  0  0  0  0 74  0  0]\n",
      " [ 0  0  0  0  0  0 74  0]\n",
      " [ 0  0  0  0  0  0  0 61]]\n"
     ]
    }
   ],
   "source": [
    "bagging=BaggingClassifier()\n",
    "bagging.fit(x_train, y_train)\n",
    "predbagging =bagging.predict (x_test)\n",
    "print('Accuracy score',(accuracy_score(y_test, predbagging)))\n",
    "print('\\n')\n",
    "\n",
    "print(confusion_matrix(y_test, predbagging))"
   ]
  },
  {
   "cell_type": "markdown",
   "id": "0670c9a2",
   "metadata": {},
   "source": [
    "#  Cross Validation Score"
   ]
  },
  {
   "cell_type": "code",
   "execution_count": 52,
   "id": "e354dcf7",
   "metadata": {},
   "outputs": [
    {
     "name": "stdout",
     "output_type": "stream",
     "text": [
      "LogisticRegression \n",
      "\n",
      "\n",
      "[0.58854167 0.625      0.55989583 0.59114583 0.56770833]\n",
      "0.5864583333333334\n",
      "Difference between Accuracy score  and cross validation score is -  0.028124999999999956\n"
     ]
    }
   ],
   "source": [
    "print('LogisticRegression ')\n",
    "print('\\n')\n",
    "score=cross_val_score(LR, x, y)\n",
    "print(score)\n",
    "print(score.mean())\n",
    "print('Difference between Accuracy score  and cross validation score is - ', accuracy_score(y_test,predLR)- score.mean())"
   ]
  },
  {
   "cell_type": "code",
   "execution_count": 53,
   "id": "fe5b5b44",
   "metadata": {},
   "outputs": [
    {
     "name": "stdout",
     "output_type": "stream",
     "text": [
      "ExtraTreesClassifier \n",
      "\n",
      "\n",
      "[1. 1. 1. 1. 1.]\n",
      "1.0\n",
      "Difference between Accuracy score  and cross validation score is -  0.0\n"
     ]
    }
   ],
   "source": [
    "print('ExtraTreesClassifier ')\n",
    "print('\\n')\n",
    "score=cross_val_score(Rnd, x, y)\n",
    "print(score)\n",
    "print(score.mean())\n",
    "print('Difference between Accuracy score  and cross validation score is - ', accuracy_score(y_test,predRnd)- score.mean())"
   ]
  },
  {
   "cell_type": "code",
   "execution_count": 54,
   "id": "3ea8e7ac",
   "metadata": {},
   "outputs": [
    {
     "name": "stdout",
     "output_type": "stream",
     "text": [
      "SVC \n",
      "\n",
      "\n",
      "[0.359375   0.40364583 0.36458333 0.40885417 0.3671875 ]\n",
      "0.3807291666666667\n",
      "Difference between Accuracy score  and cross validation score is -  -0.007465277777777779\n"
     ]
    }
   ],
   "source": [
    "print('SVC ')\n",
    "print('\\n')\n",
    "score=cross_val_score(svc, x, y)\n",
    "print(score)\n",
    "print(score.mean())\n",
    "print('Difference between Accuracy score  and cross validation score is - ', accuracy_score(y_test,predsvc)- score.mean())"
   ]
  },
  {
   "cell_type": "code",
   "execution_count": 55,
   "id": "44c68c8e",
   "metadata": {},
   "outputs": [
    {
     "name": "stdout",
     "output_type": "stream",
     "text": [
      "GradientBoostingClassifier \n",
      "\n",
      "\n",
      "[1. 1. 1. 1. 1.]\n",
      "1.0\n",
      "Difference between Accuracy score  and cross validation score is -  0.0\n"
     ]
    }
   ],
   "source": [
    "print('GradientBoostingClassifier ')\n",
    "print('\\n')\n",
    "score=cross_val_score(gbc, x, y)\n",
    "print(score)\n",
    "print(score.mean())\n",
    "print('Difference between Accuracy score  and cross validation score is - ', accuracy_score(y_test,predgbc)- score.mean())"
   ]
  },
  {
   "cell_type": "code",
   "execution_count": 56,
   "id": "93486778",
   "metadata": {},
   "outputs": [
    {
     "name": "stdout",
     "output_type": "stream",
     "text": [
      "AdaBoostClassifier \n",
      "\n",
      "\n",
      "[0.375 0.375 0.375 0.375 0.375]\n",
      "0.375\n",
      "Difference between Accuracy score  and cross validation score is -  -0.020833333333333315\n"
     ]
    }
   ],
   "source": [
    "print('AdaBoostClassifier ')\n",
    "print('\\n')\n",
    "score=cross_val_score(adaboost, x, y)\n",
    "print(score)\n",
    "print(score.mean())\n",
    "print('Difference between Accuracy score  and cross validation score is - ', accuracy_score(y_test,predadaboost)- score.mean())"
   ]
  },
  {
   "cell_type": "code",
   "execution_count": 57,
   "id": "1a888b0e",
   "metadata": {},
   "outputs": [
    {
     "name": "stdout",
     "output_type": "stream",
     "text": [
      "BaggingClassifier \n",
      "\n",
      "\n",
      "[1. 1. 1. 1. 1.]\n",
      "1.0\n",
      "Difference between Accuracy score  and cross validation score is -  0.0\n"
     ]
    }
   ],
   "source": [
    "print('BaggingClassifier ')\n",
    "print('\\n')\n",
    "score=cross_val_score(bagging, x, y)\n",
    "print(score)\n",
    "print(score.mean())\n",
    "print('Difference between Accuracy score  and cross validation score is - ', accuracy_score(y_test,predbagging)- score.mean())"
   ]
  },
  {
   "cell_type": "markdown",
   "id": "a6377eb5",
   "metadata": {},
   "source": [
    "#  Extra tress , Adabooster, Bagging classifier has giving 100 per accuracy and and there is no difference in cross validation score each result gives same accuracy"
   ]
  },
  {
   "cell_type": "code",
   "execution_count": 58,
   "id": "a9ed0a1b",
   "metadata": {},
   "outputs": [],
   "source": [
    "from sklearn.model_selection import GridSearchCV"
   ]
  },
  {
   "cell_type": "code",
   "execution_count": 59,
   "id": "530ffc15",
   "metadata": {},
   "outputs": [],
   "source": [
    "parameters ={'criterion': ['gini','entropy'],\n",
    "            'random_state': [10,100,850],\n",
    "            'max_depth':[0,15,30],\n",
    "            'n_jobs': [-2,-1,1],\n",
    "            'n_estimators':[50,100,200,300]}"
   ]
  },
  {
   "cell_type": "code",
   "execution_count": 60,
   "id": "5bd0863c",
   "metadata": {},
   "outputs": [
    {
     "data": {
      "text/plain": [
       "GridSearchCV(cv=5, estimator=ExtraTreesClassifier(),\n",
       "             param_grid={'criterion': ['gini', 'entropy'],\n",
       "                         'max_depth': [0, 15, 30],\n",
       "                         'n_estimators': [50, 100, 200, 300],\n",
       "                         'n_jobs': [-2, -1, 1],\n",
       "                         'random_state': [10, 100, 850]})"
      ]
     },
     "execution_count": 60,
     "metadata": {},
     "output_type": "execute_result"
    }
   ],
   "source": [
    "gdsv= GridSearchCV(ExtraTreesClassifier(),parameters,cv=5)\n",
    "gdsv.fit(x_train,y_train)"
   ]
  },
  {
   "cell_type": "code",
   "execution_count": 61,
   "id": "aab99c80",
   "metadata": {},
   "outputs": [
    {
     "data": {
      "text/plain": [
       "{'criterion': 'gini',\n",
       " 'max_depth': 15,\n",
       " 'n_estimators': 50,\n",
       " 'n_jobs': -2,\n",
       " 'random_state': 850}"
      ]
     },
     "execution_count": 61,
     "metadata": {},
     "output_type": "execute_result"
    }
   ],
   "source": [
    "gdsv.best_params_"
   ]
  },
  {
   "cell_type": "code",
   "execution_count": 63,
   "id": "8297a33d",
   "metadata": {},
   "outputs": [
    {
     "name": "stdout",
     "output_type": "stream",
     "text": [
      "100.0\n"
     ]
    }
   ],
   "source": [
    "Final_model= ExtraTreesClassifier(criterion= 'gini',max_depth= 15,n_estimators = 50  , n_jobs= -2 ,random_state =850)\n",
    "Final_model.fit(x_train, y_train)\n",
    "pred = Final_model.predict(x_test)\n",
    "acc= accuracy_score(y_test, pred)\n",
    "print(acc*100)"
   ]
  },
  {
   "cell_type": "markdown",
   "id": "74441366",
   "metadata": {},
   "source": [
    "# There is no improvement to use hyperpyrameter tunning"
   ]
  },
  {
   "cell_type": "code",
   "execution_count": 64,
   "id": "288487e3",
   "metadata": {},
   "outputs": [
    {
     "data": {
      "text/html": [
       "<div>\n",
       "<style scoped>\n",
       "    .dataframe tbody tr th:only-of-type {\n",
       "        vertical-align: middle;\n",
       "    }\n",
       "\n",
       "    .dataframe tbody tr th {\n",
       "        vertical-align: top;\n",
       "    }\n",
       "\n",
       "    .dataframe thead th {\n",
       "        text-align: right;\n",
       "    }\n",
       "</style>\n",
       "<table border=\"1\" class=\"dataframe\">\n",
       "  <thead>\n",
       "    <tr style=\"text-align: right;\">\n",
       "      <th></th>\n",
       "      <th>capacity_mw</th>\n",
       "      <th>latitude</th>\n",
       "      <th>longitude</th>\n",
       "      <th>primary_fuel</th>\n",
       "      <th>source</th>\n",
       "      <th>geolocation_source</th>\n",
       "    </tr>\n",
       "  </thead>\n",
       "  <tbody>\n",
       "    <tr>\n",
       "      <th>0</th>\n",
       "      <td>1.357209</td>\n",
       "      <td>28.1839</td>\n",
       "      <td>73.2407</td>\n",
       "      <td>6</td>\n",
       "      <td>109</td>\n",
       "      <td>1</td>\n",
       "    </tr>\n",
       "    <tr>\n",
       "      <th>1</th>\n",
       "      <td>4.610436</td>\n",
       "      <td>24.7663</td>\n",
       "      <td>74.6090</td>\n",
       "      <td>1</td>\n",
       "      <td>174</td>\n",
       "      <td>2</td>\n",
       "    </tr>\n",
       "    <tr>\n",
       "      <th>2</th>\n",
       "      <td>3.396999</td>\n",
       "      <td>21.9038</td>\n",
       "      <td>69.3732</td>\n",
       "      <td>7</td>\n",
       "      <td>21</td>\n",
       "      <td>2</td>\n",
       "    </tr>\n",
       "    <tr>\n",
       "      <th>3</th>\n",
       "      <td>5.129928</td>\n",
       "      <td>23.8712</td>\n",
       "      <td>91.3602</td>\n",
       "      <td>2</td>\n",
       "      <td>22</td>\n",
       "      <td>2</td>\n",
       "    </tr>\n",
       "    <tr>\n",
       "      <th>4</th>\n",
       "      <td>12.164404</td>\n",
       "      <td>21.9603</td>\n",
       "      <td>82.4091</td>\n",
       "      <td>1</td>\n",
       "      <td>22</td>\n",
       "      <td>2</td>\n",
       "    </tr>\n",
       "    <tr>\n",
       "      <th>...</th>\n",
       "      <td>...</td>\n",
       "      <td>...</td>\n",
       "      <td>...</td>\n",
       "      <td>...</td>\n",
       "      <td>...</td>\n",
       "      <td>...</td>\n",
       "    </tr>\n",
       "    <tr>\n",
       "      <th>902</th>\n",
       "      <td>11.696071</td>\n",
       "      <td>16.2949</td>\n",
       "      <td>77.3568</td>\n",
       "      <td>1</td>\n",
       "      <td>22</td>\n",
       "      <td>2</td>\n",
       "    </tr>\n",
       "    <tr>\n",
       "      <th>903</th>\n",
       "      <td>1.442250</td>\n",
       "      <td>12.8932</td>\n",
       "      <td>78.1654</td>\n",
       "      <td>6</td>\n",
       "      <td>77</td>\n",
       "      <td>0</td>\n",
       "    </tr>\n",
       "    <tr>\n",
       "      <th>904</th>\n",
       "      <td>2.943383</td>\n",
       "      <td>15.2758</td>\n",
       "      <td>75.5811</td>\n",
       "      <td>7</td>\n",
       "      <td>21</td>\n",
       "      <td>2</td>\n",
       "    </tr>\n",
       "    <tr>\n",
       "      <th>905</th>\n",
       "      <td>4.308869</td>\n",
       "      <td>24.3500</td>\n",
       "      <td>73.7477</td>\n",
       "      <td>1</td>\n",
       "      <td>59</td>\n",
       "      <td>2</td>\n",
       "    </tr>\n",
       "    <tr>\n",
       "      <th>906</th>\n",
       "      <td>2.545822</td>\n",
       "      <td>9.9344</td>\n",
       "      <td>77.4768</td>\n",
       "      <td>7</td>\n",
       "      <td>21</td>\n",
       "      <td>2</td>\n",
       "    </tr>\n",
       "  </tbody>\n",
       "</table>\n",
       "<p>907 rows × 6 columns</p>\n",
       "</div>"
      ],
      "text/plain": [
       "     capacity_mw  latitude  longitude  primary_fuel  source  \\\n",
       "0       1.357209   28.1839    73.2407             6     109   \n",
       "1       4.610436   24.7663    74.6090             1     174   \n",
       "2       3.396999   21.9038    69.3732             7      21   \n",
       "3       5.129928   23.8712    91.3602             2      22   \n",
       "4      12.164404   21.9603    82.4091             1      22   \n",
       "..           ...       ...        ...           ...     ...   \n",
       "902    11.696071   16.2949    77.3568             1      22   \n",
       "903     1.442250   12.8932    78.1654             6      77   \n",
       "904     2.943383   15.2758    75.5811             7      21   \n",
       "905     4.308869   24.3500    73.7477             1      59   \n",
       "906     2.545822    9.9344    77.4768             7      21   \n",
       "\n",
       "     geolocation_source  \n",
       "0                     1  \n",
       "1                     2  \n",
       "2                     2  \n",
       "3                     2  \n",
       "4                     2  \n",
       "..                  ...  \n",
       "902                   2  \n",
       "903                   0  \n",
       "904                   2  \n",
       "905                   2  \n",
       "906                   2  \n",
       "\n",
       "[907 rows x 6 columns]"
      ]
     },
     "execution_count": 64,
     "metadata": {},
     "output_type": "execute_result"
    }
   ],
   "source": [
    "df"
   ]
  },
  {
   "cell_type": "code",
   "execution_count": 65,
   "id": "f339de02",
   "metadata": {},
   "outputs": [],
   "source": [
    "x= df.drop('capacity_mw',axis=1)\n",
    "y=df['capacity_mw']"
   ]
  },
  {
   "cell_type": "code",
   "execution_count": 66,
   "id": "6560cdbd",
   "metadata": {},
   "outputs": [
    {
     "data": {
      "text/html": [
       "<div>\n",
       "<style scoped>\n",
       "    .dataframe tbody tr th:only-of-type {\n",
       "        vertical-align: middle;\n",
       "    }\n",
       "\n",
       "    .dataframe tbody tr th {\n",
       "        vertical-align: top;\n",
       "    }\n",
       "\n",
       "    .dataframe thead th {\n",
       "        text-align: right;\n",
       "    }\n",
       "</style>\n",
       "<table border=\"1\" class=\"dataframe\">\n",
       "  <thead>\n",
       "    <tr style=\"text-align: right;\">\n",
       "      <th></th>\n",
       "      <th>latitude</th>\n",
       "      <th>longitude</th>\n",
       "      <th>primary_fuel</th>\n",
       "      <th>source</th>\n",
       "      <th>geolocation_source</th>\n",
       "    </tr>\n",
       "  </thead>\n",
       "  <tbody>\n",
       "    <tr>\n",
       "      <th>0</th>\n",
       "      <td>1.149805</td>\n",
       "      <td>-0.878280</td>\n",
       "      <td>1.225688</td>\n",
       "      <td>1.460215</td>\n",
       "      <td>-1.083349</td>\n",
       "    </tr>\n",
       "    <tr>\n",
       "      <th>1</th>\n",
       "      <td>0.587311</td>\n",
       "      <td>-0.593788</td>\n",
       "      <td>-0.967877</td>\n",
       "      <td>2.917019</td>\n",
       "      <td>0.394241</td>\n",
       "    </tr>\n",
       "    <tr>\n",
       "      <th>2</th>\n",
       "      <td>0.116179</td>\n",
       "      <td>-1.682394</td>\n",
       "      <td>1.664401</td>\n",
       "      <td>-0.512075</td>\n",
       "      <td>0.394241</td>\n",
       "    </tr>\n",
       "    <tr>\n",
       "      <th>3</th>\n",
       "      <td>0.439989</td>\n",
       "      <td>2.889052</td>\n",
       "      <td>-0.529164</td>\n",
       "      <td>-0.489662</td>\n",
       "      <td>0.394241</td>\n",
       "    </tr>\n",
       "    <tr>\n",
       "      <th>4</th>\n",
       "      <td>0.125479</td>\n",
       "      <td>1.027976</td>\n",
       "      <td>-0.967877</td>\n",
       "      <td>-0.489662</td>\n",
       "      <td>0.394241</td>\n",
       "    </tr>\n",
       "    <tr>\n",
       "      <th>...</th>\n",
       "      <td>...</td>\n",
       "      <td>...</td>\n",
       "      <td>...</td>\n",
       "      <td>...</td>\n",
       "      <td>...</td>\n",
       "    </tr>\n",
       "    <tr>\n",
       "      <th>902</th>\n",
       "      <td>-0.806975</td>\n",
       "      <td>-0.022477</td>\n",
       "      <td>-0.967877</td>\n",
       "      <td>-0.489662</td>\n",
       "      <td>0.394241</td>\n",
       "    </tr>\n",
       "    <tr>\n",
       "      <th>903</th>\n",
       "      <td>-1.366853</td>\n",
       "      <td>0.145644</td>\n",
       "      <td>1.225688</td>\n",
       "      <td>0.743019</td>\n",
       "      <td>-2.560940</td>\n",
       "    </tr>\n",
       "    <tr>\n",
       "      <th>904</th>\n",
       "      <td>-0.974707</td>\n",
       "      <td>-0.391673</td>\n",
       "      <td>1.664401</td>\n",
       "      <td>-0.512075</td>\n",
       "      <td>0.394241</td>\n",
       "    </tr>\n",
       "    <tr>\n",
       "      <th>905</th>\n",
       "      <td>0.518793</td>\n",
       "      <td>-0.772866</td>\n",
       "      <td>-0.967877</td>\n",
       "      <td>0.339596</td>\n",
       "      <td>0.394241</td>\n",
       "    </tr>\n",
       "    <tr>\n",
       "      <th>906</th>\n",
       "      <td>-1.853834</td>\n",
       "      <td>0.002473</td>\n",
       "      <td>1.664401</td>\n",
       "      <td>-0.512075</td>\n",
       "      <td>0.394241</td>\n",
       "    </tr>\n",
       "  </tbody>\n",
       "</table>\n",
       "<p>907 rows × 5 columns</p>\n",
       "</div>"
      ],
      "text/plain": [
       "     latitude  longitude  primary_fuel    source  geolocation_source\n",
       "0    1.149805  -0.878280      1.225688  1.460215           -1.083349\n",
       "1    0.587311  -0.593788     -0.967877  2.917019            0.394241\n",
       "2    0.116179  -1.682394      1.664401 -0.512075            0.394241\n",
       "3    0.439989   2.889052     -0.529164 -0.489662            0.394241\n",
       "4    0.125479   1.027976     -0.967877 -0.489662            0.394241\n",
       "..        ...        ...           ...       ...                 ...\n",
       "902 -0.806975  -0.022477     -0.967877 -0.489662            0.394241\n",
       "903 -1.366853   0.145644      1.225688  0.743019           -2.560940\n",
       "904 -0.974707  -0.391673      1.664401 -0.512075            0.394241\n",
       "905  0.518793  -0.772866     -0.967877  0.339596            0.394241\n",
       "906 -1.853834   0.002473      1.664401 -0.512075            0.394241\n",
       "\n",
       "[907 rows x 5 columns]"
      ]
     },
     "execution_count": 66,
     "metadata": {},
     "output_type": "execute_result"
    }
   ],
   "source": [
    "from sklearn.preprocessing import StandardScaler\n",
    "scaler=StandardScaler()\n",
    "x=pd.DataFrame(scaler.fit_transform(x),columns=x.columns)\n",
    "x"
   ]
  },
  {
   "cell_type": "code",
   "execution_count": 67,
   "id": "a048d732",
   "metadata": {},
   "outputs": [
    {
     "data": {
      "text/html": [
       "<div>\n",
       "<style scoped>\n",
       "    .dataframe tbody tr th:only-of-type {\n",
       "        vertical-align: middle;\n",
       "    }\n",
       "\n",
       "    .dataframe tbody tr th {\n",
       "        vertical-align: top;\n",
       "    }\n",
       "\n",
       "    .dataframe thead th {\n",
       "        text-align: right;\n",
       "    }\n",
       "</style>\n",
       "<table border=\"1\" class=\"dataframe\">\n",
       "  <thead>\n",
       "    <tr style=\"text-align: right;\">\n",
       "      <th></th>\n",
       "      <th>vif</th>\n",
       "      <th>features</th>\n",
       "    </tr>\n",
       "  </thead>\n",
       "  <tbody>\n",
       "    <tr>\n",
       "      <th>0</th>\n",
       "      <td>1.057218</td>\n",
       "      <td>latitude</td>\n",
       "    </tr>\n",
       "    <tr>\n",
       "      <th>1</th>\n",
       "      <td>1.208294</td>\n",
       "      <td>longitude</td>\n",
       "    </tr>\n",
       "    <tr>\n",
       "      <th>2</th>\n",
       "      <td>1.564669</td>\n",
       "      <td>primary_fuel</td>\n",
       "    </tr>\n",
       "    <tr>\n",
       "      <th>3</th>\n",
       "      <td>1.511652</td>\n",
       "      <td>source</td>\n",
       "    </tr>\n",
       "    <tr>\n",
       "      <th>4</th>\n",
       "      <td>1.964568</td>\n",
       "      <td>geolocation_source</td>\n",
       "    </tr>\n",
       "  </tbody>\n",
       "</table>\n",
       "</div>"
      ],
      "text/plain": [
       "        vif            features\n",
       "0  1.057218            latitude\n",
       "1  1.208294           longitude\n",
       "2  1.564669        primary_fuel\n",
       "3  1.511652              source\n",
       "4  1.964568  geolocation_source"
      ]
     },
     "execution_count": 67,
     "metadata": {},
     "output_type": "execute_result"
    }
   ],
   "source": [
    "from statsmodels.stats.outliers_influence import variance_inflation_factor\n",
    "vif=pd.DataFrame()\n",
    "vif['vif']=[variance_inflation_factor(x, i) for i in range(x.shape[1])]\n",
    "vif ['features'] =x.columns # if u not fill this code \n",
    "vif"
   ]
  },
  {
   "cell_type": "code",
   "execution_count": 68,
   "id": "e039e1bf",
   "metadata": {},
   "outputs": [],
   "source": [
    "# import libraryies\n",
    "from sklearn.model_selection import train_test_split\n",
    "from sklearn.metrics import mean_absolute_error\n",
    "from sklearn.metrics import mean_squared_error\n",
    "from sklearn.metrics import r2_score \n",
    "from sklearn.ensemble import GradientBoostingRegressor\n",
    "from sklearn.linear_model import LinearRegression\n",
    "from sklearn.ensemble import RandomForestRegressor\n",
    "from sklearn.tree import DecisionTreeRegressor\n",
    "from sklearn.neighbors import KNeighborsRegressor as KNN\n",
    "from sklearn.linear_model import Lasso, Ridge"
   ]
  },
  {
   "cell_type": "code",
   "execution_count": 69,
   "id": "57420571",
   "metadata": {},
   "outputs": [
    {
     "name": "stdout",
     "output_type": "stream",
     "text": [
      "Best accuracy is 0.44505043310615044 at random_state 152\n"
     ]
    }
   ],
   "source": [
    "maxAccu = 0\n",
    "maxRs = 0\n",
    "\n",
    "for i in range(1, 500):\n",
    "    x_train, x_test, y_train, y_test = train_test_split(x, y, test_size=0.30, random_state=i)\n",
    "    lr = LinearRegression()\n",
    "    lr.fit(x_train, y_train)\n",
    "    y_pred = lr.predict(x_test)\n",
    "    acc = r2_score(y_test, y_pred)\n",
    "    if acc > maxAccu:\n",
    "        maxAccu = acc\n",
    "        maxRs = i\n",
    "\n",
    "print('Best accuracy is', maxAccu, 'at random_state', maxRs)\n"
   ]
  },
  {
   "cell_type": "code",
   "execution_count": 70,
   "id": "576385bd",
   "metadata": {},
   "outputs": [],
   "source": [
    "x_train, x_test, y_train, y_test = train_test_split(x,y, test_size = 0.30, random_state = maxRs)\n",
    "\n"
   ]
  },
  {
   "cell_type": "code",
   "execution_count": 71,
   "id": "a25ddfc0",
   "metadata": {},
   "outputs": [],
   "source": [
    "from sklearn.ensemble import GradientBoostingRegressor\n",
    "from sklearn.linear_model import LinearRegression\n",
    "from sklearn.ensemble import RandomForestRegressor\n",
    "from sklearn.tree import DecisionTreeRegressor\n",
    "from sklearn.neighbors import KNeighborsRegressor as KNN\n",
    "from sklearn.linear_model import Lasso, Ridge"
   ]
  },
  {
   "cell_type": "code",
   "execution_count": 72,
   "id": "a4cfb9ef",
   "metadata": {},
   "outputs": [
    {
     "name": "stdout",
     "output_type": "stream",
     "text": [
      "R2_score :  0.44505043310615044\n",
      "R2_score on training data:  33.600559696785936\n",
      "MEAN ABSOLUTE ERROR : 1.925883769892339\n",
      "MEAN SQUARED ERROR : 5.772272989107594\n",
      "ROOT MEAN SQUARED ERROR : 2.402555512180227\n"
     ]
    }
   ],
   "source": [
    "LR= LinearRegression()\n",
    "LR.fit(x_train,y_train)\n",
    "pred_LR= LR.predict(x_test)\n",
    "pred_train= LR.predict(x_train)\n",
    "print('R2_score : ',r2_score(y_test,pred_LR) )\n",
    "print('R2_score on training data: ',r2_score(y_train,pred_train)*100)\n",
    "print('MEAN ABSOLUTE ERROR :', mean_absolute_error(y_test, pred_LR))\n",
    "print ('MEAN SQUARED ERROR :', mean_squared_error(y_test, pred_LR))\n",
    "print ('ROOT MEAN SQUARED ERROR :', np.sqrt (mean_squared_error(y_test, pred_LR)))"
   ]
  },
  {
   "cell_type": "code",
   "execution_count": 73,
   "id": "766984e0",
   "metadata": {},
   "outputs": [
    {
     "name": "stdout",
     "output_type": "stream",
     "text": [
      "R2_score :  0.6430347955267516\n",
      "R2_score on training data:  77.55262427468132\n",
      "MEAN ABSOLUTE ERROR : 1.4060242937576397\n",
      "MEAN SQUARED ERROR : 3.7129511053863617\n",
      "ROOT MEAN SQUARED ERROR : 1.9269019449329439\n"
     ]
    }
   ],
   "source": [
    "GB= GradientBoostingRegressor()\n",
    "GB.fit(x_train,y_train)\n",
    "pred_GB= GB.predict(x_test)\n",
    "pred_train= GB.predict(x_train)\n",
    "print('R2_score : ',r2_score(y_test,pred_GB) )\n",
    "print('R2_score on training data: ',r2_score(y_train,pred_train)*100)\n",
    "print('MEAN ABSOLUTE ERROR :', mean_absolute_error(y_test, pred_GB))\n",
    "print ('MEAN SQUARED ERROR :', mean_squared_error(y_test, pred_GB))\n",
    "print ('ROOT MEAN SQUARED ERROR :', np.sqrt (mean_squared_error(y_test, pred_GB)))"
   ]
  },
  {
   "cell_type": "code",
   "execution_count": 74,
   "id": "f2d4625d",
   "metadata": {},
   "outputs": [
    {
     "name": "stdout",
     "output_type": "stream",
     "text": [
      "R2_score :  0.6236188536219522\n",
      "R2_score on training data:  93.9495083020191\n",
      "MEAN ABSOLUTE ERROR : 1.4280145464080636\n",
      "MEAN SQUARED ERROR : 3.914904802985324\n",
      "ROOT MEAN SQUARED ERROR : 1.9786118373711716\n"
     ]
    }
   ],
   "source": [
    "RFR= RandomForestRegressor()\n",
    "RFR.fit(x_train,y_train)\n",
    "pred_RFR= RFR.predict(x_test)\n",
    "pred_train= RFR.predict(x_train)\n",
    "print('R2_score : ',r2_score(y_test,pred_RFR) )\n",
    "print('R2_score on training data: ',r2_score(y_train,pred_train)*100)\n",
    "print('MEAN ABSOLUTE ERROR :', mean_absolute_error(y_test, pred_RFR))\n",
    "print ('MEAN SQUARED ERROR :', mean_squared_error(y_test, pred_RFR))\n",
    "print ('ROOT MEAN SQUARED ERROR :', np.sqrt (mean_squared_error(y_test, pred_RFR)))"
   ]
  },
  {
   "cell_type": "code",
   "execution_count": 75,
   "id": "3e8f9bec",
   "metadata": {},
   "outputs": [
    {
     "name": "stdout",
     "output_type": "stream",
     "text": [
      "R2_score :  0.44505043310615044\n",
      "R2_score on training data:  98.95410397804928\n",
      "MEAN ABSOLUTE ERROR : 1.925883769892339\n",
      "MEAN SQUARED ERROR : 5.772272989107594\n",
      "ROOT MEAN SQUARED ERROR : 2.402555512180227\n"
     ]
    }
   ],
   "source": [
    "DTR= DecisionTreeRegressor()\n",
    "DTR.fit(x_train,y_train)\n",
    "pred_DTR= DTR.predict(x_test)\n",
    "pred_train= DTR.predict(x_train)\n",
    "print('R2_score : ',r2_score(y_test,pred_LR) )\n",
    "print('R2_score on training data: ',r2_score(y_train,pred_train)*100)\n",
    "print('MEAN ABSOLUTE ERROR :', mean_absolute_error(y_test, pred_LR))\n",
    "print ('MEAN SQUARED ERROR :', mean_squared_error(y_test, pred_LR))\n",
    "print ('ROOT MEAN SQUARED ERROR :', np.sqrt (mean_squared_error(y_test, pred_LR)))"
   ]
  },
  {
   "cell_type": "code",
   "execution_count": 76,
   "id": "8eb92812",
   "metadata": {},
   "outputs": [
    {
     "name": "stdout",
     "output_type": "stream",
     "text": [
      "R2_score :  0.5473956659954589\n",
      "R2_score on training data:  68.24510644771827\n",
      "MEAN ABSOLUTE ERROR : 1.558927299534574\n",
      "MEAN SQUARED ERROR : 4.70773549126343\n",
      "ROOT MEAN SQUARED ERROR : 2.1697316634237125\n"
     ]
    }
   ],
   "source": [
    "knn= KNN()\n",
    "knn.fit(x_train,y_train)\n",
    "pred_knn= knn.predict(x_test)\n",
    "pred_train= knn.predict(x_train)\n",
    "print('R2_score : ',r2_score(y_test,pred_knn) )\n",
    "print('R2_score on training data: ',r2_score(y_train,pred_train)*100)\n",
    "print('MEAN ABSOLUTE ERROR :', mean_absolute_error(y_test, pred_knn))\n",
    "print ('MEAN SQUARED ERROR :', mean_squared_error(y_test, pred_knn))\n",
    "print ('ROOT MEAN SQUARED ERROR :', np.sqrt (mean_squared_error(y_test, pred_knn)))"
   ]
  },
  {
   "cell_type": "code",
   "execution_count": 77,
   "id": "4ea93aae",
   "metadata": {},
   "outputs": [
    {
     "name": "stdout",
     "output_type": "stream",
     "text": [
      "R2_score :  0.1891015032921618\n",
      "R2_score on training data:  14.328266516808352\n",
      "MEAN ABSOLUTE ERROR : 2.359180369225704\n",
      "MEAN SQUARED ERROR : 8.434509672029234\n",
      "ROOT MEAN SQUARED ERROR : 2.904222731132933\n"
     ]
    }
   ],
   "source": [
    "LA= Lasso()\n",
    "LA.fit(x_train,y_train)\n",
    "pred_LA= LA.predict(x_test)\n",
    "pred_train= LA.predict(x_train)\n",
    "print('R2_score : ',r2_score(y_test,pred_LA) )\n",
    "print('R2_score on training data: ',r2_score(y_train,pred_train)*100)\n",
    "print('MEAN ABSOLUTE ERROR :', mean_absolute_error(y_test, pred_LA))\n",
    "print ('MEAN SQUARED ERROR :', mean_squared_error(y_test, pred_LA))\n",
    "print ('ROOT MEAN SQUARED ERROR :', np.sqrt (mean_squared_error(y_test, pred_LA)))"
   ]
  },
  {
   "cell_type": "code",
   "execution_count": 78,
   "id": "a1f17721",
   "metadata": {},
   "outputs": [
    {
     "name": "stdout",
     "output_type": "stream",
     "text": [
      "R2_score :  0.4449524977075867\n",
      "R2_score on training data:  68.24510644771827\n",
      "MEAN ABSOLUTE ERROR : 1.9257459660738978\n",
      "MEAN SQUARED ERROR : 5.773291657991275\n",
      "ROOT MEAN SQUARED ERROR : 2.4027674997783857\n"
     ]
    }
   ],
   "source": [
    "RI= Ridge()\n",
    "RI.fit(x_train,y_train)\n",
    "pred_RI= RI.predict(x_test)\n",
    "pred_train= knn.predict(x_train)\n",
    "print('R2_score : ',r2_score(y_test,pred_RI) )\n",
    "print('R2_score on training data: ',r2_score(y_train,pred_train)*100)\n",
    "print('MEAN ABSOLUTE ERROR :', mean_absolute_error(y_test, pred_RI))\n",
    "print ('MEAN SQUARED ERROR :', mean_squared_error(y_test, pred_RI))\n",
    "print ('ROOT MEAN SQUARED ERROR :', np.sqrt (mean_squared_error(y_test, pred_RI)))"
   ]
  },
  {
   "cell_type": "markdown",
   "id": "eeca2d47",
   "metadata": {},
   "source": [
    "#  CROSS VALIDATION SCORE"
   ]
  },
  {
   "cell_type": "code",
   "execution_count": 79,
   "id": "068cb89b",
   "metadata": {},
   "outputs": [],
   "source": [
    "from sklearn.model_selection import cross_val_score"
   ]
  },
  {
   "cell_type": "code",
   "execution_count": 80,
   "id": "46583402",
   "metadata": {},
   "outputs": [
    {
     "name": "stdout",
     "output_type": "stream",
     "text": [
      "LinearRegression \n",
      "\n",
      "\n",
      "[0.32627511 0.35735724 0.30656824 0.36579199 0.41906636]\n",
      "0.3550117846442502\n",
      "Difference between Accuracy score  and cross validation score is -  0.09003864846190024\n"
     ]
    }
   ],
   "source": [
    "print('LinearRegression ')\n",
    "print('\\n')\n",
    "score=cross_val_score(LR, x, y)\n",
    "print(score)\n",
    "print(score.mean())\n",
    "print('Difference between Accuracy score  and cross validation score is - ', (r2_score(y_test,pred_LR)- score.mean()))"
   ]
  },
  {
   "cell_type": "code",
   "execution_count": 82,
   "id": "ae77b272",
   "metadata": {},
   "outputs": [
    {
     "name": "stdout",
     "output_type": "stream",
     "text": [
      "GradientBoostingRegressor \n",
      "\n",
      "\n",
      "[0.65534879 0.59326765 0.6107883  0.64746239 0.6084746 ]\n",
      "0.6230683476789494\n",
      "Difference between Accuracy score  and cross validation score is -  0.019966447847802216\n"
     ]
    }
   ],
   "source": [
    "print('GradientBoostingRegressor ')\n",
    "print('\\n')\n",
    "score=cross_val_score(GB, x, y)\n",
    "print(score)\n",
    "print(score.mean())\n",
    "print('Difference between Accuracy score  and cross validation score is - ', r2_score(y_test,pred_GB)- score.mean())"
   ]
  },
  {
   "cell_type": "code",
   "execution_count": 83,
   "id": "4d7b2b00",
   "metadata": {},
   "outputs": [
    {
     "name": "stdout",
     "output_type": "stream",
     "text": [
      "RandomForestRegressor \n",
      "\n",
      "\n",
      "[0.61104422 0.57704706 0.57943884 0.63025408 0.62378076]\n",
      "0.6043129933609451\n",
      "Difference between Accuracy score  and cross validation score is -  0.019305860261007113\n"
     ]
    }
   ],
   "source": [
    "print('RandomForestRegressor ')\n",
    "print('\\n')\n",
    "score=cross_val_score(RFR, x, y)\n",
    "print(score)\n",
    "print(score.mean())\n",
    "print('Difference between Accuracy score  and cross validation score is - ', r2_score(y_test,pred_RFR)- score.mean())"
   ]
  },
  {
   "cell_type": "code",
   "execution_count": 84,
   "id": "e8db2f94",
   "metadata": {},
   "outputs": [
    {
     "name": "stdout",
     "output_type": "stream",
     "text": [
      "DecisionTreeRegressor \n",
      "\n",
      "\n",
      "[0.33060895 0.25024468 0.41139259 0.34799745 0.38864815]\n",
      "0.3457783625770312\n",
      "Difference between Accuracy score  and cross validation score is -  -0.01748845430726864\n"
     ]
    }
   ],
   "source": [
    "print('DecisionTreeRegressor ')\n",
    "print('\\n')\n",
    "score=cross_val_score(DTR, x, y)\n",
    "print(score)\n",
    "print(score.mean())\n",
    "print('Difference between Accuracy score  and cross validation score is - ', r2_score(y_test,pred_DTR)- score.mean())"
   ]
  },
  {
   "cell_type": "code",
   "execution_count": 85,
   "id": "246a285f",
   "metadata": {},
   "outputs": [
    {
     "name": "stdout",
     "output_type": "stream",
     "text": [
      "KNN \n",
      "\n",
      "\n",
      "[0.45884694 0.48895446 0.41596641 0.59450072 0.61216663]\n",
      "0.5140870316456466\n",
      "Difference between Accuracy score  and cross validation score is -  0.03330863434981224\n"
     ]
    }
   ],
   "source": [
    "print('KNN ')\n",
    "print('\\n')\n",
    "score=cross_val_score(knn, x, y)\n",
    "print(score)\n",
    "print(score.mean())\n",
    "print('Difference between Accuracy score  and cross validation score is - ', r2_score(y_test,pred_knn)- score.mean())"
   ]
  },
  {
   "cell_type": "code",
   "execution_count": 86,
   "id": "2bf023c9",
   "metadata": {},
   "outputs": [
    {
     "name": "stdout",
     "output_type": "stream",
     "text": [
      "Lasso \n",
      "\n",
      "\n",
      "[0.18527287 0.18408142 0.16375311 0.15658229 0.1836995 ]\n",
      "0.17467783659766503\n",
      "Difference between Accuracy score  and cross validation score is -  0.014423666694496767\n"
     ]
    }
   ],
   "source": [
    "print('Lasso ')\n",
    "print('\\n')\n",
    "score=cross_val_score(LA, x, y)\n",
    "print(score)\n",
    "print(score.mean())\n",
    "print('Difference between Accuracy score  and cross validation score is - ', r2_score(y_test,pred_LA)- score.mean())"
   ]
  },
  {
   "cell_type": "code",
   "execution_count": 87,
   "id": "be0477f1",
   "metadata": {},
   "outputs": [
    {
     "name": "stdout",
     "output_type": "stream",
     "text": [
      "Ridge \n",
      "\n",
      "\n",
      "[0.32666195 0.35759134 0.30654344 0.36571342 0.41879319]\n",
      "0.3550606683819636\n",
      "Difference between Accuracy score  and cross validation score is -  0.08989182932562312\n"
     ]
    }
   ],
   "source": [
    "print('Ridge ')\n",
    "print('\\n')\n",
    "score=cross_val_score(RI, x, y)\n",
    "print(score)\n",
    "print(score.mean())\n",
    "print('Difference between Accuracy score  and cross validation score is - ', r2_score(y_test,pred_RI)- score.mean())"
   ]
  },
  {
   "cell_type": "markdown",
   "id": "0324dbaf",
   "metadata": {},
   "source": [
    "#  GradientBoostingRegressor  64 percent accuracy and  1.9 cross validation score"
   ]
  },
  {
   "cell_type": "code",
   "execution_count": 89,
   "id": "3a855cdb",
   "metadata": {},
   "outputs": [],
   "source": [
    "from sklearn.model_selection import GridSearchCV"
   ]
  },
  {
   "cell_type": "code",
   "execution_count": 91,
   "id": "e06c3575",
   "metadata": {},
   "outputs": [
    {
     "data": {
      "text/plain": [
       "GridSearchCV(cv=5, estimator=GradientBoostingRegressor(),\n",
       "             param_grid={'learning_rate': [0.1, 0.01, 0.001],\n",
       "                         'max_depth': [3, 4, 5],\n",
       "                         'max_features': [None, 'sqrt', 'log2'],\n",
       "                         'min_samples_leaf': [1, 2, 4],\n",
       "                         'min_samples_split': [2, 4, 8],\n",
       "                         'n_estimators': [100, 200, 300],\n",
       "                         'subsample': [0.8, 1.0]})"
      ]
     },
     "execution_count": 91,
     "metadata": {},
     "output_type": "execute_result"
    }
   ],
   "source": [
    "param_grid = {\n",
    "    'learning_rate': [0.1, 0.01, 0.001],\n",
    "    'n_estimators': [100, 200, 300],\n",
    "    'max_depth': [3, 4, 5],\n",
    "    'subsample': [0.8, 1.0],\n",
    "    'min_samples_split': [2, 4, 8],\n",
    "    'min_samples_leaf': [1, 2, 4],\n",
    "    'max_features': [None, 'sqrt', 'log2']\n",
    "}\n",
    "\n",
    "gdsv= GridSearchCV(GradientBoostingRegressor(),param_grid,cv=5)\n",
    "gdsv.fit(x_train,y_train)"
   ]
  },
  {
   "cell_type": "code",
   "execution_count": 92,
   "id": "8793c170",
   "metadata": {},
   "outputs": [
    {
     "data": {
      "text/plain": [
       "{'learning_rate': 0.1,\n",
       " 'max_depth': 5,\n",
       " 'max_features': 'sqrt',\n",
       " 'min_samples_leaf': 2,\n",
       " 'min_samples_split': 8,\n",
       " 'n_estimators': 100,\n",
       " 'subsample': 0.8}"
      ]
     },
     "execution_count": 92,
     "metadata": {},
     "output_type": "execute_result"
    }
   ],
   "source": [
    "gdsv.best_params_"
   ]
  },
  {
   "cell_type": "code",
   "execution_count": 96,
   "id": "60199883",
   "metadata": {},
   "outputs": [
    {
     "name": "stdout",
     "output_type": "stream",
     "text": [
      "64.63558526537237\n"
     ]
    }
   ],
   "source": [
    "Final_model = GradientBoostingRegressor(learning_rate=0.1, max_depth=5, max_features='sqrt',\n",
    "                                        min_samples_leaf=2, min_samples_split=8,\n",
    "                                        n_estimators=100, subsample=0.8)\n",
    "\n",
    "\n",
    "Final_model.fit(x_train, y_train)\n",
    "pred = Final_model.predict(x_test)\n",
    "acc = r2_score(y_test, pred)\n",
    "print(acc * 100)"
   ]
  },
  {
   "cell_type": "markdown",
   "id": "68f83b5d",
   "metadata": {},
   "source": [
    "#  hyper pyrametertunning 0.33  increase accuracy"
   ]
  },
  {
   "cell_type": "code",
   "execution_count": null,
   "id": "e9307c27",
   "metadata": {},
   "outputs": [],
   "source": []
  }
 ],
 "metadata": {
  "kernelspec": {
   "display_name": "Python 3 (ipykernel)",
   "language": "python",
   "name": "python3"
  },
  "language_info": {
   "codemirror_mode": {
    "name": "ipython",
    "version": 3
   },
   "file_extension": ".py",
   "mimetype": "text/x-python",
   "name": "python",
   "nbconvert_exporter": "python",
   "pygments_lexer": "ipython3",
   "version": "3.9.12"
  }
 },
 "nbformat": 4,
 "nbformat_minor": 5
}
